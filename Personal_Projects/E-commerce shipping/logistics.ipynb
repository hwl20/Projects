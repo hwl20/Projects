{
 "cells": [
  {
   "cell_type": "markdown",
   "metadata": {},
   "source": [
    "Context\n",
    "An international e-commerce company based wants to discover key insights from their customer database. They want to use some of the most advanced machine learning techniques to study their customers. The company sells electronic products.\n",
    "\n",
    "Content\n",
    "The dataset used for model building contained 10999 observations of 12 variables.\n",
    "The data contains the following information:\n",
    "\n",
    "- ID: ID Number of Customers.\n",
    "\n",
    "- Warehouse block: The Company have big Warehouse which is divided in to block such as A,B,C,D,E.\n",
    "\n",
    "- Mode of shipment:The Company Ships the products in multiple way such as Ship, Flight and Road.\n",
    "\n",
    "- Customer care calls: The number of calls made from enquiry for enquiry of the shipment.\n",
    "\n",
    "- Customer rating: The company has rated from every customer. 1 is the lowest (Worst), 5 is the highest (Best).\n",
    "\n",
    "- Cost of the product: Cost of the Product in US Dollars.\n",
    "\n",
    "- Prior purchases: The Number of Prior Purchase.\n",
    "\n",
    "- Product importance: The company has categorized the product in the various parameter such as low, medium, high.\n",
    "\n",
    "- Gender: Male and Female.\n",
    "\n",
    "- Discount offered: Discount offered on that specific product.\n",
    "\n",
    "- Weight in gms: It is the weight in grams.\n",
    "\n",
    "- Reached on time: It is the target variable, where 1 Indicates that the product has NOT reached on time and 0 indicates it has reached on time.\n",
    "\n",
    "<br>\n",
    "\n",
    "\n",
    "Inspiration\n",
    "This data of Product Shipment Tracking, found on kaggle:\n",
    "https://www.kaggle.com/prachi13/customer-analytics "
   ]
  },
  {
   "cell_type": "markdown",
   "metadata": {},
   "source": [
    "# Aim: Bring about maximal insights to the the company in any possible way"
   ]
  },
  {
   "cell_type": "code",
   "execution_count": 3,
   "metadata": {},
   "outputs": [],
   "source": [
    "import pandas as pd\n",
    "import numpy as np\n",
    "import matplotlib.pyplot as plt\n",
    "import seaborn as sns\n",
    "import warnings\n",
    "warnings.simplefilter('ignore')\n",
    "pd.set_option('display.max_columns', 500)"
   ]
  },
  {
   "cell_type": "markdown",
   "metadata": {},
   "source": [
    "#### Reading datasets"
   ]
  },
  {
   "cell_type": "code",
   "execution_count": 4,
   "metadata": {},
   "outputs": [],
   "source": [
    "df = pd.read_csv('logistics.csv')\n",
    "df.head(3)\n",
    "col_names = list(df.columns)\n",
    "col_names[-1] = 'Not_on_time'\n",
    "df.columns = col_names\n",
    "#df.to_csv('logistics updated.csv')"
   ]
  },
  {
   "cell_type": "code",
   "execution_count": 5,
   "metadata": {},
   "outputs": [
    {
     "data": {
      "text/html": [
       "<div>\n",
       "<style scoped>\n",
       "    .dataframe tbody tr th:only-of-type {\n",
       "        vertical-align: middle;\n",
       "    }\n",
       "\n",
       "    .dataframe tbody tr th {\n",
       "        vertical-align: top;\n",
       "    }\n",
       "\n",
       "    .dataframe thead th {\n",
       "        text-align: right;\n",
       "    }\n",
       "</style>\n",
       "<table border=\"1\" class=\"dataframe\">\n",
       "  <thead>\n",
       "    <tr style=\"text-align: right;\">\n",
       "      <th></th>\n",
       "      <th>ID</th>\n",
       "      <th>Warehouse_block</th>\n",
       "      <th>Mode_of_Shipment</th>\n",
       "      <th>Customer_care_calls</th>\n",
       "      <th>Customer_rating</th>\n",
       "      <th>Cost_of_the_Product</th>\n",
       "      <th>Prior_purchases</th>\n",
       "      <th>Product_importance</th>\n",
       "      <th>Gender</th>\n",
       "      <th>Discount_offered</th>\n",
       "      <th>Weight_in_gms</th>\n",
       "      <th>Not_on_time</th>\n",
       "    </tr>\n",
       "  </thead>\n",
       "  <tbody>\n",
       "    <tr>\n",
       "      <th>0</th>\n",
       "      <td>1</td>\n",
       "      <td>D</td>\n",
       "      <td>Flight</td>\n",
       "      <td>4</td>\n",
       "      <td>2</td>\n",
       "      <td>177</td>\n",
       "      <td>3</td>\n",
       "      <td>low</td>\n",
       "      <td>F</td>\n",
       "      <td>44</td>\n",
       "      <td>1233</td>\n",
       "      <td>1</td>\n",
       "    </tr>\n",
       "    <tr>\n",
       "      <th>1</th>\n",
       "      <td>2</td>\n",
       "      <td>F</td>\n",
       "      <td>Flight</td>\n",
       "      <td>4</td>\n",
       "      <td>5</td>\n",
       "      <td>216</td>\n",
       "      <td>2</td>\n",
       "      <td>low</td>\n",
       "      <td>M</td>\n",
       "      <td>59</td>\n",
       "      <td>3088</td>\n",
       "      <td>1</td>\n",
       "    </tr>\n",
       "    <tr>\n",
       "      <th>2</th>\n",
       "      <td>3</td>\n",
       "      <td>A</td>\n",
       "      <td>Flight</td>\n",
       "      <td>2</td>\n",
       "      <td>2</td>\n",
       "      <td>183</td>\n",
       "      <td>4</td>\n",
       "      <td>low</td>\n",
       "      <td>M</td>\n",
       "      <td>48</td>\n",
       "      <td>3374</td>\n",
       "      <td>1</td>\n",
       "    </tr>\n",
       "  </tbody>\n",
       "</table>\n",
       "</div>"
      ],
      "text/plain": [
       "   ID Warehouse_block Mode_of_Shipment  Customer_care_calls  Customer_rating  \\\n",
       "0   1               D           Flight                    4                2   \n",
       "1   2               F           Flight                    4                5   \n",
       "2   3               A           Flight                    2                2   \n",
       "\n",
       "   Cost_of_the_Product  Prior_purchases Product_importance Gender  \\\n",
       "0                  177                3                low      F   \n",
       "1                  216                2                low      M   \n",
       "2                  183                4                low      M   \n",
       "\n",
       "   Discount_offered  Weight_in_gms  Not_on_time  \n",
       "0                44           1233            1  \n",
       "1                59           3088            1  \n",
       "2                48           3374            1  "
      ]
     },
     "execution_count": 5,
     "metadata": {},
     "output_type": "execute_result"
    }
   ],
   "source": [
    "df = pd.read_csv('logistics updated.csv', index_col=0)\n",
    "df.head(3)"
   ]
  },
  {
   "cell_type": "code",
   "execution_count": 6,
   "metadata": {},
   "outputs": [
    {
     "data": {
      "text/html": [
       "<div>\n",
       "<style scoped>\n",
       "    .dataframe tbody tr th:only-of-type {\n",
       "        vertical-align: middle;\n",
       "    }\n",
       "\n",
       "    .dataframe tbody tr th {\n",
       "        vertical-align: top;\n",
       "    }\n",
       "\n",
       "    .dataframe thead th {\n",
       "        text-align: right;\n",
       "    }\n",
       "</style>\n",
       "<table border=\"1\" class=\"dataframe\">\n",
       "  <thead>\n",
       "    <tr style=\"text-align: right;\">\n",
       "      <th></th>\n",
       "      <th>ID</th>\n",
       "      <th>Warehouse_block</th>\n",
       "      <th>Mode_of_Shipment</th>\n",
       "      <th>Customer_care_calls</th>\n",
       "      <th>Customer_rating</th>\n",
       "      <th>Cost_of_the_Product</th>\n",
       "      <th>Prior_purchases</th>\n",
       "      <th>Product_importance</th>\n",
       "      <th>Gender</th>\n",
       "      <th>Discount_offered</th>\n",
       "      <th>Weight_in_gms</th>\n",
       "      <th>on_time</th>\n",
       "    </tr>\n",
       "  </thead>\n",
       "  <tbody>\n",
       "    <tr>\n",
       "      <th>0</th>\n",
       "      <td>1</td>\n",
       "      <td>D</td>\n",
       "      <td>Flight</td>\n",
       "      <td>4</td>\n",
       "      <td>2</td>\n",
       "      <td>177</td>\n",
       "      <td>3</td>\n",
       "      <td>low</td>\n",
       "      <td>F</td>\n",
       "      <td>44</td>\n",
       "      <td>1233</td>\n",
       "      <td>False</td>\n",
       "    </tr>\n",
       "    <tr>\n",
       "      <th>1</th>\n",
       "      <td>2</td>\n",
       "      <td>F</td>\n",
       "      <td>Flight</td>\n",
       "      <td>4</td>\n",
       "      <td>5</td>\n",
       "      <td>216</td>\n",
       "      <td>2</td>\n",
       "      <td>low</td>\n",
       "      <td>M</td>\n",
       "      <td>59</td>\n",
       "      <td>3088</td>\n",
       "      <td>False</td>\n",
       "    </tr>\n",
       "    <tr>\n",
       "      <th>2</th>\n",
       "      <td>3</td>\n",
       "      <td>A</td>\n",
       "      <td>Flight</td>\n",
       "      <td>2</td>\n",
       "      <td>2</td>\n",
       "      <td>183</td>\n",
       "      <td>4</td>\n",
       "      <td>low</td>\n",
       "      <td>M</td>\n",
       "      <td>48</td>\n",
       "      <td>3374</td>\n",
       "      <td>False</td>\n",
       "    </tr>\n",
       "  </tbody>\n",
       "</table>\n",
       "</div>"
      ],
      "text/plain": [
       "   ID Warehouse_block Mode_of_Shipment  Customer_care_calls  Customer_rating  \\\n",
       "0   1               D           Flight                    4                2   \n",
       "1   2               F           Flight                    4                5   \n",
       "2   3               A           Flight                    2                2   \n",
       "\n",
       "   Cost_of_the_Product  Prior_purchases Product_importance Gender  \\\n",
       "0                  177                3                low      F   \n",
       "1                  216                2                low      M   \n",
       "2                  183                4                low      M   \n",
       "\n",
       "   Discount_offered  Weight_in_gms  on_time  \n",
       "0                44           1233    False  \n",
       "1                59           3088    False  \n",
       "2                48           3374    False  "
      ]
     },
     "execution_count": 6,
     "metadata": {},
     "output_type": "execute_result"
    }
   ],
   "source": [
    "#[f(x) if condition else g(x) for x in sequence]\n",
    "on_time = pd.Series([False if x==1 else True for x in df.Not_on_time])\n",
    "df['on_time'] = on_time\n",
    "df.drop(columns = 'Not_on_time', inplace=True)\n",
    "df.head(3)"
   ]
  },
  {
   "cell_type": "code",
   "execution_count": 7,
   "metadata": {},
   "outputs": [
    {
     "data": {
      "text/plain": [
       "False    6563\n",
       "True     4436\n",
       "Name: on_time, dtype: int64"
      ]
     },
     "execution_count": 7,
     "metadata": {},
     "output_type": "execute_result"
    }
   ],
   "source": [
    "df['on_time'].value_counts()"
   ]
  },
  {
   "cell_type": "code",
   "execution_count": 8,
   "metadata": {},
   "outputs": [
    {
     "data": {
      "text/plain": [
       "ID                      int64\n",
       "Warehouse_block        object\n",
       "Mode_of_Shipment       object\n",
       "Customer_care_calls     int64\n",
       "Customer_rating         int64\n",
       "Cost_of_the_Product     int64\n",
       "Prior_purchases         int64\n",
       "Product_importance     object\n",
       "Gender                 object\n",
       "Discount_offered        int64\n",
       "Weight_in_gms           int64\n",
       "on_time                  bool\n",
       "dtype: object"
      ]
     },
     "execution_count": 8,
     "metadata": {},
     "output_type": "execute_result"
    }
   ],
   "source": [
    "df.dtypes"
   ]
  },
  {
   "cell_type": "code",
   "execution_count": 9,
   "metadata": {},
   "outputs": [
    {
     "data": {
      "text/html": [
       "<div>\n",
       "<style scoped>\n",
       "    .dataframe tbody tr th:only-of-type {\n",
       "        vertical-align: middle;\n",
       "    }\n",
       "\n",
       "    .dataframe tbody tr th {\n",
       "        vertical-align: top;\n",
       "    }\n",
       "\n",
       "    .dataframe thead th {\n",
       "        text-align: right;\n",
       "    }\n",
       "</style>\n",
       "<table border=\"1\" class=\"dataframe\">\n",
       "  <thead>\n",
       "    <tr style=\"text-align: right;\">\n",
       "      <th></th>\n",
       "      <th>ID</th>\n",
       "      <th>Customer_care_calls</th>\n",
       "      <th>Customer_rating</th>\n",
       "      <th>Cost_of_the_Product</th>\n",
       "      <th>Prior_purchases</th>\n",
       "      <th>Discount_offered</th>\n",
       "      <th>Weight_in_gms</th>\n",
       "    </tr>\n",
       "  </thead>\n",
       "  <tbody>\n",
       "    <tr>\n",
       "      <th>count</th>\n",
       "      <td>10999.00000</td>\n",
       "      <td>10999.000000</td>\n",
       "      <td>10999.000000</td>\n",
       "      <td>10999.000000</td>\n",
       "      <td>10999.000000</td>\n",
       "      <td>10999.000000</td>\n",
       "      <td>10999.000000</td>\n",
       "    </tr>\n",
       "    <tr>\n",
       "      <th>mean</th>\n",
       "      <td>5500.00000</td>\n",
       "      <td>4.054459</td>\n",
       "      <td>2.990545</td>\n",
       "      <td>210.196836</td>\n",
       "      <td>3.567597</td>\n",
       "      <td>13.373216</td>\n",
       "      <td>3634.016729</td>\n",
       "    </tr>\n",
       "    <tr>\n",
       "      <th>std</th>\n",
       "      <td>3175.28214</td>\n",
       "      <td>1.141490</td>\n",
       "      <td>1.413603</td>\n",
       "      <td>48.063272</td>\n",
       "      <td>1.522860</td>\n",
       "      <td>16.205527</td>\n",
       "      <td>1635.377251</td>\n",
       "    </tr>\n",
       "    <tr>\n",
       "      <th>min</th>\n",
       "      <td>1.00000</td>\n",
       "      <td>2.000000</td>\n",
       "      <td>1.000000</td>\n",
       "      <td>96.000000</td>\n",
       "      <td>2.000000</td>\n",
       "      <td>1.000000</td>\n",
       "      <td>1001.000000</td>\n",
       "    </tr>\n",
       "    <tr>\n",
       "      <th>25%</th>\n",
       "      <td>2750.50000</td>\n",
       "      <td>3.000000</td>\n",
       "      <td>2.000000</td>\n",
       "      <td>169.000000</td>\n",
       "      <td>3.000000</td>\n",
       "      <td>4.000000</td>\n",
       "      <td>1839.500000</td>\n",
       "    </tr>\n",
       "    <tr>\n",
       "      <th>50%</th>\n",
       "      <td>5500.00000</td>\n",
       "      <td>4.000000</td>\n",
       "      <td>3.000000</td>\n",
       "      <td>214.000000</td>\n",
       "      <td>3.000000</td>\n",
       "      <td>7.000000</td>\n",
       "      <td>4149.000000</td>\n",
       "    </tr>\n",
       "    <tr>\n",
       "      <th>75%</th>\n",
       "      <td>8249.50000</td>\n",
       "      <td>5.000000</td>\n",
       "      <td>4.000000</td>\n",
       "      <td>251.000000</td>\n",
       "      <td>4.000000</td>\n",
       "      <td>10.000000</td>\n",
       "      <td>5050.000000</td>\n",
       "    </tr>\n",
       "    <tr>\n",
       "      <th>max</th>\n",
       "      <td>10999.00000</td>\n",
       "      <td>7.000000</td>\n",
       "      <td>5.000000</td>\n",
       "      <td>310.000000</td>\n",
       "      <td>10.000000</td>\n",
       "      <td>65.000000</td>\n",
       "      <td>7846.000000</td>\n",
       "    </tr>\n",
       "  </tbody>\n",
       "</table>\n",
       "</div>"
      ],
      "text/plain": [
       "                ID  Customer_care_calls  Customer_rating  Cost_of_the_Product  \\\n",
       "count  10999.00000         10999.000000     10999.000000         10999.000000   \n",
       "mean    5500.00000             4.054459         2.990545           210.196836   \n",
       "std     3175.28214             1.141490         1.413603            48.063272   \n",
       "min        1.00000             2.000000         1.000000            96.000000   \n",
       "25%     2750.50000             3.000000         2.000000           169.000000   \n",
       "50%     5500.00000             4.000000         3.000000           214.000000   \n",
       "75%     8249.50000             5.000000         4.000000           251.000000   \n",
       "max    10999.00000             7.000000         5.000000           310.000000   \n",
       "\n",
       "       Prior_purchases  Discount_offered  Weight_in_gms  \n",
       "count     10999.000000      10999.000000   10999.000000  \n",
       "mean          3.567597         13.373216    3634.016729  \n",
       "std           1.522860         16.205527    1635.377251  \n",
       "min           2.000000          1.000000    1001.000000  \n",
       "25%           3.000000          4.000000    1839.500000  \n",
       "50%           3.000000          7.000000    4149.000000  \n",
       "75%           4.000000         10.000000    5050.000000  \n",
       "max          10.000000         65.000000    7846.000000  "
      ]
     },
     "execution_count": 9,
     "metadata": {},
     "output_type": "execute_result"
    }
   ],
   "source": [
    "df.describe()"
   ]
  },
  {
   "cell_type": "markdown",
   "metadata": {},
   "source": [
    "#### Categorical vs Continuous variables"
   ]
  },
  {
   "cell_type": "code",
   "execution_count": 10,
   "metadata": {},
   "outputs": [
    {
     "name": "stdout",
     "output_type": "stream",
     "text": [
      "cateogrical: ['Warehouse_block', 'Mode_of_Shipment', 'Customer_rating', 'Product_importance', 'Gender', 'on_time']\n",
      "continuous: ['Customer_care_calls', 'Cost_of_the_Product', 'Prior_purchases', 'Discount_offered', 'Weight_in_gms']\n"
     ]
    }
   ],
   "source": [
    "df.drop(columns=['ID'], inplace=True)\n",
    "continuous_variables = ['Customer_care_calls','Cost_of_the_Product', 'Prior_purchases','Discount_offered','Weight_in_gms']\n",
    "cateogrical_variables = [x for x in df.columns if x not in continuous_variables]\n",
    "print('cateogrical: {}'.format(cateogrical_variables))\n",
    "print('continuous: {}'.format(continuous_variables))\n"
   ]
  },
  {
   "cell_type": "code",
   "execution_count": 11,
   "metadata": {},
   "outputs": [
    {
     "name": "stdout",
     "output_type": "stream",
     "text": [
      "F    3666\n",
      "D    1834\n",
      "A    1833\n",
      "C    1833\n",
      "B    1833\n",
      "Name: Warehouse_block, dtype: int64\n",
      "Ship      7462\n",
      "Flight    1777\n",
      "Road      1760\n",
      "Name: Mode_of_Shipment, dtype: int64\n",
      "3    2239\n",
      "1    2235\n",
      "4    2189\n",
      "5    2171\n",
      "2    2165\n",
      "Name: Customer_rating, dtype: int64\n",
      "low       5297\n",
      "medium    4754\n",
      "high       948\n",
      "Name: Product_importance, dtype: int64\n",
      "F    5545\n",
      "M    5454\n",
      "Name: Gender, dtype: int64\n",
      "False    6563\n",
      "True     4436\n",
      "Name: on_time, dtype: int64\n"
     ]
    }
   ],
   "source": [
    "for i in cateogrical_variables:\n",
    "    print(df[i].value_counts())"
   ]
  },
  {
   "cell_type": "markdown",
   "metadata": {},
   "source": [
    "#### Simple feature engineering"
   ]
  },
  {
   "cell_type": "code",
   "execution_count": 12,
   "metadata": {},
   "outputs": [],
   "source": [
    "df['Percentage_discount'] =(df['Discount_offered']/df['Cost_of_the_Product']*100).round(2)"
   ]
  },
  {
   "cell_type": "markdown",
   "metadata": {},
   "source": [
    "# EDA\n",
    "\n",
    "## Univariate data analysis"
   ]
  },
  {
   "cell_type": "markdown",
   "metadata": {},
   "source": [
    "### #Categorical"
   ]
  },
  {
   "cell_type": "code",
   "execution_count": 13,
   "metadata": {},
   "outputs": [
    {
     "data": {
      "image/png": "[encoded data removed]",
      "text/plain": [
       "<Figure size 864x216 with 2 Axes>"
      ]
     },
     "metadata": {
      "needs_background": "light"
     },
     "output_type": "display_data"
    },
    {
     "data": {
      "image/png": "[encoded data removed]",
      "text/plain": [
       "<Figure size 864x216 with 2 Axes>"
      ]
     },
     "metadata": {
      "needs_background": "light"
     },
     "output_type": "display_data"
    },
    {
     "data": {
      "image/png": "[encoded data removed]",
      "text/plain": [
       "<Figure size 864x216 with 2 Axes>"
      ]
     },
     "metadata": {
      "needs_background": "light"
     },
     "output_type": "display_data"
    }
   ],
   "source": [
    "def cateogrial_plot(variable):\n",
    "    height = df[variable].value_counts()\n",
    "    height.sort_index(inplace=True)\n",
    "    return height.index, height\n",
    "fig, axes = plt.subplots(ncols=2, figsize=(12, 3))\n",
    "fig.suptitle('Categorical variables')\n",
    "i = 0\n",
    "for variable in cateogrical_variables[:2]:\n",
    "    indexes, height = cateogrial_plot(variable)\n",
    "    sns.barplot(ax = axes[i], x = indexes, y = height)\n",
    "    axes[i].set_title(variable)\n",
    "    i+=1\n",
    "fig, axes = plt.subplots(ncols=2, figsize=(12, 3))\n",
    "i = 0\n",
    "for variable in cateogrical_variables[2:4]:\n",
    "    indexes, height = cateogrial_plot(variable)\n",
    "    sns.barplot(ax = axes[i], x = indexes, y = height)\n",
    "    axes[i].set_title(variable)\n",
    "    i+=1\n",
    "i = 0\n",
    "fig, axes = plt.subplots(ncols=2, figsize=(12, 3))\n",
    "for variable in cateogrical_variables[4:]:\n",
    "    indexes, height = cateogrial_plot(variable)\n",
    "    sns.barplot(ax = axes[i], x = indexes, y = height)\n",
    "    axes[i].set_title(variable)\n",
    "    i+=1"
   ]
  },
  {
   "cell_type": "markdown",
   "metadata": {},
   "source": [
    "## Takeaways:\n",
    "Warehouse `F` deals with most products\n",
    "\n",
    "`Ship` is the most common way of delivery\n",
    "\n",
    "Customer rating is fairly uniform across all scores\n",
    "\n",
    "Most products are either of `low` or `medium` importance\n",
    "\n",
    "Equal `male` and `female` customers\n",
    "\n",
    "Generally the company has more deliveries that are `late`"
   ]
  },
  {
   "cell_type": "code",
   "execution_count": 14,
   "metadata": {},
   "outputs": [],
   "source": [
    "# #plt.title('Cateogrical variables')\n",
    "# for variable in cateogrical_variables:\n",
    "#     fig, ax = plt.subplots(figsize=(3, 2))\n",
    "#     ax.set_title(variable)\n",
    "#     height = df[variable].value_counts()\n",
    "#     height.sort_index(inplace=True)\n",
    "#     sns.barplot(height.index, height)"
   ]
  },
  {
   "cell_type": "markdown",
   "metadata": {},
   "source": [
    "### #Continuous"
   ]
  },
  {
   "cell_type": "code",
   "execution_count": 15,
   "metadata": {},
   "outputs": [
    {
     "data": {
      "image/png": "[encoded data removed]",
      "text/plain": [
       "<Figure size 720x720 with 6 Axes>"
      ]
     },
     "metadata": {
      "needs_background": "light"
     },
     "output_type": "display_data"
    }
   ],
   "source": [
    "ax = df[continuous_variables].hist(figsize=(10,10), bins = 10)"
   ]
  },
  {
   "cell_type": "markdown",
   "metadata": {},
   "source": [
    "## Takeaways:\n",
    "Calls by customer to customer care follows a seemingly bell shaped distribtuion\n",
    "\n",
    "Cost of product seems to follow a plateau shape\n",
    "\n",
    "Prior purchases seemingly follow a log normal curve\n",
    "\n",
    "Discount offered follows an decreasingly exponential shape\n",
    "\n",
    "Weight in grams seems to be bimodal"
   ]
  },
  {
   "cell_type": "markdown",
   "metadata": {},
   "source": [
    "### #Heatmap"
   ]
  },
  {
   "cell_type": "code",
   "execution_count": 16,
   "metadata": {},
   "outputs": [
    {
     "data": {
      "image/png": "[encoded data removed]",
      "text/plain": [
       "<Figure size 864x576 with 2 Axes>"
      ]
     },
     "metadata": {
      "needs_background": "light"
     },
     "output_type": "display_data"
    }
   ],
   "source": [
    "scores = df[continuous_variables].corr()\n",
    "plt.figure(figsize=(12,8))\n",
    "ax = sns.heatmap(scores, annot=True)"
   ]
  },
  {
   "cell_type": "markdown",
   "metadata": {},
   "source": [
    "No signs of multicollinearity, with highest related fields being Discount offered and the weight of packages, standing at a 0.38 relation (Much lower than 0.7 usually suggested)\n",
    "\n",
    "1) Interestingly, higher discounts does correspond to lower weight packages. -> Customers are probably more quick to make purchases when there is a sale\n",
    "\n",
    "2) Higher costing product correspond to more customer care calls -> Customers are more anxious about getting their items when they make bigger ticket purchases\n",
    "\n",
    "3) Higher weighted items correspond to lower customer care calls -> Customer are likely more understanding that heavier items take longer to ship\n",
    "\n",
    "4) Also notable is that lighter weighted objects corresponds to costlier products -> Its probably specific to the electronics sector"
   ]
  },
  {
   "cell_type": "code",
   "execution_count": 17,
   "metadata": {},
   "outputs": [],
   "source": [
    "# Helper function\n",
    "def order_by_impt(dataset):\n",
    "    idx = pd.Categorical(dataset['Product_importance'],\n",
    "          categories=['high','medium','low'],\n",
    "          ordered=True)\n",
    "    dataset['Product_importance'] = idx\n",
    "    return dataset"
   ]
  },
  {
   "cell_type": "code",
   "execution_count": 18,
   "metadata": {},
   "outputs": [
    {
     "data": {
      "text/html": [
       "<div>\n",
       "<style scoped>\n",
       "    .dataframe tbody tr th:only-of-type {\n",
       "        vertical-align: middle;\n",
       "    }\n",
       "\n",
       "    .dataframe tbody tr th {\n",
       "        vertical-align: top;\n",
       "    }\n",
       "\n",
       "    .dataframe thead th {\n",
       "        text-align: right;\n",
       "    }\n",
       "</style>\n",
       "<table border=\"1\" class=\"dataframe\">\n",
       "  <thead>\n",
       "    <tr style=\"text-align: right;\">\n",
       "      <th></th>\n",
       "      <th></th>\n",
       "      <th>Count</th>\n",
       "      <th>Percentage (%)</th>\n",
       "    </tr>\n",
       "    <tr>\n",
       "      <th>Product_importance</th>\n",
       "      <th>Mode_of_Shipment</th>\n",
       "      <th></th>\n",
       "      <th></th>\n",
       "    </tr>\n",
       "  </thead>\n",
       "  <tbody>\n",
       "    <tr>\n",
       "      <th rowspan=\"3\" valign=\"top\">high</th>\n",
       "      <th>Flight</th>\n",
       "      <td>163</td>\n",
       "      <td>17.19 %</td>\n",
       "    </tr>\n",
       "    <tr>\n",
       "      <th>Road</th>\n",
       "      <td>158</td>\n",
       "      <td>16.67 %</td>\n",
       "    </tr>\n",
       "    <tr>\n",
       "      <th>Ship</th>\n",
       "      <td>627</td>\n",
       "      <td>66.14 %</td>\n",
       "    </tr>\n",
       "    <tr>\n",
       "      <th rowspan=\"3\" valign=\"top\">medium</th>\n",
       "      <th>Flight</th>\n",
       "      <td>776</td>\n",
       "      <td>16.32 %</td>\n",
       "    </tr>\n",
       "    <tr>\n",
       "      <th>Road</th>\n",
       "      <td>745</td>\n",
       "      <td>15.67 %</td>\n",
       "    </tr>\n",
       "    <tr>\n",
       "      <th>Ship</th>\n",
       "      <td>3233</td>\n",
       "      <td>68.01 %</td>\n",
       "    </tr>\n",
       "    <tr>\n",
       "      <th rowspan=\"3\" valign=\"top\">low</th>\n",
       "      <th>Flight</th>\n",
       "      <td>838</td>\n",
       "      <td>15.82 %</td>\n",
       "    </tr>\n",
       "    <tr>\n",
       "      <th>Road</th>\n",
       "      <td>857</td>\n",
       "      <td>16.18 %</td>\n",
       "    </tr>\n",
       "    <tr>\n",
       "      <th>Ship</th>\n",
       "      <td>3602</td>\n",
       "      <td>68.0 %</td>\n",
       "    </tr>\n",
       "  </tbody>\n",
       "</table>\n",
       "</div>"
      ],
      "text/plain": [
       "                                     Count Percentage (%)\n",
       "Product_importance Mode_of_Shipment                      \n",
       "high               Flight              163        17.19 %\n",
       "                   Road                158        16.67 %\n",
       "                   Ship                627        66.14 %\n",
       "medium             Flight              776        16.32 %\n",
       "                   Road                745        15.67 %\n",
       "                   Ship               3233        68.01 %\n",
       "low                Flight              838        15.82 %\n",
       "                   Road                857        16.18 %\n",
       "                   Ship               3602         68.0 %"
      ]
     },
     "execution_count": 18,
     "metadata": {},
     "output_type": "execute_result"
    }
   ],
   "source": [
    "product_summary = pd.DataFrame(df.groupby(['Product_importance','Mode_of_Shipment']).count().iloc[:,1])\n",
    "percentage = product_summary.groupby('Product_importance', as_index = False).apply(lambda x: (x/x.sum()*100).round(2))\n",
    "percentage['Percentage (%)'] = percentage['Customer_care_calls'].apply(lambda x: str(x)+' %')\n",
    "product_summary_full = pd.concat([product_summary, percentage], axis=1)\n",
    "product_summary_full.columns = ['Count', 'Proportion', 'Percentage (%)']\n",
    "#product_summary_full.iloc[:,[0,2]]\n",
    "\n",
    "product_summary_full.reset_index(inplace = True)\n",
    "product_summary_full = order_by_impt(product_summary_full)\n",
    "product_summary_full.sort_values('Product_importance').set_index(['Product_importance','Mode_of_Shipment']).iloc[:,[0,2]]"
   ]
  },
  {
   "cell_type": "markdown",
   "metadata": {},
   "source": [
    "It seems that  the company does not discern the mode of delivery based on importance of product"
   ]
  },
  {
   "cell_type": "code",
   "execution_count": 19,
   "metadata": {},
   "outputs": [
    {
     "data": {
      "text/html": [
       "<div>\n",
       "<style scoped>\n",
       "    .dataframe tbody tr th:only-of-type {\n",
       "        vertical-align: middle;\n",
       "    }\n",
       "\n",
       "    .dataframe tbody tr th {\n",
       "        vertical-align: top;\n",
       "    }\n",
       "\n",
       "    .dataframe thead th {\n",
       "        text-align: right;\n",
       "    }\n",
       "</style>\n",
       "<table border=\"1\" class=\"dataframe\">\n",
       "  <thead>\n",
       "    <tr style=\"text-align: right;\">\n",
       "      <th></th>\n",
       "      <th></th>\n",
       "      <th>Count</th>\n",
       "      <th>Percentage (%)</th>\n",
       "    </tr>\n",
       "    <tr>\n",
       "      <th>Product_importance</th>\n",
       "      <th>on_time</th>\n",
       "      <th></th>\n",
       "      <th></th>\n",
       "    </tr>\n",
       "  </thead>\n",
       "  <tbody>\n",
       "    <tr>\n",
       "      <th rowspan=\"2\" valign=\"top\">high</th>\n",
       "      <th>True</th>\n",
       "      <td>332</td>\n",
       "      <td>35.02 %</td>\n",
       "    </tr>\n",
       "    <tr>\n",
       "      <th>False</th>\n",
       "      <td>616</td>\n",
       "      <td>64.98 %</td>\n",
       "    </tr>\n",
       "    <tr>\n",
       "      <th rowspan=\"2\" valign=\"top\">medium</th>\n",
       "      <th>True</th>\n",
       "      <td>1947</td>\n",
       "      <td>40.95 %</td>\n",
       "    </tr>\n",
       "    <tr>\n",
       "      <th>False</th>\n",
       "      <td>2807</td>\n",
       "      <td>59.05 %</td>\n",
       "    </tr>\n",
       "    <tr>\n",
       "      <th rowspan=\"2\" valign=\"top\">low</th>\n",
       "      <th>True</th>\n",
       "      <td>2157</td>\n",
       "      <td>40.72 %</td>\n",
       "    </tr>\n",
       "    <tr>\n",
       "      <th>False</th>\n",
       "      <td>3140</td>\n",
       "      <td>59.28 %</td>\n",
       "    </tr>\n",
       "  </tbody>\n",
       "</table>\n",
       "</div>"
      ],
      "text/plain": [
       "                            Count Percentage (%)\n",
       "Product_importance on_time                      \n",
       "high               True       332        35.02 %\n",
       "                   False      616        64.98 %\n",
       "medium             True      1947        40.95 %\n",
       "                   False     2807        59.05 %\n",
       "low                True      2157        40.72 %\n",
       "                   False     3140        59.28 %"
      ]
     },
     "execution_count": 19,
     "metadata": {},
     "output_type": "execute_result"
    }
   ],
   "source": [
    "product_summary = df.groupby(['Product_importance','on_time']).count().loc[:,['Mode_of_Shipment']]\n",
    "product_summary\n",
    "percentage = product_summary.groupby('Product_importance', as_index = False).apply(lambda x: (x/x.sum()*100).round(2))\n",
    "percentage['Mode_of_Shipment'] = percentage['Mode_of_Shipment'].apply(lambda x: str(x)+' %')\n",
    "product_summary_full = pd.concat([product_summary, percentage], axis=1)\n",
    "product_summary_full.columns = ['Count', 'Percentage (%)']\n",
    "\n",
    "product_summary_full.reset_index(inplace = True)\n",
    "product_summary_full = order_by_impt(product_summary_full)\n",
    "product_summary_full.sort_values('on_time', ascending = False).sort_values('Product_importance').set_index(['Product_importance','on_time'])"
   ]
  },
  {
   "cell_type": "markdown",
   "metadata": {},
   "source": [
    "Not much disrepancy between `medium` and `low` importance products. Might be more efficient to classify them together unless there is seperate use cases for this metric.\n",
    "\n",
    "Product of `high` importance is more likely to be late than product with `medium`/`low` importance by a good 5%. \n",
    "\n",
    "This is definitely not a good sign as we will assume Product rated with high importance should be delivered timely. Unless the `Product_importance` is based on some other metric and not urgency of delivery"
   ]
  },
  {
   "cell_type": "markdown",
   "metadata": {},
   "source": [
    "## Discerning what determines the `Product_importance`"
   ]
  },
  {
   "cell_type": "code",
   "execution_count": 20,
   "metadata": {},
   "outputs": [
    {
     "data": {
      "text/html": [
       "<div>\n",
       "<style scoped>\n",
       "    .dataframe tbody tr th:only-of-type {\n",
       "        vertical-align: middle;\n",
       "    }\n",
       "\n",
       "    .dataframe tbody tr th {\n",
       "        vertical-align: top;\n",
       "    }\n",
       "\n",
       "    .dataframe thead th {\n",
       "        text-align: right;\n",
       "    }\n",
       "</style>\n",
       "<table border=\"1\" class=\"dataframe\">\n",
       "  <thead>\n",
       "    <tr style=\"text-align: right;\">\n",
       "      <th></th>\n",
       "      <th>min</th>\n",
       "      <th>25th</th>\n",
       "      <th>mean</th>\n",
       "      <th>75th</th>\n",
       "      <th>max</th>\n",
       "    </tr>\n",
       "    <tr>\n",
       "      <th>Product_importance</th>\n",
       "      <th></th>\n",
       "      <th></th>\n",
       "      <th></th>\n",
       "      <th></th>\n",
       "      <th></th>\n",
       "    </tr>\n",
       "  </thead>\n",
       "  <tbody>\n",
       "    <tr>\n",
       "      <th>high</th>\n",
       "      <td>96</td>\n",
       "      <td>165</td>\n",
       "      <td>203.87</td>\n",
       "      <td>243</td>\n",
       "      <td>307</td>\n",
       "    </tr>\n",
       "    <tr>\n",
       "      <th>medium</th>\n",
       "      <td>96</td>\n",
       "      <td>169</td>\n",
       "      <td>209.38</td>\n",
       "      <td>250</td>\n",
       "      <td>310</td>\n",
       "    </tr>\n",
       "    <tr>\n",
       "      <th>low</th>\n",
       "      <td>96</td>\n",
       "      <td>171</td>\n",
       "      <td>212.06</td>\n",
       "      <td>253</td>\n",
       "      <td>310</td>\n",
       "    </tr>\n",
       "  </tbody>\n",
       "</table>\n",
       "</div>"
      ],
      "text/plain": [
       "                    min  25th    mean  75th  max\n",
       "Product_importance                              \n",
       "high                 96   165  203.87   243  307\n",
       "medium               96   169  209.38   250  310\n",
       "low                  96   171  212.06   253  310"
      ]
     },
     "execution_count": 20,
     "metadata": {},
     "output_type": "execute_result"
    }
   ],
   "source": [
    "weights = df.groupby(['Product_importance'], as_index=False)['Cost_of_the_Product'].agg(['min', lambda x: np.quantile(x,0.25), lambda x: x.mean().round(2), lambda x: np.quantile(x,0.75), 'max']).reset_index()\n",
    "weights.columns = ['Product_importance','min','25th','mean','75th','max']\n",
    "order_by_impt(weights).sort_values('Product_importance').set_index('Product_importance')"
   ]
  },
  {
   "cell_type": "markdown",
   "metadata": {},
   "source": [
    "Cost does not positively correlate to importance of product"
   ]
  },
  {
   "cell_type": "code",
   "execution_count": 21,
   "metadata": {},
   "outputs": [
    {
     "data": {
      "text/html": [
       "<div>\n",
       "<style scoped>\n",
       "    .dataframe tbody tr th:only-of-type {\n",
       "        vertical-align: middle;\n",
       "    }\n",
       "\n",
       "    .dataframe tbody tr th {\n",
       "        vertical-align: top;\n",
       "    }\n",
       "\n",
       "    .dataframe thead th {\n",
       "        text-align: right;\n",
       "    }\n",
       "</style>\n",
       "<table border=\"1\" class=\"dataframe\">\n",
       "  <thead>\n",
       "    <tr style=\"text-align: right;\">\n",
       "      <th></th>\n",
       "      <th>min</th>\n",
       "      <th>25th</th>\n",
       "      <th>mean</th>\n",
       "      <th>75th</th>\n",
       "      <th>max</th>\n",
       "    </tr>\n",
       "    <tr>\n",
       "      <th>Product_importance</th>\n",
       "      <th></th>\n",
       "      <th></th>\n",
       "      <th></th>\n",
       "      <th></th>\n",
       "      <th></th>\n",
       "    </tr>\n",
       "  </thead>\n",
       "  <tbody>\n",
       "    <tr>\n",
       "      <th>high</th>\n",
       "      <td>1007</td>\n",
       "      <td>2848.75</td>\n",
       "      <td>4005.55</td>\n",
       "      <td>5204.00</td>\n",
       "      <td>6000</td>\n",
       "    </tr>\n",
       "    <tr>\n",
       "      <th>medium</th>\n",
       "      <td>1001</td>\n",
       "      <td>1924.50</td>\n",
       "      <td>3712.05</td>\n",
       "      <td>5066.75</td>\n",
       "      <td>7846</td>\n",
       "    </tr>\n",
       "    <tr>\n",
       "      <th>low</th>\n",
       "      <td>1001</td>\n",
       "      <td>1718.00</td>\n",
       "      <td>3497.49</td>\n",
       "      <td>5011.00</td>\n",
       "      <td>6000</td>\n",
       "    </tr>\n",
       "  </tbody>\n",
       "</table>\n",
       "</div>"
      ],
      "text/plain": [
       "                     min     25th     mean     75th   max\n",
       "Product_importance                                       \n",
       "high                1007  2848.75  4005.55  5204.00  6000\n",
       "medium              1001  1924.50  3712.05  5066.75  7846\n",
       "low                 1001  1718.00  3497.49  5011.00  6000"
      ]
     },
     "execution_count": 21,
     "metadata": {},
     "output_type": "execute_result"
    }
   ],
   "source": [
    "weights = df.groupby(['Product_importance'], as_index=False)['Weight_in_gms'].agg(['min', lambda x: np.quantile(x,0.25), lambda x: x.mean().round(2), lambda x: np.quantile(x,0.75), 'max']).reset_index()\n",
    "weights.columns = ['Product_importance','min','25th','mean','75th','max']\n",
    "order_by_impt(weights).sort_values('Product_importance').set_index('Product_importance')"
   ]
  },
  {
   "cell_type": "code",
   "execution_count": 22,
   "metadata": {},
   "outputs": [
    {
     "data": {
      "image/png": "[encoded data removed]",
      "text/plain": [
       "<Figure size 432x288 with 1 Axes>"
      ]
     },
     "metadata": {
      "needs_background": "light"
     },
     "output_type": "display_data"
    }
   ],
   "source": [
    "ax = sns.boxplot(y='Product_importance', x='Weight_in_gms', data = df)"
   ]
  },
  {
   "cell_type": "markdown",
   "metadata": {},
   "source": [
    "Seems like the correlation of importance of product ties back to weight of product => Higher weight implies higher product importance"
   ]
  },
  {
   "cell_type": "code",
   "execution_count": 23,
   "metadata": {},
   "outputs": [
    {
     "name": "stdout",
     "output_type": "stream",
     "text": [
      "\t\t\tCost density\n"
     ]
    },
    {
     "data": {
      "text/html": [
       "<div>\n",
       "<style scoped>\n",
       "    .dataframe tbody tr th:only-of-type {\n",
       "        vertical-align: middle;\n",
       "    }\n",
       "\n",
       "    .dataframe tbody tr th {\n",
       "        vertical-align: top;\n",
       "    }\n",
       "\n",
       "    .dataframe thead th {\n",
       "        text-align: right;\n",
       "    }\n",
       "</style>\n",
       "<table border=\"1\" class=\"dataframe\">\n",
       "  <thead>\n",
       "    <tr style=\"text-align: right;\">\n",
       "      <th></th>\n",
       "      <th>min</th>\n",
       "      <th>25th</th>\n",
       "      <th>mean</th>\n",
       "      <th>75th</th>\n",
       "      <th>max</th>\n",
       "    </tr>\n",
       "    <tr>\n",
       "      <th>Product_importance</th>\n",
       "      <th></th>\n",
       "      <th></th>\n",
       "      <th></th>\n",
       "      <th></th>\n",
       "      <th></th>\n",
       "    </tr>\n",
       "  </thead>\n",
       "  <tbody>\n",
       "    <tr>\n",
       "      <th>high</th>\n",
       "      <td>0.017608</td>\n",
       "      <td>0.038425</td>\n",
       "      <td>0.06</td>\n",
       "      <td>0.077155</td>\n",
       "      <td>0.269119</td>\n",
       "    </tr>\n",
       "    <tr>\n",
       "      <th>medium</th>\n",
       "      <td>0.016771</td>\n",
       "      <td>0.039163</td>\n",
       "      <td>0.08</td>\n",
       "      <td>0.096845</td>\n",
       "      <td>0.302094</td>\n",
       "    </tr>\n",
       "    <tr>\n",
       "      <th>low</th>\n",
       "      <td>0.016482</td>\n",
       "      <td>0.040399</td>\n",
       "      <td>0.09</td>\n",
       "      <td>0.119637</td>\n",
       "      <td>0.309073</td>\n",
       "    </tr>\n",
       "  </tbody>\n",
       "</table>\n",
       "</div>"
      ],
      "text/plain": [
       "                         min      25th  mean      75th       max\n",
       "Product_importance                                              \n",
       "high                0.017608  0.038425  0.06  0.077155  0.269119\n",
       "medium              0.016771  0.039163  0.08  0.096845  0.302094\n",
       "low                 0.016482  0.040399  0.09  0.119637  0.309073"
      ]
     },
     "execution_count": 23,
     "metadata": {},
     "output_type": "execute_result"
    }
   ],
   "source": [
    "df1 = df.copy()\n",
    "df1['cost_density'] = df1['Cost_of_the_Product']/df1['Weight_in_gms']\n",
    "weights = df1.groupby(['Product_importance'], as_index=False)['cost_density'].agg(['min', lambda x: np.quantile(x,0.25), lambda x: x.mean().round(2), lambda x: np.quantile(x,0.75), 'max']).reset_index()\n",
    "weights.columns = ['Product_importance','min','25th','mean','75th','max']\n",
    "print('\\t\\t\\tCost density')\n",
    "order_by_impt(weights).sort_values('Product_importance').set_index('Product_importance')"
   ]
  },
  {
   "cell_type": "markdown",
   "metadata": {},
   "source": [
    "Evidence that reflect maybe `medium` and `low` importance product can be categorized together"
   ]
  },
  {
   "cell_type": "code",
   "execution_count": 24,
   "metadata": {},
   "outputs": [
    {
     "data": {
      "image/png": "[encoded data removed]",
      "text/plain": [
       "<Figure size 648x216 with 3 Axes>"
      ]
     },
     "metadata": {
      "needs_background": "light"
     },
     "output_type": "display_data"
    }
   ],
   "source": [
    "count_for_plot = df.groupby(['Product_importance','Customer_care_calls']).count().iloc[:,0].reset_index()\n",
    "count_for_plot.rename({'Warehouse_block':'Count'}, axis = 1, inplace=True)\n",
    "idx = pd.Categorical(count_for_plot['Product_importance'],\n",
    "          categories=['high','medium','low'],\n",
    "          ordered=True)\n",
    "count_for_plot['Product_importance'] = idx\n",
    "percentage = count_for_plot.groupby('Product_importance')['Count'].apply(lambda x: (x/x.sum()*100).round(2))\n",
    "count_for_plot['Percentage'] = percentage\n",
    "#count_for_plot\n",
    "g = sns.FacetGrid(count_for_plot, col=\"Product_importance\", margin_titles=True)\n",
    "ax = g.map_dataframe(sns.barplot, x='Customer_care_calls',y=\"Percentage\")"
   ]
  },
  {
   "cell_type": "markdown",
   "metadata": {},
   "source": [
    "Further analysis show that product importance does not correspond to more `customer care calls`, which implies product importance is probably an internal metric for shipping purposes"
   ]
  },
  {
   "cell_type": "markdown",
   "metadata": {},
   "source": [
    "Conclusion: Higher importance product means heavier products => Probably implies more manpower needed to transport such goods"
   ]
  },
  {
   "cell_type": "markdown",
   "metadata": {},
   "source": [
    "### Why are shipments arriving late?"
   ]
  },
  {
   "cell_type": "code",
   "execution_count": 25,
   "metadata": {},
   "outputs": [
    {
     "data": {
      "image/png": "[encoded data removed]",
      "text/plain": [
       "<Figure size 432x288 with 1 Axes>"
      ]
     },
     "metadata": {
      "needs_background": "light"
     },
     "output_type": "display_data"
    }
   ],
   "source": [
    "percentage_late = df.groupby(['Mode_of_Shipment','on_time']).count().iloc[:,1].reset_index()\n",
    "percentage_late['percentage'] = percentage_late.groupby('Mode_of_Shipment')['Customer_care_calls'].apply(lambda x: (x/x.sum()*100).round(2))\n",
    "\n",
    "sns.barplot(x='Mode_of_Shipment',y='percentage', hue = 'on_time', data = percentage_late)\n",
    "plt.title('Is the delivery on time?', size = 20)\n",
    "plt.grid()\n",
    "ax = plt.legend(bbox_to_anchor=(1.02, 1), loc='upper left', borderaxespad=0, title = 'On time')"
   ]
  },
  {
   "cell_type": "markdown",
   "metadata": {},
   "source": [
    "Regardless the shipment mode, seems like they have an equal likelihood to be late"
   ]
  },
  {
   "cell_type": "code",
   "execution_count": 26,
   "metadata": {},
   "outputs": [
    {
     "data": {
      "text/html": [
       "<div>\n",
       "<style scoped>\n",
       "    .dataframe tbody tr th:only-of-type {\n",
       "        vertical-align: middle;\n",
       "    }\n",
       "\n",
       "    .dataframe tbody tr th {\n",
       "        vertical-align: top;\n",
       "    }\n",
       "\n",
       "    .dataframe thead th {\n",
       "        text-align: right;\n",
       "    }\n",
       "</style>\n",
       "<table border=\"1\" class=\"dataframe\">\n",
       "  <thead>\n",
       "    <tr style=\"text-align: right;\">\n",
       "      <th></th>\n",
       "      <th>Mode_of_Shipment</th>\n",
       "      <th>on_time</th>\n",
       "      <th>Customer_care_calls</th>\n",
       "      <th>percentage</th>\n",
       "    </tr>\n",
       "  </thead>\n",
       "  <tbody>\n",
       "    <tr>\n",
       "      <th>0</th>\n",
       "      <td>Flight</td>\n",
       "      <td>False</td>\n",
       "      <td>1069</td>\n",
       "      <td>60.16</td>\n",
       "    </tr>\n",
       "    <tr>\n",
       "      <th>1</th>\n",
       "      <td>Flight</td>\n",
       "      <td>True</td>\n",
       "      <td>708</td>\n",
       "      <td>39.84</td>\n",
       "    </tr>\n",
       "    <tr>\n",
       "      <th>2</th>\n",
       "      <td>Road</td>\n",
       "      <td>False</td>\n",
       "      <td>1035</td>\n",
       "      <td>58.81</td>\n",
       "    </tr>\n",
       "    <tr>\n",
       "      <th>3</th>\n",
       "      <td>Road</td>\n",
       "      <td>True</td>\n",
       "      <td>725</td>\n",
       "      <td>41.19</td>\n",
       "    </tr>\n",
       "    <tr>\n",
       "      <th>4</th>\n",
       "      <td>Ship</td>\n",
       "      <td>False</td>\n",
       "      <td>4459</td>\n",
       "      <td>59.76</td>\n",
       "    </tr>\n",
       "    <tr>\n",
       "      <th>5</th>\n",
       "      <td>Ship</td>\n",
       "      <td>True</td>\n",
       "      <td>3003</td>\n",
       "      <td>40.24</td>\n",
       "    </tr>\n",
       "  </tbody>\n",
       "</table>\n",
       "</div>"
      ],
      "text/plain": [
       "  Mode_of_Shipment  on_time  Customer_care_calls  percentage\n",
       "0           Flight    False                 1069       60.16\n",
       "1           Flight     True                  708       39.84\n",
       "2             Road    False                 1035       58.81\n",
       "3             Road     True                  725       41.19\n",
       "4             Ship    False                 4459       59.76\n",
       "5             Ship     True                 3003       40.24"
      ]
     },
     "execution_count": 26,
     "metadata": {},
     "output_type": "execute_result"
    }
   ],
   "source": [
    "percentage_late"
   ]
  },
  {
   "cell_type": "code",
   "execution_count": 27,
   "metadata": {},
   "outputs": [
    {
     "data": {
      "text/plain": [
       "<matplotlib.legend.Legend at 0x2859cae9040>"
      ]
     },
     "execution_count": 27,
     "metadata": {},
     "output_type": "execute_result"
    },
    {
     "data": {
      "image/png": "[encoded data removed]",
      "text/plain": [
       "<Figure size 432x288 with 1 Axes>"
      ]
     },
     "metadata": {
      "needs_background": "light"
     },
     "output_type": "display_data"
    }
   ],
   "source": [
    "percentage_late = df.groupby(['Warehouse_block','on_time']).count().iloc[:,1].reset_index()\n",
    "percentage_late['percentage'] = percentage_late.groupby('Warehouse_block')['Customer_care_calls'].apply(lambda x: (x/x.sum()*100).round(1))\n",
    "percentage_late['percentage'] = percentage_late['percentage'].apply(lambda x: str(x)+'%')\n",
    "\n",
    "ax = sns.barplot(x='Warehouse_block',y='Customer_care_calls', hue = 'on_time', data = percentage_late)\n",
    "start = 0\n",
    "for i in [0,2,4,6,8]:\n",
    "    x1 = start - 0.4\n",
    "    x2 = start\n",
    "    start +=1\n",
    "    y1 = percentage_late.iloc[i,2] + 30\n",
    "    s1 = percentage_late.iloc[i,3]\n",
    "    y2 = percentage_late.iloc[i+1,2]+ 30\n",
    "    s2 = percentage_late.iloc[i+1,3]\n",
    "    ax.text(x1,y1,s1)\n",
    "    ax.text(x2,y2,s2)\n",
    "plt.title('Is the delivery on time?', size = 20)\n",
    "plt.grid()\n",
    "plt.legend(bbox_to_anchor=(1.02, 1), loc='upper left', borderaxespad=0, title = 'On time')"
   ]
  },
  {
   "cell_type": "markdown",
   "metadata": {},
   "source": [
    "Seems like all warehouses are equally efficient in delivery as well"
   ]
  },
  {
   "cell_type": "code",
   "execution_count": 28,
   "metadata": {},
   "outputs": [
    {
     "data": {
      "image/png": "[encoded data removed]",
      "text/plain": [
       "<Figure size 648x216 with 3 Axes>"
      ]
     },
     "metadata": {
      "needs_background": "light"
     },
     "output_type": "display_data"
    }
   ],
   "source": [
    "g = sns.FacetGrid(df, col=\"Mode_of_Shipment\", sharey=False)\n",
    "ax = g.map_dataframe(sns.histplot, x='Weight_in_gms')"
   ]
  },
  {
   "cell_type": "markdown",
   "metadata": {},
   "source": [
    "Distribution of weights of delivered product are almost identical, meaning that delivery mode is probably based on proximity rather than weight"
   ]
  },
  {
   "cell_type": "code",
   "execution_count": 29,
   "metadata": {},
   "outputs": [
    {
     "data": {
      "text/plain": [
       "on_time\n",
       "False    3.005790\n",
       "True     2.967989\n",
       "Name: Customer_rating, dtype: float64"
      ]
     },
     "execution_count": 29,
     "metadata": {},
     "output_type": "execute_result"
    }
   ],
   "source": [
    "df.groupby('on_time')['Customer_rating'].mean()"
   ]
  },
  {
   "cell_type": "code",
   "execution_count": 30,
   "metadata": {},
   "outputs": [
    {
     "data": {
      "text/html": [
       "<div>\n",
       "<style scoped>\n",
       "    .dataframe tbody tr th:only-of-type {\n",
       "        vertical-align: middle;\n",
       "    }\n",
       "\n",
       "    .dataframe tbody tr th {\n",
       "        vertical-align: top;\n",
       "    }\n",
       "\n",
       "    .dataframe thead th {\n",
       "        text-align: right;\n",
       "    }\n",
       "</style>\n",
       "<table border=\"1\" class=\"dataframe\">\n",
       "  <thead>\n",
       "    <tr style=\"text-align: right;\">\n",
       "      <th></th>\n",
       "      <th>Warehouse_block</th>\n",
       "      <th>Mode_of_Shipment</th>\n",
       "      <th>Customer_care_calls</th>\n",
       "      <th>Customer_rating</th>\n",
       "      <th>Cost_of_the_Product</th>\n",
       "      <th>Prior_purchases</th>\n",
       "      <th>Product_importance</th>\n",
       "      <th>Gender</th>\n",
       "      <th>Discount_offered</th>\n",
       "      <th>Weight_in_gms</th>\n",
       "      <th>on_time</th>\n",
       "      <th>Percentage_discount</th>\n",
       "    </tr>\n",
       "  </thead>\n",
       "  <tbody>\n",
       "    <tr>\n",
       "      <th>0</th>\n",
       "      <td>D</td>\n",
       "      <td>Flight</td>\n",
       "      <td>4</td>\n",
       "      <td>2</td>\n",
       "      <td>177</td>\n",
       "      <td>3</td>\n",
       "      <td>low</td>\n",
       "      <td>F</td>\n",
       "      <td>44</td>\n",
       "      <td>1233</td>\n",
       "      <td>False</td>\n",
       "      <td>24.86</td>\n",
       "    </tr>\n",
       "    <tr>\n",
       "      <th>1</th>\n",
       "      <td>F</td>\n",
       "      <td>Flight</td>\n",
       "      <td>4</td>\n",
       "      <td>5</td>\n",
       "      <td>216</td>\n",
       "      <td>2</td>\n",
       "      <td>low</td>\n",
       "      <td>M</td>\n",
       "      <td>59</td>\n",
       "      <td>3088</td>\n",
       "      <td>False</td>\n",
       "      <td>27.31</td>\n",
       "    </tr>\n",
       "  </tbody>\n",
       "</table>\n",
       "</div>"
      ],
      "text/plain": [
       "  Warehouse_block Mode_of_Shipment  Customer_care_calls  Customer_rating  \\\n",
       "0               D           Flight                    4                2   \n",
       "1               F           Flight                    4                5   \n",
       "\n",
       "   Cost_of_the_Product  Prior_purchases Product_importance Gender  \\\n",
       "0                  177                3                low      F   \n",
       "1                  216                2                low      M   \n",
       "\n",
       "   Discount_offered  Weight_in_gms  on_time  Percentage_discount  \n",
       "0                44           1233    False                24.86  \n",
       "1                59           3088    False                27.31  "
      ]
     },
     "execution_count": 30,
     "metadata": {},
     "output_type": "execute_result"
    }
   ],
   "source": [
    "df.head(2)"
   ]
  },
  {
   "cell_type": "markdown",
   "metadata": {},
   "source": [
    "### Return customers = Better ratings?"
   ]
  },
  {
   "cell_type": "code",
   "execution_count": 31,
   "metadata": {},
   "outputs": [
    {
     "data": {
      "text/plain": [
       "<matplotlib.legend.Legend at 0x2859cc399d0>"
      ]
     },
     "execution_count": 31,
     "metadata": {},
     "output_type": "execute_result"
    },
    {
     "data": {
      "image/png": "[encoded data removed]",
      "text/plain": [
       "<Figure size 432x288 with 1 Axes>"
      ]
     },
     "metadata": {
      "needs_background": "light"
     },
     "output_type": "display_data"
    }
   ],
   "source": [
    "df.groupby(['Prior_purchases'], as_index=False)['Customer_rating'].mean().plot(x = 'Prior_purchases',y = 'Customer_rating')\n",
    "plt.ylim(0,3.5)\n",
    "plt.ylabel('Rating')\n",
    "plt.legend([],[])"
   ]
  },
  {
   "cell_type": "markdown",
   "metadata": {},
   "source": [
    "General uptrend of `ratings` as the number of `Prior purchases` increases => Return customers are usually happy customers"
   ]
  },
  {
   "cell_type": "markdown",
   "metadata": {},
   "source": [
    "### Discount = Better sales/ratings?"
   ]
  },
  {
   "cell_type": "code",
   "execution_count": 32,
   "metadata": {},
   "outputs": [
    {
     "data": {
      "text/html": [
       "<div>\n",
       "<style scoped>\n",
       "    .dataframe tbody tr th:only-of-type {\n",
       "        vertical-align: middle;\n",
       "    }\n",
       "\n",
       "    .dataframe tbody tr th {\n",
       "        vertical-align: top;\n",
       "    }\n",
       "\n",
       "    .dataframe thead th {\n",
       "        text-align: right;\n",
       "    }\n",
       "</style>\n",
       "<table border=\"1\" class=\"dataframe\">\n",
       "  <thead>\n",
       "    <tr style=\"text-align: right;\">\n",
       "      <th></th>\n",
       "      <th>Warehouse_block</th>\n",
       "      <th>Mode_of_Shipment</th>\n",
       "      <th>Customer_care_calls</th>\n",
       "      <th>Customer_rating</th>\n",
       "      <th>Cost_of_the_Product</th>\n",
       "      <th>Prior_purchases</th>\n",
       "      <th>Product_importance</th>\n",
       "      <th>Gender</th>\n",
       "      <th>Discount_offered</th>\n",
       "      <th>Weight_in_gms</th>\n",
       "      <th>on_time</th>\n",
       "      <th>Percentage_discount</th>\n",
       "    </tr>\n",
       "  </thead>\n",
       "  <tbody>\n",
       "    <tr>\n",
       "      <th>0</th>\n",
       "      <td>D</td>\n",
       "      <td>Flight</td>\n",
       "      <td>4</td>\n",
       "      <td>2</td>\n",
       "      <td>177</td>\n",
       "      <td>3</td>\n",
       "      <td>low</td>\n",
       "      <td>F</td>\n",
       "      <td>44</td>\n",
       "      <td>1233</td>\n",
       "      <td>False</td>\n",
       "      <td>24.86</td>\n",
       "    </tr>\n",
       "    <tr>\n",
       "      <th>1</th>\n",
       "      <td>F</td>\n",
       "      <td>Flight</td>\n",
       "      <td>4</td>\n",
       "      <td>5</td>\n",
       "      <td>216</td>\n",
       "      <td>2</td>\n",
       "      <td>low</td>\n",
       "      <td>M</td>\n",
       "      <td>59</td>\n",
       "      <td>3088</td>\n",
       "      <td>False</td>\n",
       "      <td>27.31</td>\n",
       "    </tr>\n",
       "  </tbody>\n",
       "</table>\n",
       "</div>"
      ],
      "text/plain": [
       "  Warehouse_block Mode_of_Shipment  Customer_care_calls  Customer_rating  \\\n",
       "0               D           Flight                    4                2   \n",
       "1               F           Flight                    4                5   \n",
       "\n",
       "   Cost_of_the_Product  Prior_purchases Product_importance Gender  \\\n",
       "0                  177                3                low      F   \n",
       "1                  216                2                low      M   \n",
       "\n",
       "   Discount_offered  Weight_in_gms  on_time  Percentage_discount  \n",
       "0                44           1233    False                24.86  \n",
       "1                59           3088    False                27.31  "
      ]
     },
     "execution_count": 32,
     "metadata": {},
     "output_type": "execute_result"
    }
   ],
   "source": [
    "df.head(2)"
   ]
  },
  {
   "cell_type": "code",
   "execution_count": 33,
   "metadata": {},
   "outputs": [
    {
     "data": {
      "image/png": "[encoded data removed]",
      "text/plain": [
       "<Figure size 864x360 with 1 Axes>"
      ]
     },
     "metadata": {
      "needs_background": "light"
     },
     "output_type": "display_data"
    }
   ],
   "source": [
    "df['Discount_category'] = pd.cut(df['Percentage_discount'],bins=10)\n",
    "sales = df.groupby('Discount_category')['Cost_of_the_Product'].sum().reset_index()\n",
    "fig, ax = plt.subplots()\n",
    "fig.set_size_inches(12,5)\n",
    "sns.barplot(x = 'Discount_category', y = 'Cost_of_the_Product',data = sales)\n",
    "ax.set_yscale('log')\n",
    "ax.set_xlabel('Discount category (percentage)', size = 14)\n",
    "ax.set_ylabel('Cumulative sales amount', size = 14)\n",
    "ax.tick_params(axis='x', rotation=10)"
   ]
  },
  {
   "cell_type": "markdown",
   "metadata": {},
   "source": [
    "Large discount don't seem to drive overall sales for the company => Can focus on service standard rather than having big sales"
   ]
  },
  {
   "cell_type": "code",
   "execution_count": 34,
   "metadata": {},
   "outputs": [
    {
     "data": {
      "text/html": [
       "<div>\n",
       "<style scoped>\n",
       "    .dataframe tbody tr th:only-of-type {\n",
       "        vertical-align: middle;\n",
       "    }\n",
       "\n",
       "    .dataframe tbody tr th {\n",
       "        vertical-align: top;\n",
       "    }\n",
       "\n",
       "    .dataframe thead th {\n",
       "        text-align: right;\n",
       "    }\n",
       "</style>\n",
       "<table border=\"1\" class=\"dataframe\">\n",
       "  <thead>\n",
       "    <tr style=\"text-align: right;\">\n",
       "      <th></th>\n",
       "      <th>Gender</th>\n",
       "      <th>Discount_category_2</th>\n",
       "      <th>sum</th>\n",
       "      <th>count</th>\n",
       "      <th>proportion</th>\n",
       "    </tr>\n",
       "  </thead>\n",
       "  <tbody>\n",
       "    <tr>\n",
       "      <th>0</th>\n",
       "      <td>F</td>\n",
       "      <td>(0.257, 12.984]</td>\n",
       "      <td>970337</td>\n",
       "      <td>4544</td>\n",
       "      <td>82.0</td>\n",
       "    </tr>\n",
       "    <tr>\n",
       "      <th>1</th>\n",
       "      <td>F</td>\n",
       "      <td>(12.984, 25.648]</td>\n",
       "      <td>127081</td>\n",
       "      <td>617</td>\n",
       "      <td>11.0</td>\n",
       "    </tr>\n",
       "    <tr>\n",
       "      <th>2</th>\n",
       "      <td>F</td>\n",
       "      <td>(25.648, 38.312]</td>\n",
       "      <td>51188</td>\n",
       "      <td>297</td>\n",
       "      <td>5.0</td>\n",
       "    </tr>\n",
       "    <tr>\n",
       "      <th>3</th>\n",
       "      <td>F</td>\n",
       "      <td>(38.312, 50.976]</td>\n",
       "      <td>10965</td>\n",
       "      <td>80</td>\n",
       "      <td>1.0</td>\n",
       "    </tr>\n",
       "    <tr>\n",
       "      <th>4</th>\n",
       "      <td>F</td>\n",
       "      <td>(50.976, 63.64]</td>\n",
       "      <td>748</td>\n",
       "      <td>7</td>\n",
       "      <td>0.0</td>\n",
       "    </tr>\n",
       "    <tr>\n",
       "      <th>5</th>\n",
       "      <td>M</td>\n",
       "      <td>(0.257, 12.984]</td>\n",
       "      <td>976376</td>\n",
       "      <td>4533</td>\n",
       "      <td>83.0</td>\n",
       "    </tr>\n",
       "    <tr>\n",
       "      <th>6</th>\n",
       "      <td>M</td>\n",
       "      <td>(12.984, 25.648]</td>\n",
       "      <td>116328</td>\n",
       "      <td>557</td>\n",
       "      <td>10.0</td>\n",
       "    </tr>\n",
       "    <tr>\n",
       "      <th>7</th>\n",
       "      <td>M</td>\n",
       "      <td>(25.648, 38.312]</td>\n",
       "      <td>48754</td>\n",
       "      <td>288</td>\n",
       "      <td>5.0</td>\n",
       "    </tr>\n",
       "    <tr>\n",
       "      <th>8</th>\n",
       "      <td>M</td>\n",
       "      <td>(38.312, 50.976]</td>\n",
       "      <td>9204</td>\n",
       "      <td>67</td>\n",
       "      <td>1.0</td>\n",
       "    </tr>\n",
       "    <tr>\n",
       "      <th>9</th>\n",
       "      <td>M</td>\n",
       "      <td>(50.976, 63.64]</td>\n",
       "      <td>974</td>\n",
       "      <td>9</td>\n",
       "      <td>0.0</td>\n",
       "    </tr>\n",
       "  </tbody>\n",
       "</table>\n",
       "</div>"
      ],
      "text/plain": [
       "  Gender Discount_category_2     sum  count  proportion\n",
       "0      F     (0.257, 12.984]  970337   4544        82.0\n",
       "1      F    (12.984, 25.648]  127081    617        11.0\n",
       "2      F    (25.648, 38.312]   51188    297         5.0\n",
       "3      F    (38.312, 50.976]   10965     80         1.0\n",
       "4      F     (50.976, 63.64]     748      7         0.0\n",
       "5      M     (0.257, 12.984]  976376   4533        83.0\n",
       "6      M    (12.984, 25.648]  116328    557        10.0\n",
       "7      M    (25.648, 38.312]   48754    288         5.0\n",
       "8      M    (38.312, 50.976]    9204     67         1.0\n",
       "9      M     (50.976, 63.64]     974      9         0.0"
      ]
     },
     "execution_count": 34,
     "metadata": {},
     "output_type": "execute_result"
    }
   ],
   "source": [
    "df1 = df.copy()\n",
    "df1['Discount_category_2'] = pd.cut(df['Percentage_discount'],bins=5)\n",
    "sales_gender = df1.groupby(['Gender','Discount_category_2'], as_index=False)['Cost_of_the_Product'].agg(['sum','count'])\n",
    "sales_gender['proportion'] = sales_gender.groupby('Gender')['count'].apply(lambda x: (x/x.sum()).round(2)*100)\n",
    "sales_gender.reset_index(inplace=True)\n",
    "sales_gender"
   ]
  },
  {
   "cell_type": "code",
   "execution_count": 35,
   "metadata": {},
   "outputs": [
    {
     "data": {
      "text/plain": [
       "<matplotlib.legend.Legend at 0x2859c299df0>"
      ]
     },
     "execution_count": 35,
     "metadata": {},
     "output_type": "execute_result"
    },
    {
     "data": {
      "image/png": "[encoded data removed]",
      "text/plain": [
       "<Figure size 792x648 with 2 Axes>"
      ]
     },
     "metadata": {
      "needs_background": "light"
     },
     "output_type": "display_data"
    }
   ],
   "source": [
    "fig, axes = plt.subplots(2, figsize=(11, 9))\n",
    "ax1 = sns.barplot(ax = axes[0], x = 'Discount_category_2', y = 'sum', data = sales_gender, hue = 'Gender')\n",
    "ax1.set_title('Cumulative amount spent', size = 20, loc = 'Right')\n",
    "ax1.set_xlabel('')\n",
    "ax1.set_ylabel('Amount spent')\n",
    "ax2 = sns.barplot(ax = axes[1], x = 'Discount_category_2', y='count', data = sales_gender,hue = 'Gender')\n",
    "ax2.set_title('Customers', size = 20, loc = 'Right')\n",
    "ax2.set_xlabel('Discount category', size = 15)\n",
    "ax2.set_ylabel('Customer count')\n",
    "ax1.legend(bbox_to_anchor=(0.9, 0.9), loc=2, borderaxespad=0.)\n",
    "ax2.legend(bbox_to_anchor=(0.9, 0.9), loc=2, borderaxespad=0.)"
   ]
  },
  {
   "cell_type": "markdown",
   "metadata": {},
   "source": [
    "As observed, both genders have similar buying pattern regardless of discounts => No inclination to target a certain group for marketing purposes"
   ]
  },
  {
   "cell_type": "markdown",
   "metadata": {},
   "source": [
    "# Next Up:\n",
    "## Machine Learning\n",
    "We work on understanding whether we can accurately predict whether shipment will be on time"
   ]
  },
  {
   "cell_type": "markdown",
   "metadata": {},
   "source": [
    "## Feature Selection"
   ]
  },
  {
   "cell_type": "code",
   "execution_count": 36,
   "metadata": {},
   "outputs": [],
   "source": [
    "from sklearn.model_selection import train_test_split\n",
    "import numpy as np\n",
    "from sklearn.ensemble import RandomForestClassifier\n",
    "from sklearn.preprocessing import OneHotEncoder\n",
    "from sklearn.decomposition import PCA"
   ]
  },
  {
   "cell_type": "code",
   "execution_count": 37,
   "metadata": {},
   "outputs": [],
   "source": [
    "variables_to_transform = ['Warehouse_block', 'Mode_of_Shipment','Product_importance','Gender','on_time','Discount_category']\n",
    "df1 = df.copy()\n",
    "df1[variables_to_transform] = df[variables_to_transform].astype('category')\n",
    "df1[variables_to_transform] = df1[variables_to_transform].apply(lambda x: x.cat.codes, axis = 0)"
   ]
  },
  {
   "cell_type": "code",
   "execution_count": 38,
   "metadata": {},
   "outputs": [],
   "source": [
    "Features = df1.drop(['on_time'], axis = 1)\n",
    "Target = df1[['on_time']]"
   ]
  },
  {
   "cell_type": "markdown",
   "metadata": {},
   "source": [
    "#### Random forest"
   ]
  },
  {
   "cell_type": "code",
   "execution_count": 39,
   "metadata": {},
   "outputs": [],
   "source": [
    "forest = RandomForestClassifier(random_state=1)\n",
    "forest.fit(Features, Target)\n",
    "importance = forest.feature_importances_\n",
    "importance_df = pd.DataFrame()\n",
    "importance_df['feature'] = Features.columns\n",
    "importance_df['importance'] = importance\n",
    "rf_sorted_importance_df = importance_df.sort_values(['importance'], ascending=False)"
   ]
  },
  {
   "cell_type": "code",
   "execution_count": 40,
   "metadata": {},
   "outputs": [
    {
     "data": {
      "text/html": [
       "<div>\n",
       "<style scoped>\n",
       "    .dataframe tbody tr th:only-of-type {\n",
       "        vertical-align: middle;\n",
       "    }\n",
       "\n",
       "    .dataframe tbody tr th {\n",
       "        vertical-align: top;\n",
       "    }\n",
       "\n",
       "    .dataframe thead th {\n",
       "        text-align: right;\n",
       "    }\n",
       "</style>\n",
       "<table border=\"1\" class=\"dataframe\">\n",
       "  <thead>\n",
       "    <tr style=\"text-align: right;\">\n",
       "      <th></th>\n",
       "      <th>feature</th>\n",
       "      <th>importance</th>\n",
       "    </tr>\n",
       "  </thead>\n",
       "  <tbody>\n",
       "    <tr>\n",
       "      <th>9</th>\n",
       "      <td>Weight_in_gms</td>\n",
       "      <td>0.213967</td>\n",
       "    </tr>\n",
       "    <tr>\n",
       "      <th>10</th>\n",
       "      <td>Percentage_discount</td>\n",
       "      <td>0.173406</td>\n",
       "    </tr>\n",
       "    <tr>\n",
       "      <th>8</th>\n",
       "      <td>Discount_offered</td>\n",
       "      <td>0.152199</td>\n",
       "    </tr>\n",
       "    <tr>\n",
       "      <th>4</th>\n",
       "      <td>Cost_of_the_Product</td>\n",
       "      <td>0.137916</td>\n",
       "    </tr>\n",
       "    <tr>\n",
       "      <th>3</th>\n",
       "      <td>Customer_rating</td>\n",
       "      <td>0.051383</td>\n",
       "    </tr>\n",
       "    <tr>\n",
       "      <th>0</th>\n",
       "      <td>Warehouse_block</td>\n",
       "      <td>0.051279</td>\n",
       "    </tr>\n",
       "    <tr>\n",
       "      <th>5</th>\n",
       "      <td>Prior_purchases</td>\n",
       "      <td>0.050862</td>\n",
       "    </tr>\n",
       "    <tr>\n",
       "      <th>2</th>\n",
       "      <td>Customer_care_calls</td>\n",
       "      <td>0.048719</td>\n",
       "    </tr>\n",
       "    <tr>\n",
       "      <th>11</th>\n",
       "      <td>Discount_category</td>\n",
       "      <td>0.042087</td>\n",
       "    </tr>\n",
       "    <tr>\n",
       "      <th>1</th>\n",
       "      <td>Mode_of_Shipment</td>\n",
       "      <td>0.029182</td>\n",
       "    </tr>\n",
       "    <tr>\n",
       "      <th>6</th>\n",
       "      <td>Product_importance</td>\n",
       "      <td>0.027701</td>\n",
       "    </tr>\n",
       "    <tr>\n",
       "      <th>7</th>\n",
       "      <td>Gender</td>\n",
       "      <td>0.021299</td>\n",
       "    </tr>\n",
       "  </tbody>\n",
       "</table>\n",
       "</div>"
      ],
      "text/plain": [
       "                feature  importance\n",
       "9         Weight_in_gms    0.213967\n",
       "10  Percentage_discount    0.173406\n",
       "8      Discount_offered    0.152199\n",
       "4   Cost_of_the_Product    0.137916\n",
       "3       Customer_rating    0.051383\n",
       "0       Warehouse_block    0.051279\n",
       "5       Prior_purchases    0.050862\n",
       "2   Customer_care_calls    0.048719\n",
       "11    Discount_category    0.042087\n",
       "1      Mode_of_Shipment    0.029182\n",
       "6    Product_importance    0.027701\n",
       "7                Gender    0.021299"
      ]
     },
     "execution_count": 40,
     "metadata": {},
     "output_type": "execute_result"
    }
   ],
   "source": [
    "rf_sorted_importance_df.sort_values('importance', ascending=False)"
   ]
  },
  {
   "cell_type": "markdown",
   "metadata": {},
   "source": [
    "#### PCA"
   ]
  },
  {
   "cell_type": "code",
   "execution_count": 41,
   "metadata": {},
   "outputs": [
    {
     "name": "stdout",
     "output_type": "stream",
     "text": [
      "Explained variance by the components 1 and 2 are [0.999 0.001] respectively\n"
     ]
    }
   ],
   "source": [
    "pca = PCA(n_components=2)\n",
    "pca.fit_transform(Features)\n",
    "explained_variance = pca.explained_variance_ratio_\n",
    "print('Explained variance by the components 1 and 2 are {} respectively'.format(explained_variance.round(3)))\n",
    "loadings = pd.DataFrame(pca.components_.T, columns=['PC1', 'PC2'], index=Features.columns)"
   ]
  },
  {
   "cell_type": "code",
   "execution_count": 42,
   "metadata": {},
   "outputs": [
    {
     "data": {
      "text/html": [
       "<div>\n",
       "<style scoped>\n",
       "    .dataframe tbody tr th:only-of-type {\n",
       "        vertical-align: middle;\n",
       "    }\n",
       "\n",
       "    .dataframe tbody tr th {\n",
       "        vertical-align: top;\n",
       "    }\n",
       "\n",
       "    .dataframe thead th {\n",
       "        text-align: right;\n",
       "    }\n",
       "</style>\n",
       "<table border=\"1\" class=\"dataframe\">\n",
       "  <thead>\n",
       "    <tr style=\"text-align: right;\">\n",
       "      <th></th>\n",
       "      <th>PC1</th>\n",
       "      <th>PC2</th>\n",
       "    </tr>\n",
       "  </thead>\n",
       "  <tbody>\n",
       "    <tr>\n",
       "      <th>Weight_in_gms</th>\n",
       "      <td>0.990</td>\n",
       "      <td>0.003</td>\n",
       "    </tr>\n",
       "    <tr>\n",
       "      <th>Cost_of_the_Product</th>\n",
       "      <td>0.004</td>\n",
       "      <td>0.849</td>\n",
       "    </tr>\n",
       "    <tr>\n",
       "      <th>Discount_offered</th>\n",
       "      <td>0.004</td>\n",
       "      <td>0.064</td>\n",
       "    </tr>\n",
       "    <tr>\n",
       "      <th>Percentage_discount</th>\n",
       "      <td>0.002</td>\n",
       "      <td>0.065</td>\n",
       "    </tr>\n",
       "    <tr>\n",
       "      <th>Discount_category</th>\n",
       "      <td>0.000</td>\n",
       "      <td>0.009</td>\n",
       "    </tr>\n",
       "    <tr>\n",
       "      <th>Customer_care_calls</th>\n",
       "      <td>0.000</td>\n",
       "      <td>0.006</td>\n",
       "    </tr>\n",
       "    <tr>\n",
       "      <th>Prior_purchases</th>\n",
       "      <td>0.000</td>\n",
       "      <td>0.003</td>\n",
       "    </tr>\n",
       "    <tr>\n",
       "      <th>Warehouse_block</th>\n",
       "      <td>0.000</td>\n",
       "      <td>0.000</td>\n",
       "    </tr>\n",
       "    <tr>\n",
       "      <th>Mode_of_Shipment</th>\n",
       "      <td>0.000</td>\n",
       "      <td>0.000</td>\n",
       "    </tr>\n",
       "    <tr>\n",
       "      <th>Customer_rating</th>\n",
       "      <td>0.000</td>\n",
       "      <td>0.000</td>\n",
       "    </tr>\n",
       "    <tr>\n",
       "      <th>Product_importance</th>\n",
       "      <td>0.000</td>\n",
       "      <td>0.000</td>\n",
       "    </tr>\n",
       "    <tr>\n",
       "      <th>Gender</th>\n",
       "      <td>0.000</td>\n",
       "      <td>0.000</td>\n",
       "    </tr>\n",
       "  </tbody>\n",
       "</table>\n",
       "</div>"
      ],
      "text/plain": [
       "                       PC1    PC2\n",
       "Weight_in_gms        0.990  0.003\n",
       "Cost_of_the_Product  0.004  0.849\n",
       "Discount_offered     0.004  0.064\n",
       "Percentage_discount  0.002  0.065\n",
       "Discount_category    0.000  0.009\n",
       "Customer_care_calls  0.000  0.006\n",
       "Prior_purchases      0.000  0.003\n",
       "Warehouse_block      0.000  0.000\n",
       "Mode_of_Shipment     0.000  0.000\n",
       "Customer_rating      0.000  0.000\n",
       "Product_importance   0.000  0.000\n",
       "Gender               0.000  0.000"
      ]
     },
     "execution_count": 42,
     "metadata": {},
     "output_type": "execute_result"
    }
   ],
   "source": [
    "pca_best = loadings.apply(lambda x: (abs(x)/abs(x).sum()).round(3), axis = 0).sort_values(['PC1','PC2'], ascending = False)\n",
    "pca_best"
   ]
  },
  {
   "cell_type": "code",
   "execution_count": 43,
   "metadata": {},
   "outputs": [
    {
     "name": "stdout",
     "output_type": "stream",
     "text": [
      "Random Forest top variables: ['Weight_in_gms', 'Percentage_discount', 'Discount_offered', 'Cost_of_the_Product', 'Customer_rating', 'Warehouse_block']\n",
      "PCA top variables ['Weight_in_gms', 'Cost_of_the_Product', 'Discount_offered', 'Percentage_discount', 'Discount_category', 'Customer_care_calls']\n",
      "\n",
      "Top features according to the 2 methods: ['Weight_in_gms', 'Percentage_discount', 'Discount_offered', 'Cost_of_the_Product', 'Customer_rating', 'Warehouse_block', 'Discount_category', 'Customer_care_calls']\n"
     ]
    }
   ],
   "source": [
    "first_list = list(rf_sorted_importance_df['feature'])[0:6]\n",
    "print('Random Forest top variables: {}'.format(first_list))\n",
    "second_list = list(pca_best.index)[0:6]\n",
    "print('PCA top variables {}'.format(second_list))\n",
    "\n",
    "resultList= first_list + list(set(second_list) -set(first_list))\n",
    "print('\\nTop features according to the 2 methods: {}'.format(resultList))"
   ]
  },
  {
   "cell_type": "markdown",
   "metadata": {},
   "source": [
    "We observe that best features above. However, we can consider all variables here since the dataset is not too big and won't be computationally too expensive. \n"
   ]
  },
  {
   "cell_type": "markdown",
   "metadata": {},
   "source": [
    "## Handling dataset for ML models"
   ]
  },
  {
   "cell_type": "code",
   "execution_count": null,
   "metadata": {},
   "outputs": [
    {
     "data": {
      "text/html": [
       "<div>\n",
       "<style scoped>\n",
       "    .dataframe tbody tr th:only-of-type {\n",
       "        vertical-align: middle;\n",
       "    }\n",
       "\n",
       "    .dataframe tbody tr th {\n",
       "        vertical-align: top;\n",
       "    }\n",
       "\n",
       "    .dataframe thead th {\n",
       "        text-align: right;\n",
       "    }\n",
       "</style>\n",
       "<table border=\"1\" class=\"dataframe\">\n",
       "  <thead>\n",
       "    <tr style=\"text-align: right;\">\n",
       "      <th></th>\n",
       "      <th>Customer_care_calls</th>\n",
       "      <th>Cost_of_the_Product</th>\n",
       "      <th>Prior_purchases</th>\n",
       "      <th>Discount_offered</th>\n",
       "      <th>Weight_in_gms</th>\n",
       "      <th>on_time</th>\n",
       "      <th>Percentage_discount</th>\n",
       "      <th>Warehouse_block_A</th>\n",
       "      <th>Warehouse_block_B</th>\n",
       "      <th>Warehouse_block_C</th>\n",
       "      <th>Warehouse_block_D</th>\n",
       "      <th>Warehouse_block_F</th>\n",
       "      <th>Mode_of_Shipment_Flight</th>\n",
       "      <th>Mode_of_Shipment_Road</th>\n",
       "      <th>Mode_of_Shipment_Ship</th>\n",
       "      <th>Customer_rating_1</th>\n",
       "      <th>Customer_rating_2</th>\n",
       "      <th>Customer_rating_3</th>\n",
       "      <th>Customer_rating_4</th>\n",
       "      <th>Customer_rating_5</th>\n",
       "      <th>Product_importance_high</th>\n",
       "      <th>Product_importance_low</th>\n",
       "      <th>Product_importance_medium</th>\n",
       "      <th>Gender_F</th>\n",
       "      <th>Gender_M</th>\n",
       "      <th>Discount_category_(0.257, 6.652]</th>\n",
       "      <th>Discount_category_(6.652, 12.984]</th>\n",
       "      <th>Discount_category_(12.984, 19.316]</th>\n",
       "      <th>Discount_category_(19.316, 25.648]</th>\n",
       "      <th>Discount_category_(25.648, 31.98]</th>\n",
       "      <th>Discount_category_(31.98, 38.312]</th>\n",
       "      <th>Discount_category_(38.312, 44.644]</th>\n",
       "      <th>Discount_category_(44.644, 50.976]</th>\n",
       "      <th>Discount_category_(50.976, 57.308]</th>\n",
       "      <th>Discount_category_(57.308, 63.64]</th>\n",
       "    </tr>\n",
       "  </thead>\n",
       "  <tbody>\n",
       "    <tr>\n",
       "      <th>0</th>\n",
       "      <td>4</td>\n",
       "      <td>177</td>\n",
       "      <td>3</td>\n",
       "      <td>44</td>\n",
       "      <td>1233</td>\n",
       "      <td>False</td>\n",
       "      <td>24.86</td>\n",
       "      <td>0</td>\n",
       "      <td>0</td>\n",
       "      <td>0</td>\n",
       "      <td>1</td>\n",
       "      <td>0</td>\n",
       "      <td>1</td>\n",
       "      <td>0</td>\n",
       "      <td>0</td>\n",
       "      <td>0</td>\n",
       "      <td>1</td>\n",
       "      <td>0</td>\n",
       "      <td>0</td>\n",
       "      <td>0</td>\n",
       "      <td>0</td>\n",
       "      <td>1</td>\n",
       "      <td>0</td>\n",
       "      <td>1</td>\n",
       "      <td>0</td>\n",
       "      <td>0</td>\n",
       "      <td>0</td>\n",
       "      <td>0</td>\n",
       "      <td>1</td>\n",
       "      <td>0</td>\n",
       "      <td>0</td>\n",
       "      <td>0</td>\n",
       "      <td>0</td>\n",
       "      <td>0</td>\n",
       "      <td>0</td>\n",
       "    </tr>\n",
       "    <tr>\n",
       "      <th>1</th>\n",
       "      <td>4</td>\n",
       "      <td>216</td>\n",
       "      <td>2</td>\n",
       "      <td>59</td>\n",
       "      <td>3088</td>\n",
       "      <td>False</td>\n",
       "      <td>27.31</td>\n",
       "      <td>0</td>\n",
       "      <td>0</td>\n",
       "      <td>0</td>\n",
       "      <td>0</td>\n",
       "      <td>1</td>\n",
       "      <td>1</td>\n",
       "      <td>0</td>\n",
       "      <td>0</td>\n",
       "      <td>0</td>\n",
       "      <td>0</td>\n",
       "      <td>0</td>\n",
       "      <td>0</td>\n",
       "      <td>1</td>\n",
       "      <td>0</td>\n",
       "      <td>1</td>\n",
       "      <td>0</td>\n",
       "      <td>0</td>\n",
       "      <td>1</td>\n",
       "      <td>0</td>\n",
       "      <td>0</td>\n",
       "      <td>0</td>\n",
       "      <td>0</td>\n",
       "      <td>1</td>\n",
       "      <td>0</td>\n",
       "      <td>0</td>\n",
       "      <td>0</td>\n",
       "      <td>0</td>\n",
       "      <td>0</td>\n",
       "    </tr>\n",
       "    <tr>\n",
       "      <th>2</th>\n",
       "      <td>2</td>\n",
       "      <td>183</td>\n",
       "      <td>4</td>\n",
       "      <td>48</td>\n",
       "      <td>3374</td>\n",
       "      <td>False</td>\n",
       "      <td>26.23</td>\n",
       "      <td>1</td>\n",
       "      <td>0</td>\n",
       "      <td>0</td>\n",
       "      <td>0</td>\n",
       "      <td>0</td>\n",
       "      <td>1</td>\n",
       "      <td>0</td>\n",
       "      <td>0</td>\n",
       "      <td>0</td>\n",
       "      <td>1</td>\n",
       "      <td>0</td>\n",
       "      <td>0</td>\n",
       "      <td>0</td>\n",
       "      <td>0</td>\n",
       "      <td>1</td>\n",
       "      <td>0</td>\n",
       "      <td>0</td>\n",
       "      <td>1</td>\n",
       "      <td>0</td>\n",
       "      <td>0</td>\n",
       "      <td>0</td>\n",
       "      <td>0</td>\n",
       "      <td>1</td>\n",
       "      <td>0</td>\n",
       "      <td>0</td>\n",
       "      <td>0</td>\n",
       "      <td>0</td>\n",
       "      <td>0</td>\n",
       "    </tr>\n",
       "    <tr>\n",
       "      <th>3</th>\n",
       "      <td>3</td>\n",
       "      <td>176</td>\n",
       "      <td>4</td>\n",
       "      <td>10</td>\n",
       "      <td>1177</td>\n",
       "      <td>False</td>\n",
       "      <td>5.68</td>\n",
       "      <td>0</td>\n",
       "      <td>1</td>\n",
       "      <td>0</td>\n",
       "      <td>0</td>\n",
       "      <td>0</td>\n",
       "      <td>1</td>\n",
       "      <td>0</td>\n",
       "      <td>0</td>\n",
       "      <td>0</td>\n",
       "      <td>0</td>\n",
       "      <td>1</td>\n",
       "      <td>0</td>\n",
       "      <td>0</td>\n",
       "      <td>0</td>\n",
       "      <td>0</td>\n",
       "      <td>1</td>\n",
       "      <td>0</td>\n",
       "      <td>1</td>\n",
       "      <td>1</td>\n",
       "      <td>0</td>\n",
       "      <td>0</td>\n",
       "      <td>0</td>\n",
       "      <td>0</td>\n",
       "      <td>0</td>\n",
       "      <td>0</td>\n",
       "      <td>0</td>\n",
       "      <td>0</td>\n",
       "      <td>0</td>\n",
       "    </tr>\n",
       "    <tr>\n",
       "      <th>4</th>\n",
       "      <td>2</td>\n",
       "      <td>184</td>\n",
       "      <td>3</td>\n",
       "      <td>46</td>\n",
       "      <td>2484</td>\n",
       "      <td>False</td>\n",
       "      <td>25.00</td>\n",
       "      <td>0</td>\n",
       "      <td>0</td>\n",
       "      <td>1</td>\n",
       "      <td>0</td>\n",
       "      <td>0</td>\n",
       "      <td>1</td>\n",
       "      <td>0</td>\n",
       "      <td>0</td>\n",
       "      <td>0</td>\n",
       "      <td>1</td>\n",
       "      <td>0</td>\n",
       "      <td>0</td>\n",
       "      <td>0</td>\n",
       "      <td>0</td>\n",
       "      <td>0</td>\n",
       "      <td>1</td>\n",
       "      <td>1</td>\n",
       "      <td>0</td>\n",
       "      <td>0</td>\n",
       "      <td>0</td>\n",
       "      <td>0</td>\n",
       "      <td>1</td>\n",
       "      <td>0</td>\n",
       "      <td>0</td>\n",
       "      <td>0</td>\n",
       "      <td>0</td>\n",
       "      <td>0</td>\n",
       "      <td>0</td>\n",
       "    </tr>\n",
       "    <tr>\n",
       "      <th>...</th>\n",
       "      <td>...</td>\n",
       "      <td>...</td>\n",
       "      <td>...</td>\n",
       "      <td>...</td>\n",
       "      <td>...</td>\n",
       "      <td>...</td>\n",
       "      <td>...</td>\n",
       "      <td>...</td>\n",
       "      <td>...</td>\n",
       "      <td>...</td>\n",
       "      <td>...</td>\n",
       "      <td>...</td>\n",
       "      <td>...</td>\n",
       "      <td>...</td>\n",
       "      <td>...</td>\n",
       "      <td>...</td>\n",
       "      <td>...</td>\n",
       "      <td>...</td>\n",
       "      <td>...</td>\n",
       "      <td>...</td>\n",
       "      <td>...</td>\n",
       "      <td>...</td>\n",
       "      <td>...</td>\n",
       "      <td>...</td>\n",
       "      <td>...</td>\n",
       "      <td>...</td>\n",
       "      <td>...</td>\n",
       "      <td>...</td>\n",
       "      <td>...</td>\n",
       "      <td>...</td>\n",
       "      <td>...</td>\n",
       "      <td>...</td>\n",
       "      <td>...</td>\n",
       "      <td>...</td>\n",
       "      <td>...</td>\n",
       "    </tr>\n",
       "    <tr>\n",
       "      <th>10994</th>\n",
       "      <td>4</td>\n",
       "      <td>252</td>\n",
       "      <td>5</td>\n",
       "      <td>1</td>\n",
       "      <td>1538</td>\n",
       "      <td>False</td>\n",
       "      <td>0.40</td>\n",
       "      <td>1</td>\n",
       "      <td>0</td>\n",
       "      <td>0</td>\n",
       "      <td>0</td>\n",
       "      <td>0</td>\n",
       "      <td>0</td>\n",
       "      <td>0</td>\n",
       "      <td>1</td>\n",
       "      <td>1</td>\n",
       "      <td>0</td>\n",
       "      <td>0</td>\n",
       "      <td>0</td>\n",
       "      <td>0</td>\n",
       "      <td>0</td>\n",
       "      <td>0</td>\n",
       "      <td>1</td>\n",
       "      <td>1</td>\n",
       "      <td>0</td>\n",
       "      <td>1</td>\n",
       "      <td>0</td>\n",
       "      <td>0</td>\n",
       "      <td>0</td>\n",
       "      <td>0</td>\n",
       "      <td>0</td>\n",
       "      <td>0</td>\n",
       "      <td>0</td>\n",
       "      <td>0</td>\n",
       "      <td>0</td>\n",
       "    </tr>\n",
       "    <tr>\n",
       "      <th>10995</th>\n",
       "      <td>4</td>\n",
       "      <td>232</td>\n",
       "      <td>5</td>\n",
       "      <td>6</td>\n",
       "      <td>1247</td>\n",
       "      <td>True</td>\n",
       "      <td>2.59</td>\n",
       "      <td>0</td>\n",
       "      <td>1</td>\n",
       "      <td>0</td>\n",
       "      <td>0</td>\n",
       "      <td>0</td>\n",
       "      <td>0</td>\n",
       "      <td>0</td>\n",
       "      <td>1</td>\n",
       "      <td>1</td>\n",
       "      <td>0</td>\n",
       "      <td>0</td>\n",
       "      <td>0</td>\n",
       "      <td>0</td>\n",
       "      <td>0</td>\n",
       "      <td>0</td>\n",
       "      <td>1</td>\n",
       "      <td>1</td>\n",
       "      <td>0</td>\n",
       "      <td>1</td>\n",
       "      <td>0</td>\n",
       "      <td>0</td>\n",
       "      <td>0</td>\n",
       "      <td>0</td>\n",
       "      <td>0</td>\n",
       "      <td>0</td>\n",
       "      <td>0</td>\n",
       "      <td>0</td>\n",
       "      <td>0</td>\n",
       "    </tr>\n",
       "    <tr>\n",
       "      <th>10996</th>\n",
       "      <td>5</td>\n",
       "      <td>242</td>\n",
       "      <td>5</td>\n",
       "      <td>4</td>\n",
       "      <td>1155</td>\n",
       "      <td>True</td>\n",
       "      <td>1.65</td>\n",
       "      <td>0</td>\n",
       "      <td>0</td>\n",
       "      <td>1</td>\n",
       "      <td>0</td>\n",
       "      <td>0</td>\n",
       "      <td>0</td>\n",
       "      <td>0</td>\n",
       "      <td>1</td>\n",
       "      <td>0</td>\n",
       "      <td>0</td>\n",
       "      <td>0</td>\n",
       "      <td>1</td>\n",
       "      <td>0</td>\n",
       "      <td>0</td>\n",
       "      <td>1</td>\n",
       "      <td>0</td>\n",
       "      <td>1</td>\n",
       "      <td>0</td>\n",
       "      <td>1</td>\n",
       "      <td>0</td>\n",
       "      <td>0</td>\n",
       "      <td>0</td>\n",
       "      <td>0</td>\n",
       "      <td>0</td>\n",
       "      <td>0</td>\n",
       "      <td>0</td>\n",
       "      <td>0</td>\n",
       "      <td>0</td>\n",
       "    </tr>\n",
       "    <tr>\n",
       "      <th>10997</th>\n",
       "      <td>5</td>\n",
       "      <td>223</td>\n",
       "      <td>6</td>\n",
       "      <td>2</td>\n",
       "      <td>1210</td>\n",
       "      <td>True</td>\n",
       "      <td>0.90</td>\n",
       "      <td>0</td>\n",
       "      <td>0</td>\n",
       "      <td>0</td>\n",
       "      <td>0</td>\n",
       "      <td>1</td>\n",
       "      <td>0</td>\n",
       "      <td>0</td>\n",
       "      <td>1</td>\n",
       "      <td>0</td>\n",
       "      <td>1</td>\n",
       "      <td>0</td>\n",
       "      <td>0</td>\n",
       "      <td>0</td>\n",
       "      <td>0</td>\n",
       "      <td>0</td>\n",
       "      <td>1</td>\n",
       "      <td>0</td>\n",
       "      <td>1</td>\n",
       "      <td>1</td>\n",
       "      <td>0</td>\n",
       "      <td>0</td>\n",
       "      <td>0</td>\n",
       "      <td>0</td>\n",
       "      <td>0</td>\n",
       "      <td>0</td>\n",
       "      <td>0</td>\n",
       "      <td>0</td>\n",
       "      <td>0</td>\n",
       "    </tr>\n",
       "    <tr>\n",
       "      <th>10998</th>\n",
       "      <td>2</td>\n",
       "      <td>155</td>\n",
       "      <td>5</td>\n",
       "      <td>6</td>\n",
       "      <td>1639</td>\n",
       "      <td>True</td>\n",
       "      <td>3.87</td>\n",
       "      <td>0</td>\n",
       "      <td>0</td>\n",
       "      <td>0</td>\n",
       "      <td>1</td>\n",
       "      <td>0</td>\n",
       "      <td>0</td>\n",
       "      <td>0</td>\n",
       "      <td>1</td>\n",
       "      <td>0</td>\n",
       "      <td>0</td>\n",
       "      <td>0</td>\n",
       "      <td>0</td>\n",
       "      <td>1</td>\n",
       "      <td>0</td>\n",
       "      <td>1</td>\n",
       "      <td>0</td>\n",
       "      <td>1</td>\n",
       "      <td>0</td>\n",
       "      <td>1</td>\n",
       "      <td>0</td>\n",
       "      <td>0</td>\n",
       "      <td>0</td>\n",
       "      <td>0</td>\n",
       "      <td>0</td>\n",
       "      <td>0</td>\n",
       "      <td>0</td>\n",
       "      <td>0</td>\n",
       "      <td>0</td>\n",
       "    </tr>\n",
       "  </tbody>\n",
       "</table>\n",
       "<p>10999 rows × 35 columns</p>\n",
       "</div>"
      ],
      "text/plain": [
       "       Customer_care_calls  Cost_of_the_Product  Prior_purchases  \\\n",
       "0                        4                  177                3   \n",
       "1                        4                  216                2   \n",
       "2                        2                  183                4   \n",
       "3                        3                  176                4   \n",
       "4                        2                  184                3   \n",
       "...                    ...                  ...              ...   \n",
       "10994                    4                  252                5   \n",
       "10995                    4                  232                5   \n",
       "10996                    5                  242                5   \n",
       "10997                    5                  223                6   \n",
       "10998                    2                  155                5   \n",
       "\n",
       "       Discount_offered  Weight_in_gms  on_time  Percentage_discount  \\\n",
       "0                    44           1233    False                24.86   \n",
       "1                    59           3088    False                27.31   \n",
       "2                    48           3374    False                26.23   \n",
       "3                    10           1177    False                 5.68   \n",
       "4                    46           2484    False                25.00   \n",
       "...                 ...            ...      ...                  ...   \n",
       "10994                 1           1538    False                 0.40   \n",
       "10995                 6           1247     True                 2.59   \n",
       "10996                 4           1155     True                 1.65   \n",
       "10997                 2           1210     True                 0.90   \n",
       "10998                 6           1639     True                 3.87   \n",
       "\n",
       "       Warehouse_block_A  Warehouse_block_B  Warehouse_block_C  \\\n",
       "0                      0                  0                  0   \n",
       "1                      0                  0                  0   \n",
       "2                      1                  0                  0   \n",
       "3                      0                  1                  0   \n",
       "4                      0                  0                  1   \n",
       "...                  ...                ...                ...   \n",
       "10994                  1                  0                  0   \n",
       "10995                  0                  1                  0   \n",
       "10996                  0                  0                  1   \n",
       "10997                  0                  0                  0   \n",
       "10998                  0                  0                  0   \n",
       "\n",
       "       Warehouse_block_D  Warehouse_block_F  Mode_of_Shipment_Flight  \\\n",
       "0                      1                  0                        1   \n",
       "1                      0                  1                        1   \n",
       "2                      0                  0                        1   \n",
       "3                      0                  0                        1   \n",
       "4                      0                  0                        1   \n",
       "...                  ...                ...                      ...   \n",
       "10994                  0                  0                        0   \n",
       "10995                  0                  0                        0   \n",
       "10996                  0                  0                        0   \n",
       "10997                  0                  1                        0   \n",
       "10998                  1                  0                        0   \n",
       "\n",
       "       Mode_of_Shipment_Road  Mode_of_Shipment_Ship  Customer_rating_1  \\\n",
       "0                          0                      0                  0   \n",
       "1                          0                      0                  0   \n",
       "2                          0                      0                  0   \n",
       "3                          0                      0                  0   \n",
       "4                          0                      0                  0   \n",
       "...                      ...                    ...                ...   \n",
       "10994                      0                      1                  1   \n",
       "10995                      0                      1                  1   \n",
       "10996                      0                      1                  0   \n",
       "10997                      0                      1                  0   \n",
       "10998                      0                      1                  0   \n",
       "\n",
       "       Customer_rating_2  Customer_rating_3  Customer_rating_4  \\\n",
       "0                      1                  0                  0   \n",
       "1                      0                  0                  0   \n",
       "2                      1                  0                  0   \n",
       "3                      0                  1                  0   \n",
       "4                      1                  0                  0   \n",
       "...                  ...                ...                ...   \n",
       "10994                  0                  0                  0   \n",
       "10995                  0                  0                  0   \n",
       "10996                  0                  0                  1   \n",
       "10997                  1                  0                  0   \n",
       "10998                  0                  0                  0   \n",
       "\n",
       "       Customer_rating_5  Product_importance_high  Product_importance_low  \\\n",
       "0                      0                        0                       1   \n",
       "1                      1                        0                       1   \n",
       "2                      0                        0                       1   \n",
       "3                      0                        0                       0   \n",
       "4                      0                        0                       0   \n",
       "...                  ...                      ...                     ...   \n",
       "10994                  0                        0                       0   \n",
       "10995                  0                        0                       0   \n",
       "10996                  0                        0                       1   \n",
       "10997                  0                        0                       0   \n",
       "10998                  1                        0                       1   \n",
       "\n",
       "       Product_importance_medium  Gender_F  Gender_M  \\\n",
       "0                              0         1         0   \n",
       "1                              0         0         1   \n",
       "2                              0         0         1   \n",
       "3                              1         0         1   \n",
       "4                              1         1         0   \n",
       "...                          ...       ...       ...   \n",
       "10994                          1         1         0   \n",
       "10995                          1         1         0   \n",
       "10996                          0         1         0   \n",
       "10997                          1         0         1   \n",
       "10998                          0         1         0   \n",
       "\n",
       "       Discount_category_(0.257, 6.652]  Discount_category_(6.652, 12.984]  \\\n",
       "0                                     0                                  0   \n",
       "1                                     0                                  0   \n",
       "2                                     0                                  0   \n",
       "3                                     1                                  0   \n",
       "4                                     0                                  0   \n",
       "...                                 ...                                ...   \n",
       "10994                                 1                                  0   \n",
       "10995                                 1                                  0   \n",
       "10996                                 1                                  0   \n",
       "10997                                 1                                  0   \n",
       "10998                                 1                                  0   \n",
       "\n",
       "       Discount_category_(12.984, 19.316]  Discount_category_(19.316, 25.648]  \\\n",
       "0                                       0                                   1   \n",
       "1                                       0                                   0   \n",
       "2                                       0                                   0   \n",
       "3                                       0                                   0   \n",
       "4                                       0                                   1   \n",
       "...                                   ...                                 ...   \n",
       "10994                                   0                                   0   \n",
       "10995                                   0                                   0   \n",
       "10996                                   0                                   0   \n",
       "10997                                   0                                   0   \n",
       "10998                                   0                                   0   \n",
       "\n",
       "       Discount_category_(25.648, 31.98]  Discount_category_(31.98, 38.312]  \\\n",
       "0                                      0                                  0   \n",
       "1                                      1                                  0   \n",
       "2                                      1                                  0   \n",
       "3                                      0                                  0   \n",
       "4                                      0                                  0   \n",
       "...                                  ...                                ...   \n",
       "10994                                  0                                  0   \n",
       "10995                                  0                                  0   \n",
       "10996                                  0                                  0   \n",
       "10997                                  0                                  0   \n",
       "10998                                  0                                  0   \n",
       "\n",
       "       Discount_category_(38.312, 44.644]  Discount_category_(44.644, 50.976]  \\\n",
       "0                                       0                                   0   \n",
       "1                                       0                                   0   \n",
       "2                                       0                                   0   \n",
       "3                                       0                                   0   \n",
       "4                                       0                                   0   \n",
       "...                                   ...                                 ...   \n",
       "10994                                   0                                   0   \n",
       "10995                                   0                                   0   \n",
       "10996                                   0                                   0   \n",
       "10997                                   0                                   0   \n",
       "10998                                   0                                   0   \n",
       "\n",
       "       Discount_category_(50.976, 57.308]  Discount_category_(57.308, 63.64]  \n",
       "0                                       0                                  0  \n",
       "1                                       0                                  0  \n",
       "2                                       0                                  0  \n",
       "3                                       0                                  0  \n",
       "4                                       0                                  0  \n",
       "...                                   ...                                ...  \n",
       "10994                                   0                                  0  \n",
       "10995                                   0                                  0  \n",
       "10996                                   0                                  0  \n",
       "10997                                   0                                  0  \n",
       "10998                                   0                                  0  \n",
       "\n",
       "[10999 rows x 35 columns]"
      ]
     },
     "execution_count": 46,
     "metadata": {},
     "output_type": "execute_result"
    }
   ],
   "source": [
    "dummy_cols = cateogrical_variables + list(set(variables_to_transform) -set(cateogrical_variables))\n",
    "dummy_cols.remove('on_time')\n",
    "dft = df.copy()\n",
    "dft = pd.get_dummies(dft, columns = dummy_cols)\n",
    "dft.head(3)"
   ]
  },
  {
   "cell_type": "code",
   "execution_count": null,
   "metadata": {},
   "outputs": [],
   "source": [
    "Features = dft.drop(['on_time'], axis = 1)\n",
    "Target = dft[['on_time']]\n",
    "X_train, X_test, y_train, y_test = train_test_split(Features, Target, test_size=0.20, random_state=1)"
   ]
  },
  {
   "cell_type": "code",
   "execution_count": null,
   "metadata": {},
   "outputs": [],
   "source": [
    "from sklearn.preprocessing import StandardScaler\n",
    "continuous_variables.append('Percentage_discount')\n",
    "\n",
    "scaler = StandardScaler()\n",
    "X_train[continuous_variables] = scaler.fit_transform(X_train[continuous_variables])\n",
    "X_test[continuous_variables] = scaler.transform(X_test[continuous_variables])"
   ]
  },
  {
   "cell_type": "code",
   "execution_count": null,
   "metadata": {},
   "outputs": [],
   "source": [
    "X_test, X_val, y_test, y_val = train_test_split(X_test, y_test, test_size=0.50, random_state=1)"
   ]
  },
  {
   "cell_type": "code",
   "execution_count": null,
   "metadata": {},
   "outputs": [],
   "source": [
    "from sklearn.linear_model import LogisticRegression\n",
    "from sklearn.svm import SVC\n",
    "from sklearn.neighbors import KNeighborsClassifier\n",
    "from sklearn.model_selection import cross_val_score\n",
    "from sklearn.naive_bayes import GaussianNB\n",
    "from sklearn.tree import DecisionTreeClassifier\n",
    "from sklearn.ensemble import GradientBoostingClassifier\n",
    "import plotly.express as px\n",
    "from sklearn.metrics import roc_auc_score\n",
    "from sklearn.metrics import accuracy_score\n",
    "from sklearn.model_selection import GridSearchCV"
   ]
  },
  {
   "cell_type": "markdown",
   "metadata": {},
   "source": [
    "#### Checking best number of neighbours to use for KNN"
   ]
  },
  {
   "cell_type": "code",
   "execution_count": null,
   "metadata": {},
   "outputs": [
    {
     "data": {
      "application/vnd.plotly.v1+json": {
       "config": {
        "plotlyServerURL": "https://plot.ly"
       },
       "data": [
        {
         "hovertemplate": "index=%{x}<br>accuracy=%{y}<extra></extra>",
         "legendgroup": "",
         "line": {
          "color": "#636efa",
          "dash": "solid"
         },
         "marker": {
          "symbol": "circle"
         },
         "mode": "lines",
         "name": "",
         "orientation": "v",
         "showlegend": false,
         "type": "scatter",
         "x": [
          0,
          1,
          2,
          3,
          4,
          5,
          6,
          7,
          8,
          9,
          10,
          11,
          12,
          13,
          14,
          15,
          16,
          17,
          18,
          19,
          20,
          21,
          22,
          23,
          24,
          25,
          26,
          27,
          28,
          29,
          30,
          31,
          32,
          33,
          34,
          35,
          36,
          37,
          38,
          39,
          40,
          41,
          42,
          43,
          44,
          45,
          46,
          47,
          48,
          49,
          50,
          51,
          52,
          53,
          54,
          55,
          56,
          57,
          58,
          59,
          60,
          61,
          62,
          63,
          64,
          65,
          66,
          67,
          68,
          69,
          70,
          71,
          72,
          73,
          74,
          75,
          76,
          77,
          78
         ],
         "xaxis": "x",
         "y": [
          0.637,
          0.621,
          0.632,
          0.624,
          0.635,
          0.632,
          0.64,
          0.637,
          0.64,
          0.637,
          0.643,
          0.635,
          0.643,
          0.64,
          0.649,
          0.635,
          0.643,
          0.636,
          0.643,
          0.633,
          0.646,
          0.639,
          0.646,
          0.639,
          0.647,
          0.641,
          0.644,
          0.641,
          0.643,
          0.644,
          0.644,
          0.641,
          0.645,
          0.642,
          0.647,
          0.643,
          0.648,
          0.643,
          0.65,
          0.646,
          0.65,
          0.647,
          0.653,
          0.648,
          0.654,
          0.654,
          0.656,
          0.65,
          0.655,
          0.652,
          0.652,
          0.652,
          0.654,
          0.652,
          0.653,
          0.651,
          0.654,
          0.653,
          0.656,
          0.655,
          0.662,
          0.659,
          0.661,
          0.658,
          0.659,
          0.657,
          0.658,
          0.656,
          0.657,
          0.658,
          0.66,
          0.657,
          0.657,
          0.656,
          0.656,
          0.653,
          0.658,
          0.656,
          0.655
         ],
         "yaxis": "y"
        }
       ],
       "layout": {
        "legend": {
         "tracegroupgap": 0
        },
        "template": {
         "data": {
          "bar": [
           {
            "error_x": {
             "color": "#2a3f5f"
            },
            "error_y": {
             "color": "#2a3f5f"
            },
            "marker": {
             "line": {
              "color": "#E5ECF6",
              "width": 0.5
             },
             "pattern": {
              "fillmode": "overlay",
              "size": 10,
              "solidity": 0.2
             }
            },
            "type": "bar"
           }
          ],
          "barpolar": [
           {
            "marker": {
             "line": {
              "color": "#E5ECF6",
              "width": 0.5
             },
             "pattern": {
              "fillmode": "overlay",
              "size": 10,
              "solidity": 0.2
             }
            },
            "type": "barpolar"
           }
          ],
          "carpet": [
           {
            "aaxis": {
             "endlinecolor": "#2a3f5f",
             "gridcolor": "white",
             "linecolor": "white",
             "minorgridcolor": "white",
             "startlinecolor": "#2a3f5f"
            },
            "baxis": {
             "endlinecolor": "#2a3f5f",
             "gridcolor": "white",
             "linecolor": "white",
             "minorgridcolor": "white",
             "startlinecolor": "#2a3f5f"
            },
            "type": "carpet"
           }
          ],
          "choropleth": [
           {
            "colorbar": {
             "outlinewidth": 0,
             "ticks": ""
            },
            "type": "choropleth"
           }
          ],
          "contour": [
           {
            "colorbar": {
             "outlinewidth": 0,
             "ticks": ""
            },
            "colorscale": [
             [
              0,
              "#0d0887"
             ],
             [
              0.1111111111111111,
              "#46039f"
             ],
             [
              0.2222222222222222,
              "#7201a8"
             ],
             [
              0.3333333333333333,
              "#9c179e"
             ],
             [
              0.4444444444444444,
              "#bd3786"
             ],
             [
              0.5555555555555556,
              "#d8576b"
             ],
             [
              0.6666666666666666,
              "#ed7953"
             ],
             [
              0.7777777777777778,
              "#fb9f3a"
             ],
             [
              0.8888888888888888,
              "#fdca26"
             ],
             [
              1,
              "#f0f921"
             ]
            ],
            "type": "contour"
           }
          ],
          "contourcarpet": [
           {
            "colorbar": {
             "outlinewidth": 0,
             "ticks": ""
            },
            "type": "contourcarpet"
           }
          ],
          "heatmap": [
           {
            "colorbar": {
             "outlinewidth": 0,
             "ticks": ""
            },
            "colorscale": [
             [
              0,
              "#0d0887"
             ],
             [
              0.1111111111111111,
              "#46039f"
             ],
             [
              0.2222222222222222,
              "#7201a8"
             ],
             [
              0.3333333333333333,
              "#9c179e"
             ],
             [
              0.4444444444444444,
              "#bd3786"
             ],
             [
              0.5555555555555556,
              "#d8576b"
             ],
             [
              0.6666666666666666,
              "#ed7953"
             ],
             [
              0.7777777777777778,
              "#fb9f3a"
             ],
             [
              0.8888888888888888,
              "#fdca26"
             ],
             [
              1,
              "#f0f921"
             ]
            ],
            "type": "heatmap"
           }
          ],
          "heatmapgl": [
           {
            "colorbar": {
             "outlinewidth": 0,
             "ticks": ""
            },
            "colorscale": [
             [
              0,
              "#0d0887"
             ],
             [
              0.1111111111111111,
              "#46039f"
             ],
             [
              0.2222222222222222,
              "#7201a8"
             ],
             [
              0.3333333333333333,
              "#9c179e"
             ],
             [
              0.4444444444444444,
              "#bd3786"
             ],
             [
              0.5555555555555556,
              "#d8576b"
             ],
             [
              0.6666666666666666,
              "#ed7953"
             ],
             [
              0.7777777777777778,
              "#fb9f3a"
             ],
             [
              0.8888888888888888,
              "#fdca26"
             ],
             [
              1,
              "#f0f921"
             ]
            ],
            "type": "heatmapgl"
           }
          ],
          "histogram": [
           {
            "marker": {
             "pattern": {
              "fillmode": "overlay",
              "size": 10,
              "solidity": 0.2
             }
            },
            "type": "histogram"
           }
          ],
          "histogram2d": [
           {
            "colorbar": {
             "outlinewidth": 0,
             "ticks": ""
            },
            "colorscale": [
             [
              0,
              "#0d0887"
             ],
             [
              0.1111111111111111,
              "#46039f"
             ],
             [
              0.2222222222222222,
              "#7201a8"
             ],
             [
              0.3333333333333333,
              "#9c179e"
             ],
             [
              0.4444444444444444,
              "#bd3786"
             ],
             [
              0.5555555555555556,
              "#d8576b"
             ],
             [
              0.6666666666666666,
              "#ed7953"
             ],
             [
              0.7777777777777778,
              "#fb9f3a"
             ],
             [
              0.8888888888888888,
              "#fdca26"
             ],
             [
              1,
              "#f0f921"
             ]
            ],
            "type": "histogram2d"
           }
          ],
          "histogram2dcontour": [
           {
            "colorbar": {
             "outlinewidth": 0,
             "ticks": ""
            },
            "colorscale": [
             [
              0,
              "#0d0887"
             ],
             [
              0.1111111111111111,
              "#46039f"
             ],
             [
              0.2222222222222222,
              "#7201a8"
             ],
             [
              0.3333333333333333,
              "#9c179e"
             ],
             [
              0.4444444444444444,
              "#bd3786"
             ],
             [
              0.5555555555555556,
              "#d8576b"
             ],
             [
              0.6666666666666666,
              "#ed7953"
             ],
             [
              0.7777777777777778,
              "#fb9f3a"
             ],
             [
              0.8888888888888888,
              "#fdca26"
             ],
             [
              1,
              "#f0f921"
             ]
            ],
            "type": "histogram2dcontour"
           }
          ],
          "mesh3d": [
           {
            "colorbar": {
             "outlinewidth": 0,
             "ticks": ""
            },
            "type": "mesh3d"
           }
          ],
          "parcoords": [
           {
            "line": {
             "colorbar": {
              "outlinewidth": 0,
              "ticks": ""
             }
            },
            "type": "parcoords"
           }
          ],
          "pie": [
           {
            "automargin": true,
            "type": "pie"
           }
          ],
          "scatter": [
           {
            "marker": {
             "colorbar": {
              "outlinewidth": 0,
              "ticks": ""
             }
            },
            "type": "scatter"
           }
          ],
          "scatter3d": [
           {
            "line": {
             "colorbar": {
              "outlinewidth": 0,
              "ticks": ""
             }
            },
            "marker": {
             "colorbar": {
              "outlinewidth": 0,
              "ticks": ""
             }
            },
            "type": "scatter3d"
           }
          ],
          "scattercarpet": [
           {
            "marker": {
             "colorbar": {
              "outlinewidth": 0,
              "ticks": ""
             }
            },
            "type": "scattercarpet"
           }
          ],
          "scattergeo": [
           {
            "marker": {
             "colorbar": {
              "outlinewidth": 0,
              "ticks": ""
             }
            },
            "type": "scattergeo"
           }
          ],
          "scattergl": [
           {
            "marker": {
             "colorbar": {
              "outlinewidth": 0,
              "ticks": ""
             }
            },
            "type": "scattergl"
           }
          ],
          "scattermapbox": [
           {
            "marker": {
             "colorbar": {
              "outlinewidth": 0,
              "ticks": ""
             }
            },
            "type": "scattermapbox"
           }
          ],
          "scatterpolar": [
           {
            "marker": {
             "colorbar": {
              "outlinewidth": 0,
              "ticks": ""
             }
            },
            "type": "scatterpolar"
           }
          ],
          "scatterpolargl": [
           {
            "marker": {
             "colorbar": {
              "outlinewidth": 0,
              "ticks": ""
             }
            },
            "type": "scatterpolargl"
           }
          ],
          "scatterternary": [
           {
            "marker": {
             "colorbar": {
              "outlinewidth": 0,
              "ticks": ""
             }
            },
            "type": "scatterternary"
           }
          ],
          "surface": [
           {
            "colorbar": {
             "outlinewidth": 0,
             "ticks": ""
            },
            "colorscale": [
             [
              0,
              "#0d0887"
             ],
             [
              0.1111111111111111,
              "#46039f"
             ],
             [
              0.2222222222222222,
              "#7201a8"
             ],
             [
              0.3333333333333333,
              "#9c179e"
             ],
             [
              0.4444444444444444,
              "#bd3786"
             ],
             [
              0.5555555555555556,
              "#d8576b"
             ],
             [
              0.6666666666666666,
              "#ed7953"
             ],
             [
              0.7777777777777778,
              "#fb9f3a"
             ],
             [
              0.8888888888888888,
              "#fdca26"
             ],
             [
              1,
              "#f0f921"
             ]
            ],
            "type": "surface"
           }
          ],
          "table": [
           {
            "cells": {
             "fill": {
              "color": "#EBF0F8"
             },
             "line": {
              "color": "white"
             }
            },
            "header": {
             "fill": {
              "color": "#C8D4E3"
             },
             "line": {
              "color": "white"
             }
            },
            "type": "table"
           }
          ]
         },
         "layout": {
          "annotationdefaults": {
           "arrowcolor": "#2a3f5f",
           "arrowhead": 0,
           "arrowwidth": 1
          },
          "autotypenumbers": "strict",
          "coloraxis": {
           "colorbar": {
            "outlinewidth": 0,
            "ticks": ""
           }
          },
          "colorscale": {
           "diverging": [
            [
             0,
             "#8e0152"
            ],
            [
             0.1,
             "#c51b7d"
            ],
            [
             0.2,
             "#de77ae"
            ],
            [
             0.3,
             "#f1b6da"
            ],
            [
             0.4,
             "#fde0ef"
            ],
            [
             0.5,
             "#f7f7f7"
            ],
            [
             0.6,
             "#e6f5d0"
            ],
            [
             0.7,
             "#b8e186"
            ],
            [
             0.8,
             "#7fbc41"
            ],
            [
             0.9,
             "#4d9221"
            ],
            [
             1,
             "#276419"
            ]
           ],
           "sequential": [
            [
             0,
             "#0d0887"
            ],
            [
             0.1111111111111111,
             "#46039f"
            ],
            [
             0.2222222222222222,
             "#7201a8"
            ],
            [
             0.3333333333333333,
             "#9c179e"
            ],
            [
             0.4444444444444444,
             "#bd3786"
            ],
            [
             0.5555555555555556,
             "#d8576b"
            ],
            [
             0.6666666666666666,
             "#ed7953"
            ],
            [
             0.7777777777777778,
             "#fb9f3a"
            ],
            [
             0.8888888888888888,
             "#fdca26"
            ],
            [
             1,
             "#f0f921"
            ]
           ],
           "sequentialminus": [
            [
             0,
             "#0d0887"
            ],
            [
             0.1111111111111111,
             "#46039f"
            ],
            [
             0.2222222222222222,
             "#7201a8"
            ],
            [
             0.3333333333333333,
             "#9c179e"
            ],
            [
             0.4444444444444444,
             "#bd3786"
            ],
            [
             0.5555555555555556,
             "#d8576b"
            ],
            [
             0.6666666666666666,
             "#ed7953"
            ],
            [
             0.7777777777777778,
             "#fb9f3a"
            ],
            [
             0.8888888888888888,
             "#fdca26"
            ],
            [
             1,
             "#f0f921"
            ]
           ]
          },
          "colorway": [
           "#636efa",
           "#EF553B",
           "#00cc96",
           "#ab63fa",
           "#FFA15A",
           "#19d3f3",
           "#FF6692",
           "#B6E880",
           "#FF97FF",
           "#FECB52"
          ],
          "font": {
           "color": "#2a3f5f"
          },
          "geo": {
           "bgcolor": "white",
           "lakecolor": "white",
           "landcolor": "#E5ECF6",
           "showlakes": true,
           "showland": true,
           "subunitcolor": "white"
          },
          "hoverlabel": {
           "align": "left"
          },
          "hovermode": "closest",
          "mapbox": {
           "style": "light"
          },
          "paper_bgcolor": "white",
          "plot_bgcolor": "#E5ECF6",
          "polar": {
           "angularaxis": {
            "gridcolor": "white",
            "linecolor": "white",
            "ticks": ""
           },
           "bgcolor": "#E5ECF6",
           "radialaxis": {
            "gridcolor": "white",
            "linecolor": "white",
            "ticks": ""
           }
          },
          "scene": {
           "xaxis": {
            "backgroundcolor": "#E5ECF6",
            "gridcolor": "white",
            "gridwidth": 2,
            "linecolor": "white",
            "showbackground": true,
            "ticks": "",
            "zerolinecolor": "white"
           },
           "yaxis": {
            "backgroundcolor": "#E5ECF6",
            "gridcolor": "white",
            "gridwidth": 2,
            "linecolor": "white",
            "showbackground": true,
            "ticks": "",
            "zerolinecolor": "white"
           },
           "zaxis": {
            "backgroundcolor": "#E5ECF6",
            "gridcolor": "white",
            "gridwidth": 2,
            "linecolor": "white",
            "showbackground": true,
            "ticks": "",
            "zerolinecolor": "white"
           }
          },
          "shapedefaults": {
           "line": {
            "color": "#2a3f5f"
           }
          },
          "ternary": {
           "aaxis": {
            "gridcolor": "white",
            "linecolor": "white",
            "ticks": ""
           },
           "baxis": {
            "gridcolor": "white",
            "linecolor": "white",
            "ticks": ""
           },
           "bgcolor": "#E5ECF6",
           "caxis": {
            "gridcolor": "white",
            "linecolor": "white",
            "ticks": ""
           }
          },
          "title": {
           "x": 0.05
          },
          "xaxis": {
           "automargin": true,
           "gridcolor": "white",
           "linecolor": "white",
           "ticks": "",
           "title": {
            "standoff": 15
           },
           "zerolinecolor": "white",
           "zerolinewidth": 2
          },
          "yaxis": {
           "automargin": true,
           "gridcolor": "white",
           "linecolor": "white",
           "ticks": "",
           "title": {
            "standoff": 15
           },
           "zerolinecolor": "white",
           "zerolinewidth": 2
          }
         }
        },
        "title": {
         "text": "Knn scores against neighbours"
        },
        "xaxis": {
         "anchor": "y",
         "domain": [
          0,
          1
         ],
         "title": {
          "text": "index"
         }
        },
        "yaxis": {
         "anchor": "x",
         "domain": [
          0,
          1
         ],
         "title": {
          "text": "accuracy"
         }
        }
       }
      }
     },
     "metadata": {},
     "output_type": "display_data"
    }
   ],
   "source": [
    "cv_lst = []\n",
    "for i in list(range(1,80)):\n",
    "    knn = KNeighborsClassifier(n_neighbors=i)\n",
    "    #knn.fit(X_train, y_train)\n",
    "    knn_cv = cross_val_score(knn, X_train, y_train, scoring='accuracy')\n",
    "    cv_lst.append(knn_cv.mean().round(3))\n",
    "#sns.lineplot(x=range(1,80), y=cv_lst)\n",
    "\n",
    "knn_scores = pd.DataFrame(cv_lst, columns=['accuracy']).reset_index()\n",
    "fig = px.line(knn_scores, x=\"index\", y=\"accuracy\", title='Knn scores against neighbours')\n",
    "fig.show()\n",
    "#Around 26 neighbours model performs sufficiently well"
   ]
  },
  {
   "cell_type": "markdown",
   "metadata": {},
   "source": [
    "### Testing various ML classification models:"
   ]
  },
  {
   "cell_type": "code",
   "execution_count": null,
   "metadata": {},
   "outputs": [
    {
     "name": "stdout",
     "output_type": "stream",
     "text": [
      "logistic regression : [0.64829545 0.64602273 0.63465909 0.63920455 0.64866401]\n",
      " Average: 0.6434\n",
      "svm : [0.66079545 0.67670455 0.66818182 0.65909091 0.64866401]\n",
      " Average: 0.6627\n",
      "decision tree classifier : [0.64659091 0.64375    0.63806818 0.65056818 0.64127345]\n",
      " Average: 0.6441\n",
      "random foreset classifier: [0.65056818 0.66363636 0.64829545 0.65227273 0.64297897]\n",
      " Average: 0.6516\n",
      "boosting classifier: [0.67613636 0.68522727 0.67329545 0.67045455 0.67538374]\n",
      " Average: 0.6761\n",
      "K-Nearest Neighbour: [0.63295455 0.63977273 0.64204545 0.64431818 0.64582149]\n",
      " Average: 0.641\n",
      "Naive Bayes: [0.61193182 0.60227273 0.60170455 0.60056818 0.60943718]\n",
      " Average: 0.6052\n"
     ]
    }
   ],
   "source": [
    "lr = LogisticRegression()\n",
    "#lr.fit(X_train, y_train)\n",
    "svm = SVC()\n",
    "#svm.fit(X_train, y_train)\n",
    "dt = DecisionTreeClassifier(random_state=1)\n",
    "#dt.fit(X_train, y_train)\n",
    "rf = RandomForestClassifier(random_state=1)\n",
    "#rf.fit(X_train, y_train)\n",
    "boost = GradientBoostingClassifier(random_state=1)\n",
    "#boost.fit(X_train, y_train)\n",
    "knn = KNeighborsClassifier(n_neighbors=26)\n",
    "#knn.fit(X_train, y_train)\n",
    "nb1 = GaussianNB()\n",
    "#nb.fit(X_train, y_train)\n",
    "\n",
    "lr_cv = cross_val_score(lr, X_train, y_train, scoring='accuracy')\n",
    "svm_cv = cross_val_score(svm, X_train, y_train, scoring='accuracy')\n",
    "dt_cv = cross_val_score(dt, X_train, y_train, scoring = 'accuracy')\n",
    "rf_cv = cross_val_score(rf, X_train, y_train, scoring='accuracy')\n",
    "boost_cv = cross_val_score(boost, X_train, y_train, scoring='accuracy')\n",
    "knn_cv = cross_val_score(knn, X_train, y_train, scoring='accuracy')\n",
    "nb_cv = cross_val_score(nb1, X_train, y_train, scoring='accuracy')\n",
    "\n",
    "print('logistic regression : {}\\n Average: {}'.format(lr_cv, lr_cv.mean().round(4)))\n",
    "print('svm : {}\\n Average: {}'.format(svm_cv, svm_cv.mean().round(4)))\n",
    "print('decision tree classifier : {}\\n Average: {}'.format(dt_cv, dt_cv.mean().round(4)))\n",
    "print('random foreset classifier: {}\\n Average: {}'.format(rf_cv, rf_cv.mean().round(4)))\n",
    "print('boosting classifier: {}\\n Average: {}'.format(boost_cv, boost_cv.mean().round(4)))\n",
    "print('K-Nearest Neighbour: {}\\n Average: {}'.format(knn_cv, knn_cv.mean().round(4)))\n",
    "print('Naive Bayes: {}\\n Average: {}'.format(nb_cv, nb_cv.mean().round(4)))"
   ]
  },
  {
   "cell_type": "markdown",
   "metadata": {},
   "source": [
    "Best performing models:\n",
    "1) Gradient Boosting Classifier\n",
    "2) SVM Classifier\n",
    "3) Random Forest Classifier\n",
    "\n",
    "Generally the ensemble models seems to perform well "
   ]
  },
  {
   "cell_type": "code",
   "execution_count": null,
   "metadata": {},
   "outputs": [
    {
     "data": {
      "text/plain": [
       "array([0.72852697, 0.73100808, 0.71357874, 0.71519353, 0.71869595])"
      ]
     },
     "execution_count": 101,
     "metadata": {},
     "output_type": "execute_result"
    }
   ],
   "source": [
    "lr1 = LogisticRegression()\n",
    "#lr1.fit(X_train,y_train)\n",
    "#roc_auc_score(y_test, lr1.predict_proba(X_test)[:,1])\n",
    "cross_val_score(lr1, X_train, y_train, scoring='roc_auc')"
   ]
  },
  {
   "cell_type": "markdown",
   "metadata": {},
   "source": [
    "#### Will a stacked model perform better?"
   ]
  },
  {
   "cell_type": "markdown",
   "metadata": {},
   "source": [
    "#### Accuracy"
   ]
  },
  {
   "cell_type": "code",
   "execution_count": null,
   "metadata": {},
   "outputs": [
    {
     "name": "stdout",
     "output_type": "stream",
     "text": [
      "[0.66420455 0.66988636 0.65852273 0.65397727 0.66799318]\n",
      "0.663\n"
     ]
    }
   ],
   "source": [
    "from sklearn.ensemble import StackingClassifier\n",
    "stack_estimators = [('boost', GradientBoostingClassifier(random_state=1)),\n",
    "('rf', RandomForestClassifier(random_state=1)),\n",
    "('svc', SVC())]\n",
    "clf = StackingClassifier(estimators= stack_estimators, final_estimator=LogisticRegression())\n",
    "clf.fit(X_train, y_train)\n",
    "clf.score(X_test, y_test)\n",
    "total_score = cross_val_score(clf,X_train, y_train, scoring='accuracy')\n",
    "print(total_score)\n",
    "print(total_score.mean().round(3))"
   ]
  },
  {
   "cell_type": "markdown",
   "metadata": {},
   "source": [
    "#### AUC (Area under curve)"
   ]
  },
  {
   "cell_type": "code",
   "execution_count": null,
   "metadata": {},
   "outputs": [
    {
     "name": "stdout",
     "output_type": "stream",
     "text": [
      "[0.73059434 0.74032596 0.72809315 0.7369049  0.73957157]\n",
      "0.7351\n"
     ]
    }
   ],
   "source": [
    "from sklearn.ensemble import StackingClassifier\n",
    "stack_estimators = [('boost', GradientBoostingClassifier(random_state=1)),\n",
    "('rf', RandomForestClassifier(random_state=1)),\n",
    "('svc', SVC())]\n",
    "clf = StackingClassifier(estimators= stack_estimators, final_estimator=LogisticRegression())\n",
    "clf.fit(X_train, y_train)\n",
    "clf.score(X_test, y_test)\n",
    "total_score = cross_val_score(clf,X_train, y_train, scoring='roc_auc')\n",
    "print(total_score)\n",
    "print(total_score.mean().round(4))"
   ]
  },
  {
   "cell_type": "markdown",
   "metadata": {},
   "source": [
    "Conclusion: Not much of an improvement by using stacked models"
   ]
  },
  {
   "cell_type": "markdown",
   "metadata": {},
   "source": [
    "## Model building"
   ]
  },
  {
   "cell_type": "code",
   "execution_count": null,
   "metadata": {},
   "outputs": [
    {
     "data": {
      "text/plain": [
       "((8799, 28), (8799, 1), (1100, 28), (1100, 1), (1100, 28), (1100, 1))"
      ]
     },
     "execution_count": 69,
     "metadata": {},
     "output_type": "execute_result"
    }
   ],
   "source": [
    "# Current datasets\n",
    "X_train.shape,  y_train.shape, X_val.shape, y_val.shape, X_test.shape, y_test.shape"
   ]
  },
  {
   "cell_type": "markdown",
   "metadata": {},
   "source": [
    "## Model 1: Gradient Boosting Classifier"
   ]
  },
  {
   "cell_type": "markdown",
   "metadata": {},
   "source": [
    "### Hyperparameter tuning\n",
    "\n",
    "tuning: https://www.analyticsvidhya.com/blog/2016/02/complete-guide-parameter-tuning-gradient-boosting-gbm-python/\n",
    "\n",
    "AUC vs accuracy: https://neptune.ai/blog/f1-score-accuracy-roc-auc-pr-auc"
   ]
  },
  {
   "cell_type": "code",
   "execution_count": null,
   "metadata": {},
   "outputs": [
    {
     "data": {
      "text/plain": [
       "GridSearchCV(estimator=GradientBoostingClassifier(random_state=1),\n",
       "             param_grid={'learning_rate': [0.005, 0.01, 0.1],\n",
       "                         'n_estimators': range(10, 101, 10)},\n",
       "             scoring='accuracy')"
      ]
     },
     "execution_count": 171,
     "metadata": {},
     "output_type": "execute_result"
    }
   ],
   "source": [
    "# Testing the best number of estimators\n",
    "param_test1 = {'n_estimators':range(10,101,10), 'learning_rate': [0.005,0.01,0.1]}\n",
    "gsearch1 = GridSearchCV(estimator = GradientBoostingClassifier(random_state=1), param_grid = param_test1, scoring='accuracy')\n",
    "gsearch1.fit(X_train,y_train)"
   ]
  },
  {
   "cell_type": "code",
   "execution_count": null,
   "metadata": {},
   "outputs": [
    {
     "data": {
      "text/plain": [
       "({'learning_rate': 0.1, 'n_estimators': 30}, 0.6815542146880975)"
      ]
     },
     "execution_count": 172,
     "metadata": {},
     "output_type": "execute_result"
    }
   ],
   "source": [
    "gsearch1.best_params_, gsearch1.best_score_"
   ]
  },
  {
   "cell_type": "code",
   "execution_count": null,
   "metadata": {},
   "outputs": [
    {
     "data": {
      "text/plain": [
       "GridSearchCV(estimator=GradientBoostingClassifier(n_estimators=30,\n",
       "                                                  random_state=1),\n",
       "             param_grid={'max_depth': [1, 2, 3, 4, 5, 6],\n",
       "                         'min_samples_split': range(5, 100, 5)},\n",
       "             scoring='accuracy')"
      ]
     },
     "execution_count": 174,
     "metadata": {},
     "output_type": "execute_result"
    }
   ],
   "source": [
    "# Testing the best number of estimators\n",
    "param_test2a = {'max_depth': [1,2,3,4,5,6], 'min_samples_split': range(5,100,5)}\n",
    "gsearch2a = GridSearchCV(estimator = GradientBoostingClassifier(random_state=1, learning_rate = 0.1, n_estimators = 30), param_grid = param_test2a, scoring='accuracy')\n",
    "gsearch2a.fit(X_train,y_train)"
   ]
  },
  {
   "cell_type": "code",
   "execution_count": null,
   "metadata": {},
   "outputs": [
    {
     "data": {
      "text/plain": [
       "({'max_depth': 3, 'min_samples_split': 25}, 0.681667851051734)"
      ]
     },
     "execution_count": 175,
     "metadata": {},
     "output_type": "execute_result"
    }
   ],
   "source": [
    "gsearch2a.best_params_, gsearch2a.best_score_"
   ]
  },
  {
   "cell_type": "code",
   "execution_count": null,
   "metadata": {},
   "outputs": [
    {
     "data": {
      "text/plain": [
       "GridSearchCV(estimator=GradientBoostingClassifier(n_estimators=30,\n",
       "                                                  random_state=1),\n",
       "             param_grid={'max_depth': [3, 5, 7, 9, 11, 13, 15],\n",
       "                         'min_samples_split': range(25, 500, 25)},\n",
       "             scoring='accuracy')"
      ]
     },
     "execution_count": 177,
     "metadata": {},
     "output_type": "execute_result"
    }
   ],
   "source": [
    "# Testing the best number of estimators\n",
    "param_test2b = {'max_depth': [3,5,7,9,11,13,15], 'min_samples_split': range(25,500,25)}\n",
    "gsearch2b = GridSearchCV(estimator = GradientBoostingClassifier(random_state=1, learning_rate = 0.1, n_estimators = 30), param_grid = param_test2b, scoring='accuracy')\n",
    "gsearch2b.fit(X_train,y_train)"
   ]
  },
  {
   "cell_type": "code",
   "execution_count": null,
   "metadata": {},
   "outputs": [
    {
     "data": {
      "text/plain": [
       "({'max_depth': 3, 'min_samples_split': 325}, 0.6821222673006357)"
      ]
     },
     "execution_count": 178,
     "metadata": {},
     "output_type": "execute_result"
    }
   ],
   "source": [
    "gsearch2b.best_params_, gsearch2b.best_score_"
   ]
  },
  {
   "cell_type": "code",
   "execution_count": null,
   "metadata": {},
   "outputs": [
    {
     "data": {
      "text/plain": [
       "GridSearchCV(estimator=GradientBoostingClassifier(n_estimators=30,\n",
       "                                                  random_state=1),\n",
       "             param_grid={'min_samples_split': range(300, 801, 25)},\n",
       "             scoring='accuracy')"
      ]
     },
     "execution_count": 179,
     "metadata": {},
     "output_type": "execute_result"
    }
   ],
   "source": [
    "# Testing the best number of estimators\n",
    "param_test2c = {'min_samples_split': range(300,801,25)}\n",
    "gsearch2c = GridSearchCV(estimator = GradientBoostingClassifier(random_state=1, learning_rate = 0.1, n_estimators = 30, max_depth = 3), param_grid = param_test2c, scoring='accuracy')\n",
    "gsearch2c.fit(X_train,y_train)"
   ]
  },
  {
   "cell_type": "code",
   "execution_count": null,
   "metadata": {},
   "outputs": [
    {
     "data": {
      "text/plain": [
       "({'min_samples_split': 325}, 0.6821222673006357)"
      ]
     },
     "execution_count": 180,
     "metadata": {},
     "output_type": "execute_result"
    }
   ],
   "source": [
    "gsearch2c.best_params_, gsearch2c.best_score_"
   ]
  },
  {
   "cell_type": "code",
   "execution_count": null,
   "metadata": {},
   "outputs": [
    {
     "data": {
      "text/plain": [
       "GridSearchCV(estimator=GradientBoostingClassifier(n_estimators=30,\n",
       "                                                  random_state=1),\n",
       "             param_grid={'min_samples_leaf': range(5, 150, 5),\n",
       "                         'min_samples_split': range(300, 600, 25)},\n",
       "             scoring='accuracy')"
      ]
     },
     "execution_count": 182,
     "metadata": {},
     "output_type": "execute_result"
    }
   ],
   "source": [
    "param_test3 = {'min_samples_split': range(300,600,25), 'min_samples_leaf':range(5,150,5)}\n",
    "gsearch3 = GridSearchCV(estimator = GradientBoostingClassifier(random_state=1, learning_rate = 0.1, n_estimators = 30, max_depth = 3), param_grid = param_test3, scoring='accuracy')\n",
    "gsearch3.fit(X_train,y_train)"
   ]
  },
  {
   "cell_type": "code",
   "execution_count": null,
   "metadata": {},
   "outputs": [
    {
     "data": {
      "text/plain": [
       "({'min_samples_leaf': 85, 'min_samples_split': 350}, 0.683940642927283)"
      ]
     },
     "execution_count": 183,
     "metadata": {},
     "output_type": "execute_result"
    }
   ],
   "source": [
    "gsearch3.best_params_, gsearch3.best_score_"
   ]
  },
  {
   "cell_type": "code",
   "execution_count": null,
   "metadata": {},
   "outputs": [
    {
     "data": {
      "text/plain": [
       "GridSearchCV(estimator=GradientBoostingClassifier(n_estimators=30,\n",
       "                                                  random_state=1),\n",
       "             param_grid={'min_samples_leaf': [1, 2, 3, 4, 5, 6, 7, 8, 9, 10, 80,\n",
       "                                              85, 90],\n",
       "                         'min_samples_split': [300, 325, 350, 375, 400]},\n",
       "             scoring='accuracy')"
      ]
     },
     "execution_count": 185,
     "metadata": {},
     "output_type": "execute_result"
    }
   ],
   "source": [
    "param_test3b = {'min_samples_split': [300,325,350,375,400], 'min_samples_leaf': [1,2,3,4,5,6,7,8,9,10,80,85,90]}\n",
    "gsearch3b = GridSearchCV(estimator = GradientBoostingClassifier(random_state=1, learning_rate = 0.1, n_estimators = 30, max_depth = 3), param_grid = param_test3b, scoring='accuracy')\n",
    "gsearch3b.fit(X_train,y_train)"
   ]
  },
  {
   "cell_type": "code",
   "execution_count": null,
   "metadata": {},
   "outputs": [
    {
     "data": {
      "text/plain": [
       "({'min_samples_leaf': 85, 'min_samples_split': 350}, 0.683940642927283)"
      ]
     },
     "execution_count": 186,
     "metadata": {},
     "output_type": "execute_result"
    }
   ],
   "source": [
    "gsearch3b.best_params_, gsearch3b.best_score_"
   ]
  },
  {
   "cell_type": "code",
   "execution_count": null,
   "metadata": {},
   "outputs": [
    {
     "data": {
      "text/plain": [
       "GridSearchCV(estimator=GradientBoostingClassifier(min_samples_leaf=85,\n",
       "                                                  min_samples_split=350,\n",
       "                                                  n_estimators=30,\n",
       "                                                  random_state=1),\n",
       "             param_grid={'max_features': range(0, 34)}, scoring='accuracy')"
      ]
     },
     "execution_count": 196,
     "metadata": {},
     "output_type": "execute_result"
    }
   ],
   "source": [
    "param_test4 = {'max_features': range(0,34,1)}\n",
    "gsearch4 = GridSearchCV(estimator = GradientBoostingClassifier(random_state=1, learning_rate = 0.1, n_estimators = 30, max_depth=3, min_samples_split = 350, min_samples_leaf = 85),\n",
    "param_grid = param_test4, scoring='accuracy')\n",
    "gsearch4.fit(X_train,y_train)"
   ]
  },
  {
   "cell_type": "code",
   "execution_count": null,
   "metadata": {},
   "outputs": [
    {
     "data": {
      "text/plain": [
       "({'max_features': 31}, 0.6832582433200682)"
      ]
     },
     "execution_count": 197,
     "metadata": {},
     "output_type": "execute_result"
    }
   ],
   "source": [
    "gsearch4.best_params_, gsearch4.best_score_"
   ]
  },
  {
   "cell_type": "code",
   "execution_count": null,
   "metadata": {},
   "outputs": [
    {
     "data": {
      "text/plain": [
       "GridSearchCV(estimator=GradientBoostingClassifier(max_features=31,\n",
       "                                                  min_samples_leaf=85,\n",
       "                                                  min_samples_split=350,\n",
       "                                                  n_estimators=30,\n",
       "                                                  random_state=1),\n",
       "             param_grid={'subsample': [0.5, 0.55, 0.6, 0.65, 0.7, 0.75, 0.8,\n",
       "                                       0.85, 0.9, 0.95, 1.0]},\n",
       "             scoring='accuracy')"
      ]
     },
     "execution_count": 202,
     "metadata": {},
     "output_type": "execute_result"
    }
   ],
   "source": [
    "param_test5 = {'subsample':[0.5 + round(x*0.05,2) for x in range(0,11)]}\n",
    "gsearch5 = GridSearchCV(estimator = GradientBoostingClassifier(random_state=1, learning_rate = 0.1, n_estimators = 30, max_depth=3, min_samples_split = 350, min_samples_leaf = 85, max_features = 31),\n",
    "param_grid = param_test5, scoring='accuracy')\n",
    "gsearch5.fit(X_train,y_train)"
   ]
  },
  {
   "cell_type": "code",
   "execution_count": null,
   "metadata": {},
   "outputs": [
    {
     "data": {
      "text/plain": [
       "({'subsample': 1.0}, 0.6832582433200682)"
      ]
     },
     "execution_count": 203,
     "metadata": {},
     "output_type": "execute_result"
    }
   ],
   "source": [
    "gsearch5.best_params_, gsearch5.best_score_"
   ]
  },
  {
   "cell_type": "code",
   "execution_count": null,
   "metadata": {},
   "outputs": [
    {
     "data": {
      "text/plain": [
       "({'learning_rate': 0.1,\n",
       "  'max_depth': 3,\n",
       "  'max_features': 31,\n",
       "  'min_samples_leaf': 90,\n",
       "  'min_samples_split': 335,\n",
       "  'n_estimators': 27,\n",
       "  'subsample': 1},\n",
       " 0.6843949299705411)"
      ]
     },
     "execution_count": 206,
     "metadata": {},
     "output_type": "execute_result"
    }
   ],
   "source": [
    "param_testfa = {'learning_rate': [0.1], 'subsample':[1], 'n_estimators' : [25,26,27,30], 'max_depth': [3,4], 'min_samples_split': [325,330,335,345,350], 'min_samples_leaf':[83,85,88,90],'max_features':[30,31,32]}\n",
    "gsearchfa = GridSearchCV(estimator = GradientBoostingClassifier(random_state=1), param_grid = param_testfa, scoring='accuracy', n_jobs=-1)\n",
    "gsearchfa.fit(X_train,y_train)\n",
    "gsearchfa.best_params_, gsearchfa.best_score_"
   ]
  },
  {
   "cell_type": "code",
   "execution_count": null,
   "metadata": {},
   "outputs": [
    {
     "data": {
      "text/plain": [
       "({'learning_rate': 0.1,\n",
       "  'max_depth': 3,\n",
       "  'max_features': 31,\n",
       "  'min_samples_leaf': 86,\n",
       "  'min_samples_split': 350,\n",
       "  'n_estimators': 29,\n",
       "  'subsample': 1},\n",
       " 0.6851907721329267)"
      ]
     },
     "execution_count": 207,
     "metadata": {},
     "output_type": "execute_result"
    }
   ],
   "source": [
    "param_testfa = {'learning_rate': [0.1], 'subsample':[1], 'n_estimators' : [25,26,27,28,29,30,31], 'max_depth': [3], 'min_samples_split': [332,335,338,340,345,350], 'min_samples_leaf':[85,86,87,88,89,90],'max_features':[31]}\n",
    "gsearchfa = GridSearchCV(estimator = GradientBoostingClassifier(random_state=1), param_grid = param_testfa, scoring='accuracy', n_jobs=4)\n",
    "gsearchfa.fit(X_train,y_train)\n",
    "gsearchfa.best_params_, gsearchfa.best_score_"
   ]
  },
  {
   "cell_type": "markdown",
   "metadata": {},
   "source": [
    "#### Final model for Gradient Boosting Classifier"
   ]
  },
  {
   "cell_type": "code",
   "execution_count": null,
   "metadata": {},
   "outputs": [
    {
     "name": "stdout",
     "output_type": "stream",
     "text": [
      "AUC_ROC score for Validation data: 0.753\n",
      "Accuracy score for Validation data: 0.683\n",
      "\n",
      "\n",
      "AUC_ROC score for Test data: 0.758\n",
      "Accuracy score for Test data: 0.691\n"
     ]
    }
   ],
   "source": [
    "boosting = GradientBoostingClassifier(random_state=1, learning_rate = 0.1, subsample = 1, n_estimators = 29, max_depth=3, min_samples_split = 350, min_samples_leaf = 86, max_features = 31)\n",
    "boosting.fit(X_train, y_train)\n",
    "\n",
    "def print_auc_scorer(type, score):\n",
    "    print('AUC_ROC score for {} data: {}'.format(type, round(float(score),3)))\n",
    "def print_accuracy_score(type, score):\n",
    "    print('Accuracy score for {} data: {}'.format(type, round(float(score),3)))\n",
    "\n",
    "print_auc_scorer('Validation', roc_auc_score(y_val, boosting.predict_proba(X_val)[:, 1]))\n",
    "print_accuracy_score('Validation', boosting.score(X_val, y_val))\n",
    "print('\\n')\n",
    "print_auc_scorer('Test', roc_auc_score(y_test, boosting.predict_proba(X_test)[:, 1]))\n",
    "print_accuracy_score('Test', boosting.score(X_test, y_test))"
   ]
  },
  {
   "cell_type": "markdown",
   "metadata": {},
   "source": [
    "## Model 2: SVM"
   ]
  },
  {
   "cell_type": "code",
   "execution_count": null,
   "metadata": {},
   "outputs": [
    {
     "data": {
      "text/plain": [
       "({'kernel': 'rbf', 'gamma': 0.01, 'C': 10}, 0.6585975679054438)"
      ]
     },
     "execution_count": 62,
     "metadata": {},
     "output_type": "execute_result"
    }
   ],
   "source": [
    "param_gridsvm = {'C': [0.1,1,10,100], 'gamma': [1,0.1,0.01,0.001],'kernel': ['rbf', 'sigmoid']}\n",
    "gsearchsvm1 = RandomizedSearchCV(estimator = SVC(), param_distributions = param_gridsvm, scoring='accuracy', n_iter = 8, cv = 3, n_jobs = 3, random_state=2)\n",
    "gsearchsvm1.fit(X_train,y_train)\n",
    "gsearchsvm1.best_params_, gsearchsvm1.best_score_"
   ]
  },
  {
   "cell_type": "code",
   "execution_count": null,
   "metadata": {},
   "outputs": [
    {
     "data": {
      "text/plain": [
       "({'kernel': 'rbf', 'gamma': 0.1, 'C': 0.1}, 0.6618933969769292)"
      ]
     },
     "execution_count": 63,
     "metadata": {},
     "output_type": "execute_result"
    }
   ],
   "source": [
    "param_gridsvm = {'C': [0.1,1,10,100], 'gamma': [1,0.1,0.01,0.001],'kernel': ['rbf', 'sigmoid']}\n",
    "gsearchsvm1 = RandomizedSearchCV(estimator = SVC(), param_distributions = param_gridsvm, scoring='accuracy', n_iter = 32, cv = 3, n_jobs = 3, random_state=2)\n",
    "gsearchsvm1.fit(X_train,y_train)\n",
    "gsearchsvm1.best_params_, gsearchsvm1.best_score_"
   ]
  },
  {
   "cell_type": "code",
   "execution_count": null,
   "metadata": {},
   "outputs": [],
   "source": [
    "# param_gridsvm = {'C': [0.1,1,10,100], 'gamma': [1,0.1,0.01,0.001],'kernel': ['rbf', 'sigmoid']}\n",
    "# gsearchsvm1 = GridSearchCV(estimator = SVC(), param_grid = param_gridsvm, scoring='accuracy', n_jobs=3, verbose = 2, cv = 3)\n",
    "# gsearchsvm1.fit(X_train,y_train)\n",
    "# gsearchsvm1.best_params_, gsearchsvm1.best_score_"
   ]
  },
  {
   "cell_type": "code",
   "execution_count": null,
   "metadata": {},
   "outputs": [
    {
     "name": "stdout",
     "output_type": "stream",
     "text": [
      "AUC_ROC score for Validation data: 0.727\n",
      "Accuracy score for Validation data: 0.672\n",
      "\n",
      "\n",
      "AUC_ROC score for Test data: 0.745\n",
      "Accuracy score for Test data: 0.675\n"
     ]
    }
   ],
   "source": [
    "svm_model = SVC(kernel = 'rbf', gamma = 0.1, C = 0.1, probability= True)\n",
    "svm_model.fit(X_train, y_train)\n",
    "\n",
    "def print_auc_scorer(type, score):\n",
    "    print('AUC_ROC score for {} data: {}'.format(type, round(float(score),3)))\n",
    "def print_accuracy_score(type, score):\n",
    "    print('Accuracy score for {} data: {}'.format(type, round(float(score),3)))\n",
    "\n",
    "print_auc_scorer('Validation', roc_auc_score(y_val, svm_model.predict_proba(X_val)[:, 1]))\n",
    "print_accuracy_score('Validation', boosting.score(X_val, y_val))\n",
    "print('\\n')\n",
    "print_auc_scorer('Test', roc_auc_score(y_test, svm_model.predict_proba(X_test)[:, 1]))\n",
    "print_accuracy_score('Test', boosting.score(X_test, y_test))"
   ]
  },
  {
   "cell_type": "markdown",
   "metadata": {},
   "source": [
    "## Model 3: RandomForest classifier"
   ]
  },
  {
   "cell_type": "code",
   "execution_count": null,
   "metadata": {},
   "outputs": [
    {
     "data": {
      "text/plain": [
       "RandomizedSearchCV(cv=3, estimator=RandomForestClassifier(random_state=1),\n",
       "                   n_iter=400, n_jobs=3,\n",
       "                   param_distributions={'max_depth': [10, 20, 30, 40, 50, 60,\n",
       "                                                      70, 80, 90, 100, None],\n",
       "                                        'max_features': ['auto', 'sqrt'],\n",
       "                                        'min_samples_leaf': [1, 2, 4, 6, 10,\n",
       "                                                             20],\n",
       "                                        'min_samples_split': [2, 5, 10, 20],\n",
       "                                        'n_estimators': [20, 40, 60, 80, 100,\n",
       "                                                         120, 140, 160, 180,\n",
       "                                                         200, 400]},\n",
       "                   random_state=2, scoring='accuracy')"
      ]
     },
     "execution_count": 53,
     "metadata": {},
     "output_type": "execute_result"
    }
   ],
   "source": [
    "from sklearn.model_selection import RandomizedSearchCV\n",
    "param_gridrf_small = {\n",
    " 'max_depth': [10, 20, 30, 40, 50, 60, 70, 80, 90, 100, None],\n",
    " 'max_features': ['auto', 'sqrt'],\n",
    " 'min_samples_leaf': [1, 2, 4, 6, 10, 20],\n",
    " 'min_samples_split': [2, 5, 10, 20],\n",
    " 'n_estimators': [20,40,60,80,100,120,140,160,180,200,400]}\n",
    "gsearchrf1= RandomizedSearchCV(estimator = RandomForestClassifier(random_state = 1), param_distributions = param_gridrf_small, scoring='accuracy', n_iter = 400, cv = 3, n_jobs = 3, random_state=2)\n",
    "gsearchrf1.fit(X_train,y_train)"
   ]
  },
  {
   "cell_type": "code",
   "execution_count": null,
   "metadata": {},
   "outputs": [
    {
     "data": {
      "text/plain": [
       "({'n_estimators': 200,\n",
       "  'min_samples_split': 10,\n",
       "  'min_samples_leaf': 10,\n",
       "  'max_features': 'auto',\n",
       "  'max_depth': 10},\n",
       " 0.675531310376179,\n",
       " RandomForestClassifier(max_depth=10, min_samples_leaf=10, min_samples_split=10,\n",
       "                        n_estimators=200, random_state=1))"
      ]
     },
     "execution_count": 56,
     "metadata": {},
     "output_type": "execute_result"
    }
   ],
   "source": [
    "gsearchrf1.best_params_, gsearchrf1.best_score_"
   ]
  },
  {
   "cell_type": "code",
   "execution_count": null,
   "metadata": {},
   "outputs": [
    {
     "data": {
      "text/plain": [
       "RandomizedSearchCV(cv=3, estimator=RandomForestClassifier(random_state=1),\n",
       "                   n_iter=400, n_jobs=3,\n",
       "                   param_distributions={'max_depth': [6, 8, 10, 12, None],\n",
       "                                        'max_features': ['auto', 'sqrt'],\n",
       "                                        'min_samples_leaf': [8, 10, 12, 14, 16],\n",
       "                                        'min_samples_split': [8, 10, 12, 14,\n",
       "                                                              16],\n",
       "                                        'n_estimators': [190, 200, 210, 220,\n",
       "                                                         230, 240]},\n",
       "                   random_state=2, scoring='accuracy')"
      ]
     },
     "execution_count": 69,
     "metadata": {},
     "output_type": "execute_result"
    }
   ],
   "source": [
    "param_gridrf_2 = {\n",
    " 'max_depth': [6, 8, 10, 12, None],\n",
    " 'max_features': ['auto', 'sqrt'],\n",
    " 'min_samples_leaf': [8, 10, 12, 14, 16],\n",
    " 'min_samples_split': [8, 10, 12, 14, 16],\n",
    " 'n_estimators': [190,200,210,220,230,240]}\n",
    "gsearchrf2= RandomizedSearchCV(estimator = RandomForestClassifier(random_state = 1), param_distributions = param_gridrf_2, scoring='accuracy', n_iter = 400, cv = 3, n_jobs = 3, random_state=2)\n",
    "gsearchrf2.fit(X_train,y_train)"
   ]
  },
  {
   "cell_type": "code",
   "execution_count": null,
   "metadata": {},
   "outputs": [
    {
     "data": {
      "text/plain": [
       "({'n_estimators': 200,\n",
       "  'min_samples_split': 14,\n",
       "  'min_samples_leaf': 14,\n",
       "  'max_features': 'sqrt',\n",
       "  'max_depth': 6},\n",
       " 0.6784861916126833)"
      ]
     },
     "execution_count": 70,
     "metadata": {},
     "output_type": "execute_result"
    }
   ],
   "source": [
    "gsearchrf2.best_params_, gsearchrf2.best_score_"
   ]
  },
  {
   "cell_type": "code",
   "execution_count": null,
   "metadata": {},
   "outputs": [
    {
     "data": {
      "text/plain": [
       "GridSearchCV(estimator=RandomForestClassifier(random_state=1), n_jobs=3,\n",
       "             param_grid={'max_depth': [1, 2, 3, 4, 5, 6],\n",
       "                         'max_features': ['auto', 'sqrt'],\n",
       "                         'min_samples_leaf': [14], 'min_samples_split': [14],\n",
       "                         'n_estimators': [200, 250, 300]},\n",
       "             scoring='accuracy')"
      ]
     },
     "execution_count": 71,
     "metadata": {},
     "output_type": "execute_result"
    }
   ],
   "source": [
    "param_gridrf_3 = {\n",
    " 'max_depth': [1,2,3,4,5,6],\n",
    " 'max_features': ['auto', 'sqrt'],\n",
    " 'min_samples_leaf': [14],\n",
    " 'min_samples_split': [14],\n",
    " 'n_estimators': [200,250,300]}\n",
    "gsearchrf3= GridSearchCV(estimator = RandomForestClassifier(random_state = 1), param_grid = param_gridrf_3, scoring='accuracy', n_jobs = 3)\n",
    "gsearchrf3.fit(X_train,y_train)"
   ]
  },
  {
   "cell_type": "code",
   "execution_count": null,
   "metadata": {},
   "outputs": [
    {
     "data": {
      "text/plain": [
       "({'max_depth': 6,\n",
       "  'max_features': 'auto',\n",
       "  'min_samples_leaf': 14,\n",
       "  'min_samples_split': 14,\n",
       "  'n_estimators': 200},\n",
       " 0.6753028580288387)"
      ]
     },
     "execution_count": 72,
     "metadata": {},
     "output_type": "execute_result"
    }
   ],
   "source": [
    "gsearchrf3.best_params_, gsearchrf3.best_score_"
   ]
  },
  {
   "cell_type": "code",
   "execution_count": null,
   "metadata": {},
   "outputs": [
    {
     "name": "stdout",
     "output_type": "stream",
     "text": [
      "AUC_ROC score for Validation data: 0.756\n",
      "Accuracy score for Validation data: 0.672\n",
      "\n",
      "\n",
      "AUC_ROC score for Test data: 0.756\n",
      "Accuracy score for Test data: 0.675\n"
     ]
    }
   ],
   "source": [
    "rf = gsearchrf3.best_estimator_\n",
    "rf.fit(X_train, y_train)\n",
    "\n",
    "def print_auc_scorer(type, score):\n",
    "    print('AUC_ROC score for {} data: {}'.format(type, round(float(score),3)))\n",
    "def print_accuracy_score(type, score):\n",
    "    print('Accuracy score for {} data: {}'.format(type, round(float(score),3)))\n",
    "\n",
    "print_auc_scorer('Validation', roc_auc_score(y_val, rf.predict_proba(X_val)[:, 1]))\n",
    "print_accuracy_score('Validation', boosting.score(X_val, y_val))\n",
    "print('\\n')\n",
    "print_auc_scorer('Test', roc_auc_score(y_test, rf.predict_proba(X_test)[:, 1]))\n",
    "print_accuracy_score('Test', boosting.score(X_test, y_test))"
   ]
  },
  {
   "cell_type": "markdown",
   "metadata": {},
   "source": [
    "## Conclusion:\n",
    "Best model for classification of `on_time` deliveries is by using Model 1: GradientBoostingClassifier algo with hyperparameter tuned\n",
    "\n",
    "We manage to achieve:\n",
    "\n",
    "*AUC_ROC score* for Test data: 0.758\n",
    "\n",
    "*Accuracy score* for Test data: 0.691\n",
    "\n",
    "with that particular model.\n",
    "\n",
    "Therefore using this model, company can use this to improve the estimated delivery time, so that shipments can arrive on time. And improve the ratio of late:on_time, which currently stands at approximately 60:40"
   ]
  },
  {
   "cell_type": "markdown",
   "metadata": {},
   "source": [
    "<br>\n",
    "\n",
    "<br>\n",
    "\n",
    "<br>\n",
    "                                                                                \n",
    "                                                                                End\n",
    "\n",
    "                                                                                \n",
    "\n",
    "                                                                                "
   ]
  },
  {
   "cell_type": "markdown",
   "metadata": {},
   "source": [
    "### Other Miscellaneous work:"
   ]
  },
  {
   "cell_type": "code",
   "execution_count": null,
   "metadata": {},
   "outputs": [
    {
     "data": {
      "text/html": [
       "<div>\n",
       "<style scoped>\n",
       "    .dataframe tbody tr th:only-of-type {\n",
       "        vertical-align: middle;\n",
       "    }\n",
       "\n",
       "    .dataframe tbody tr th {\n",
       "        vertical-align: top;\n",
       "    }\n",
       "\n",
       "    .dataframe thead th {\n",
       "        text-align: right;\n",
       "    }\n",
       "</style>\n",
       "<table border=\"1\" class=\"dataframe\">\n",
       "  <thead>\n",
       "    <tr style=\"text-align: right;\">\n",
       "      <th></th>\n",
       "      <th>Customer_care_calls</th>\n",
       "      <th>Cost_of_the_Product</th>\n",
       "      <th>Prior_purchases</th>\n",
       "      <th>Discount_offered</th>\n",
       "      <th>Weight_in_gms</th>\n",
       "      <th>on_time</th>\n",
       "      <th>Percentage_discount</th>\n",
       "      <th>Warehouse_block_A</th>\n",
       "      <th>Warehouse_block_B</th>\n",
       "      <th>Warehouse_block_C</th>\n",
       "      <th>...</th>\n",
       "      <th>Discount_category_(0.257, 6.652]</th>\n",
       "      <th>Discount_category_(6.652, 12.984]</th>\n",
       "      <th>Discount_category_(12.984, 19.316]</th>\n",
       "      <th>Discount_category_(19.316, 25.648]</th>\n",
       "      <th>Discount_category_(25.648, 31.98]</th>\n",
       "      <th>Discount_category_(31.98, 38.312]</th>\n",
       "      <th>Discount_category_(38.312, 44.644]</th>\n",
       "      <th>Discount_category_(44.644, 50.976]</th>\n",
       "      <th>Discount_category_(50.976, 57.308]</th>\n",
       "      <th>Discount_category_(57.308, 63.64]</th>\n",
       "    </tr>\n",
       "  </thead>\n",
       "  <tbody>\n",
       "    <tr>\n",
       "      <th>0</th>\n",
       "      <td>4</td>\n",
       "      <td>177</td>\n",
       "      <td>3</td>\n",
       "      <td>44</td>\n",
       "      <td>1233</td>\n",
       "      <td>False</td>\n",
       "      <td>24.86</td>\n",
       "      <td>0</td>\n",
       "      <td>0</td>\n",
       "      <td>0</td>\n",
       "      <td>...</td>\n",
       "      <td>0</td>\n",
       "      <td>0</td>\n",
       "      <td>0</td>\n",
       "      <td>1</td>\n",
       "      <td>0</td>\n",
       "      <td>0</td>\n",
       "      <td>0</td>\n",
       "      <td>0</td>\n",
       "      <td>0</td>\n",
       "      <td>0</td>\n",
       "    </tr>\n",
       "    <tr>\n",
       "      <th>1</th>\n",
       "      <td>4</td>\n",
       "      <td>216</td>\n",
       "      <td>2</td>\n",
       "      <td>59</td>\n",
       "      <td>3088</td>\n",
       "      <td>False</td>\n",
       "      <td>27.31</td>\n",
       "      <td>0</td>\n",
       "      <td>0</td>\n",
       "      <td>0</td>\n",
       "      <td>...</td>\n",
       "      <td>0</td>\n",
       "      <td>0</td>\n",
       "      <td>0</td>\n",
       "      <td>0</td>\n",
       "      <td>1</td>\n",
       "      <td>0</td>\n",
       "      <td>0</td>\n",
       "      <td>0</td>\n",
       "      <td>0</td>\n",
       "      <td>0</td>\n",
       "    </tr>\n",
       "    <tr>\n",
       "      <th>2</th>\n",
       "      <td>2</td>\n",
       "      <td>183</td>\n",
       "      <td>4</td>\n",
       "      <td>48</td>\n",
       "      <td>3374</td>\n",
       "      <td>False</td>\n",
       "      <td>26.23</td>\n",
       "      <td>1</td>\n",
       "      <td>0</td>\n",
       "      <td>0</td>\n",
       "      <td>...</td>\n",
       "      <td>0</td>\n",
       "      <td>0</td>\n",
       "      <td>0</td>\n",
       "      <td>0</td>\n",
       "      <td>1</td>\n",
       "      <td>0</td>\n",
       "      <td>0</td>\n",
       "      <td>0</td>\n",
       "      <td>0</td>\n",
       "      <td>0</td>\n",
       "    </tr>\n",
       "    <tr>\n",
       "      <th>3</th>\n",
       "      <td>3</td>\n",
       "      <td>176</td>\n",
       "      <td>4</td>\n",
       "      <td>10</td>\n",
       "      <td>1177</td>\n",
       "      <td>False</td>\n",
       "      <td>5.68</td>\n",
       "      <td>0</td>\n",
       "      <td>1</td>\n",
       "      <td>0</td>\n",
       "      <td>...</td>\n",
       "      <td>1</td>\n",
       "      <td>0</td>\n",
       "      <td>0</td>\n",
       "      <td>0</td>\n",
       "      <td>0</td>\n",
       "      <td>0</td>\n",
       "      <td>0</td>\n",
       "      <td>0</td>\n",
       "      <td>0</td>\n",
       "      <td>0</td>\n",
       "    </tr>\n",
       "    <tr>\n",
       "      <th>4</th>\n",
       "      <td>2</td>\n",
       "      <td>184</td>\n",
       "      <td>3</td>\n",
       "      <td>46</td>\n",
       "      <td>2484</td>\n",
       "      <td>False</td>\n",
       "      <td>25.00</td>\n",
       "      <td>0</td>\n",
       "      <td>0</td>\n",
       "      <td>1</td>\n",
       "      <td>...</td>\n",
       "      <td>0</td>\n",
       "      <td>0</td>\n",
       "      <td>0</td>\n",
       "      <td>1</td>\n",
       "      <td>0</td>\n",
       "      <td>0</td>\n",
       "      <td>0</td>\n",
       "      <td>0</td>\n",
       "      <td>0</td>\n",
       "      <td>0</td>\n",
       "    </tr>\n",
       "    <tr>\n",
       "      <th>...</th>\n",
       "      <td>...</td>\n",
       "      <td>...</td>\n",
       "      <td>...</td>\n",
       "      <td>...</td>\n",
       "      <td>...</td>\n",
       "      <td>...</td>\n",
       "      <td>...</td>\n",
       "      <td>...</td>\n",
       "      <td>...</td>\n",
       "      <td>...</td>\n",
       "      <td>...</td>\n",
       "      <td>...</td>\n",
       "      <td>...</td>\n",
       "      <td>...</td>\n",
       "      <td>...</td>\n",
       "      <td>...</td>\n",
       "      <td>...</td>\n",
       "      <td>...</td>\n",
       "      <td>...</td>\n",
       "      <td>...</td>\n",
       "      <td>...</td>\n",
       "    </tr>\n",
       "    <tr>\n",
       "      <th>10994</th>\n",
       "      <td>4</td>\n",
       "      <td>252</td>\n",
       "      <td>5</td>\n",
       "      <td>1</td>\n",
       "      <td>1538</td>\n",
       "      <td>False</td>\n",
       "      <td>0.40</td>\n",
       "      <td>1</td>\n",
       "      <td>0</td>\n",
       "      <td>0</td>\n",
       "      <td>...</td>\n",
       "      <td>1</td>\n",
       "      <td>0</td>\n",
       "      <td>0</td>\n",
       "      <td>0</td>\n",
       "      <td>0</td>\n",
       "      <td>0</td>\n",
       "      <td>0</td>\n",
       "      <td>0</td>\n",
       "      <td>0</td>\n",
       "      <td>0</td>\n",
       "    </tr>\n",
       "    <tr>\n",
       "      <th>10995</th>\n",
       "      <td>4</td>\n",
       "      <td>232</td>\n",
       "      <td>5</td>\n",
       "      <td>6</td>\n",
       "      <td>1247</td>\n",
       "      <td>True</td>\n",
       "      <td>2.59</td>\n",
       "      <td>0</td>\n",
       "      <td>1</td>\n",
       "      <td>0</td>\n",
       "      <td>...</td>\n",
       "      <td>1</td>\n",
       "      <td>0</td>\n",
       "      <td>0</td>\n",
       "      <td>0</td>\n",
       "      <td>0</td>\n",
       "      <td>0</td>\n",
       "      <td>0</td>\n",
       "      <td>0</td>\n",
       "      <td>0</td>\n",
       "      <td>0</td>\n",
       "    </tr>\n",
       "    <tr>\n",
       "      <th>10996</th>\n",
       "      <td>5</td>\n",
       "      <td>242</td>\n",
       "      <td>5</td>\n",
       "      <td>4</td>\n",
       "      <td>1155</td>\n",
       "      <td>True</td>\n",
       "      <td>1.65</td>\n",
       "      <td>0</td>\n",
       "      <td>0</td>\n",
       "      <td>1</td>\n",
       "      <td>...</td>\n",
       "      <td>1</td>\n",
       "      <td>0</td>\n",
       "      <td>0</td>\n",
       "      <td>0</td>\n",
       "      <td>0</td>\n",
       "      <td>0</td>\n",
       "      <td>0</td>\n",
       "      <td>0</td>\n",
       "      <td>0</td>\n",
       "      <td>0</td>\n",
       "    </tr>\n",
       "    <tr>\n",
       "      <th>10997</th>\n",
       "      <td>5</td>\n",
       "      <td>223</td>\n",
       "      <td>6</td>\n",
       "      <td>2</td>\n",
       "      <td>1210</td>\n",
       "      <td>True</td>\n",
       "      <td>0.90</td>\n",
       "      <td>0</td>\n",
       "      <td>0</td>\n",
       "      <td>0</td>\n",
       "      <td>...</td>\n",
       "      <td>1</td>\n",
       "      <td>0</td>\n",
       "      <td>0</td>\n",
       "      <td>0</td>\n",
       "      <td>0</td>\n",
       "      <td>0</td>\n",
       "      <td>0</td>\n",
       "      <td>0</td>\n",
       "      <td>0</td>\n",
       "      <td>0</td>\n",
       "    </tr>\n",
       "    <tr>\n",
       "      <th>10998</th>\n",
       "      <td>2</td>\n",
       "      <td>155</td>\n",
       "      <td>5</td>\n",
       "      <td>6</td>\n",
       "      <td>1639</td>\n",
       "      <td>True</td>\n",
       "      <td>3.87</td>\n",
       "      <td>0</td>\n",
       "      <td>0</td>\n",
       "      <td>0</td>\n",
       "      <td>...</td>\n",
       "      <td>1</td>\n",
       "      <td>0</td>\n",
       "      <td>0</td>\n",
       "      <td>0</td>\n",
       "      <td>0</td>\n",
       "      <td>0</td>\n",
       "      <td>0</td>\n",
       "      <td>0</td>\n",
       "      <td>0</td>\n",
       "      <td>0</td>\n",
       "    </tr>\n",
       "  </tbody>\n",
       "</table>\n",
       "<p>10999 rows × 35 columns</p>\n",
       "</div>"
      ],
      "text/plain": [
       "       Customer_care_calls  Cost_of_the_Product  Prior_purchases  \\\n",
       "0                        4                  177                3   \n",
       "1                        4                  216                2   \n",
       "2                        2                  183                4   \n",
       "3                        3                  176                4   \n",
       "4                        2                  184                3   \n",
       "...                    ...                  ...              ...   \n",
       "10994                    4                  252                5   \n",
       "10995                    4                  232                5   \n",
       "10996                    5                  242                5   \n",
       "10997                    5                  223                6   \n",
       "10998                    2                  155                5   \n",
       "\n",
       "       Discount_offered  Weight_in_gms  on_time  Percentage_discount  \\\n",
       "0                    44           1233    False                24.86   \n",
       "1                    59           3088    False                27.31   \n",
       "2                    48           3374    False                26.23   \n",
       "3                    10           1177    False                 5.68   \n",
       "4                    46           2484    False                25.00   \n",
       "...                 ...            ...      ...                  ...   \n",
       "10994                 1           1538    False                 0.40   \n",
       "10995                 6           1247     True                 2.59   \n",
       "10996                 4           1155     True                 1.65   \n",
       "10997                 2           1210     True                 0.90   \n",
       "10998                 6           1639     True                 3.87   \n",
       "\n",
       "       Warehouse_block_A  Warehouse_block_B  Warehouse_block_C  ...  \\\n",
       "0                      0                  0                  0  ...   \n",
       "1                      0                  0                  0  ...   \n",
       "2                      1                  0                  0  ...   \n",
       "3                      0                  1                  0  ...   \n",
       "4                      0                  0                  1  ...   \n",
       "...                  ...                ...                ...  ...   \n",
       "10994                  1                  0                  0  ...   \n",
       "10995                  0                  1                  0  ...   \n",
       "10996                  0                  0                  1  ...   \n",
       "10997                  0                  0                  0  ...   \n",
       "10998                  0                  0                  0  ...   \n",
       "\n",
       "       Discount_category_(0.257, 6.652]  Discount_category_(6.652, 12.984]  \\\n",
       "0                                     0                                  0   \n",
       "1                                     0                                  0   \n",
       "2                                     0                                  0   \n",
       "3                                     1                                  0   \n",
       "4                                     0                                  0   \n",
       "...                                 ...                                ...   \n",
       "10994                                 1                                  0   \n",
       "10995                                 1                                  0   \n",
       "10996                                 1                                  0   \n",
       "10997                                 1                                  0   \n",
       "10998                                 1                                  0   \n",
       "\n",
       "       Discount_category_(12.984, 19.316]  Discount_category_(19.316, 25.648]  \\\n",
       "0                                       0                                   1   \n",
       "1                                       0                                   0   \n",
       "2                                       0                                   0   \n",
       "3                                       0                                   0   \n",
       "4                                       0                                   1   \n",
       "...                                   ...                                 ...   \n",
       "10994                                   0                                   0   \n",
       "10995                                   0                                   0   \n",
       "10996                                   0                                   0   \n",
       "10997                                   0                                   0   \n",
       "10998                                   0                                   0   \n",
       "\n",
       "       Discount_category_(25.648, 31.98]  Discount_category_(31.98, 38.312]  \\\n",
       "0                                      0                                  0   \n",
       "1                                      1                                  0   \n",
       "2                                      1                                  0   \n",
       "3                                      0                                  0   \n",
       "4                                      0                                  0   \n",
       "...                                  ...                                ...   \n",
       "10994                                  0                                  0   \n",
       "10995                                  0                                  0   \n",
       "10996                                  0                                  0   \n",
       "10997                                  0                                  0   \n",
       "10998                                  0                                  0   \n",
       "\n",
       "       Discount_category_(38.312, 44.644]  Discount_category_(44.644, 50.976]  \\\n",
       "0                                       0                                   0   \n",
       "1                                       0                                   0   \n",
       "2                                       0                                   0   \n",
       "3                                       0                                   0   \n",
       "4                                       0                                   0   \n",
       "...                                   ...                                 ...   \n",
       "10994                                   0                                   0   \n",
       "10995                                   0                                   0   \n",
       "10996                                   0                                   0   \n",
       "10997                                   0                                   0   \n",
       "10998                                   0                                   0   \n",
       "\n",
       "       Discount_category_(50.976, 57.308]  Discount_category_(57.308, 63.64]  \n",
       "0                                       0                                  0  \n",
       "1                                       0                                  0  \n",
       "2                                       0                                  0  \n",
       "3                                       0                                  0  \n",
       "4                                       0                                  0  \n",
       "...                                   ...                                ...  \n",
       "10994                                   0                                  0  \n",
       "10995                                   0                                  0  \n",
       "10996                                   0                                  0  \n",
       "10997                                   0                                  0  \n",
       "10998                                   0                                  0  \n",
       "\n",
       "[10999 rows x 35 columns]"
      ]
     },
     "execution_count": 57,
     "metadata": {},
     "output_type": "execute_result"
    }
   ],
   "source": [
    "dft"
   ]
  },
  {
   "cell_type": "code",
   "execution_count": null,
   "metadata": {},
   "outputs": [
    {
     "name": "stdout",
     "output_type": "stream",
     "text": [
      "['Warehouse_block', 'Customer_rating', 'Discount_category']\n",
      "['Customer_care_calls', 'Cost_of_the_Product', 'Discount_offered', 'Weight_in_gms', 'Percentage_discount']\n"
     ]
    }
   ],
   "source": [
    "# Dealing with selected features (if necessary)\n",
    "resultList_dummycols = [x for x in dummy_cols if x in resultList]\n",
    "resultList_continuous_variables = [x for x in continuous_variables if x in resultList]\n",
    "print(resultList_dummycols)\n",
    "print(resultList_continuous_variables)"
   ]
  },
  {
   "cell_type": "code",
   "execution_count": null,
   "metadata": {},
   "outputs": [
    {
     "data": {
      "text/html": [
       "<div>\n",
       "<style scoped>\n",
       "    .dataframe tbody tr th:only-of-type {\n",
       "        vertical-align: middle;\n",
       "    }\n",
       "\n",
       "    .dataframe tbody tr th {\n",
       "        vertical-align: top;\n",
       "    }\n",
       "\n",
       "    .dataframe thead th {\n",
       "        text-align: right;\n",
       "    }\n",
       "</style>\n",
       "<table border=\"1\" class=\"dataframe\">\n",
       "  <thead>\n",
       "    <tr style=\"text-align: right;\">\n",
       "      <th></th>\n",
       "      <th>Product_importance</th>\n",
       "      <th>Score</th>\n",
       "    </tr>\n",
       "  </thead>\n",
       "  <tbody>\n",
       "    <tr>\n",
       "      <th>0</th>\n",
       "      <td>high</td>\n",
       "      <td>2.994</td>\n",
       "    </tr>\n",
       "    <tr>\n",
       "      <th>1</th>\n",
       "      <td>medium</td>\n",
       "      <td>2.998</td>\n",
       "    </tr>\n",
       "    <tr>\n",
       "      <th>2</th>\n",
       "      <td>low</td>\n",
       "      <td>2.984</td>\n",
       "    </tr>\n",
       "  </tbody>\n",
       "</table>\n",
       "</div>"
      ],
      "text/plain": [
       "  Product_importance  Score\n",
       "0               high  2.994\n",
       "1             medium  2.998\n",
       "2                low  2.984"
      ]
     },
     "execution_count": 63,
     "metadata": {},
     "output_type": "execute_result"
    }
   ],
   "source": [
    "count_for_plot = df.groupby(['Product_importance','Customer_rating']).count().iloc[:,0].reset_index()\n",
    "count_for_plot.rename({'Warehouse_block':'Count'}, axis = 1, inplace=True)\n",
    "idx = pd.Categorical(count_for_plot['Product_importance'],\n",
    "          categories=['high','medium','low'],\n",
    "          ordered=True)\n",
    "count_for_plot['Product_importance'] = idx\n",
    "#percentage = count_for_plot.groupby('Product_importance')['Count'].apply(lambda x: (x/x.sum()*100).round(2))\n",
    "#count_for_plot['Percentage'] = percentage\n",
    "avg_score = count_for_plot.groupby('Product_importance', as_index=False).apply(lambda x: ((x.Customer_rating*x.Count).sum()/x.Count.sum()).round(3))\n",
    "avg_score.columns = ['Product_importance','Score']\n",
    "avg_score"
   ]
  },
  {
   "cell_type": "markdown",
   "metadata": {},
   "source": [
    "Furthermore, `high` product importance items seem to have comparative rating scores compared to the other products, hence despite being late more often, it doesn't seem to affect the ratings."
   ]
  }
 ],
 "metadata": {
  "interpreter": {
   "hash": "d62006d1f3422635846181a997a61e8ec3049f797e5d7dfe0cd1bb84092b7c19"
  },
  "kernelspec": {
   "display_name": "Python 3.9.5 64-bit",
   "language": "python",
   "name": "python3"
  },
  "language_info": {
   "codemirror_mode": {
    "name": "ipython",
    "version": 3
   },
   "file_extension": ".py",
   "mimetype": "text/x-python",
   "name": "python",
   "nbconvert_exporter": "python",
   "pygments_lexer": "ipython3",
   "version": "3.9.5"
  },
  "orig_nbformat": 4
 },
 "nbformat": 4,
 "nbformat_minor": 2
}
