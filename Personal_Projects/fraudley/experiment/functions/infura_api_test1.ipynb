{
 "cells": [
  {
   "cell_type": "code",
   "execution_count": 5,
   "metadata": {},
   "outputs": [
    {
     "name": "stdout",
     "output_type": "stream",
     "text": [
      "17617\n"
     ]
    }
   ],
   "source": [
    "import requests\n",
    "\n",
    "url = 'https://mainnet.infura.io/v3/26fab90a99a74e2998c375f732494aec'\n",
    "headers = {'Content-Type': 'application/json'}\n",
    "data = '{\"jsonrpc\":\"2.0\",\"method\":\"eth_getTransactionCount\",\"params\": [\"0xA21740833858985e4D801533a808786d3647Fb83\", \"latest\"],\"id\":1}'\n",
    "\n",
    "response = requests.post(url, headers=headers, data=data)\n",
    "print(int(response.json()['result'], 0))"
   ]
  },
  {
   "cell_type": "code",
   "execution_count": 17,
   "metadata": {},
   "outputs": [],
   "source": [
    "def get_txn_statistics(addr, startblock = 0):\n",
    "    to_discard = True\n",
    "    url = f'https://api.etherscan.io/api?module=account&action=txlist&startblock={startblock}&address={addr}&apikey={\"SVFQMQGPZ6NGU7GD5E281BGCZX1RTKU4Y5\"}'\n",
    "    response1 = requests.request('GET', url)\n",
    "    if (response1.status_code != 200):\n",
    "        txn_count = -(10**7)\n",
    "        sent_txn_count = -(10**7)\n",
    "        received_txn_count = -(10**7)\n",
    "        print(f'Error for getting txn address: {addr}')\n",
    "    else:\n",
    "        txn_info = response1.json()['result']\n",
    "        try:\n",
    "            if txn_info == []:\n",
    "                txn_count = 0\n",
    "                sent_txn_count = 0\n",
    "                received_txn_count = 0 \n",
    "                unique_received_from = 0\n",
    "                unique_sent_to = 0\n",
    "\n",
    "            elif (type(txn_info)) == list:\n",
    "                txn_count = len(txn_info)\n",
    "                if any([x['from'] == x['to'] for x in txn_info]):\n",
    "                    to_discard = False\n",
    "                from_lst = [x['from'].lower() for x in txn_info]\n",
    "                sent_txn_count = from_lst.count(addr)\n",
    "                receieved_from_set = set(from_lst)\n",
    "                if to_discard:\n",
    "                    receieved_from_set.discard(addr)\n",
    "                unique_received_from = len(receieved_from_set)\n",
    "\n",
    "                to_lst = [x['to'].lower() for x in txn_info]\n",
    "                received_txn_count = to_lst.count(addr)\n",
    "                sent_to_set = set(to_lst)\n",
    "                if to_discard:\n",
    "                    sent_to_set.discard(addr)\n",
    "                unique_sent_to = len(sent_to_set)\n",
    "            else:\n",
    "                txn_count = -(10**7)\n",
    "                sent_txn_count = -(10**7)\n",
    "                received_txn_count = -(10**7)\n",
    "                unique_received_from = -(10**7)\n",
    "                unique_sent_to = -(10**7)\n",
    "        except:\n",
    "            txn_count = -(10**7)\n",
    "            sent_txn_count = -(10**7)\n",
    "            received_txn_count = -(10**7)\n",
    "            unique_received_from = -(10**7)\n",
    "            unique_sent_to = -(10**7)            \n",
    "            print(f'Error in respsonse of API call for address: {addr}')          \n",
    "    return txn_count, sent_txn_count, received_txn_count, unique_received_from, unique_sent_to"
   ]
  },
  {
   "cell_type": "code",
   "execution_count": 18,
   "metadata": {},
   "outputs": [
    {
     "data": {
      "text/plain": [
       "(10000, 9995, 205, 2, 3)"
      ]
     },
     "execution_count": 18,
     "metadata": {},
     "output_type": "execute_result"
    }
   ],
   "source": [
    "get_txn_statistics('0xA21740833858985e4D801533a808786d3647Fb83'.lower())"
   ]
  },
  {
   "cell_type": "code",
   "execution_count": 1,
   "metadata": {},
   "outputs": [],
   "source": [
    "import requests\n",
    "def infura_balance_checker(address):\n",
    "    url = 'https://mainnet.infura.io/v3/26fab90a99a74e2998c375f732494aec'\n",
    "    headers = {'Content-Type': 'application/json'}\n",
    "    data = '{\"jsonrpc\":\"2.0\",\"method\":\"eth_getBalance\",\"params\": [\"0xA21740833858985e4D801533a808786d3647Fb83\", \"latest\"],\"id\":1}'\n",
    "    response = requests.post(url, headers=headers, data=data)\n",
    "\n",
    "    return int(response.json()['result'], 0)/(10**18)\n",
    "# infura_balance_checker('0xA21740833858985e4D801533a808786d3647Fb83'.lower())"
   ]
  },
  {
   "cell_type": "code",
   "execution_count": 2,
   "metadata": {},
   "outputs": [],
   "source": [
    "def balance_checker(address):\n",
    "    url = f'https://api.etherscan.io/api?module=account&action=balance&address={address}&tag=latest&apikey={\"SVFQMQGPZ6NGU7GD5E281BGCZX1RTKU4Y5\"}'\n",
    "    try:\n",
    "        response = requests.request('GET', url)\n",
    "        if response.status_code != 200:\n",
    "            url2 = f'https://api.etherscan.io/api?module=account&action=balance&address={address}&tag=latest&apikey={\"SVFQMQGPZ6NGU7GD5E281BGCZX1RTKU4Y5\"}'\n",
    "            response2 = requests.request('GET', url2)\n",
    "            if response2.status_code != 200:\n",
    "                balance = -10**20\n",
    "                print(f'Error for getting address balance: {address}')\n",
    "            else:\n",
    "                balance = response2.json()['result']\n",
    "        else:\n",
    "            balance = response.json()['result']\n",
    "    except:\n",
    "        balance = -10**20\n",
    "    return float(balance) / 10**18"
   ]
  },
  {
   "cell_type": "code",
   "execution_count": 3,
   "metadata": {},
   "outputs": [
    {
     "data": {
      "text/plain": [
       "5.570796418602985"
      ]
     },
     "execution_count": 3,
     "metadata": {},
     "output_type": "execute_result"
    }
   ],
   "source": [
    "balance_checker('0xA21740833858985e4D801533a808786d3647Fb83'.lower())"
   ]
  },
  {
   "cell_type": "code",
   "execution_count": 3,
   "metadata": {},
   "outputs": [],
   "source": [
    "for i in range(100):\n",
    "    balance_checker('0xA21740833858985e4D801533a808786d3647Fb83'.lower())"
   ]
  },
  {
   "cell_type": "code",
   "execution_count": 4,
   "metadata": {},
   "outputs": [],
   "source": [
    "for i in range(100):\n",
    "    infura_balance_checker('0xA21740833858985e4D801533a808786d3647Fb83'.lower())"
   ]
  }
 ],
 "metadata": {
  "kernelspec": {
   "display_name": "fraudley_env_01",
   "language": "python",
   "name": "python3"
  },
  "language_info": {
   "codemirror_mode": {
    "name": "ipython",
    "version": 3
   },
   "file_extension": ".py",
   "mimetype": "text/x-python",
   "name": "python",
   "nbconvert_exporter": "python",
   "pygments_lexer": "ipython3",
   "version": "3.9.5 (tags/v3.9.5:0a7dcbd, May  3 2021, 17:27:52) [MSC v.1928 64 bit (AMD64)]"
  },
  "orig_nbformat": 4,
  "vscode": {
   "interpreter": {
    "hash": "5a8a21e5fc359860a4b6692c86aee8e15feacba7372777d848b0846f44a82230"
   }
  }
 },
 "nbformat": 4,
 "nbformat_minor": 2
}
