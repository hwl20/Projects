{
  "nbformat": 4,
  "nbformat_minor": 0,
  "metadata": {
    "colab": {
      "name": "Untitled0.ipynb",
      "provenance": [],
      "authorship_tag": "ABX9TyO8msPBHqCdP15qOS2e6YVG",
      "include_colab_link": true
    },
    "kernelspec": {
      "name": "python3",
      "display_name": "Python 3"
    },
    "language_info": {
      "name": "python"
    }
  },
  "cells": [
    {
      "cell_type": "markdown",
      "metadata": {
        "id": "view-in-github",
        "colab_type": "text"
      },
      "source": [
        "<a href=\"https://colab.research.google.com/github/hwl20/Projects/blob/main/Personal_Projects/Used%20Car%20Prediction/UsedCarGoogleColab.ipynb\" target=\"_parent\"><img src=\"https://colab.research.google.com/assets/colab-badge.svg\" alt=\"Open In Colab\"/></a>"
      ]
    },
    {
      "cell_type": "markdown",
      "metadata": {
        "id": "rT-vapB_oRV3"
      },
      "source": [
        "Project dataset: https://www.kaggle.com/nehalbirla/vehicle-dataset-from-cardekho?select=Car+details+v3.csv\n",
        "Date retrieved: 2021-07-20\n",
        "\n",
        "Business problem: \n",
        "\n",
        "    We want to create a model that is able to accurately predict the value of a car. \n",
        "    This will allow car buyers to better evaluate the true value of a car such that they are not overpaying based on certain car metrics.\n",
        "    Also it will allow sellers to better estimate the price they want to list their car especially if they want to ensure they are able to sell their car.\n",
        "    This has very practical use cases for car buying/selling platforms to provide price suggestion when users list cars on their platforms\n",
        "    Higher turnover rate will mean more PROFIT for platforms who earn comission from a resale of a car and happy customers which help customer retention as well\n",
        "        \n",
        "Dataset details:\n",
        "\n",
        "-This dataset contains information about used cars based in India last recorded on June 2020\n",
        "\n",
        "-Preliminary column desription and personal thoughts:\n",
        "\n",
        "    1. name - name and model of vehicle\n",
        "    2. year - car manufacture date, older cars should have relatively lower value due to depreciation\n",
        "    3. selling_price - dependent variable that we are looking to build a model that can accurately predict this\n",
        "    4. km_driven - indicates the distance that has already been driven, which may imply the current condition of the car\n",
        "    5. fuel - type of fuel used, diesel cars are generally cheaper than petrol cars\n",
        "    6. seller_type - Individual sellers should be cheaper than Dealer who would want to collcect a comission\n",
        "    7. transmission - Manual or Auto, not clear how would this affect price yet\n",
        "    8. owner - Number of owners a particular car had, more owners car generally have lower prices as it may suggest that there might be some issues in the car (psychological factor)\n",
        "    9. mileage - fuel efficency, higher efficiency could potentially fetch higher prices\n",
        "    10. engine - Engine capacity, higher engine capacity should suggest higher selling price\n",
        "    11. max_power - Power of engine, higher power should suggest higher selling price\n",
        "    12. torque - Engine rotational force, higher torque should suggest higher selling price\n",
        "    13. seats- Seats of car, more seats generally corresponds to higher selling price\n",
        "\n",
        "In here we will follow the data science framework of working with data:\n",
        "\n",
        "  1. Retrieving data - Kindly done so from kaggle\n",
        "  \n",
        "  2. Data Cleaning\n",
        "  \n",
        "  3. Exploratory Data Analysis to get a better understanding of data\n",
        "  \n",
        "  4. Feature selection \n",
        "  \n",
        "  5. Model Building\n"
      ]
    },
    {
      "cell_type": "markdown",
      "metadata": {
        "id": "JbT3LjvtpLWs"
      },
      "source": [
        "# **Importing Packages**\n"
      ]
    },
    {
      "cell_type": "code",
      "metadata": {
        "id": "bemb-BCPoQpz"
      },
      "source": [
        "import pandas as pd\n",
        "import matplotlib.pyplot as plt\n",
        "import seaborn as sns\n",
        "import numpy as np\n",
        "import os\n",
        "import math"
      ],
      "execution_count": 150,
      "outputs": []
    },
    {
      "cell_type": "markdown",
      "metadata": {
        "id": "U0OeSrdSpV2x"
      },
      "source": [
        "# **Retrieving data**"
      ]
    },
    {
      "cell_type": "code",
      "metadata": {
        "colab": {
          "base_uri": "https://localhost:8080/"
        },
        "id": "XLGXxMDeppb0",
        "outputId": "0f2bb3da-7167-4391-aff8-dbb1174df132"
      },
      "source": [
        "from google.colab import drive\n",
        "drive.mount('/content/drive')"
      ],
      "execution_count": 151,
      "outputs": [
        {
          "output_type": "stream",
          "text": [
            "Drive already mounted at /content/drive; to attempt to forcibly remount, call drive.mount(\"/content/drive\", force_remount=True).\n"
          ],
          "name": "stdout"
        }
      ]
    },
    {
      "cell_type": "code",
      "metadata": {
        "colab": {
          "base_uri": "https://localhost:8080/"
        },
        "id": "nvByc0w-pSVt",
        "outputId": "25091e04-2bf4-46e1-fe44-dbc9316f7d36"
      },
      "source": [
        "df = pd.read_csv(\"/content/drive/MyDrive/Car details v3.csv\")\n",
        "print(\"Shape of dataframe: \", df.shape)\n",
        "print(\"\\nFirst 5 rows: \", df.head())"
      ],
      "execution_count": 152,
      "outputs": [
        {
          "output_type": "stream",
          "text": [
            "Shape of dataframe:  (8128, 13)\n",
            "\n",
            "First 5 rows:                             name  year  ...                    torque  seats\n",
            "0        Maruti Swift Dzire VDI  2014  ...            190Nm@ 2000rpm    5.0\n",
            "1  Skoda Rapid 1.5 TDI Ambition  2014  ...       250Nm@ 1500-2500rpm    5.0\n",
            "2      Honda City 2017-2020 EXi  2006  ...     12.7@ 2,700(kgm@ rpm)    5.0\n",
            "3     Hyundai i20 Sportz Diesel  2010  ...  22.4 kgm at 1750-2750rpm    5.0\n",
            "4        Maruti Swift VXI BSIII  2007  ...     11.5@ 4,500(kgm@ rpm)    5.0\n",
            "\n",
            "[5 rows x 13 columns]\n"
          ],
          "name": "stdout"
        }
      ]
    },
    {
      "cell_type": "markdown",
      "metadata": {
        "id": "5Hcrnoj2qpaT"
      },
      "source": [
        "# **Data Cleaning**"
      ]
    },
    {
      "cell_type": "markdown",
      "metadata": {
        "id": "1dr5eNuFs-Mh"
      },
      "source": [
        "Removing duplicates as I assume they were just double counted"
      ]
    },
    {
      "cell_type": "code",
      "metadata": {
        "colab": {
          "base_uri": "https://localhost:8080/"
        },
        "id": "6mEiVpxdqo1_",
        "outputId": "ef3a180b-45a6-40e1-ba21-23da8d4d4179"
      },
      "source": [
        "print(\"Duplicates rows present?\\n\",df.duplicated().any(),'\\n', sep='')"
      ],
      "execution_count": 153,
      "outputs": [
        {
          "output_type": "stream",
          "text": [
            "Duplicates rows present?\n",
            "True\n",
            "\n"
          ],
          "name": "stdout"
        }
      ]
    },
    {
      "cell_type": "markdown",
      "metadata": {
        "id": "LkK1GubFtWko"
      },
      "source": [
        "Drop duplicate rows"
      ]
    },
    {
      "cell_type": "code",
      "metadata": {
        "id": "_GNPwd3TtVj7"
      },
      "source": [
        "df = df.drop_duplicates()"
      ],
      "execution_count": 154,
      "outputs": []
    },
    {
      "cell_type": "markdown",
      "metadata": {
        "id": "qx3KFwu4u6sh"
      },
      "source": [
        "Null count"
      ]
    },
    {
      "cell_type": "code",
      "metadata": {
        "colab": {
          "base_uri": "https://localhost:8080/"
        },
        "id": "qTCqr3WsrURi",
        "outputId": "1584c5b8-833c-4357-e60d-3540d6dea411"
      },
      "source": [
        "df.isnull().sum()"
      ],
      "execution_count": 155,
      "outputs": [
        {
          "output_type": "execute_result",
          "data": {
            "text/plain": [
              "name               0\n",
              "year               0\n",
              "selling_price      0\n",
              "km_driven          0\n",
              "fuel               0\n",
              "seller_type        0\n",
              "transmission       0\n",
              "owner              0\n",
              "mileage          208\n",
              "engine           208\n",
              "max_power        205\n",
              "torque           209\n",
              "seats            208\n",
              "dtype: int64"
            ]
          },
          "metadata": {
            "tags": []
          },
          "execution_count": 155
        }
      ]
    },
    {
      "cell_type": "code",
      "metadata": {
        "colab": {
          "base_uri": "https://localhost:8080/"
        },
        "id": "v4q_YtKnvMAP",
        "outputId": "ab91cea2-a9b9-4960-cb67-998d5afd209f"
      },
      "source": [
        "percentage_null_per_category = df.isnull().sum()/ df.shape[0]*100\n",
        "percentage_null_per_category"
      ],
      "execution_count": 156,
      "outputs": [
        {
          "output_type": "execute_result",
          "data": {
            "text/plain": [
              "name             0.000000\n",
              "year             0.000000\n",
              "selling_price    0.000000\n",
              "km_driven        0.000000\n",
              "fuel             0.000000\n",
              "seller_type      0.000000\n",
              "transmission     0.000000\n",
              "owner            0.000000\n",
              "mileage          3.003176\n",
              "engine           3.003176\n",
              "max_power        2.959861\n",
              "torque           3.017615\n",
              "seats            3.003176\n",
              "dtype: float64"
            ]
          },
          "metadata": {
            "tags": []
          },
          "execution_count": 156
        }
      ]
    },
    {
      "cell_type": "markdown",
      "metadata": {
        "id": "Lv-eXusSuyqu"
      },
      "source": [
        "Number of rows which has at lest 1 null cell"
      ]
    },
    {
      "cell_type": "code",
      "metadata": {
        "colab": {
          "base_uri": "https://localhost:8080/"
        },
        "id": "xUwLiTFwu4UC",
        "outputId": "b36d383e-d229-4ddb-ff63-05c921c08d9c"
      },
      "source": [
        "df.isnull().any(axis=1).sum()"
      ],
      "execution_count": 157,
      "outputs": [
        {
          "output_type": "execute_result",
          "data": {
            "text/plain": [
              "209"
            ]
          },
          "metadata": {
            "tags": []
          },
          "execution_count": 157
        }
      ]
    },
    {
      "cell_type": "code",
      "metadata": {
        "colab": {
          "base_uri": "https://localhost:8080/"
        },
        "id": "M0s5aOmjtl-b",
        "outputId": "f13d0a63-813b-45ad-d019-895ab2525469"
      },
      "source": [
        "percentage_null_total = df.isnull().any(axis=1).sum()/df.shape[0]*100\n",
        "print(round(percentage_null_total,2),\"%\", sep=\"\")"
      ],
      "execution_count": 158,
      "outputs": [
        {
          "output_type": "stream",
          "text": [
            "3.02%\n"
          ],
          "name": "stdout"
        }
      ]
    },
    {
      "cell_type": "markdown",
      "metadata": {
        "id": "1RgdJoYGCn41"
      },
      "source": [
        "Since null values only take up 3% of the dataset, I will remove all rows with null values as well"
      ]
    },
    {
      "cell_type": "code",
      "metadata": {
        "id": "i6C4Af7etmAo"
      },
      "source": [
        "df = df.dropna(axis=0)"
      ],
      "execution_count": 159,
      "outputs": []
    },
    {
      "cell_type": "markdown",
      "metadata": {
        "id": "8v2XRAP4CwBQ"
      },
      "source": [
        "Converting manufacture year to the age of the instead called years_used"
      ]
    },
    {
      "cell_type": "code",
      "metadata": {
        "id": "ueQxRMoftmDT"
      },
      "source": [
        "df['years_used'] = 2021 - df.year\n",
        "\n",
        "df = df.drop('year', axis=1)"
      ],
      "execution_count": 160,
      "outputs": []
    },
    {
      "cell_type": "markdown",
      "metadata": {
        "id": "bzVhHX-jDUJr"
      },
      "source": [
        "---\n",
        "\n",
        "Removing the units for data\n",
        "\n",
        "\n",
        "\n"
      ]
    },
    {
      "cell_type": "markdown",
      "metadata": {
        "id": "TYD1HZlAEyoo"
      },
      "source": [
        "\n",
        "\n",
        "> Mileage\n",
        "\n"
      ]
    },
    {
      "cell_type": "code",
      "metadata": {
        "colab": {
          "base_uri": "https://localhost:8080/"
        },
        "id": "IxkicY0CtmFq",
        "outputId": "d95efbbe-c150-48c8-eea5-40b19233c186"
      },
      "source": [
        "mileage_units = list(pd.Series(map(lambda x: x.split(' ')[1], df.mileage)).unique())\n",
        "fuel_types = list(df.fuel.unique())\n",
        "print(\"Units: \", mileage_units)\n",
        "print(\"Fuel: \",fuel_types)"
      ],
      "execution_count": 161,
      "outputs": [
        {
          "output_type": "stream",
          "text": [
            "Units:  ['kmpl', 'km/kg']\n",
            "Fuel:  ['Diesel', 'Petrol', 'LPG', 'CNG']\n"
          ],
          "name": "stdout"
        }
      ]
    },
    {
      "cell_type": "code",
      "metadata": {
        "id": "kITvY3uCtmIP"
      },
      "source": [
        "fuel_conversion = {fuel_types[0]: 0.832,fuel_types[1]: 0.73, fuel_types[2]: 0.512, fuel_types[3]: 0.714} # Conversion value for litre to kg equivalent was extracted from the web "
      ],
      "execution_count": 162,
      "outputs": []
    },
    {
      "cell_type": "markdown",
      "metadata": {
        "id": "q-JOkibHEXih"
      },
      "source": [
        "function that converts km/kg to kmpl"
      ]
    },
    {
      "cell_type": "code",
      "metadata": {
        "id": "-gLph-3ttmKa"
      },
      "source": [
        "def converting_mileage(row):\n",
        "    value = float(row.mileage.split()[0])\n",
        "    if not row.mileage.endswith('kmpl'):\n",
        "        f_type = row.fuel\n",
        "        row['mileage'] = round(value*fuel_conversion[f_type],2)\n",
        "    else: row['mileage'] = value\n",
        "    return row  "
      ],
      "execution_count": 163,
      "outputs": []
    },
    {
      "cell_type": "code",
      "metadata": {
        "id": "TaX0qgdMtmMv"
      },
      "source": [
        "df = df.apply(converting_mileage, axis=1)"
      ],
      "execution_count": 164,
      "outputs": []
    },
    {
      "cell_type": "markdown",
      "metadata": {
        "id": "xR1QaHtRE3oN"
      },
      "source": [
        "\n",
        "\n",
        "> Engine\n",
        "\n"
      ]
    },
    {
      "cell_type": "code",
      "metadata": {
        "colab": {
          "base_uri": "https://localhost:8080/"
        },
        "id": "RKz5w6R8EjDq",
        "outputId": "f57d4372-523a-4d7f-ffb4-6b4489a78a34"
      },
      "source": [
        "pd.Series(map(lambda x: x.split(' ')[1], df.engine)).unique()"
      ],
      "execution_count": 165,
      "outputs": [
        {
          "output_type": "execute_result",
          "data": {
            "text/plain": [
              "array(['CC'], dtype=object)"
            ]
          },
          "metadata": {
            "tags": []
          },
          "execution_count": 165
        }
      ]
    },
    {
      "cell_type": "code",
      "metadata": {
        "id": "1JZvG70LEjS7"
      },
      "source": [
        "df['engine'] = df['engine'].str.strip(\"CC\")"
      ],
      "execution_count": 166,
      "outputs": []
    },
    {
      "cell_type": "markdown",
      "metadata": {
        "id": "E_wpTJBqE-EG"
      },
      "source": [
        "\n",
        "\n",
        "> Max Power\n",
        "\n"
      ]
    },
    {
      "cell_type": "code",
      "metadata": {
        "colab": {
          "base_uri": "https://localhost:8080/"
        },
        "id": "jyxpbyMQEjVe",
        "outputId": "5d51b038-6e54-4ad9-b3ce-48b1882502e4"
      },
      "source": [
        "pd.Series(map(lambda x: x.split(' ')[1], df.max_power)).unique()"
      ],
      "execution_count": 167,
      "outputs": [
        {
          "output_type": "execute_result",
          "data": {
            "text/plain": [
              "array(['bhp'], dtype=object)"
            ]
          },
          "metadata": {
            "tags": []
          },
          "execution_count": 167
        }
      ]
    },
    {
      "cell_type": "code",
      "metadata": {
        "id": "4AU-uwq4EjX8"
      },
      "source": [
        "df['max_power'] = df['max_power'].str.strip(\"bhp\")"
      ],
      "execution_count": 168,
      "outputs": []
    },
    {
      "cell_type": "markdown",
      "metadata": {
        "id": "41GgF_kwFPAa"
      },
      "source": [
        "\n",
        "\n",
        "---\n",
        "\n",
        "\n",
        "Setting datatypes for visualizations\n",
        "\n"
      ]
    },
    {
      "cell_type": "code",
      "metadata": {
        "id": "huYzHgQ3FG89"
      },
      "source": [
        "category_lst = ['fuel','seller_type','transmission','owner','seats']\n",
        "df[category_lst] = df[category_lst].astype('category')\n",
        "df['engine'] = pd.to_numeric(df['engine'])\n",
        "df['max_power'] = pd.to_numeric(df['max_power'])"
      ],
      "execution_count": 169,
      "outputs": []
    },
    {
      "cell_type": "markdown",
      "metadata": {
        "id": "iCCy8LZZFomY"
      },
      "source": [
        "#**Exploratory Data Analysis**"
      ]
    },
    {
      "cell_type": "markdown",
      "metadata": {
        "id": "RGnrG41YFsC9"
      },
      "source": [
        "---\n",
        "\n",
        "Distribution of continuous variables\n",
        "\n",
        "\n",
        "\n"
      ]
    },
    {
      "cell_type": "code",
      "metadata": {
        "colab": {
          "base_uri": "https://localhost:8080/",
          "height": 715
        },
        "id": "4pMqAslVFG6w",
        "outputId": "165a8aea-2e2d-4d37-db69-ce7705df062d"
      },
      "source": [
        "plt.figure(figsize= (10,10))\n",
        "plt.subplot(2,3,1)\n",
        "plt.title(\"Selling Price\")\n",
        "plt.hist(df.selling_price, rwidth = 0.9, bins=50)\n",
        "plt.subplot(2,3,2)\n",
        "plt.title(\"KM driven\")\n",
        "plt.hist(df.km_driven, rwidth = 0.9, bins = 50)\n",
        "plt.subplot(2,3,3)\n",
        "plt.title(\"mileage\")\n",
        "plt.hist(df.mileage, rwidth = 0.9)\n",
        "plt.subplot(2,3,4)\n",
        "plt.title(\"engine\")\n",
        "plt.hist(df.engine, rwidth = 0.9)\n",
        "plt.subplot(2,3,5)\n",
        "plt.title(\"max_power\")\n",
        "plt.hist(df.max_power, rwidth = 0.9, bins=20)\n",
        "plt.subplot(2,3,6)\n",
        "plt.title(\"years used\")\n",
        "plt.hist(df.years_used, rwidth = 0.9)\n",
        "plt.tight_layout()"
      ],
      "execution_count": 170,
      "outputs": [
        {
          "output_type": "display_data",
          "data": {
            "image/png": "[encoded data removed]",
            "text/plain": [
              "<Figure size 720x720 with 6 Axes>"
            ]
          },
          "metadata": {
            "tags": [],
            "needs_background": "light"
          }
        }
      ]
    },
    {
      "cell_type": "markdown",
      "metadata": {
        "id": "mEwE6Cr1GPp8"
      },
      "source": [
        "\n",
        "By observation, \n",
        "> selling_price, km_driven, max_power \n",
        "years_used seem to be right skewed\n",
        "\n",
        "\n",
        "> mileage seems to be normally distributed\n",
        "\n",
        "\n",
        "> engine seems to not follow any particular distributon\n",
        "\n",
        "\n",
        "\n",
        "\n",
        "\n",
        "\n"
      ]
    },
    {
      "cell_type": "markdown",
      "metadata": {
        "id": "0uanPvo8Gfvw"
      },
      "source": [
        "\n",
        "\n",
        "---\n",
        "Boxplot for continuous variables\n"
      ]
    },
    {
      "cell_type": "code",
      "metadata": {
        "colab": {
          "base_uri": "https://localhost:8080/",
          "height": 715
        },
        "id": "PpcraSkoFG4k",
        "outputId": "c995343a-0738-4603-9731-57a45df752eb"
      },
      "source": [
        "plt.figure(figsize= (10,10))\n",
        "plt.subplot(2,3,1)\n",
        "plt.title(\"Selling Price\")\n",
        "plt.boxplot(df.selling_price,\n",
        "            boxprops=dict(color=\"g\"),\n",
        "            capprops=dict(color=\"g\"),\n",
        "            flierprops=dict(color='g', markeredgecolor='g'),\n",
        "            medianprops=dict(color='g'),\n",
        "            vert=False)\n",
        "plt.subplot(2,3,2)\n",
        "plt.title(\"KM driven\")\n",
        "plt.boxplot(df.km_driven,\n",
        "            boxprops=dict(color=\"r\"),\n",
        "            capprops=dict(color=\"r\"),\n",
        "            flierprops=dict(color='r', markeredgecolor='r'),\n",
        "            medianprops=dict(color='r'),\n",
        "            vert=False)\n",
        "plt.subplot(2,3,3)\n",
        "plt.title(\"mileage\")\n",
        "plt.boxplot(df.mileage,\n",
        "            boxprops=dict(color=\"b\"),\n",
        "            capprops=dict(color=\"b\"),\n",
        "            flierprops=dict(color='b', markeredgecolor='b'),\n",
        "            medianprops=dict(color='b'),\n",
        "            vert=False)\n",
        "plt.subplot(2,3,4)\n",
        "plt.title(\"engine\")\n",
        "plt.boxplot(df.engine,\n",
        "            boxprops=dict(color=\"y\"),\n",
        "            capprops=dict(color=\"y\"),\n",
        "            flierprops=dict(color='y', markeredgecolor='y'),\n",
        "            medianprops=dict(color='y'),\n",
        "            vert=False)\n",
        "plt.subplot(2,3,5)\n",
        "plt.title(\"max_power\")\n",
        "plt.boxplot(df.max_power,\n",
        "            boxprops=dict(color=\"m\"),\n",
        "            capprops=dict(color=\"m\"),\n",
        "            flierprops=dict(color='m', markeredgecolor='m'),\n",
        "            medianprops=dict(color='m'),\n",
        "            vert=False)\n",
        "plt.subplot(2,3,6)\n",
        "plt.title(\"years used\")\n",
        "plt.boxplot(df.years_used,\n",
        "            boxprops=dict(color=\"c\"),\n",
        "            capprops=dict(color=\"c\"),\n",
        "            flierprops=dict(color='c', markeredgecolor='c'),\n",
        "            medianprops=dict(color='c'),\n",
        "            vert=False)\n",
        "plt.tight_layout()"
      ],
      "execution_count": 171,
      "outputs": [
        {
          "output_type": "display_data",
          "data": {
            "image/png": "[encoded data removed]",
            "text/plain": [
              "<Figure size 720x720 with 6 Axes>"
            ]
          },
          "metadata": {
            "tags": [],
            "needs_background": "light"
          }
        }
      ]
    },
    {
      "cell_type": "markdown",
      "metadata": {
        "id": "cUNA7t6dGp1V"
      },
      "source": [
        "\n",
        "> km_driven, selling_price, mileage, max_power has very big outliers that is required to be dealt with\n",
        "\n"
      ]
    },
    {
      "cell_type": "markdown",
      "metadata": {
        "id": "bvRtoHKrGveo"
      },
      "source": [
        "---\n",
        "Visualising the categorical features VS demand\n"
      ]
    },
    {
      "cell_type": "code",
      "metadata": {
        "colab": {
          "base_uri": "https://localhost:8080/",
          "height": 715
        },
        "id": "3YcfNEXEFG2J",
        "outputId": "5c0d27e9-eaac-441b-83e9-9cba8fb1d955"
      },
      "source": [
        "plt.figure(figsize=(10,10))\n",
        "plt.subplot(3,2,1)\n",
        "plt.title(\"Selling Price VS fuel\")\n",
        "cat_unique = df.fuel.unique()\n",
        "cat_average = df.groupby(\"fuel\").mean()['selling_price']\n",
        "plt.bar(cat_unique, cat_average, color=\"r\")\n",
        "plt.subplot(3,2,2)\n",
        "plt.title(\"Selling Price VS seller_type\")\n",
        "cat_unique = df.seller_type.unique()\n",
        "cat_average = df.groupby(\"seller_type\").mean()['selling_price']\n",
        "plt.bar(cat_unique, cat_average, color='b')\n",
        "plt.subplot(3,2,3)\n",
        "plt.title(\"Selling Price VS transmission\")\n",
        "cat_unique = df.transmission.unique()\n",
        "cat_average = df.groupby(\"transmission\").mean()['selling_price']\n",
        "plt.bar(cat_unique, cat_average, color='g')\n",
        "plt.subplot(3,2,4)\n",
        "plt.title(\"Selling Price VS owner\")\n",
        "cat_unique = df.owner.unique()\n",
        "cat_average = df.groupby(\"owner\").mean()['selling_price']\n",
        "plt.bar(cat_unique, cat_average, color='y')\n",
        "plt.xticks(rotation=45)\n",
        "plt.subplot(3,2,5)\n",
        "plt.title(\"Selling Price VS seats\")\n",
        "cat_unique = df.seats.unique()\n",
        "cat_average = df.groupby(\"seats\").mean()['selling_price']\n",
        "plt.bar(cat_unique, cat_average, color='m')\n",
        "plt.tight_layout()"
      ],
      "execution_count": 172,
      "outputs": [
        {
          "output_type": "display_data",
          "data": {
            "image/png": "[encoded data removed]",
            "text/plain": [
              "<Figure size 720x720 with 5 Axes>"
            ]
          },
          "metadata": {
            "tags": [],
            "needs_background": "light"
          }
        }
      ]
    },
    {
      "cell_type": "markdown",
      "metadata": {
        "id": "EhLQBCgwHati"
      },
      "source": [
        "> All categorical variables show that there is variation for each category of a variable on selling price.\n",
        "\n",
        "> All categorical variables are useful and should be kept.\n",
        "\n",
        "\n",
        "\n",
        "\n",
        "\n"
      ]
    },
    {
      "cell_type": "code",
      "metadata": {
        "colab": {
          "base_uri": "https://localhost:8080/",
          "height": 236
        },
        "id": "TNllb6CjFG0B",
        "outputId": "8c39a459-b09d-4f3c-ba29-03c98dad502d"
      },
      "source": [
        "continuous_lst = list(set(df.columns)-set(category_lst)-set(['torque','name']))\n",
        "corr_table = df[continuous_lst].corr()\n",
        "corr_table"
      ],
      "execution_count": 173,
      "outputs": [
        {
          "output_type": "execute_result",
          "data": {
            "text/html": [
              "<div>\n",
              "<style scoped>\n",
              "    .dataframe tbody tr th:only-of-type {\n",
              "        vertical-align: middle;\n",
              "    }\n",
              "\n",
              "    .dataframe tbody tr th {\n",
              "        vertical-align: top;\n",
              "    }\n",
              "\n",
              "    .dataframe thead th {\n",
              "        text-align: right;\n",
              "    }\n",
              "</style>\n",
              "<table border=\"1\" class=\"dataframe\">\n",
              "  <thead>\n",
              "    <tr style=\"text-align: right;\">\n",
              "      <th></th>\n",
              "      <th>years_used</th>\n",
              "      <th>engine</th>\n",
              "      <th>km_driven</th>\n",
              "      <th>max_power</th>\n",
              "      <th>mileage</th>\n",
              "      <th>selling_price</th>\n",
              "    </tr>\n",
              "  </thead>\n",
              "  <tbody>\n",
              "    <tr>\n",
              "      <th>years_used</th>\n",
              "      <td>1.000000</td>\n",
              "      <td>0.019763</td>\n",
              "      <td>0.387918</td>\n",
              "      <td>-0.159889</td>\n",
              "      <td>-0.366756</td>\n",
              "      <td>-0.427335</td>\n",
              "    </tr>\n",
              "    <tr>\n",
              "      <th>engine</th>\n",
              "      <td>0.019763</td>\n",
              "      <td>1.000000</td>\n",
              "      <td>0.253460</td>\n",
              "      <td>0.683506</td>\n",
              "      <td>-0.556946</td>\n",
              "      <td>0.442772</td>\n",
              "    </tr>\n",
              "    <tr>\n",
              "      <th>km_driven</th>\n",
              "      <td>0.387918</td>\n",
              "      <td>0.253460</td>\n",
              "      <td>1.000000</td>\n",
              "      <td>0.041770</td>\n",
              "      <td>-0.196344</td>\n",
              "      <td>-0.161265</td>\n",
              "    </tr>\n",
              "    <tr>\n",
              "      <th>max_power</th>\n",
              "      <td>-0.159889</td>\n",
              "      <td>0.683506</td>\n",
              "      <td>0.041770</td>\n",
              "      <td>1.000000</td>\n",
              "      <td>-0.354780</td>\n",
              "      <td>0.692323</td>\n",
              "    </tr>\n",
              "    <tr>\n",
              "      <th>mileage</th>\n",
              "      <td>-0.366756</td>\n",
              "      <td>-0.556946</td>\n",
              "      <td>-0.196344</td>\n",
              "      <td>-0.354780</td>\n",
              "      <td>1.000000</td>\n",
              "      <td>-0.096164</td>\n",
              "    </tr>\n",
              "    <tr>\n",
              "      <th>selling_price</th>\n",
              "      <td>-0.427335</td>\n",
              "      <td>0.442772</td>\n",
              "      <td>-0.161265</td>\n",
              "      <td>0.692323</td>\n",
              "      <td>-0.096164</td>\n",
              "      <td>1.000000</td>\n",
              "    </tr>\n",
              "  </tbody>\n",
              "</table>\n",
              "</div>"
            ],
            "text/plain": [
              "               years_used    engine  ...   mileage  selling_price\n",
              "years_used       1.000000  0.019763  ... -0.366756      -0.427335\n",
              "engine           0.019763  1.000000  ... -0.556946       0.442772\n",
              "km_driven        0.387918  0.253460  ... -0.196344      -0.161265\n",
              "max_power       -0.159889  0.683506  ... -0.354780       0.692323\n",
              "mileage         -0.366756 -0.556946  ...  1.000000      -0.096164\n",
              "selling_price   -0.427335  0.442772  ... -0.096164       1.000000\n",
              "\n",
              "[6 rows x 6 columns]"
            ]
          },
          "metadata": {
            "tags": []
          },
          "execution_count": 173
        }
      ]
    },
    {
      "cell_type": "code",
      "metadata": {
        "colab": {
          "base_uri": "https://localhost:8080/",
          "height": 343
        },
        "id": "ynHJGMAHFGxp",
        "outputId": "2e1ac54c-0636-457b-a8df-f2a5cea7d8d6"
      },
      "source": [
        "plt.figure(figsize=(10,5))\n",
        "sns.heatmap(corr_table, annot = True)"
      ],
      "execution_count": 174,
      "outputs": [
        {
          "output_type": "execute_result",
          "data": {
            "text/plain": [
              "<matplotlib.axes._subplots.AxesSubplot at 0x7f45d7f91d90>"
            ]
          },
          "metadata": {
            "tags": []
          },
          "execution_count": 174
        },
        {
          "output_type": "display_data",
          "data": {
            "image/png": "[encoded data removed]",
            "text/plain": [
              "<Figure size 720x360 with 2 Axes>"
            ]
          },
          "metadata": {
            "tags": [],
            "needs_background": "light"
          }
        }
      ]
    },
    {
      "cell_type": "markdown",
      "metadata": {
        "id": "W_SxD-HbIAuH"
      },
      "source": [
        "\n",
        "> No signs of multicollinearity (>+-0.8) amongst our continous variables\n",
        "\n",
        "\n",
        "> However mileage seem to have weak impact on selling_price - something to take note\n",
        "\n",
        "\n",
        "\n",
        "\n"
      ]
    },
    {
      "cell_type": "markdown",
      "metadata": {
        "id": "PIX9D7OqIHSK"
      },
      "source": [
        "#**Feature Selection and Engineering**"
      ]
    },
    {
      "cell_type": "code",
      "metadata": {
        "id": "x4gaDkV6FGvJ"
      },
      "source": [
        "df.apply(lambda x: len(x.unique()), axis = 0)\n",
        "df = df.drop(['name','torque'], axis=1) "
      ],
      "execution_count": 175,
      "outputs": []
    },
    {
      "cell_type": "markdown",
      "metadata": {
        "id": "Jyoz9XL8IbAC"
      },
      "source": [
        "\n",
        "\n",
        "> Drop name and torque because they are categorical variables with too much variation - Not beneficial for building our model\n",
        "\n",
        "\n"
      ]
    },
    {
      "cell_type": "code",
      "metadata": {
        "colab": {
          "base_uri": "https://localhost:8080/",
          "height": 299
        },
        "id": "VTTCRophIv9B",
        "outputId": "e2c53272-4700-4965-f6d5-bfd031ed1e8f"
      },
      "source": [
        "description = df.describe()\n",
        "description"
      ],
      "execution_count": 176,
      "outputs": [
        {
          "output_type": "execute_result",
          "data": {
            "text/html": [
              "<div>\n",
              "<style scoped>\n",
              "    .dataframe tbody tr th:only-of-type {\n",
              "        vertical-align: middle;\n",
              "    }\n",
              "\n",
              "    .dataframe tbody tr th {\n",
              "        vertical-align: top;\n",
              "    }\n",
              "\n",
              "    .dataframe thead th {\n",
              "        text-align: right;\n",
              "    }\n",
              "</style>\n",
              "<table border=\"1\" class=\"dataframe\">\n",
              "  <thead>\n",
              "    <tr style=\"text-align: right;\">\n",
              "      <th></th>\n",
              "      <th>selling_price</th>\n",
              "      <th>km_driven</th>\n",
              "      <th>mileage</th>\n",
              "      <th>engine</th>\n",
              "      <th>max_power</th>\n",
              "      <th>years_used</th>\n",
              "    </tr>\n",
              "  </thead>\n",
              "  <tbody>\n",
              "    <tr>\n",
              "      <th>count</th>\n",
              "      <td>6.717000e+03</td>\n",
              "      <td>6.717000e+03</td>\n",
              "      <td>6717.000000</td>\n",
              "      <td>6717.000000</td>\n",
              "      <td>6717.000000</td>\n",
              "      <td>6717.000000</td>\n",
              "    </tr>\n",
              "    <tr>\n",
              "      <th>mean</th>\n",
              "      <td>5.263860e+05</td>\n",
              "      <td>7.339834e+04</td>\n",
              "      <td>19.366707</td>\n",
              "      <td>1430.985857</td>\n",
              "      <td>87.766100</td>\n",
              "      <td>7.388864</td>\n",
              "    </tr>\n",
              "    <tr>\n",
              "      <th>std</th>\n",
              "      <td>5.235504e+05</td>\n",
              "      <td>5.870328e+04</td>\n",
              "      <td>4.069374</td>\n",
              "      <td>493.469198</td>\n",
              "      <td>31.724555</td>\n",
              "      <td>3.897402</td>\n",
              "    </tr>\n",
              "    <tr>\n",
              "      <th>min</th>\n",
              "      <td>2.999900e+04</td>\n",
              "      <td>1.000000e+00</td>\n",
              "      <td>0.000000</td>\n",
              "      <td>624.000000</td>\n",
              "      <td>32.800000</td>\n",
              "      <td>1.000000</td>\n",
              "    </tr>\n",
              "    <tr>\n",
              "      <th>25%</th>\n",
              "      <td>2.500000e+05</td>\n",
              "      <td>3.800000e+04</td>\n",
              "      <td>16.600000</td>\n",
              "      <td>1197.000000</td>\n",
              "      <td>67.100000</td>\n",
              "      <td>4.000000</td>\n",
              "    </tr>\n",
              "    <tr>\n",
              "      <th>50%</th>\n",
              "      <td>4.200000e+05</td>\n",
              "      <td>6.820300e+04</td>\n",
              "      <td>19.300000</td>\n",
              "      <td>1248.000000</td>\n",
              "      <td>81.830000</td>\n",
              "      <td>7.000000</td>\n",
              "    </tr>\n",
              "    <tr>\n",
              "      <th>75%</th>\n",
              "      <td>6.500000e+05</td>\n",
              "      <td>1.000000e+05</td>\n",
              "      <td>22.320000</td>\n",
              "      <td>1498.000000</td>\n",
              "      <td>100.000000</td>\n",
              "      <td>10.000000</td>\n",
              "    </tr>\n",
              "    <tr>\n",
              "      <th>max</th>\n",
              "      <td>1.000000e+07</td>\n",
              "      <td>2.360457e+06</td>\n",
              "      <td>42.000000</td>\n",
              "      <td>3604.000000</td>\n",
              "      <td>400.000000</td>\n",
              "      <td>27.000000</td>\n",
              "    </tr>\n",
              "  </tbody>\n",
              "</table>\n",
              "</div>"
            ],
            "text/plain": [
              "       selling_price     km_driven  ...    max_power   years_used\n",
              "count   6.717000e+03  6.717000e+03  ...  6717.000000  6717.000000\n",
              "mean    5.263860e+05  7.339834e+04  ...    87.766100     7.388864\n",
              "std     5.235504e+05  5.870328e+04  ...    31.724555     3.897402\n",
              "min     2.999900e+04  1.000000e+00  ...    32.800000     1.000000\n",
              "25%     2.500000e+05  3.800000e+04  ...    67.100000     4.000000\n",
              "50%     4.200000e+05  6.820300e+04  ...    81.830000     7.000000\n",
              "75%     6.500000e+05  1.000000e+05  ...   100.000000    10.000000\n",
              "max     1.000000e+07  2.360457e+06  ...   400.000000    27.000000\n",
              "\n",
              "[8 rows x 6 columns]"
            ]
          },
          "metadata": {
            "tags": []
          },
          "execution_count": 176
        }
      ]
    },
    {
      "cell_type": "code",
      "metadata": {
        "colab": {
          "base_uri": "https://localhost:8080/"
        },
        "id": "qxDmrIhqFGmB",
        "outputId": "cc6a4081-4511-4ce5-84a4-4dfe35dc5448"
      },
      "source": [
        "df.selling_price.quantile([0.003,0.5,0.75,0.997])"
      ],
      "execution_count": 177,
      "outputs": [
        {
          "output_type": "execute_result",
          "data": {
            "text/plain": [
              "0.003      42000.0\n",
              "0.500     420000.0\n",
              "0.750     650000.0\n",
              "0.997    4600000.0\n",
              "Name: selling_price, dtype: float64"
            ]
          },
          "metadata": {
            "tags": []
          },
          "execution_count": 177
        }
      ]
    },
    {
      "cell_type": "code",
      "metadata": {
        "colab": {
          "base_uri": "https://localhost:8080/"
        },
        "id": "BaHq4YVqIkSV",
        "outputId": "e0f2f6b0-7094-47bf-9e05-2c484b0e089c"
      },
      "source": [
        "df.km_driven.quantile([0.003,0.5,0.75,0.997])"
      ],
      "execution_count": 178,
      "outputs": [
        {
          "output_type": "execute_result",
          "data": {
            "text/plain": [
              "0.003      2158.2\n",
              "0.500     68203.0\n",
              "0.750    100000.0\n",
              "0.997    300000.0\n",
              "Name: km_driven, dtype: float64"
            ]
          },
          "metadata": {
            "tags": []
          },
          "execution_count": 178
        }
      ]
    },
    {
      "cell_type": "code",
      "metadata": {
        "colab": {
          "base_uri": "https://localhost:8080/"
        },
        "id": "We4KkzmrIkU5",
        "outputId": "173f7ed3-fc21-4fc6-80cb-06f08a9b7629"
      },
      "source": [
        "df.mileage.quantile([0.003,0.5,0.75,0.997])"
      ],
      "execution_count": 179,
      "outputs": [
        {
          "output_type": "execute_result",
          "data": {
            "text/plain": [
              "0.003     6.89\n",
              "0.500    19.30\n",
              "0.750    22.32\n",
              "0.997    28.40\n",
              "Name: mileage, dtype: float64"
            ]
          },
          "metadata": {
            "tags": []
          },
          "execution_count": 179
        }
      ]
    },
    {
      "cell_type": "code",
      "metadata": {
        "colab": {
          "base_uri": "https://localhost:8080/"
        },
        "id": "MrKr0TOaIkXS",
        "outputId": "b8195380-cf4b-4fb0-b558-e2a9a16ba454"
      },
      "source": [
        "df.years_used.quantile([0.003,0.5,0.75,0.997])"
      ],
      "execution_count": 180,
      "outputs": [
        {
          "output_type": "execute_result",
          "data": {
            "text/plain": [
              "0.003     1.0\n",
              "0.500     7.0\n",
              "0.750    10.0\n",
              "0.997    23.0\n",
              "Name: years_used, dtype: float64"
            ]
          },
          "metadata": {
            "tags": []
          },
          "execution_count": 180
        }
      ]
    },
    {
      "cell_type": "code",
      "metadata": {
        "colab": {
          "base_uri": "https://localhost:8080/"
        },
        "id": "mrue96U7IkZx",
        "outputId": "dfcad259-1ee4-4aeb-a852-69bfaeedddcc"
      },
      "source": [
        "df.max_power.quantile([0.003,0.5,0.75,0.997])"
      ],
      "execution_count": 181,
      "outputs": [
        {
          "output_type": "execute_result",
          "data": {
            "text/plain": [
              "0.003     34.20\n",
              "0.500     81.83\n",
              "0.750    100.00\n",
              "0.997    241.40\n",
              "Name: max_power, dtype: float64"
            ]
          },
          "metadata": {
            "tags": []
          },
          "execution_count": 181
        }
      ]
    },
    {
      "cell_type": "code",
      "metadata": {
        "colab": {
          "base_uri": "https://localhost:8080/"
        },
        "id": "RvIFopa6IkcC",
        "outputId": "0e4edabf-cc18-4291-bdc5-9f2a6fd9a0dc"
      },
      "source": [
        "df.engine.quantile([0.003,0.5,0.75,0.997])"
      ],
      "execution_count": 182,
      "outputs": [
        {
          "output_type": "execute_result",
          "data": {
            "text/plain": [
              "0.003     624.0\n",
              "0.500    1248.0\n",
              "0.750    1498.0\n",
              "0.997    2993.0\n",
              "Name: engine, dtype: float64"
            ]
          },
          "metadata": {
            "tags": []
          },
          "execution_count": 182
        }
      ]
    },
    {
      "cell_type": "code",
      "metadata": {
        "id": "ZVSHsOG3IkeX"
      },
      "source": [
        "#selling_price\n",
        "df = df.loc[df.selling_price<(6000000)]\n",
        "\n",
        "#km_driven\n",
        "df = df.loc[df.km_driven<(10**6)]\n",
        "\n",
        "#years_used\n",
        "df = df[(df.mileage<=(35)) & (df.mileage>=0)]\n",
        "\n",
        "#max_power\n",
        "df = df[df.max_power<350]\n",
        "\n",
        "#engine\n",
        "df = df.loc[df.engine<3000]"
      ],
      "execution_count": 183,
      "outputs": []
    },
    {
      "cell_type": "markdown",
      "metadata": {
        "id": "DMJ-rs7zJBaL"
      },
      "source": [
        "Dummy Encoding for categorical variables"
      ]
    },
    {
      "cell_type": "code",
      "metadata": {
        "id": "z3iTM7jKIkhA"
      },
      "source": [
        "df = pd.get_dummies(df, drop_first=True)"
      ],
      "execution_count": 184,
      "outputs": []
    },
    {
      "cell_type": "markdown",
      "metadata": {
        "id": "nqzciL01JGtV"
      },
      "source": [
        "Scaling the Outcome Variable"
      ]
    },
    {
      "cell_type": "code",
      "metadata": {
        "colab": {
          "base_uri": "https://localhost:8080/",
          "height": 307
        },
        "id": "oOsJ3HG0IkmM",
        "outputId": "e19a2e25-dd70-4ba1-fd57-7a24ce7c071a"
      },
      "source": [
        "df_original = df.copy()\n",
        "df1 = df['selling_price']\n",
        "df2 = np.log(df1)\n",
        "plt.figure()\n",
        "plt.suptitle(\"selling_price\")\n",
        "plt.subplot(1,2,1)\n",
        "plt.title(\"Before normalization\")\n",
        "df1.hist(rwidth=0.9)\n",
        "plt.subplot(1,2,2)\n",
        "plt.title(\"After normalization\")\n",
        "df2.hist(rwidth=0.9)\n",
        "df['selling_price'] = np.log(df.selling_price)"
      ],
      "execution_count": 185,
      "outputs": [
        {
          "output_type": "display_data",
          "data": {
            "image/png": "[encoded data removed]",
            "text/plain": [
              "<Figure size 432x288 with 2 Axes>"
            ]
          },
          "metadata": {
            "tags": [],
            "needs_background": "light"
          }
        }
      ]
    },
    {
      "cell_type": "markdown",
      "metadata": {
        "id": "ibPq6VNeJW3K"
      },
      "source": [
        "# **Model Building**"
      ]
    },
    {
      "cell_type": "markdown",
      "metadata": {
        "id": "6yRxVwC-JbM1"
      },
      "source": [
        "Splitting into training and test dataset\n"
      ]
    },
    {
      "cell_type": "code",
      "metadata": {
        "id": "w4vMkm0KIkoi"
      },
      "source": [
        "from sklearn.model_selection import train_test_split\n",
        "X = df.drop(['selling_price'], axis=1)\n",
        "Y = df[['selling_price']]\n",
        "X_train, X_test, y_train, y_test = train_test_split(X, Y, test_size=0.3, random_state=1234)\n"
      ],
      "execution_count": 186,
      "outputs": []
    },
    {
      "cell_type": "markdown",
      "metadata": {
        "id": "ognkaKsIJn05"
      },
      "source": [
        "Multiple Linear Regression Model"
      ]
    },
    {
      "cell_type": "code",
      "metadata": {
        "id": "u_-BpIa0JiBO"
      },
      "source": [
        "from sklearn.linear_model import LinearRegression\n",
        "std_reg = LinearRegression()\n",
        "model = std_reg.fit(X_train, y_train)\n",
        "y_predict = model.predict(X_test)"
      ],
      "execution_count": 187,
      "outputs": []
    },
    {
      "cell_type": "markdown",
      "metadata": {
        "id": "gE_q73WxJuEj"
      },
      "source": [
        "# **Validating model goodness and effectiveness**"
      ]
    },
    {
      "cell_type": "markdown",
      "metadata": {
        "id": "sTgjpcPcJyIa"
      },
      "source": [
        "Using k-fold cross validation to see if we have overfitted our data\n"
      ]
    },
    {
      "cell_type": "code",
      "metadata": {
        "colab": {
          "base_uri": "https://localhost:8080/"
        },
        "id": "TJtgCFWUJiF6",
        "outputId": "75b853ef-c2d0-4db7-caa9-ae1a80cca9a4"
      },
      "source": [
        "from sklearn.model_selection import cross_val_score, cross_val_predict\n",
        "scores = cross_val_score(model, X_train, y_train,cv=6)\n",
        "print(\"Cross validated R^2 scores: \", scores)\n"
      ],
      "execution_count": 188,
      "outputs": [
        {
          "output_type": "stream",
          "text": [
            "Cross validated R^2 scores:  [0.84889004 0.85581735 0.837515   0.81979367 0.82355674 0.84302953]\n"
          ],
          "name": "stdout"
        }
      ]
    },
    {
      "cell_type": "markdown",
      "metadata": {
        "id": "4ZorttMSJ3u-"
      },
      "source": [
        "\n",
        "\n",
        "> Generally all above 0.8, which is a good sign there is not overfitting\n",
        "\n",
        "\n",
        "\n",
        "> This means that our model is good in predicing car prices accurately given outside data\n",
        "\n",
        "\n",
        "\n"
      ]
    },
    {
      "cell_type": "markdown",
      "metadata": {
        "id": "lDzeTpNHJ-JM"
      },
      "source": [
        "We will gauge the metrics of the main model that we have built\n"
      ]
    },
    {
      "cell_type": "code",
      "metadata": {
        "colab": {
          "base_uri": "https://localhost:8080/"
        },
        "id": "nhuFCS0yJiIh",
        "outputId": "fa2c6f1e-af90-4634-cd80-64cfc7f8fb5f"
      },
      "source": [
        "r2_train = model.score(X_train, y_train)\n",
        "r2_test = model.score(X_test,y_test)\n",
        "adjusted_r_squared_train = 1 - (1-r2_train)*(len(y_train)-1)/(len(y_train)-X_train.shape[1]-1)\n",
        "adjusted_r_squared_test = 1 - (1-r2_test)*(len(y_test)-1)/(len(y_test)-X_test.shape[1]-1)\n",
        "print(\"r2_train: \",round(r2_train,3),\"\\nr2_test: \",round(r2_test,3),\"\\n\")\n",
        "print(\"adjusted r2_train: \",round(adjusted_r_squared_train,3),\"\\nadjusted r2_test: \",round(adjusted_r_squared_test,3),\"\\n\")\n"
      ],
      "execution_count": 189,
      "outputs": [
        {
          "output_type": "stream",
          "text": [
            "r2_train:  0.841 \n",
            "r2_test:  0.849 \n",
            "\n",
            "adjusted r2_train:  0.84 \n",
            "adjusted r2_test:  0.848 \n",
            "\n"
          ],
          "name": "stdout"
        }
      ]
    },
    {
      "cell_type": "markdown",
      "metadata": {
        "id": "mlRCju3tK17K"
      },
      "source": [
        "\n",
        "\n",
        "---\n",
        "\n",
        "Normalzied RMSE "
      ]
    },
    {
      "cell_type": "code",
      "metadata": {
        "colab": {
          "base_uri": "https://localhost:8080/"
        },
        "id": "Ghmn1oghJiUV",
        "outputId": "9c461ff3-cdf5-4889-b484-c3f23e588653"
      },
      "source": [
        "from sklearn.metrics import mean_squared_error\n",
        "y_test_lst = y_test['selling_price'].tolist()\n",
        "y_predict_lst = list(map(lambda x: x[0], y_predict))\n",
        "y_test_actual = []\n",
        "y_predict_actual = []\n",
        "for i in range(0,len(y_test)):\n",
        "    y_test_actual.append(math.exp(y_test_lst[i]))\n",
        "    y_predict_actual.append(math.exp(y_predict_lst[i]))\n",
        "print(\"Minimum selling price: \", df_original.selling_price.min())\n",
        "print(\"Maximum selling price: \",df_original.selling_price.max())\n",
        "rmse = math.sqrt(mean_squared_error(y_test_actual, y_predict_actual))\n",
        "normalized_rmse = rmse/(df_original.selling_price.max()-df_original.selling_price.min())\n",
        "print(f'Normalized RMSE is {round(normalized_rmse,2)}')\n",
        "\n"
      ],
      "execution_count": 190,
      "outputs": [
        {
          "output_type": "stream",
          "text": [
            "Minimum selling price:  29999\n",
            "Maximum selling price:  5923000\n",
            "Normalized RMSE is 0.04\n"
          ],
          "name": "stdout"
        }
      ]
    },
    {
      "cell_type": "markdown",
      "metadata": {
        "id": "4aJzQ1faKMql"
      },
      "source": [
        " ***Note:*\n",
        "Had we removed the mileage feature, our adjusted r-squared would have been worse off, hence we kept in as one of our predictors"
      ]
    },
    {
      "cell_type": "markdown",
      "metadata": {
        "id": "ZoyKLIsZKmQy"
      },
      "source": [
        "Proof:"
      ]
    },
    {
      "cell_type": "code",
      "metadata": {
        "colab": {
          "base_uri": "https://localhost:8080/"
        },
        "id": "hL8Tb1xoJiNS",
        "outputId": "c4ed7fb3-1f50-4708-d4fe-f1743f33ca70"
      },
      "source": [
        "X = df.drop(['selling_price','mileage'], axis=1)\n",
        "Y = df[['selling_price']]\n",
        "X_train, X_test, y_train, y_test = train_test_split(X, Y, test_size=0.3, random_state=1234)\n",
        "std_reg = LinearRegression()\n",
        "model = std_reg.fit(X_train, y_train)\n",
        "y_predict = model.predict(X_test)\n",
        "r2_train = model.score(X_train, y_train)\n",
        "r2_test = model.score(X_test,y_test)\n",
        "adjusted_r_squared_train = 1 - (1-r2_train)*(len(y_train)-1)/(len(y_train)-X_train.shape[1]-1)\n",
        "adjusted_r_squared_test = 1 - (1-r2_test)*(len(y_test)-1)/(len(y_test)-X_test.shape[1]-1)\n",
        "print(\"adjusted r2_train: \",round(adjusted_r_squared_train,3),\"\\nadjusted r2_test: \",round(adjusted_r_squared_test,3),\"\\n\")"
      ],
      "execution_count": 191,
      "outputs": [
        {
          "output_type": "stream",
          "text": [
            "adjusted r2_train:  0.838 \n",
            "adjusted r2_test:  0.846 \n",
            "\n"
          ],
          "name": "stdout"
        }
      ]
    },
    {
      "cell_type": "markdown",
      "metadata": {
        "id": "OOFmJM7wM9Q8"
      },
      "source": [
        "### FINAL THOUGHTS AND CONCLUSION OF MODEL:"
      ]
    },
    {
      "cell_type": "markdown",
      "metadata": {
        "id": "-dcZMmE8M9XT"
      },
      "source": [
        "- We have obtained a good r2_test score of 0.849 AND a low NRMSE score of 0.02, and K-fold cross validation show no signs of overfitting\n",
        "- In conclusion, this means that our model is a great fit for such a predicting car prices for the given metrics\n",
        "- This means that target audience, mainly car buying/selling platform should find this analysis useful for pricing suggestions to \n",
        "sellers which makes prices more competitive and relevant, translating to higher sales rate, which results in better earnings \n",
        "for the company"
      ]
    },
    {
      "cell_type": "markdown",
      "metadata": {
        "id": "7taLhEs_NEEx"
      },
      "source": [
        "\n",
        "\n",
        "\n",
        "\n",
        "---\n",
        "\n",
        "\n",
        "**Notes for improvement\n",
        "- Car sales are also dependent on time of the year, hence a model that include time series analysis can be included to gauge the\n",
        "season where car is in higher demand->Charge higher prices OR lower demand-> Charge lower prices\n",
        "- This dataset provides locale of only one country, hence model may or may not be applicable to all countries. Howeever, my belief\n",
        "is that with simple fine tuning and feature seclection, this model will work equally well in different demographics\n"
      ]
    }
  ]
}