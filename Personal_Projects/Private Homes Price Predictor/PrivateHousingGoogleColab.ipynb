{
  "nbformat": 4,
  "nbformat_minor": 0,
  "metadata": {
    "colab": {
      "name": "PrivateHousingGoogleColab.ipynb",
      "provenance": [],
      "collapsed_sections": [],
      "authorship_tag": "ABX9TyOEG/mE9WnX/MiXaxoUwcZt",
      "include_colab_link": true
    },
    "kernelspec": {
      "name": "python3",
      "display_name": "Python 3"
    },
    "language_info": {
      "name": "python"
    }
  },
  "cells": [
    {
      "cell_type": "markdown",
      "metadata": {
        "id": "view-in-github",
        "colab_type": "text"
      },
      "source": [
        "<a href=\"https://colab.research.google.com/github/hwl20/Projects/blob/main/Personal_Projects/Private%20Homes%20Price%20Predictor/PrivateHousingGoogleColab.ipynb\" target=\"_parent\"><img src=\"https://colab.research.google.com/assets/colab-badge.svg\" alt=\"Open In Colab\"/></a>"
      ]
    },
    {
      "cell_type": "markdown",
      "metadata": {
        "id": "tMv_hhfxPS3O"
      },
      "source": [
        "# **Importing Packages**"
      ]
    },
    {
      "cell_type": "code",
      "metadata": {
        "id": "mF9YhoZ_PY_u"
      },
      "source": [
        "import pandas as pd\n",
        "import numpy as np\n",
        "import matplotlib.pyplot as plt\n",
        "import seaborn as sns\n",
        "from datetime import date\n",
        "import math "
      ],
      "execution_count": null,
      "outputs": []
    },
    {
      "cell_type": "markdown",
      "metadata": {
        "id": "rvJa6edOPjV4"
      },
      "source": [
        "# <br>\n",
        "# **Retrieving Data**"
      ]
    },
    {
      "cell_type": "code",
      "metadata": {
        "colab": {
          "base_uri": "https://localhost:8080/"
        },
        "id": "Xzu8N9HePa2h",
        "outputId": "7a36de81-4063-4019-c43e-7fb1c053c1bb"
      },
      "source": [
        "from google.colab import drive\n",
        "drive.mount('/content/drive')"
      ],
      "execution_count": null,
      "outputs": [
        {
          "output_type": "stream",
          "text": [
            "Drive already mounted at /content/drive; to attempt to forcibly remount, call drive.mount(\"/content/drive\", force_remount=True).\n"
          ],
          "name": "stdout"
        }
      ]
    },
    {
      "cell_type": "code",
      "metadata": {
        "colab": {
          "base_uri": "https://localhost:8080/",
          "height": 428
        },
        "id": "HpENgzL1Pb2O",
        "outputId": "969ab275-17a9-4c51-dd04-131ec0246278"
      },
      "source": [
        "# Link to Dataset could be found here: https://docs.google.com/spreadsheets/d/1wfzTmOEbRnHw-XDkJZTn2uwBlgqxdUtwsCq6CTCZ-Zs/edit?usp=sharing\n",
        "df = pd.read_csv(\"/content/drive/MyDrive/Private Home Data.csv\",index_col=0)\n",
        "df_subset = df.head()\n",
        "df_subset"
      ],
      "execution_count": null,
      "outputs": [
        {
          "output_type": "execute_result",
          "data": {
            "text/html": [
              "<div>\n",
              "<style scoped>\n",
              "    .dataframe tbody tr th:only-of-type {\n",
              "        vertical-align: middle;\n",
              "    }\n",
              "\n",
              "    .dataframe tbody tr th {\n",
              "        vertical-align: top;\n",
              "    }\n",
              "\n",
              "    .dataframe thead th {\n",
              "        text-align: right;\n",
              "    }\n",
              "</style>\n",
              "<table border=\"1\" class=\"dataframe\">\n",
              "  <thead>\n",
              "    <tr style=\"text-align: right;\">\n",
              "      <th></th>\n",
              "      <th>Project Name</th>\n",
              "      <th>Street Name</th>\n",
              "      <th>Type</th>\n",
              "      <th>Postal District</th>\n",
              "      <th>Market Segment</th>\n",
              "      <th>Tenure</th>\n",
              "      <th>Type of Sale</th>\n",
              "      <th>No. of Units</th>\n",
              "      <th>Price ($)</th>\n",
              "      <th>Nett Price ($)</th>\n",
              "      <th>Area (Sqft)</th>\n",
              "      <th>Type of Area</th>\n",
              "      <th>Floor Level</th>\n",
              "      <th>Unit Price ($psf)</th>\n",
              "      <th>Date of Sale</th>\n",
              "    </tr>\n",
              "  </thead>\n",
              "  <tbody>\n",
              "    <tr>\n",
              "      <th>0</th>\n",
              "      <td>TURQUOISE</td>\n",
              "      <td>COVE DRIVE</td>\n",
              "      <td>Condominium</td>\n",
              "      <td>4</td>\n",
              "      <td>CCR</td>\n",
              "      <td>99 yrs lease commencing from 2007</td>\n",
              "      <td>Resale</td>\n",
              "      <td>1</td>\n",
              "      <td>3282310</td>\n",
              "      <td>-</td>\n",
              "      <td>2164</td>\n",
              "      <td>Strata</td>\n",
              "      <td>01 to 05</td>\n",
              "      <td>1517</td>\n",
              "      <td>Jul-21</td>\n",
              "    </tr>\n",
              "    <tr>\n",
              "      <th>1</th>\n",
              "      <td>AVENUE SOUTH RESIDENCE</td>\n",
              "      <td>SILAT AVENUE</td>\n",
              "      <td>Apartment</td>\n",
              "      <td>3</td>\n",
              "      <td>RCR</td>\n",
              "      <td>99 yrs lease commencing from 2018</td>\n",
              "      <td>New Sale</td>\n",
              "      <td>1</td>\n",
              "      <td>2770000</td>\n",
              "      <td>-</td>\n",
              "      <td>1496</td>\n",
              "      <td>Strata</td>\n",
              "      <td>01 to 05</td>\n",
              "      <td>1851</td>\n",
              "      <td>Jul-21</td>\n",
              "    </tr>\n",
              "    <tr>\n",
              "      <th>2</th>\n",
              "      <td>NORMANTON PARK</td>\n",
              "      <td>NORMANTON PARK</td>\n",
              "      <td>Apartment</td>\n",
              "      <td>5</td>\n",
              "      <td>RCR</td>\n",
              "      <td>99 yrs lease commencing from 2019</td>\n",
              "      <td>New Sale</td>\n",
              "      <td>1</td>\n",
              "      <td>1466000</td>\n",
              "      <td>-</td>\n",
              "      <td>883</td>\n",
              "      <td>Strata</td>\n",
              "      <td>21 to 25</td>\n",
              "      <td>1661</td>\n",
              "      <td>Jul-21</td>\n",
              "    </tr>\n",
              "    <tr>\n",
              "      <th>3</th>\n",
              "      <td>NORMANTON PARK</td>\n",
              "      <td>NORMANTON PARK</td>\n",
              "      <td>Apartment</td>\n",
              "      <td>5</td>\n",
              "      <td>RCR</td>\n",
              "      <td>99 yrs lease commencing from 2019</td>\n",
              "      <td>New Sale</td>\n",
              "      <td>1</td>\n",
              "      <td>1701000</td>\n",
              "      <td>-</td>\n",
              "      <td>936</td>\n",
              "      <td>Strata</td>\n",
              "      <td>11 to 15</td>\n",
              "      <td>1816</td>\n",
              "      <td>Jul-21</td>\n",
              "    </tr>\n",
              "    <tr>\n",
              "      <th>4</th>\n",
              "      <td>NORMANTON PARK</td>\n",
              "      <td>NORMANTON PARK</td>\n",
              "      <td>Apartment</td>\n",
              "      <td>5</td>\n",
              "      <td>RCR</td>\n",
              "      <td>99 yrs lease commencing from 2019</td>\n",
              "      <td>New Sale</td>\n",
              "      <td>1</td>\n",
              "      <td>1086000</td>\n",
              "      <td>-</td>\n",
              "      <td>581</td>\n",
              "      <td>Strata</td>\n",
              "      <td>11 to 15</td>\n",
              "      <td>1868</td>\n",
              "      <td>Jul-21</td>\n",
              "    </tr>\n",
              "  </tbody>\n",
              "</table>\n",
              "</div>"
            ],
            "text/plain": [
              "             Project Name     Street Name  ... Unit Price ($psf)  Date of Sale\n",
              "0               TURQUOISE      COVE DRIVE  ...              1517        Jul-21\n",
              "1  AVENUE SOUTH RESIDENCE    SILAT AVENUE  ...              1851        Jul-21\n",
              "2          NORMANTON PARK  NORMANTON PARK  ...              1661        Jul-21\n",
              "3          NORMANTON PARK  NORMANTON PARK  ...              1816        Jul-21\n",
              "4          NORMANTON PARK  NORMANTON PARK  ...              1868        Jul-21\n",
              "\n",
              "[5 rows x 15 columns]"
            ]
          },
          "metadata": {
            "tags": []
          },
          "execution_count": 78
        }
      ]
    },
    {
      "cell_type": "markdown",
      "metadata": {
        "id": "4Iye1dV6Rvk_"
      },
      "source": [
        "#<br>\n",
        "# **Data Preprocessing**"
      ]
    },
    {
      "cell_type": "markdown",
      "metadata": {
        "id": "Ghxz5jeUSObG"
      },
      "source": [
        "Solving null values"
      ]
    },
    {
      "cell_type": "code",
      "metadata": {
        "colab": {
          "base_uri": "https://localhost:8080/"
        },
        "id": "VTWKdLw5Pb4k",
        "outputId": "53da8348-3ee7-412d-c4d9-67a73f8a60a7"
      },
      "source": [
        "df.isnull().any(axis=0)"
      ],
      "execution_count": null,
      "outputs": [
        {
          "output_type": "execute_result",
          "data": {
            "text/plain": [
              "Project Name         False\n",
              "Street Name          False\n",
              "Type                 False\n",
              "Postal District      False\n",
              "Market Segment       False\n",
              "Tenure                True\n",
              "Type of Sale         False\n",
              "No. of Units         False\n",
              "Price ($)            False\n",
              "Nett Price ($)       False\n",
              "Area (Sqft)          False\n",
              "Type of Area         False\n",
              "Floor Level          False\n",
              "Unit Price ($psf)    False\n",
              "Date of Sale         False\n",
              "dtype: bool"
            ]
          },
          "metadata": {
            "tags": []
          },
          "execution_count": 79
        }
      ]
    },
    {
      "cell_type": "code",
      "metadata": {
        "colab": {
          "base_uri": "https://localhost:8080/"
        },
        "id": "iPBmNeiFPcA5",
        "outputId": "f6098e95-6bd1-4154-fca2-f72c5bac33d7"
      },
      "source": [
        "df.info()"
      ],
      "execution_count": null,
      "outputs": [
        {
          "output_type": "stream",
          "text": [
            "<class 'pandas.core.frame.DataFrame'>\n",
            "Int64Index: 97140 entries, 0 to 97139\n",
            "Data columns (total 15 columns):\n",
            " #   Column             Non-Null Count  Dtype \n",
            "---  ------             --------------  ----- \n",
            " 0   Project Name       97140 non-null  object\n",
            " 1   Street Name        97140 non-null  object\n",
            " 2   Type               97140 non-null  object\n",
            " 3   Postal District    97140 non-null  int64 \n",
            " 4   Market Segment     97140 non-null  object\n",
            " 5   Tenure             97139 non-null  object\n",
            " 6   Type of Sale       97140 non-null  object\n",
            " 7   No. of Units       97140 non-null  int64 \n",
            " 8   Price ($)          97140 non-null  int64 \n",
            " 9   Nett Price ($)     97140 non-null  object\n",
            " 10  Area (Sqft)        97140 non-null  int64 \n",
            " 11  Type of Area       97140 non-null  object\n",
            " 12  Floor Level        97140 non-null  object\n",
            " 13  Unit Price ($psf)  97140 non-null  int64 \n",
            " 14  Date of Sale       97140 non-null  object\n",
            "dtypes: int64(5), object(10)\n",
            "memory usage: 11.9+ MB\n"
          ],
          "name": "stdout"
        }
      ]
    },
    {
      "cell_type": "markdown",
      "metadata": {
        "id": "TNPR2J6ASYbM"
      },
      "source": [
        "Tenure has only 1 null value"
      ]
    },
    {
      "cell_type": "code",
      "metadata": {
        "colab": {
          "base_uri": "https://localhost:8080/",
          "height": 151
        },
        "id": "17cEivVFPcDH",
        "outputId": "8182998b-9259-4875-ccd3-4a02aacb0fd6"
      },
      "source": [
        "missing_row = df[df.isnull().any(axis=1)]\n",
        "missing_row"
      ],
      "execution_count": null,
      "outputs": [
        {
          "output_type": "execute_result",
          "data": {
            "text/html": [
              "<div>\n",
              "<style scoped>\n",
              "    .dataframe tbody tr th:only-of-type {\n",
              "        vertical-align: middle;\n",
              "    }\n",
              "\n",
              "    .dataframe tbody tr th {\n",
              "        vertical-align: top;\n",
              "    }\n",
              "\n",
              "    .dataframe thead th {\n",
              "        text-align: right;\n",
              "    }\n",
              "</style>\n",
              "<table border=\"1\" class=\"dataframe\">\n",
              "  <thead>\n",
              "    <tr style=\"text-align: right;\">\n",
              "      <th></th>\n",
              "      <th>Project Name</th>\n",
              "      <th>Street Name</th>\n",
              "      <th>Type</th>\n",
              "      <th>Postal District</th>\n",
              "      <th>Market Segment</th>\n",
              "      <th>Tenure</th>\n",
              "      <th>Type of Sale</th>\n",
              "      <th>No. of Units</th>\n",
              "      <th>Price ($)</th>\n",
              "      <th>Nett Price ($)</th>\n",
              "      <th>Area (Sqft)</th>\n",
              "      <th>Type of Area</th>\n",
              "      <th>Floor Level</th>\n",
              "      <th>Unit Price ($psf)</th>\n",
              "      <th>Date of Sale</th>\n",
              "    </tr>\n",
              "  </thead>\n",
              "  <tbody>\n",
              "    <tr>\n",
              "      <th>51834</th>\n",
              "      <td>EMERY POINT</td>\n",
              "      <td>IPOH LANE</td>\n",
              "      <td>Apartment</td>\n",
              "      <td>15</td>\n",
              "      <td>RCR</td>\n",
              "      <td>NaN</td>\n",
              "      <td>Resale</td>\n",
              "      <td>1</td>\n",
              "      <td>725000</td>\n",
              "      <td>-</td>\n",
              "      <td>1302</td>\n",
              "      <td>Strata</td>\n",
              "      <td>01 to 05</td>\n",
              "      <td>557</td>\n",
              "      <td>Jul-17</td>\n",
              "    </tr>\n",
              "  </tbody>\n",
              "</table>\n",
              "</div>"
            ],
            "text/plain": [
              "      Project Name Street Name  ... Unit Price ($psf)  Date of Sale\n",
              "51834  EMERY POINT   IPOH LANE  ...               557        Jul-17\n",
              "\n",
              "[1 rows x 15 columns]"
            ]
          },
          "metadata": {
            "tags": []
          },
          "execution_count": 81
        }
      ]
    },
    {
      "cell_type": "code",
      "metadata": {
        "colab": {
          "base_uri": "https://localhost:8080/",
          "height": 631
        },
        "id": "aajhL_RIPcFG",
        "outputId": "cce9a630-9aec-4120-9135-dee77905d91e"
      },
      "source": [
        "similar_development = df[(df['Project Name']==\"EMERY POINT\") & (df['Street Name']==\"IPOH LANE\")]\n",
        "similar_development"
      ],
      "execution_count": null,
      "outputs": [
        {
          "output_type": "execute_result",
          "data": {
            "text/html": [
              "<div>\n",
              "<style scoped>\n",
              "    .dataframe tbody tr th:only-of-type {\n",
              "        vertical-align: middle;\n",
              "    }\n",
              "\n",
              "    .dataframe tbody tr th {\n",
              "        vertical-align: top;\n",
              "    }\n",
              "\n",
              "    .dataframe thead th {\n",
              "        text-align: right;\n",
              "    }\n",
              "</style>\n",
              "<table border=\"1\" class=\"dataframe\">\n",
              "  <thead>\n",
              "    <tr style=\"text-align: right;\">\n",
              "      <th></th>\n",
              "      <th>Project Name</th>\n",
              "      <th>Street Name</th>\n",
              "      <th>Type</th>\n",
              "      <th>Postal District</th>\n",
              "      <th>Market Segment</th>\n",
              "      <th>Tenure</th>\n",
              "      <th>Type of Sale</th>\n",
              "      <th>No. of Units</th>\n",
              "      <th>Price ($)</th>\n",
              "      <th>Nett Price ($)</th>\n",
              "      <th>Area (Sqft)</th>\n",
              "      <th>Type of Area</th>\n",
              "      <th>Floor Level</th>\n",
              "      <th>Unit Price ($psf)</th>\n",
              "      <th>Date of Sale</th>\n",
              "    </tr>\n",
              "  </thead>\n",
              "  <tbody>\n",
              "    <tr>\n",
              "      <th>35419</th>\n",
              "      <td>EMERY POINT</td>\n",
              "      <td>IPOH LANE</td>\n",
              "      <td>Apartment</td>\n",
              "      <td>15</td>\n",
              "      <td>RCR</td>\n",
              "      <td>Freehold</td>\n",
              "      <td>Resale</td>\n",
              "      <td>1</td>\n",
              "      <td>1780000</td>\n",
              "      <td>-</td>\n",
              "      <td>1302</td>\n",
              "      <td>Strata</td>\n",
              "      <td>11 to 15</td>\n",
              "      <td>1367</td>\n",
              "      <td>Mar-21</td>\n",
              "    </tr>\n",
              "    <tr>\n",
              "      <th>37751</th>\n",
              "      <td>EMERY POINT</td>\n",
              "      <td>IPOH LANE</td>\n",
              "      <td>Apartment</td>\n",
              "      <td>15</td>\n",
              "      <td>RCR</td>\n",
              "      <td>Freehold</td>\n",
              "      <td>Resale</td>\n",
              "      <td>1</td>\n",
              "      <td>1738800</td>\n",
              "      <td>-</td>\n",
              "      <td>1324</td>\n",
              "      <td>Strata</td>\n",
              "      <td>16 to 20</td>\n",
              "      <td>1313</td>\n",
              "      <td>Oct-20</td>\n",
              "    </tr>\n",
              "    <tr>\n",
              "      <th>38340</th>\n",
              "      <td>EMERY POINT</td>\n",
              "      <td>IPOH LANE</td>\n",
              "      <td>Apartment</td>\n",
              "      <td>15</td>\n",
              "      <td>RCR</td>\n",
              "      <td>Freehold</td>\n",
              "      <td>Resale</td>\n",
              "      <td>1</td>\n",
              "      <td>1667000</td>\n",
              "      <td>-</td>\n",
              "      <td>1324</td>\n",
              "      <td>Strata</td>\n",
              "      <td>11 to 15</td>\n",
              "      <td>1259</td>\n",
              "      <td>Sep-20</td>\n",
              "    </tr>\n",
              "    <tr>\n",
              "      <th>40727</th>\n",
              "      <td>EMERY POINT</td>\n",
              "      <td>IPOH LANE</td>\n",
              "      <td>Apartment</td>\n",
              "      <td>15</td>\n",
              "      <td>RCR</td>\n",
              "      <td>Freehold</td>\n",
              "      <td>Resale</td>\n",
              "      <td>1</td>\n",
              "      <td>1675000</td>\n",
              "      <td>-</td>\n",
              "      <td>1324</td>\n",
              "      <td>Strata</td>\n",
              "      <td>06 to 10</td>\n",
              "      <td>1265</td>\n",
              "      <td>Nov-19</td>\n",
              "    </tr>\n",
              "    <tr>\n",
              "      <th>41883</th>\n",
              "      <td>EMERY POINT</td>\n",
              "      <td>IPOH LANE</td>\n",
              "      <td>Apartment</td>\n",
              "      <td>15</td>\n",
              "      <td>RCR</td>\n",
              "      <td>Freehold</td>\n",
              "      <td>Resale</td>\n",
              "      <td>1</td>\n",
              "      <td>1800000</td>\n",
              "      <td>-</td>\n",
              "      <td>1324</td>\n",
              "      <td>Strata</td>\n",
              "      <td>16 to 20</td>\n",
              "      <td>1360</td>\n",
              "      <td>Aug-19</td>\n",
              "    </tr>\n",
              "    <tr>\n",
              "      <th>42000</th>\n",
              "      <td>EMERY POINT</td>\n",
              "      <td>IPOH LANE</td>\n",
              "      <td>Apartment</td>\n",
              "      <td>15</td>\n",
              "      <td>RCR</td>\n",
              "      <td>Freehold</td>\n",
              "      <td>Resale</td>\n",
              "      <td>1</td>\n",
              "      <td>1500000</td>\n",
              "      <td>-</td>\n",
              "      <td>1302</td>\n",
              "      <td>Strata</td>\n",
              "      <td>01 to 05</td>\n",
              "      <td>1152</td>\n",
              "      <td>Aug-19</td>\n",
              "    </tr>\n",
              "    <tr>\n",
              "      <th>43261</th>\n",
              "      <td>EMERY POINT</td>\n",
              "      <td>IPOH LANE</td>\n",
              "      <td>Apartment</td>\n",
              "      <td>15</td>\n",
              "      <td>RCR</td>\n",
              "      <td>Freehold</td>\n",
              "      <td>Resale</td>\n",
              "      <td>1</td>\n",
              "      <td>1600000</td>\n",
              "      <td>-</td>\n",
              "      <td>1302</td>\n",
              "      <td>Strata</td>\n",
              "      <td>01 to 05</td>\n",
              "      <td>1228</td>\n",
              "      <td>Apr-19</td>\n",
              "    </tr>\n",
              "    <tr>\n",
              "      <th>43274</th>\n",
              "      <td>EMERY POINT</td>\n",
              "      <td>IPOH LANE</td>\n",
              "      <td>Apartment</td>\n",
              "      <td>15</td>\n",
              "      <td>RCR</td>\n",
              "      <td>Freehold</td>\n",
              "      <td>Resale</td>\n",
              "      <td>1</td>\n",
              "      <td>1550000</td>\n",
              "      <td>-</td>\n",
              "      <td>1302</td>\n",
              "      <td>Strata</td>\n",
              "      <td>06 to 10</td>\n",
              "      <td>1190</td>\n",
              "      <td>Apr-19</td>\n",
              "    </tr>\n",
              "    <tr>\n",
              "      <th>49605</th>\n",
              "      <td>EMERY POINT</td>\n",
              "      <td>IPOH LANE</td>\n",
              "      <td>Apartment</td>\n",
              "      <td>15</td>\n",
              "      <td>RCR</td>\n",
              "      <td>Freehold</td>\n",
              "      <td>Resale</td>\n",
              "      <td>1</td>\n",
              "      <td>1520000</td>\n",
              "      <td>-</td>\n",
              "      <td>1302</td>\n",
              "      <td>Strata</td>\n",
              "      <td>06 to 10</td>\n",
              "      <td>1167</td>\n",
              "      <td>Dec-17</td>\n",
              "    </tr>\n",
              "    <tr>\n",
              "      <th>49631</th>\n",
              "      <td>EMERY POINT</td>\n",
              "      <td>IPOH LANE</td>\n",
              "      <td>Apartment</td>\n",
              "      <td>15</td>\n",
              "      <td>RCR</td>\n",
              "      <td>Freehold</td>\n",
              "      <td>Resale</td>\n",
              "      <td>1</td>\n",
              "      <td>1550000</td>\n",
              "      <td>-</td>\n",
              "      <td>1324</td>\n",
              "      <td>Strata</td>\n",
              "      <td>11 to 15</td>\n",
              "      <td>1171</td>\n",
              "      <td>Dec-17</td>\n",
              "    </tr>\n",
              "    <tr>\n",
              "      <th>51834</th>\n",
              "      <td>EMERY POINT</td>\n",
              "      <td>IPOH LANE</td>\n",
              "      <td>Apartment</td>\n",
              "      <td>15</td>\n",
              "      <td>RCR</td>\n",
              "      <td>NaN</td>\n",
              "      <td>Resale</td>\n",
              "      <td>1</td>\n",
              "      <td>725000</td>\n",
              "      <td>-</td>\n",
              "      <td>1302</td>\n",
              "      <td>Strata</td>\n",
              "      <td>01 to 05</td>\n",
              "      <td>557</td>\n",
              "      <td>Jul-17</td>\n",
              "    </tr>\n",
              "  </tbody>\n",
              "</table>\n",
              "</div>"
            ],
            "text/plain": [
              "      Project Name Street Name  ... Unit Price ($psf)  Date of Sale\n",
              "35419  EMERY POINT   IPOH LANE  ...              1367        Mar-21\n",
              "37751  EMERY POINT   IPOH LANE  ...              1313        Oct-20\n",
              "38340  EMERY POINT   IPOH LANE  ...              1259        Sep-20\n",
              "40727  EMERY POINT   IPOH LANE  ...              1265        Nov-19\n",
              "41883  EMERY POINT   IPOH LANE  ...              1360        Aug-19\n",
              "42000  EMERY POINT   IPOH LANE  ...              1152        Aug-19\n",
              "43261  EMERY POINT   IPOH LANE  ...              1228        Apr-19\n",
              "43274  EMERY POINT   IPOH LANE  ...              1190        Apr-19\n",
              "49605  EMERY POINT   IPOH LANE  ...              1167        Dec-17\n",
              "49631  EMERY POINT   IPOH LANE  ...              1171        Dec-17\n",
              "51834  EMERY POINT   IPOH LANE  ...               557        Jul-17\n",
              "\n",
              "[11 rows x 15 columns]"
            ]
          },
          "metadata": {
            "tags": []
          },
          "execution_count": 82
        }
      ]
    },
    {
      "cell_type": "markdown",
      "metadata": {
        "id": "xr6QaPVaSghp"
      },
      "source": [
        "\n",
        "\n",
        "> Upon Inspection, we shall manually impute the missing cell since similar development are all labelled as \n",
        "**'Freehold'**\n",
        "\n",
        "\n"
      ]
    },
    {
      "cell_type": "code",
      "metadata": {
        "colab": {
          "base_uri": "https://localhost:8080/"
        },
        "id": "9NiVuhArPcMR",
        "outputId": "da542aa9-f1d3-4f8a-9a3d-a2687b7ade53"
      },
      "source": [
        "df['Tenure'].fillna('Freehold', inplace=True)\n",
        "df.isnull().any()"
      ],
      "execution_count": null,
      "outputs": [
        {
          "output_type": "execute_result",
          "data": {
            "text/plain": [
              "Project Name         False\n",
              "Street Name          False\n",
              "Type                 False\n",
              "Postal District      False\n",
              "Market Segment       False\n",
              "Tenure               False\n",
              "Type of Sale         False\n",
              "No. of Units         False\n",
              "Price ($)            False\n",
              "Nett Price ($)       False\n",
              "Area (Sqft)          False\n",
              "Type of Area         False\n",
              "Floor Level          False\n",
              "Unit Price ($psf)    False\n",
              "Date of Sale         False\n",
              "dtype: bool"
            ]
          },
          "metadata": {
            "tags": []
          },
          "execution_count": 83
        }
      ]
    },
    {
      "cell_type": "markdown",
      "metadata": {
        "id": "OgiUE4IBS0ZW"
      },
      "source": [
        "Checking for duplicates"
      ]
    },
    {
      "cell_type": "code",
      "metadata": {
        "colab": {
          "base_uri": "https://localhost:8080/",
          "height": 813
        },
        "id": "grgDNoENPcOu",
        "outputId": "410b87c6-4990-4852-c76e-3d8d4c2e236e"
      },
      "source": [
        "dup = df[df.duplicated()]\n",
        "dup"
      ],
      "execution_count": null,
      "outputs": [
        {
          "output_type": "execute_result",
          "data": {
            "text/html": [
              "<div>\n",
              "<style scoped>\n",
              "    .dataframe tbody tr th:only-of-type {\n",
              "        vertical-align: middle;\n",
              "    }\n",
              "\n",
              "    .dataframe tbody tr th {\n",
              "        vertical-align: top;\n",
              "    }\n",
              "\n",
              "    .dataframe thead th {\n",
              "        text-align: right;\n",
              "    }\n",
              "</style>\n",
              "<table border=\"1\" class=\"dataframe\">\n",
              "  <thead>\n",
              "    <tr style=\"text-align: right;\">\n",
              "      <th></th>\n",
              "      <th>Project Name</th>\n",
              "      <th>Street Name</th>\n",
              "      <th>Type</th>\n",
              "      <th>Postal District</th>\n",
              "      <th>Market Segment</th>\n",
              "      <th>Tenure</th>\n",
              "      <th>Type of Sale</th>\n",
              "      <th>No. of Units</th>\n",
              "      <th>Price ($)</th>\n",
              "      <th>Nett Price ($)</th>\n",
              "      <th>Area (Sqft)</th>\n",
              "      <th>Type of Area</th>\n",
              "      <th>Floor Level</th>\n",
              "      <th>Unit Price ($psf)</th>\n",
              "      <th>Date of Sale</th>\n",
              "    </tr>\n",
              "  </thead>\n",
              "  <tbody>\n",
              "    <tr>\n",
              "      <th>75</th>\n",
              "      <td>NORMANTON PARK</td>\n",
              "      <td>NORMANTON PARK</td>\n",
              "      <td>Apartment</td>\n",
              "      <td>5</td>\n",
              "      <td>RCR</td>\n",
              "      <td>99 yrs lease commencing from 2019</td>\n",
              "      <td>New Sale</td>\n",
              "      <td>1</td>\n",
              "      <td>1104000</td>\n",
              "      <td>-</td>\n",
              "      <td>581</td>\n",
              "      <td>Strata</td>\n",
              "      <td>21 to 25</td>\n",
              "      <td>1899</td>\n",
              "      <td>Jul-21</td>\n",
              "    </tr>\n",
              "    <tr>\n",
              "      <th>81</th>\n",
              "      <td>NORMANTON PARK</td>\n",
              "      <td>NORMANTON PARK</td>\n",
              "      <td>Apartment</td>\n",
              "      <td>5</td>\n",
              "      <td>RCR</td>\n",
              "      <td>99 yrs lease commencing from 2019</td>\n",
              "      <td>New Sale</td>\n",
              "      <td>1</td>\n",
              "      <td>1350000</td>\n",
              "      <td>-</td>\n",
              "      <td>732</td>\n",
              "      <td>Strata</td>\n",
              "      <td>01 to 05</td>\n",
              "      <td>1844</td>\n",
              "      <td>Jul-21</td>\n",
              "    </tr>\n",
              "    <tr>\n",
              "      <th>82</th>\n",
              "      <td>NORMANTON PARK</td>\n",
              "      <td>NORMANTON PARK</td>\n",
              "      <td>Apartment</td>\n",
              "      <td>5</td>\n",
              "      <td>RCR</td>\n",
              "      <td>99 yrs lease commencing from 2019</td>\n",
              "      <td>New Sale</td>\n",
              "      <td>1</td>\n",
              "      <td>1350000</td>\n",
              "      <td>-</td>\n",
              "      <td>732</td>\n",
              "      <td>Strata</td>\n",
              "      <td>01 to 05</td>\n",
              "      <td>1844</td>\n",
              "      <td>Jul-21</td>\n",
              "    </tr>\n",
              "    <tr>\n",
              "      <th>162</th>\n",
              "      <td>ONE PEARL BANK</td>\n",
              "      <td>PEARL BANK</td>\n",
              "      <td>Apartment</td>\n",
              "      <td>3</td>\n",
              "      <td>RCR</td>\n",
              "      <td>99 yrs lease commencing from 2019</td>\n",
              "      <td>New Sale</td>\n",
              "      <td>1</td>\n",
              "      <td>1850000</td>\n",
              "      <td>-</td>\n",
              "      <td>700</td>\n",
              "      <td>Strata</td>\n",
              "      <td>31 to 35</td>\n",
              "      <td>2644</td>\n",
              "      <td>Jul-21</td>\n",
              "    </tr>\n",
              "    <tr>\n",
              "      <th>204</th>\n",
              "      <td>ONE PEARL BANK</td>\n",
              "      <td>PEARL BANK</td>\n",
              "      <td>Apartment</td>\n",
              "      <td>3</td>\n",
              "      <td>RCR</td>\n",
              "      <td>99 yrs lease commencing from 2019</td>\n",
              "      <td>New Sale</td>\n",
              "      <td>1</td>\n",
              "      <td>1850000</td>\n",
              "      <td>-</td>\n",
              "      <td>840</td>\n",
              "      <td>Strata</td>\n",
              "      <td>21 to 25</td>\n",
              "      <td>2203</td>\n",
              "      <td>Jul-21</td>\n",
              "    </tr>\n",
              "    <tr>\n",
              "      <th>...</th>\n",
              "      <td>...</td>\n",
              "      <td>...</td>\n",
              "      <td>...</td>\n",
              "      <td>...</td>\n",
              "      <td>...</td>\n",
              "      <td>...</td>\n",
              "      <td>...</td>\n",
              "      <td>...</td>\n",
              "      <td>...</td>\n",
              "      <td>...</td>\n",
              "      <td>...</td>\n",
              "      <td>...</td>\n",
              "      <td>...</td>\n",
              "      <td>...</td>\n",
              "      <td>...</td>\n",
              "    </tr>\n",
              "    <tr>\n",
              "      <th>97028</th>\n",
              "      <td>SYMPHONY SUITES</td>\n",
              "      <td>YISHUN CLOSE</td>\n",
              "      <td>Condominium</td>\n",
              "      <td>27</td>\n",
              "      <td>OCR</td>\n",
              "      <td>99 yrs lease commencing from 2014</td>\n",
              "      <td>New Sale</td>\n",
              "      <td>1</td>\n",
              "      <td>1004000</td>\n",
              "      <td>-</td>\n",
              "      <td>1023</td>\n",
              "      <td>Strata</td>\n",
              "      <td>01 to 05</td>\n",
              "      <td>982</td>\n",
              "      <td>Sep-16</td>\n",
              "    </tr>\n",
              "    <tr>\n",
              "      <th>97032</th>\n",
              "      <td>SYMPHONY SUITES</td>\n",
              "      <td>YISHUN CLOSE</td>\n",
              "      <td>Condominium</td>\n",
              "      <td>27</td>\n",
              "      <td>OCR</td>\n",
              "      <td>99 yrs lease commencing from 2014</td>\n",
              "      <td>New Sale</td>\n",
              "      <td>1</td>\n",
              "      <td>769000</td>\n",
              "      <td>-</td>\n",
              "      <td>689</td>\n",
              "      <td>Strata</td>\n",
              "      <td>11 to 15</td>\n",
              "      <td>1116</td>\n",
              "      <td>Sep-16</td>\n",
              "    </tr>\n",
              "    <tr>\n",
              "      <th>97082</th>\n",
              "      <td>SYMPHONY SUITES</td>\n",
              "      <td>YISHUN CLOSE</td>\n",
              "      <td>Condominium</td>\n",
              "      <td>27</td>\n",
              "      <td>OCR</td>\n",
              "      <td>99 yrs lease commencing from 2014</td>\n",
              "      <td>New Sale</td>\n",
              "      <td>1</td>\n",
              "      <td>743000</td>\n",
              "      <td>-</td>\n",
              "      <td>689</td>\n",
              "      <td>Strata</td>\n",
              "      <td>11 to 15</td>\n",
              "      <td>1079</td>\n",
              "      <td>Aug-16</td>\n",
              "    </tr>\n",
              "    <tr>\n",
              "      <th>97107</th>\n",
              "      <td>SYMPHONY SUITES</td>\n",
              "      <td>YISHUN CLOSE</td>\n",
              "      <td>Condominium</td>\n",
              "      <td>27</td>\n",
              "      <td>OCR</td>\n",
              "      <td>99 yrs lease commencing from 2014</td>\n",
              "      <td>New Sale</td>\n",
              "      <td>1</td>\n",
              "      <td>808000</td>\n",
              "      <td>-</td>\n",
              "      <td>797</td>\n",
              "      <td>Strata</td>\n",
              "      <td>01 to 05</td>\n",
              "      <td>1014</td>\n",
              "      <td>Aug-16</td>\n",
              "    </tr>\n",
              "    <tr>\n",
              "      <th>97108</th>\n",
              "      <td>HIGH PARK RESIDENCES</td>\n",
              "      <td>FERNVALE ROAD</td>\n",
              "      <td>Apartment</td>\n",
              "      <td>28</td>\n",
              "      <td>OCR</td>\n",
              "      <td>99 yrs lease commencing from 2014</td>\n",
              "      <td>New Sale</td>\n",
              "      <td>1</td>\n",
              "      <td>769112</td>\n",
              "      <td>-</td>\n",
              "      <td>667</td>\n",
              "      <td>Strata</td>\n",
              "      <td>21 to 25</td>\n",
              "      <td>1152</td>\n",
              "      <td>Aug-16</td>\n",
              "    </tr>\n",
              "  </tbody>\n",
              "</table>\n",
              "<p>3298 rows × 15 columns</p>\n",
              "</div>"
            ],
            "text/plain": [
              "               Project Name     Street Name  ... Unit Price ($psf)  Date of Sale\n",
              "75           NORMANTON PARK  NORMANTON PARK  ...              1899        Jul-21\n",
              "81           NORMANTON PARK  NORMANTON PARK  ...              1844        Jul-21\n",
              "82           NORMANTON PARK  NORMANTON PARK  ...              1844        Jul-21\n",
              "162          ONE PEARL BANK      PEARL BANK  ...              2644        Jul-21\n",
              "204          ONE PEARL BANK      PEARL BANK  ...              2203        Jul-21\n",
              "...                     ...             ...  ...               ...           ...\n",
              "97028       SYMPHONY SUITES    YISHUN CLOSE  ...               982        Sep-16\n",
              "97032       SYMPHONY SUITES    YISHUN CLOSE  ...              1116        Sep-16\n",
              "97082       SYMPHONY SUITES    YISHUN CLOSE  ...              1079        Aug-16\n",
              "97107       SYMPHONY SUITES    YISHUN CLOSE  ...              1014        Aug-16\n",
              "97108  HIGH PARK RESIDENCES   FERNVALE ROAD  ...              1152        Aug-16\n",
              "\n",
              "[3298 rows x 15 columns]"
            ]
          },
          "metadata": {
            "tags": []
          },
          "execution_count": 84
        }
      ]
    },
    {
      "cell_type": "markdown",
      "metadata": {
        "id": "GcQWm1KGToyG"
      },
      "source": [
        "\n",
        "\n",
        "> Over 3% of data are duplciates - Exact same Pricing and other features\n",
        "\n",
        "\n",
        "\n",
        "> We shouldn't be too alarmed as housing of the same development and build are usually sold about the same price (or in this case exactly the same price, which is especially true for New Sale Homes)\n",
        "\n",
        "\n",
        "\n",
        "\n"
      ]
    },
    {
      "cell_type": "markdown",
      "metadata": {
        "id": "d5vhMeexUADc"
      },
      "source": [
        "---\n",
        "# <br>\n",
        "Labelling the data into a suitable format\n",
        "\n",
        "\n",
        "\n"
      ]
    },
    {
      "cell_type": "code",
      "metadata": {
        "colab": {
          "base_uri": "https://localhost:8080/"
        },
        "id": "He5i7AQuPcRT",
        "outputId": "cc51cd07-c0c7-4a60-b215-6097f06165a4"
      },
      "source": [
        "df.dtypes"
      ],
      "execution_count": null,
      "outputs": [
        {
          "output_type": "execute_result",
          "data": {
            "text/plain": [
              "Project Name         object\n",
              "Street Name          object\n",
              "Type                 object\n",
              "Postal District       int64\n",
              "Market Segment       object\n",
              "Tenure               object\n",
              "Type of Sale         object\n",
              "No. of Units          int64\n",
              "Price ($)             int64\n",
              "Nett Price ($)       object\n",
              "Area (Sqft)           int64\n",
              "Type of Area         object\n",
              "Floor Level          object\n",
              "Unit Price ($psf)     int64\n",
              "Date of Sale         object\n",
              "dtype: object"
            ]
          },
          "metadata": {
            "tags": []
          },
          "execution_count": 85
        }
      ]
    },
    {
      "cell_type": "code",
      "metadata": {
        "colab": {
          "base_uri": "https://localhost:8080/"
        },
        "id": "YEiVornJPcT0",
        "outputId": "15ee6bbe-f392-45f2-f685-9d4f1ced6f4a"
      },
      "source": [
        "df.apply(lambda x: x.unique().size, axis=0)"
      ],
      "execution_count": null,
      "outputs": [
        {
          "output_type": "execute_result",
          "data": {
            "text/plain": [
              "Project Name          2279\n",
              "Street Name            832\n",
              "Type                     2\n",
              "Postal District         27\n",
              "Market Segment           3\n",
              "Tenure                 124\n",
              "Type of Sale             2\n",
              "No. of Units            62\n",
              "Price ($)            17295\n",
              "Nett Price ($)         494\n",
              "Area (Sqft)            640\n",
              "Type of Area             2\n",
              "Floor Level             17\n",
              "Unit Price ($psf)     3243\n",
              "Date of Sale            61\n",
              "dtype: int64"
            ]
          },
          "metadata": {
            "tags": []
          },
          "execution_count": 86
        }
      ]
    },
    {
      "cell_type": "code",
      "metadata": {
        "colab": {
          "base_uri": "https://localhost:8080/"
        },
        "id": "0oB2a9MaTCpI",
        "outputId": "1261d22b-1950-4abf-abe0-6b526620aa02"
      },
      "source": [
        "types_of_tenures = df.Tenure.unique()\n",
        "print(\"We have exactly\", types_of_tenures.shape[0], \"variation of tenures\")\n",
        "print(types_of_tenures)"
      ],
      "execution_count": null,
      "outputs": [
        {
          "output_type": "stream",
          "text": [
            "We have exactly 124 variation of tenures\n",
            "['99 yrs lease commencing from 2007' '99 yrs lease commencing from 2018'\n",
            " '99 yrs lease commencing from 2019' '99 yrs lease commencing from 2020'\n",
            " '99 yrs lease commencing from 1973' '99 yrs lease commencing from 2021'\n",
            " '99 yrs lease commencing from 2011' '99 yrs lease commencing from 2009'\n",
            " '99 yrs lease commencing from 1999' 'Freehold'\n",
            " '99 yrs lease commencing from 2012' '99 yrs lease commencing from 2006'\n",
            " '99 yrs lease commencing from 1980' '99 yrs lease commencing from 2005'\n",
            " '99 yrs lease commencing from 2008' '956 yrs lease commencing from 1928'\n",
            " '99 yrs lease commencing from 2002' '99 yrs lease commencing from 2015'\n",
            " '99 yrs lease commencing from 2003' '99 yrs lease commencing from 2013'\n",
            " '99 yrs lease commencing from 1995' '99 yrs lease commencing from 2004'\n",
            " '99 yrs lease commencing from 2014' '99 yrs lease commencing from 1993'\n",
            " '99 yrs lease commencing from 1998' '99 yrs lease commencing from 2017'\n",
            " '99 yrs lease commencing from 1991' '99 yrs lease commencing from 1996'\n",
            " '999 yrs lease commencing from 1827' '99 yrs lease commencing from 1968'\n",
            " '99 yrs lease commencing from 1992' '999 yrs lease commencing from 1885'\n",
            " '99 yrs lease commencing from 2016' '99 yrs lease commencing from 2000'\n",
            " '99 yrs lease commencing from 1970' '99 yrs lease commencing from 1997'\n",
            " '99 yrs lease commencing from 1990' '85 yrs lease commencing from 1990'\n",
            " '99 yrs lease commencing from 1976' '93 yrs lease commencing from 1979'\n",
            " '999 yrs lease commencing from 1968' '999 yrs lease commencing from 1966'\n",
            " '9999 yrs lease commencing from 1963' '99 yrs lease commencing from 1982'\n",
            " '99 yrs lease commencing from 1979' '102 yrs lease commencing from 1977'\n",
            " '99 yrs lease commencing from 1977' '89 yrs lease commencing from 1979'\n",
            " '99 yrs lease commencing from 1972' '999 yrs lease commencing from 1877'\n",
            " '99 yrs lease commencing from 2010' '103 yrs lease commencing from 2010'\n",
            " '999 yrs lease commencing from 1995' '929 yrs lease commencing from 1953'\n",
            " '999 yrs lease commencing from 1841' '99 yrs lease commencing from 2001'\n",
            " '99 yrs lease commencing from 1975' '99 yrs lease commencing from 1994'\n",
            " '999 yrs lease commencing from 1875' '103 yrs lease commencing from 1974'\n",
            " '993 yrs lease commencing from 1973' '103 yrs lease commencing from 2002'\n",
            " '947 yrs lease commencing from 1937' '99 yrs lease commencing from 1969'\n",
            " '999 yrs lease commencing from 1979'\n",
            " '9999 yrs lease commencing from 1957'\n",
            " '999999 yrs lease commencing from 1958'\n",
            " '110 yrs lease commencing from 2017' '110 Yrs From 01/11/2017'\n",
            " '97 yrs lease commencing from 1980' '999 yrs lease commencing from 1919'\n",
            " '9999 yrs lease commencing from 1960'\n",
            " '999 yrs lease commencing from 1835' '103 yrs lease commencing from 2009'\n",
            " '999 yrs lease commencing from 1882' '999 yrs lease commencing from 1878'\n",
            " '9999 yrs lease commencing from 1964'\n",
            " '9999 yrs lease commencing from 1962'\n",
            " '999 yrs lease commencing from 1965' '999 yrs lease commencing from 1991'\n",
            " '9999 yrs lease commencing from 1961'\n",
            " '9999 yrs lease commencing from 1995'\n",
            " '999 yrs lease commencing from 1874' '999 yrs lease commencing from 1957'\n",
            " '999 yrs lease commencing from 1990'\n",
            " '999999 yrs lease commencing from 1963'\n",
            " '999 yrs lease commencing from 1985' '99 yrs lease commencing from 1981'\n",
            " '999999 yrs lease commencing from 1960'\n",
            " '999 yrs lease commencing from 1958' '102 yrs lease commencing from 1986'\n",
            " '999 yrs lease commencing from 1967'\n",
            " '9999 yrs lease commencing from 1965' '99 yrs lease commencing from 1987'\n",
            " '946 yrs lease commencing from 1938' '946 yrs lease commencing from 1937'\n",
            " '999 yrs lease commencing from 1886' '947 yrs lease commencing from 1934'\n",
            " '999 yrs lease commencing from 1883' '999 yrs lease commencing from 1876'\n",
            " '102 yrs lease commencing from 1978' '999 yrs lease commencing from 1879'\n",
            " '103 yrs lease commencing from 1977' '999 yrs lease commencing from 1972'\n",
            " '9999 yrs lease commencing from 1993'\n",
            " '103 yrs lease commencing from 1975' '999 yrs lease commencing from 1982'\n",
            " '99 years leasehold' '999 yrs lease commencing from 2019'\n",
            " '9999 yrs lease commencing from 2004'\n",
            " '999999 yrs lease commencing from 1993'\n",
            " '103 yrs lease commencing from 1985' '99 yrs lease commencing from 1978'\n",
            " '101 yrs lease commencing from 1985' '100 yrs lease commencing from 1986'\n",
            " '104 yrs lease commencing from 1986' '999 yrs lease commencing from 1964'\n",
            " '9999 yrs lease commencing from 1991' '99 yrs lease commencing from 1984'\n",
            " '999 yrs lease commencing from 1884' '99 yrs lease commencing from 1952'\n",
            " '60 yrs lease commencing from 2013' '99 yrs lease commencing from 1983'\n",
            " '998 yrs lease commencing from 1885']\n"
          ],
          "name": "stdout"
        }
      ]
    },
    {
      "cell_type": "code",
      "metadata": {
        "colab": {
          "base_uri": "https://localhost:8080/"
        },
        "id": "jliK63mDURCJ",
        "outputId": "6cb8b605-5fdc-4b6b-f0bd-0e939e3187d7"
      },
      "source": [
        "tenure_information = df.Tenure.value_counts()\n",
        "tenure_information"
      ],
      "execution_count": null,
      "outputs": [
        {
          "output_type": "execute_result",
          "data": {
            "text/plain": [
              "Freehold                                 27350\n",
              "99 yrs lease commencing from 2018        13332\n",
              "99 yrs lease commencing from 2017         5246\n",
              "99 yrs lease commencing from 2019         5117\n",
              "99 yrs lease commencing from 2016         4821\n",
              "                                         ...  \n",
              "999 yrs lease commencing from 1835           1\n",
              "9999 yrs lease commencing from 1962          1\n",
              "99 years leasehold                           1\n",
              "999 yrs lease commencing from 1958           1\n",
              "999999 yrs lease commencing from 1963        1\n",
              "Name: Tenure, Length: 124, dtype: int64"
            ]
          },
          "metadata": {
            "tags": []
          },
          "execution_count": 88
        }
      ]
    },
    {
      "cell_type": "markdown",
      "metadata": {
        "id": "s2tFR6khUuig"
      },
      "source": [
        "\n",
        "\n",
        "> Common format: x yrs lease commencing from y\n",
        "\n",
        "\n",
        "\n",
        "---\n",
        "#<br>\n",
        "Dealing with formatting for exceptions\n",
        "\n"
      ]
    },
    {
      "cell_type": "markdown",
      "metadata": {
        "id": "NLO_LwiNkEcE"
      },
      "source": [
        "---\n",
        "\n",
        "*Tenure*"
      ]
    },
    {
      "cell_type": "code",
      "metadata": {
        "colab": {
          "base_uri": "https://localhost:8080/",
          "height": 185
        },
        "id": "e6K2HvrFUqo5",
        "outputId": "5dc353b0-91e3-4c20-d168-a9e18de295f6"
      },
      "source": [
        "df[df.Tenure=='99 years leasehold']"
      ],
      "execution_count": null,
      "outputs": [
        {
          "output_type": "execute_result",
          "data": {
            "text/html": [
              "<div>\n",
              "<style scoped>\n",
              "    .dataframe tbody tr th:only-of-type {\n",
              "        vertical-align: middle;\n",
              "    }\n",
              "\n",
              "    .dataframe tbody tr th {\n",
              "        vertical-align: top;\n",
              "    }\n",
              "\n",
              "    .dataframe thead th {\n",
              "        text-align: right;\n",
              "    }\n",
              "</style>\n",
              "<table border=\"1\" class=\"dataframe\">\n",
              "  <thead>\n",
              "    <tr style=\"text-align: right;\">\n",
              "      <th></th>\n",
              "      <th>Project Name</th>\n",
              "      <th>Street Name</th>\n",
              "      <th>Type</th>\n",
              "      <th>Postal District</th>\n",
              "      <th>Market Segment</th>\n",
              "      <th>Tenure</th>\n",
              "      <th>Type of Sale</th>\n",
              "      <th>No. of Units</th>\n",
              "      <th>Price ($)</th>\n",
              "      <th>Nett Price ($)</th>\n",
              "      <th>Area (Sqft)</th>\n",
              "      <th>Type of Area</th>\n",
              "      <th>Floor Level</th>\n",
              "      <th>Unit Price ($psf)</th>\n",
              "      <th>Date of Sale</th>\n",
              "    </tr>\n",
              "  </thead>\n",
              "  <tbody>\n",
              "    <tr>\n",
              "      <th>62914</th>\n",
              "      <td>PARKWOOD RESIDENCES</td>\n",
              "      <td>YIO CHU KANG ROAD</td>\n",
              "      <td>Apartment</td>\n",
              "      <td>19</td>\n",
              "      <td>OCR</td>\n",
              "      <td>99 years leasehold</td>\n",
              "      <td>New Sale</td>\n",
              "      <td>1</td>\n",
              "      <td>1736800</td>\n",
              "      <td>-</td>\n",
              "      <td>1313</td>\n",
              "      <td>Strata</td>\n",
              "      <td>01 to 05</td>\n",
              "      <td>1323</td>\n",
              "      <td>Jun-20</td>\n",
              "    </tr>\n",
              "  </tbody>\n",
              "</table>\n",
              "</div>"
            ],
            "text/plain": [
              "              Project Name        Street Name  ... Unit Price ($psf)  Date of Sale\n",
              "62914  PARKWOOD RESIDENCES  YIO CHU KANG ROAD  ...              1323        Jun-20\n",
              "\n",
              "[1 rows x 15 columns]"
            ]
          },
          "metadata": {
            "tags": []
          },
          "execution_count": 89
        }
      ]
    },
    {
      "cell_type": "code",
      "metadata": {
        "colab": {
          "base_uri": "https://localhost:8080/",
          "height": 185
        },
        "id": "CiI13mALU7wL",
        "outputId": "638fbc22-7801-4393-fc9c-e24c5083c566"
      },
      "source": [
        "similar_development = df[(df['Project Name']==\"PARKWOOD RESIDENCES\") & (df['Street Name']==\"YIO CHU KANG ROAD\")]\n",
        "similar_development"
      ],
      "execution_count": null,
      "outputs": [
        {
          "output_type": "execute_result",
          "data": {
            "text/html": [
              "<div>\n",
              "<style scoped>\n",
              "    .dataframe tbody tr th:only-of-type {\n",
              "        vertical-align: middle;\n",
              "    }\n",
              "\n",
              "    .dataframe tbody tr th {\n",
              "        vertical-align: top;\n",
              "    }\n",
              "\n",
              "    .dataframe thead th {\n",
              "        text-align: right;\n",
              "    }\n",
              "</style>\n",
              "<table border=\"1\" class=\"dataframe\">\n",
              "  <thead>\n",
              "    <tr style=\"text-align: right;\">\n",
              "      <th></th>\n",
              "      <th>Project Name</th>\n",
              "      <th>Street Name</th>\n",
              "      <th>Type</th>\n",
              "      <th>Postal District</th>\n",
              "      <th>Market Segment</th>\n",
              "      <th>Tenure</th>\n",
              "      <th>Type of Sale</th>\n",
              "      <th>No. of Units</th>\n",
              "      <th>Price ($)</th>\n",
              "      <th>Nett Price ($)</th>\n",
              "      <th>Area (Sqft)</th>\n",
              "      <th>Type of Area</th>\n",
              "      <th>Floor Level</th>\n",
              "      <th>Unit Price ($psf)</th>\n",
              "      <th>Date of Sale</th>\n",
              "    </tr>\n",
              "  </thead>\n",
              "  <tbody>\n",
              "    <tr>\n",
              "      <th>62914</th>\n",
              "      <td>PARKWOOD RESIDENCES</td>\n",
              "      <td>YIO CHU KANG ROAD</td>\n",
              "      <td>Apartment</td>\n",
              "      <td>19</td>\n",
              "      <td>OCR</td>\n",
              "      <td>99 years leasehold</td>\n",
              "      <td>New Sale</td>\n",
              "      <td>1</td>\n",
              "      <td>1736800</td>\n",
              "      <td>-</td>\n",
              "      <td>1313</td>\n",
              "      <td>Strata</td>\n",
              "      <td>01 to 05</td>\n",
              "      <td>1323</td>\n",
              "      <td>Jun-20</td>\n",
              "    </tr>\n",
              "  </tbody>\n",
              "</table>\n",
              "</div>"
            ],
            "text/plain": [
              "              Project Name        Street Name  ... Unit Price ($psf)  Date of Sale\n",
              "62914  PARKWOOD RESIDENCES  YIO CHU KANG ROAD  ...              1323        Jun-20\n",
              "\n",
              "[1 rows x 15 columns]"
            ]
          },
          "metadata": {
            "tags": []
          },
          "execution_count": 90
        }
      ]
    },
    {
      "cell_type": "markdown",
      "metadata": {
        "id": "htBeN-xjVBqh"
      },
      "source": [
        "\n",
        "\n",
        "> No similar development in the dataset\n",
        "\n",
        "> Upon research, PARKWOOD RESIDENCES has a 99 yrs lease commencing from 2018 \n",
        "\n",
        "> - https://www.mysgprop.com/parkwood-residences-oxley/\n",
        "\n",
        "\n",
        "\n"
      ]
    },
    {
      "cell_type": "code",
      "metadata": {
        "id": "mrcDsWAhU-u9"
      },
      "source": [
        "df['Tenure'].replace('99 years leasehold','99 yrs lease commencing from 2018', inplace=True)\n",
        "df['Tenure'].replace('110 Yrs From 01/11/2017','110 yrs lease commencing from 2017', inplace=True)"
      ],
      "execution_count": null,
      "outputs": []
    },
    {
      "cell_type": "markdown",
      "metadata": {
        "id": "0f56Uh7rVl4u"
      },
      "source": [
        "Now, dealing with the freehold homes we decide to create a new feature called **isFreehold** with the following categories:\n",
        "\n",
        "> Freehold\n",
        "\n",
        "> Not Freehold"
      ]
    },
    {
      "cell_type": "code",
      "metadata": {
        "id": "VkYxns2uVVQT"
      },
      "source": [
        "df['isFreehold'] = df.apply(lambda x: 'Freehold' if x.Tenure =='Freehold' else 'Not Freehold', axis=1)"
      ],
      "execution_count": null,
      "outputs": []
    },
    {
      "cell_type": "markdown",
      "metadata": {
        "id": "QKUIatjGjt47"
      },
      "source": [
        "Next we will apply a function to get the remaining lease of all houses "
      ]
    },
    {
      "cell_type": "code",
      "metadata": {
        "id": "kv4g5zlKV_Wu"
      },
      "source": [
        "df['Tenure'].replace('Freehold','999999 yrs commencing from 2021', inplace=True)\n",
        "\n",
        "\n",
        "def remaining_lease(row):\n",
        "    '''\n",
        "    Function is used to extract remaining lease term of the development using information from tenure column\n",
        "    '''\n",
        "    lst = row['Tenure'].split(' ')\n",
        "    remain = (int(lst[0])-(date.today().year - int(lst[-1])))\n",
        "    return remain\n",
        "\n",
        "    \n",
        "df['remaining lease'] = df.apply(remaining_lease, axis=1)"
      ],
      "execution_count": null,
      "outputs": []
    },
    {
      "cell_type": "markdown",
      "metadata": {
        "id": "4r5boXuLj-7y"
      },
      "source": [
        "\n",
        "\n",
        "---\n",
        "Floor Level\n",
        "\n"
      ]
    },
    {
      "cell_type": "code",
      "metadata": {
        "colab": {
          "base_uri": "https://localhost:8080/"
        },
        "id": "AImlUhjEj21d",
        "outputId": "32fcdaa4-3ead-4e99-e3a3-58767aea880e"
      },
      "source": [
        "type_of_floor = df['Floor Level'].unique()\n",
        "type_of_floor"
      ],
      "execution_count": null,
      "outputs": [
        {
          "output_type": "execute_result",
          "data": {
            "text/plain": [
              "array(['01 to 05', '21 to 25', '11 to 15', '06 to 10', '16 to 20',\n",
              "       '36 to 40', '31 to 35', '26 to 30', '41 to 45', '51 to 55',\n",
              "       '46 to 50', '56 to 60', '61 to 65', '-', '66 to 70', 'B1 to B5',\n",
              "       '71 to 75'], dtype=object)"
            ]
          },
          "metadata": {
            "tags": []
          },
          "execution_count": 94
        }
      ]
    },
    {
      "cell_type": "code",
      "metadata": {
        "colab": {
          "base_uri": "https://localhost:8080/"
        },
        "id": "3PEYAadTkRcZ",
        "outputId": "22786b6c-3c84-4198-de15-78381ecc7737"
      },
      "source": [
        "df['Floor Level'].value_counts()"
      ],
      "execution_count": null,
      "outputs": [
        {
          "output_type": "execute_result",
          "data": {
            "text/plain": [
              "01 to 05    35476\n",
              "06 to 10    24479\n",
              "11 to 15    17257\n",
              "16 to 20     8976\n",
              "21 to 25     4414\n",
              "26 to 30     2758\n",
              "31 to 35     1951\n",
              "36 to 40      986\n",
              "41 to 45      355\n",
              "-             165\n",
              "46 to 50      151\n",
              "51 to 55       66\n",
              "56 to 60       38\n",
              "61 to 65       29\n",
              "66 to 70       20\n",
              "B1 to B5       15\n",
              "71 to 75        4\n",
              "Name: Floor Level, dtype: int64"
            ]
          },
          "metadata": {
            "tags": []
          },
          "execution_count": 95
        }
      ]
    },
    {
      "cell_type": "code",
      "metadata": {
        "colab": {
          "base_uri": "https://localhost:8080/",
          "height": 813
        },
        "id": "hkMphJz-kV0w",
        "outputId": "d5ede30d-6a71-4bfa-a6e1-c006f2b5a43b"
      },
      "source": [
        "df[df['Floor Level']=='-']"
      ],
      "execution_count": null,
      "outputs": [
        {
          "output_type": "execute_result",
          "data": {
            "text/html": [
              "<div>\n",
              "<style scoped>\n",
              "    .dataframe tbody tr th:only-of-type {\n",
              "        vertical-align: middle;\n",
              "    }\n",
              "\n",
              "    .dataframe tbody tr th {\n",
              "        vertical-align: top;\n",
              "    }\n",
              "\n",
              "    .dataframe thead th {\n",
              "        text-align: right;\n",
              "    }\n",
              "</style>\n",
              "<table border=\"1\" class=\"dataframe\">\n",
              "  <thead>\n",
              "    <tr style=\"text-align: right;\">\n",
              "      <th></th>\n",
              "      <th>Project Name</th>\n",
              "      <th>Street Name</th>\n",
              "      <th>Type</th>\n",
              "      <th>Postal District</th>\n",
              "      <th>Market Segment</th>\n",
              "      <th>Tenure</th>\n",
              "      <th>Type of Sale</th>\n",
              "      <th>No. of Units</th>\n",
              "      <th>Price ($)</th>\n",
              "      <th>Nett Price ($)</th>\n",
              "      <th>Area (Sqft)</th>\n",
              "      <th>Type of Area</th>\n",
              "      <th>Floor Level</th>\n",
              "      <th>Unit Price ($psf)</th>\n",
              "      <th>Date of Sale</th>\n",
              "      <th>isFreehold</th>\n",
              "      <th>remaining lease</th>\n",
              "    </tr>\n",
              "  </thead>\n",
              "  <tbody>\n",
              "    <tr>\n",
              "      <th>3652</th>\n",
              "      <td>SARHAD VILLE</td>\n",
              "      <td>LORONG SARHAD</td>\n",
              "      <td>Condominium</td>\n",
              "      <td>5</td>\n",
              "      <td>RCR</td>\n",
              "      <td>999999 yrs commencing from 2021</td>\n",
              "      <td>Resale</td>\n",
              "      <td>1</td>\n",
              "      <td>1220000</td>\n",
              "      <td>-</td>\n",
              "      <td>1238</td>\n",
              "      <td>Strata</td>\n",
              "      <td>-</td>\n",
              "      <td>986</td>\n",
              "      <td>Dec-20</td>\n",
              "      <td>Freehold</td>\n",
              "      <td>999999</td>\n",
              "    </tr>\n",
              "    <tr>\n",
              "      <th>11381</th>\n",
              "      <td>SARHAD VILLE</td>\n",
              "      <td>LORONG SARHAD</td>\n",
              "      <td>Condominium</td>\n",
              "      <td>5</td>\n",
              "      <td>RCR</td>\n",
              "      <td>999999 yrs commencing from 2021</td>\n",
              "      <td>Resale</td>\n",
              "      <td>1</td>\n",
              "      <td>1300000</td>\n",
              "      <td>-</td>\n",
              "      <td>1206</td>\n",
              "      <td>Strata</td>\n",
              "      <td>-</td>\n",
              "      <td>1078</td>\n",
              "      <td>Aug-18</td>\n",
              "      <td>Freehold</td>\n",
              "      <td>999999</td>\n",
              "    </tr>\n",
              "    <tr>\n",
              "      <th>15980</th>\n",
              "      <td>LOTUS AT PASIR PANJANG</td>\n",
              "      <td>PASIR PANJANG ROAD</td>\n",
              "      <td>Condominium</td>\n",
              "      <td>5</td>\n",
              "      <td>RCR</td>\n",
              "      <td>999999 yrs commencing from 2021</td>\n",
              "      <td>Resale</td>\n",
              "      <td>106</td>\n",
              "      <td>121000000</td>\n",
              "      <td>-</td>\n",
              "      <td>89622</td>\n",
              "      <td>Land</td>\n",
              "      <td>-</td>\n",
              "      <td>1350</td>\n",
              "      <td>Jul-17</td>\n",
              "      <td>Freehold</td>\n",
              "      <td>999999</td>\n",
              "    </tr>\n",
              "    <tr>\n",
              "      <th>19798</th>\n",
              "      <td>CASABELLA</td>\n",
              "      <td>DUCHESS AVENUE</td>\n",
              "      <td>Condominium</td>\n",
              "      <td>10</td>\n",
              "      <td>CCR</td>\n",
              "      <td>999999 yrs commencing from 2021</td>\n",
              "      <td>Resale</td>\n",
              "      <td>1</td>\n",
              "      <td>4200000</td>\n",
              "      <td>-</td>\n",
              "      <td>3800</td>\n",
              "      <td>Strata</td>\n",
              "      <td>-</td>\n",
              "      <td>1105</td>\n",
              "      <td>Jul-21</td>\n",
              "      <td>Freehold</td>\n",
              "      <td>999999</td>\n",
              "    </tr>\n",
              "    <tr>\n",
              "      <th>20347</th>\n",
              "      <td>PATERSON RESIDENCE</td>\n",
              "      <td>PATERSON ROAD</td>\n",
              "      <td>Condominium</td>\n",
              "      <td>9</td>\n",
              "      <td>CCR</td>\n",
              "      <td>999999 yrs commencing from 2021</td>\n",
              "      <td>Resale</td>\n",
              "      <td>1</td>\n",
              "      <td>7100000</td>\n",
              "      <td>-</td>\n",
              "      <td>3843</td>\n",
              "      <td>Strata</td>\n",
              "      <td>-</td>\n",
              "      <td>1848</td>\n",
              "      <td>May-21</td>\n",
              "      <td>Freehold</td>\n",
              "      <td>999999</td>\n",
              "    </tr>\n",
              "    <tr>\n",
              "      <th>...</th>\n",
              "      <td>...</td>\n",
              "      <td>...</td>\n",
              "      <td>...</td>\n",
              "      <td>...</td>\n",
              "      <td>...</td>\n",
              "      <td>...</td>\n",
              "      <td>...</td>\n",
              "      <td>...</td>\n",
              "      <td>...</td>\n",
              "      <td>...</td>\n",
              "      <td>...</td>\n",
              "      <td>...</td>\n",
              "      <td>...</td>\n",
              "      <td>...</td>\n",
              "      <td>...</td>\n",
              "      <td>...</td>\n",
              "      <td>...</td>\n",
              "    </tr>\n",
              "    <tr>\n",
              "      <th>95627</th>\n",
              "      <td>SKIES MILTONIA</td>\n",
              "      <td>MILTONIA CLOSE</td>\n",
              "      <td>Condominium</td>\n",
              "      <td>27</td>\n",
              "      <td>OCR</td>\n",
              "      <td>99 yrs lease commencing from 2012</td>\n",
              "      <td>Resale</td>\n",
              "      <td>1</td>\n",
              "      <td>2796875</td>\n",
              "      <td>-</td>\n",
              "      <td>4672</td>\n",
              "      <td>Strata</td>\n",
              "      <td>-</td>\n",
              "      <td>599</td>\n",
              "      <td>Jan-18</td>\n",
              "      <td>Not Freehold</td>\n",
              "      <td>90</td>\n",
              "    </tr>\n",
              "    <tr>\n",
              "      <th>95628</th>\n",
              "      <td>SKIES MILTONIA</td>\n",
              "      <td>MILTONIA CLOSE</td>\n",
              "      <td>Condominium</td>\n",
              "      <td>27</td>\n",
              "      <td>OCR</td>\n",
              "      <td>99 yrs lease commencing from 2012</td>\n",
              "      <td>Resale</td>\n",
              "      <td>1</td>\n",
              "      <td>2796875</td>\n",
              "      <td>-</td>\n",
              "      <td>4672</td>\n",
              "      <td>Strata</td>\n",
              "      <td>-</td>\n",
              "      <td>599</td>\n",
              "      <td>Jan-18</td>\n",
              "      <td>Not Freehold</td>\n",
              "      <td>90</td>\n",
              "    </tr>\n",
              "    <tr>\n",
              "      <th>95631</th>\n",
              "      <td>SKIES MILTONIA</td>\n",
              "      <td>MILTONIA CLOSE</td>\n",
              "      <td>Condominium</td>\n",
              "      <td>27</td>\n",
              "      <td>OCR</td>\n",
              "      <td>99 yrs lease commencing from 2012</td>\n",
              "      <td>Resale</td>\n",
              "      <td>1</td>\n",
              "      <td>2796875</td>\n",
              "      <td>-</td>\n",
              "      <td>4672</td>\n",
              "      <td>Strata</td>\n",
              "      <td>-</td>\n",
              "      <td>599</td>\n",
              "      <td>Jan-18</td>\n",
              "      <td>Not Freehold</td>\n",
              "      <td>90</td>\n",
              "    </tr>\n",
              "    <tr>\n",
              "      <th>95632</th>\n",
              "      <td>SKIES MILTONIA</td>\n",
              "      <td>MILTONIA CLOSE</td>\n",
              "      <td>Condominium</td>\n",
              "      <td>27</td>\n",
              "      <td>OCR</td>\n",
              "      <td>99 yrs lease commencing from 2012</td>\n",
              "      <td>Resale</td>\n",
              "      <td>1</td>\n",
              "      <td>2796875</td>\n",
              "      <td>-</td>\n",
              "      <td>4672</td>\n",
              "      <td>Strata</td>\n",
              "      <td>-</td>\n",
              "      <td>599</td>\n",
              "      <td>Jan-18</td>\n",
              "      <td>Not Freehold</td>\n",
              "      <td>90</td>\n",
              "    </tr>\n",
              "    <tr>\n",
              "      <th>95706</th>\n",
              "      <td>SKIES MILTONIA</td>\n",
              "      <td>MILTONIA CLOSE</td>\n",
              "      <td>Condominium</td>\n",
              "      <td>27</td>\n",
              "      <td>OCR</td>\n",
              "      <td>99 yrs lease commencing from 2012</td>\n",
              "      <td>Resale</td>\n",
              "      <td>1</td>\n",
              "      <td>2800000</td>\n",
              "      <td>-</td>\n",
              "      <td>4672</td>\n",
              "      <td>Strata</td>\n",
              "      <td>-</td>\n",
              "      <td>599</td>\n",
              "      <td>Dec-17</td>\n",
              "      <td>Not Freehold</td>\n",
              "      <td>90</td>\n",
              "    </tr>\n",
              "  </tbody>\n",
              "</table>\n",
              "<p>165 rows × 17 columns</p>\n",
              "</div>"
            ],
            "text/plain": [
              "                 Project Name  ... remaining lease\n",
              "3652             SARHAD VILLE  ...          999999\n",
              "11381            SARHAD VILLE  ...          999999\n",
              "15980  LOTUS AT PASIR PANJANG  ...          999999\n",
              "19798               CASABELLA  ...          999999\n",
              "20347      PATERSON RESIDENCE  ...          999999\n",
              "...                       ...  ...             ...\n",
              "95627          SKIES MILTONIA  ...              90\n",
              "95628          SKIES MILTONIA  ...              90\n",
              "95631          SKIES MILTONIA  ...              90\n",
              "95632          SKIES MILTONIA  ...              90\n",
              "95706          SKIES MILTONIA  ...              90\n",
              "\n",
              "[165 rows x 17 columns]"
            ]
          },
          "metadata": {
            "tags": []
          },
          "execution_count": 96
        }
      ]
    },
    {
      "cell_type": "markdown",
      "metadata": {
        "id": "ZdwsihOgkZ8z"
      },
      "source": [
        "\n",
        "\n",
        "> Research shows that developments with Floor Level = '-' are generally 01 to 05 stories tall\n",
        "\n",
        "\n",
        "> Here are 2 examples of such developments:\n",
        "\n",
        "\n",
        "1.   SERENE VIEW MANSIONS\n",
        "2.   SKIES MILTONIA\n",
        "\n",
        "\n",
        "\n",
        "\n",
        "\n"
      ]
    },
    {
      "cell_type": "code",
      "metadata": {
        "colab": {
          "base_uri": "https://localhost:8080/",
          "height": 298
        },
        "id": "kVKtNZ9WkX0u",
        "outputId": "4ac239e7-3b4d-450b-e288-3c652a0dc75f"
      },
      "source": [
        "# SERENE VIEW MANSIONS\n",
        "similar_development = df[(df['Project Name']==\"SERENE VIEW MANSIONS\") & (df['Street Name']==\"LORONG SELANGAT\")]\n",
        "similar_development"
      ],
      "execution_count": null,
      "outputs": [
        {
          "output_type": "execute_result",
          "data": {
            "text/html": [
              "<div>\n",
              "<style scoped>\n",
              "    .dataframe tbody tr th:only-of-type {\n",
              "        vertical-align: middle;\n",
              "    }\n",
              "\n",
              "    .dataframe tbody tr th {\n",
              "        vertical-align: top;\n",
              "    }\n",
              "\n",
              "    .dataframe thead th {\n",
              "        text-align: right;\n",
              "    }\n",
              "</style>\n",
              "<table border=\"1\" class=\"dataframe\">\n",
              "  <thead>\n",
              "    <tr style=\"text-align: right;\">\n",
              "      <th></th>\n",
              "      <th>Project Name</th>\n",
              "      <th>Street Name</th>\n",
              "      <th>Type</th>\n",
              "      <th>Postal District</th>\n",
              "      <th>Market Segment</th>\n",
              "      <th>Tenure</th>\n",
              "      <th>Type of Sale</th>\n",
              "      <th>No. of Units</th>\n",
              "      <th>Price ($)</th>\n",
              "      <th>Nett Price ($)</th>\n",
              "      <th>Area (Sqft)</th>\n",
              "      <th>Type of Area</th>\n",
              "      <th>Floor Level</th>\n",
              "      <th>Unit Price ($psf)</th>\n",
              "      <th>Date of Sale</th>\n",
              "      <th>isFreehold</th>\n",
              "      <th>remaining lease</th>\n",
              "    </tr>\n",
              "  </thead>\n",
              "  <tbody>\n",
              "    <tr>\n",
              "      <th>39731</th>\n",
              "      <td>SERENE VIEW MANSIONS</td>\n",
              "      <td>LORONG SELANGAT</td>\n",
              "      <td>Condominium</td>\n",
              "      <td>13</td>\n",
              "      <td>OCR</td>\n",
              "      <td>999999 yrs commencing from 2021</td>\n",
              "      <td>Resale</td>\n",
              "      <td>1</td>\n",
              "      <td>968000</td>\n",
              "      <td>-</td>\n",
              "      <td>1130</td>\n",
              "      <td>Strata</td>\n",
              "      <td>-</td>\n",
              "      <td>856</td>\n",
              "      <td>Apr-20</td>\n",
              "      <td>Freehold</td>\n",
              "      <td>999999</td>\n",
              "    </tr>\n",
              "    <tr>\n",
              "      <th>52781</th>\n",
              "      <td>SERENE VIEW MANSIONS</td>\n",
              "      <td>LORONG SELANGAT</td>\n",
              "      <td>Condominium</td>\n",
              "      <td>13</td>\n",
              "      <td>OCR</td>\n",
              "      <td>999999 yrs commencing from 2021</td>\n",
              "      <td>Resale</td>\n",
              "      <td>1</td>\n",
              "      <td>1600000</td>\n",
              "      <td>-</td>\n",
              "      <td>2239</td>\n",
              "      <td>Strata</td>\n",
              "      <td>-</td>\n",
              "      <td>715</td>\n",
              "      <td>Apr-17</td>\n",
              "      <td>Freehold</td>\n",
              "      <td>999999</td>\n",
              "    </tr>\n",
              "    <tr>\n",
              "      <th>54131</th>\n",
              "      <td>SERENE VIEW MANSIONS</td>\n",
              "      <td>LORONG SELANGAT</td>\n",
              "      <td>Condominium</td>\n",
              "      <td>13</td>\n",
              "      <td>OCR</td>\n",
              "      <td>999999 yrs commencing from 2021</td>\n",
              "      <td>Resale</td>\n",
              "      <td>1</td>\n",
              "      <td>1600000</td>\n",
              "      <td>-</td>\n",
              "      <td>2239</td>\n",
              "      <td>Strata</td>\n",
              "      <td>-</td>\n",
              "      <td>715</td>\n",
              "      <td>Mar-17</td>\n",
              "      <td>Freehold</td>\n",
              "      <td>999999</td>\n",
              "    </tr>\n",
              "  </tbody>\n",
              "</table>\n",
              "</div>"
            ],
            "text/plain": [
              "               Project Name      Street Name  ... isFreehold  remaining lease\n",
              "39731  SERENE VIEW MANSIONS  LORONG SELANGAT  ...   Freehold           999999\n",
              "52781  SERENE VIEW MANSIONS  LORONG SELANGAT  ...   Freehold           999999\n",
              "54131  SERENE VIEW MANSIONS  LORONG SELANGAT  ...   Freehold           999999\n",
              "\n",
              "[3 rows x 17 columns]"
            ]
          },
          "metadata": {
            "tags": []
          },
          "execution_count": 97
        }
      ]
    },
    {
      "cell_type": "code",
      "metadata": {
        "colab": {
          "base_uri": "https://localhost:8080/",
          "height": 813
        },
        "id": "g9Q8PMA3klqq",
        "outputId": "fbee523a-7792-4784-cb46-ce6d2a8c8628"
      },
      "source": [
        "# SKIES MILTONIA\n",
        "similar_development = df[(df['Project Name']==\"SKIES MILTONIA\") & (df['Street Name']=='MILTONIA CLOSE')]\n",
        "similar_development"
      ],
      "execution_count": null,
      "outputs": [
        {
          "output_type": "execute_result",
          "data": {
            "text/html": [
              "<div>\n",
              "<style scoped>\n",
              "    .dataframe tbody tr th:only-of-type {\n",
              "        vertical-align: middle;\n",
              "    }\n",
              "\n",
              "    .dataframe tbody tr th {\n",
              "        vertical-align: top;\n",
              "    }\n",
              "\n",
              "    .dataframe thead th {\n",
              "        text-align: right;\n",
              "    }\n",
              "</style>\n",
              "<table border=\"1\" class=\"dataframe\">\n",
              "  <thead>\n",
              "    <tr style=\"text-align: right;\">\n",
              "      <th></th>\n",
              "      <th>Project Name</th>\n",
              "      <th>Street Name</th>\n",
              "      <th>Type</th>\n",
              "      <th>Postal District</th>\n",
              "      <th>Market Segment</th>\n",
              "      <th>Tenure</th>\n",
              "      <th>Type of Sale</th>\n",
              "      <th>No. of Units</th>\n",
              "      <th>Price ($)</th>\n",
              "      <th>Nett Price ($)</th>\n",
              "      <th>Area (Sqft)</th>\n",
              "      <th>Type of Area</th>\n",
              "      <th>Floor Level</th>\n",
              "      <th>Unit Price ($psf)</th>\n",
              "      <th>Date of Sale</th>\n",
              "      <th>isFreehold</th>\n",
              "      <th>remaining lease</th>\n",
              "    </tr>\n",
              "  </thead>\n",
              "  <tbody>\n",
              "    <tr>\n",
              "      <th>93507</th>\n",
              "      <td>SKIES MILTONIA</td>\n",
              "      <td>MILTONIA CLOSE</td>\n",
              "      <td>Condominium</td>\n",
              "      <td>27</td>\n",
              "      <td>OCR</td>\n",
              "      <td>99 yrs lease commencing from 2012</td>\n",
              "      <td>Resale</td>\n",
              "      <td>1</td>\n",
              "      <td>1030000</td>\n",
              "      <td>-</td>\n",
              "      <td>1076</td>\n",
              "      <td>Strata</td>\n",
              "      <td>01 to 05</td>\n",
              "      <td>957</td>\n",
              "      <td>Jul-21</td>\n",
              "      <td>Not Freehold</td>\n",
              "      <td>90</td>\n",
              "    </tr>\n",
              "    <tr>\n",
              "      <th>93529</th>\n",
              "      <td>SKIES MILTONIA</td>\n",
              "      <td>MILTONIA CLOSE</td>\n",
              "      <td>Condominium</td>\n",
              "      <td>27</td>\n",
              "      <td>OCR</td>\n",
              "      <td>99 yrs lease commencing from 2012</td>\n",
              "      <td>Resale</td>\n",
              "      <td>1</td>\n",
              "      <td>900000</td>\n",
              "      <td>-</td>\n",
              "      <td>743</td>\n",
              "      <td>Strata</td>\n",
              "      <td>11 to 15</td>\n",
              "      <td>1212</td>\n",
              "      <td>Jun-21</td>\n",
              "      <td>Not Freehold</td>\n",
              "      <td>90</td>\n",
              "    </tr>\n",
              "    <tr>\n",
              "      <th>93534</th>\n",
              "      <td>SKIES MILTONIA</td>\n",
              "      <td>MILTONIA CLOSE</td>\n",
              "      <td>Condominium</td>\n",
              "      <td>27</td>\n",
              "      <td>OCR</td>\n",
              "      <td>99 yrs lease commencing from 2012</td>\n",
              "      <td>Resale</td>\n",
              "      <td>1</td>\n",
              "      <td>1180000</td>\n",
              "      <td>-</td>\n",
              "      <td>1184</td>\n",
              "      <td>Strata</td>\n",
              "      <td>06 to 10</td>\n",
              "      <td>997</td>\n",
              "      <td>Jun-21</td>\n",
              "      <td>Not Freehold</td>\n",
              "      <td>90</td>\n",
              "    </tr>\n",
              "    <tr>\n",
              "      <th>93536</th>\n",
              "      <td>SKIES MILTONIA</td>\n",
              "      <td>MILTONIA CLOSE</td>\n",
              "      <td>Condominium</td>\n",
              "      <td>27</td>\n",
              "      <td>OCR</td>\n",
              "      <td>99 yrs lease commencing from 2012</td>\n",
              "      <td>Resale</td>\n",
              "      <td>1</td>\n",
              "      <td>623000</td>\n",
              "      <td>-</td>\n",
              "      <td>527</td>\n",
              "      <td>Strata</td>\n",
              "      <td>06 to 10</td>\n",
              "      <td>1181</td>\n",
              "      <td>Jun-21</td>\n",
              "      <td>Not Freehold</td>\n",
              "      <td>90</td>\n",
              "    </tr>\n",
              "    <tr>\n",
              "      <th>93560</th>\n",
              "      <td>SKIES MILTONIA</td>\n",
              "      <td>MILTONIA CLOSE</td>\n",
              "      <td>Condominium</td>\n",
              "      <td>27</td>\n",
              "      <td>OCR</td>\n",
              "      <td>99 yrs lease commencing from 2012</td>\n",
              "      <td>Resale</td>\n",
              "      <td>1</td>\n",
              "      <td>812000</td>\n",
              "      <td>-</td>\n",
              "      <td>743</td>\n",
              "      <td>Strata</td>\n",
              "      <td>06 to 10</td>\n",
              "      <td>1093</td>\n",
              "      <td>Jun-21</td>\n",
              "      <td>Not Freehold</td>\n",
              "      <td>90</td>\n",
              "    </tr>\n",
              "    <tr>\n",
              "      <th>...</th>\n",
              "      <td>...</td>\n",
              "      <td>...</td>\n",
              "      <td>...</td>\n",
              "      <td>...</td>\n",
              "      <td>...</td>\n",
              "      <td>...</td>\n",
              "      <td>...</td>\n",
              "      <td>...</td>\n",
              "      <td>...</td>\n",
              "      <td>...</td>\n",
              "      <td>...</td>\n",
              "      <td>...</td>\n",
              "      <td>...</td>\n",
              "      <td>...</td>\n",
              "      <td>...</td>\n",
              "      <td>...</td>\n",
              "      <td>...</td>\n",
              "    </tr>\n",
              "    <tr>\n",
              "      <th>96799</th>\n",
              "      <td>SKIES MILTONIA</td>\n",
              "      <td>MILTONIA CLOSE</td>\n",
              "      <td>Condominium</td>\n",
              "      <td>27</td>\n",
              "      <td>OCR</td>\n",
              "      <td>99 yrs lease commencing from 2012</td>\n",
              "      <td>Resale</td>\n",
              "      <td>1</td>\n",
              "      <td>785000</td>\n",
              "      <td>-</td>\n",
              "      <td>721</td>\n",
              "      <td>Strata</td>\n",
              "      <td>01 to 05</td>\n",
              "      <td>1088</td>\n",
              "      <td>Dec-16</td>\n",
              "      <td>Not Freehold</td>\n",
              "      <td>90</td>\n",
              "    </tr>\n",
              "    <tr>\n",
              "      <th>96867</th>\n",
              "      <td>SKIES MILTONIA</td>\n",
              "      <td>MILTONIA CLOSE</td>\n",
              "      <td>Condominium</td>\n",
              "      <td>27</td>\n",
              "      <td>OCR</td>\n",
              "      <td>99 yrs lease commencing from 2012</td>\n",
              "      <td>Resale</td>\n",
              "      <td>1</td>\n",
              "      <td>1268000</td>\n",
              "      <td>-</td>\n",
              "      <td>1076</td>\n",
              "      <td>Strata</td>\n",
              "      <td>11 to 15</td>\n",
              "      <td>1178</td>\n",
              "      <td>Nov-16</td>\n",
              "      <td>Not Freehold</td>\n",
              "      <td>90</td>\n",
              "    </tr>\n",
              "    <tr>\n",
              "      <th>96890</th>\n",
              "      <td>SKIES MILTONIA</td>\n",
              "      <td>MILTONIA CLOSE</td>\n",
              "      <td>Condominium</td>\n",
              "      <td>27</td>\n",
              "      <td>OCR</td>\n",
              "      <td>99 yrs lease commencing from 2012</td>\n",
              "      <td>Resale</td>\n",
              "      <td>1</td>\n",
              "      <td>550000</td>\n",
              "      <td>-</td>\n",
              "      <td>484</td>\n",
              "      <td>Strata</td>\n",
              "      <td>01 to 05</td>\n",
              "      <td>1135</td>\n",
              "      <td>Nov-16</td>\n",
              "      <td>Not Freehold</td>\n",
              "      <td>90</td>\n",
              "    </tr>\n",
              "    <tr>\n",
              "      <th>96900</th>\n",
              "      <td>SKIES MILTONIA</td>\n",
              "      <td>MILTONIA CLOSE</td>\n",
              "      <td>Condominium</td>\n",
              "      <td>27</td>\n",
              "      <td>OCR</td>\n",
              "      <td>99 yrs lease commencing from 2012</td>\n",
              "      <td>Resale</td>\n",
              "      <td>1</td>\n",
              "      <td>595000</td>\n",
              "      <td>-</td>\n",
              "      <td>484</td>\n",
              "      <td>Strata</td>\n",
              "      <td>01 to 05</td>\n",
              "      <td>1228</td>\n",
              "      <td>Oct-16</td>\n",
              "      <td>Not Freehold</td>\n",
              "      <td>90</td>\n",
              "    </tr>\n",
              "    <tr>\n",
              "      <th>97038</th>\n",
              "      <td>SKIES MILTONIA</td>\n",
              "      <td>MILTONIA CLOSE</td>\n",
              "      <td>Condominium</td>\n",
              "      <td>27</td>\n",
              "      <td>OCR</td>\n",
              "      <td>99 yrs lease commencing from 2012</td>\n",
              "      <td>New Sale</td>\n",
              "      <td>1</td>\n",
              "      <td>1348000</td>\n",
              "      <td>-</td>\n",
              "      <td>1313</td>\n",
              "      <td>Strata</td>\n",
              "      <td>01 to 05</td>\n",
              "      <td>1026</td>\n",
              "      <td>Sep-16</td>\n",
              "      <td>Not Freehold</td>\n",
              "      <td>90</td>\n",
              "    </tr>\n",
              "  </tbody>\n",
              "</table>\n",
              "<p>111 rows × 17 columns</p>\n",
              "</div>"
            ],
            "text/plain": [
              "         Project Name     Street Name  ...    isFreehold  remaining lease\n",
              "93507  SKIES MILTONIA  MILTONIA CLOSE  ...  Not Freehold               90\n",
              "93529  SKIES MILTONIA  MILTONIA CLOSE  ...  Not Freehold               90\n",
              "93534  SKIES MILTONIA  MILTONIA CLOSE  ...  Not Freehold               90\n",
              "93536  SKIES MILTONIA  MILTONIA CLOSE  ...  Not Freehold               90\n",
              "93560  SKIES MILTONIA  MILTONIA CLOSE  ...  Not Freehold               90\n",
              "...               ...             ...  ...           ...              ...\n",
              "96799  SKIES MILTONIA  MILTONIA CLOSE  ...  Not Freehold               90\n",
              "96867  SKIES MILTONIA  MILTONIA CLOSE  ...  Not Freehold               90\n",
              "96890  SKIES MILTONIA  MILTONIA CLOSE  ...  Not Freehold               90\n",
              "96900  SKIES MILTONIA  MILTONIA CLOSE  ...  Not Freehold               90\n",
              "97038  SKIES MILTONIA  MILTONIA CLOSE  ...  Not Freehold               90\n",
              "\n",
              "[111 rows x 17 columns]"
            ]
          },
          "metadata": {
            "tags": []
          },
          "execution_count": 98
        }
      ]
    },
    {
      "cell_type": "markdown",
      "metadata": {
        "id": "swcYkMqLlGN8"
      },
      "source": [
        "Hence we classify housing with \"Floor Level\" == '-' to be within the '01 to 05' floor range\n"
      ]
    },
    {
      "cell_type": "code",
      "metadata": {
        "id": "XDiio2d4kthw"
      },
      "source": [
        "df['Floor Level'].replace('-','01 to 05', inplace=True)"
      ],
      "execution_count": null,
      "outputs": []
    },
    {
      "cell_type": "markdown",
      "metadata": {
        "id": "yPIjmZWilWUN"
      },
      "source": [
        "<br>\n",
        "<br>\n",
        "<br>\n",
        "\n",
        "\n",
        "---\n",
        "\n",
        "\n",
        "\n",
        "\n",
        "Simple Feature Engineering to remove some less important features"
      ]
    },
    {
      "cell_type": "markdown",
      "metadata": {
        "id": "sozYWs-vllXF"
      },
      "source": [
        "\n",
        "Checking number of unique values in each column"
      ]
    },
    {
      "cell_type": "code",
      "metadata": {
        "id": "sk2sVnh9lTmm"
      },
      "source": [
        "# Keeping a spare dataframe copy for later use\n",
        "df_original = df.copy()"
      ],
      "execution_count": null,
      "outputs": []
    },
    {
      "cell_type": "code",
      "metadata": {
        "id": "uWF35lNOlruF"
      },
      "source": [
        "cols_to_remove = []"
      ],
      "execution_count": null,
      "outputs": []
    },
    {
      "cell_type": "markdown",
      "metadata": {
        "id": "7-k1GRBUlxAv"
      },
      "source": [
        "1. Project Name and Street Name are too specific for our analysis hence we will remove them \n",
        "\n",
        "\n",
        ">  Business POV\n",
        "\n"
      ]
    },
    {
      "cell_type": "code",
      "metadata": {
        "id": "Oox0QLA_ltOz"
      },
      "source": [
        "cols_to_remove.extend(['Project Name','Street Name'])  "
      ],
      "execution_count": null,
      "outputs": []
    },
    {
      "cell_type": "markdown",
      "metadata": {
        "id": "8biBqsc9l91G"
      },
      "source": [
        "Remove Tenure since we have already created 'remaining lease' variable\n",
        "\n",
        "\n",
        "> Data POV\n",
        "\n",
        "\n"
      ]
    },
    {
      "cell_type": "code",
      "metadata": {
        "id": "pjXDZlnnmBGo"
      },
      "source": [
        "cols_to_remove.append('Tenure')"
      ],
      "execution_count": null,
      "outputs": []
    },
    {
      "cell_type": "code",
      "metadata": {
        "colab": {
          "base_uri": "https://localhost:8080/"
        },
        "id": "xomfdAM3mE2a",
        "outputId": "746323f2-6361-42fc-93a0-380c6827cf5f"
      },
      "source": [
        "print(round(int((df['Nett Price ($)']=='-').sum())/df.shape[0],2)*100,\"%  of data have 'Nett Price($)' == '-' \",sep=\"\")"
      ],
      "execution_count": null,
      "outputs": [
        {
          "output_type": "stream",
          "text": [
            "99.0%  of data have 'Nett Price($)' == '-' \n"
          ],
          "name": "stdout"
        }
      ]
    },
    {
      "cell_type": "markdown",
      "metadata": {
        "id": "XSUgwofDmrHo"
      },
      "source": [
        "Therefore, we will ignore the \"Nett Price(\\$)\" variable, and instead stick with just \"Price ($)\" as our outcome variable\n",
        "\n",
        "> Data POV\n",
        "\n",
        "\n"
      ]
    },
    {
      "cell_type": "code",
      "metadata": {
        "id": "n8nN3kvGmHnd"
      },
      "source": [
        "cols_to_remove.append('Nett Price ($)')  "
      ],
      "execution_count": null,
      "outputs": []
    },
    {
      "cell_type": "markdown",
      "metadata": {
        "id": "p5el4-0Hndq6"
      },
      "source": [
        "\"Unit Price ($psf)\" will immediately give away the housing price and is also too specific of a parameter for user to input\n",
        "\n",
        "* This is because \"Price (\\$)\" = \"Area (Sqft)\" x \"Unit Price ($psf)\"\n",
        "\n",
        "\n",
        "\n",
        "> Data POV + Business POV\n",
        "\n",
        "\n"
      ]
    },
    {
      "cell_type": "code",
      "metadata": {
        "id": "kr_OCaaXnbeD"
      },
      "source": [
        "cols_to_remove.append('Unit Price ($psf)')"
      ],
      "execution_count": null,
      "outputs": []
    },
    {
      "cell_type": "markdown",
      "metadata": {
        "id": "VtLVPVROn5uC"
      },
      "source": [
        "We are considering the most recent 5 years of housing sales, to keep prices relevant, and since we are not doing a time series analysis, we will omit 'Date of Sale' as well\n",
        "\n",
        "\n",
        "> Business POV\n",
        "\n"
      ]
    },
    {
      "cell_type": "code",
      "metadata": {
        "id": "UfsMrfYJn4Km"
      },
      "source": [
        "cols_to_remove.append('Date of Sale')   "
      ],
      "execution_count": null,
      "outputs": []
    },
    {
      "cell_type": "code",
      "metadata": {
        "colab": {
          "base_uri": "https://localhost:8080/"
        },
        "id": "0P-URpgEoDj3",
        "outputId": "04adeb1d-f124-4b78-d90a-b24d0e2be466"
      },
      "source": [
        "cols_to_remove"
      ],
      "execution_count": null,
      "outputs": [
        {
          "output_type": "execute_result",
          "data": {
            "text/plain": [
              "['Project Name',\n",
              " 'Street Name',\n",
              " 'Tenure',\n",
              " 'Nett Price ($)',\n",
              " 'Unit Price ($psf)',\n",
              " 'Date of Sale']"
            ]
          },
          "metadata": {
            "tags": []
          },
          "execution_count": 108
        }
      ]
    },
    {
      "cell_type": "markdown",
      "metadata": {
        "id": "ItpNTkYQoRPM"
      },
      "source": [
        "Removing the mentioned columns"
      ]
    },
    {
      "cell_type": "code",
      "metadata": {
        "id": "wvu4SXSDoBDD"
      },
      "source": [
        "df.drop(cols_to_remove, axis=1, inplace=True)"
      ],
      "execution_count": null,
      "outputs": []
    },
    {
      "cell_type": "markdown",
      "metadata": {
        "id": "DiymhgJPoVXZ"
      },
      "source": [
        "<br>\n",
        "<br>\n",
        "<br>\n",
        "<br>\n",
        "\n",
        "#**Data Visualization**"
      ]
    },
    {
      "cell_type": "markdown",
      "metadata": {
        "id": "_8nJIVLioeTl"
      },
      "source": [
        "Exploring the categorical variables "
      ]
    },
    {
      "cell_type": "code",
      "metadata": {
        "colab": {
          "base_uri": "https://localhost:8080/"
        },
        "id": "P_AypIagoToD",
        "outputId": "c52db7b8-aaf7-410d-f740-97a85ad852a9"
      },
      "source": [
        "print(df.columns)\n",
        "lst_of_categorical_variables = ['Type','Postal District','Market Segment','Type of Sale','No. of Units', 'Type of Area','Floor Level', 'isFreehold']\n",
        "print(\"\\n\\n - We have \", len(lst_of_categorical_variables), \" categorical variables\", sep='')\n",
        "\n",
        "print(lst_of_categorical_variables)"
      ],
      "execution_count": null,
      "outputs": [
        {
          "output_type": "stream",
          "text": [
            "Index(['Type', 'Postal District', 'Market Segment', 'Type of Sale',\n",
            "       'No. of Units', 'Price ($)', 'Area (Sqft)', 'Type of Area',\n",
            "       'Floor Level', 'isFreehold', 'remaining lease'],\n",
            "      dtype='object')\n",
            "\n",
            "\n",
            " - We have 8 categorical variables\n",
            "['Type', 'Postal District', 'Market Segment', 'Type of Sale', 'No. of Units', 'Type of Area', 'Floor Level', 'isFreehold']\n"
          ],
          "name": "stdout"
        }
      ]
    },
    {
      "cell_type": "markdown",
      "metadata": {
        "id": "j7qFL6ubpMrP"
      },
      "source": [
        "\n",
        "\n",
        "---\n",
        "\n",
        "Viewing the distribution of the categorical predictors"
      ]
    },
    {
      "cell_type": "code",
      "metadata": {
        "colab": {
          "base_uri": "https://localhost:8080/",
          "height": 1000
        },
        "id": "yphu29C5ohng",
        "outputId": "2a1820e9-439e-477d-d35f-5b1ba18a79bf"
      },
      "source": [
        "plt.figure(figsize=(12,12))\n",
        "plt.suptitle(\"Distributions of categorical variables\")\n",
        "for i in range(4):\n",
        "    plt.subplot(2,2,i+1)\n",
        "    plt.title(lst_of_categorical_variables[i])\n",
        "    plt.hist(df[lst_of_categorical_variables[i]], rwidth=0.9)\n",
        "\n",
        "plt.figure(figsize=(12,12))\n",
        "for i in range(4,8):\n",
        "    plt.subplot(2,2,i-3)\n",
        "    plt.title(lst_of_categorical_variables[i])\n",
        "    plt.hist(df[lst_of_categorical_variables[i]], rwidth=0.9)\n",
        "    plt.xticks(rotation=45)\n",
        "# We split the plotting into 2 sections due to limitations of plotsize allowed when coding on IDE"
      ],
      "execution_count": null,
      "outputs": [
        {
          "output_type": "display_data",
          "data": {
            "image/png": "[encoded data removed]",
            "text/plain": [
              "<Figure size 864x864 with 4 Axes>"
            ]
          },
          "metadata": {
            "tags": [],
            "needs_background": "light"
          }
        },
        {
          "output_type": "display_data",
          "data": {
            "image/png": "[encoded data removed]",
            "text/plain": [
              "<Figure size 864x864 with 4 Axes>"
            ]
          },
          "metadata": {
            "tags": [],
            "needs_background": "light"
          }
        }
      ]
    },
    {
      "cell_type": "markdown",
      "metadata": {
        "id": "ALy2NkIIpsSm"
      },
      "source": [
        "Basic analysis on distribution of categorical variables:\n",
        "    <br><br>\n",
        "* More condominum than apartment type housing\n",
        "    <br>\n",
        "* Fairly balanced number of sales in each Postal District\n",
        "    <br>\n",
        "* Most sales occured Outside Central Region (OCR), followed by Rest of Central Region(RCR) and lastly Core Centreal Region(CCR)\n",
        "    <br>\n",
        "* Both Resale and New Sales of condominiums & apartments are almost the same price\n",
        "    <br>\n",
        "* Most transaction involve low number of units, understandably so as people usually only buy 1 property at each go\n",
        "    <br>\n",
        "* Most transaction are of Strata format, because we extracted only condominum and apartment data from website, land may be because a developer bought out entire space for rebuild (a possible for Land)\n",
        "    <br>\n",
        "* Most homes transacted are under 30 stories as homes in Singapore are usually around that range, rarity are those around 40-50 stories\n",
        "    <br>\n",
        "* Less Freehold homes are transacted as compared to non-freehold ones\n"
      ]
    },
    {
      "cell_type": "markdown",
      "metadata": {
        "id": "NT_CEZawqHRd"
      },
      "source": [
        "<br><br>\n",
        "Viewing the distribution of the continuous predictors\n",
        "\n",
        "---\n",
        "\n",
        "\n",
        "\n"
      ]
    },
    {
      "cell_type": "code",
      "metadata": {
        "colab": {
          "base_uri": "https://localhost:8080/"
        },
        "id": "FDAzB-JYo_H7",
        "outputId": "b335941f-cfa3-4123-9432-25c2743dc4c4"
      },
      "source": [
        "lst_of_continuous_variables = list(set(df.columns)-set(lst_of_categorical_variables))\n",
        "print(\" - We have \", len(lst_of_continuous_variables), \" continuous variables\", sep='')\n",
        "print(lst_of_continuous_variables)"
      ],
      "execution_count": null,
      "outputs": [
        {
          "output_type": "stream",
          "text": [
            " - We have 3 continuous variables\n",
            "['Price ($)', 'remaining lease', 'Area (Sqft)']\n"
          ],
          "name": "stdout"
        }
      ]
    },
    {
      "cell_type": "code",
      "metadata": {
        "colab": {
          "base_uri": "https://localhost:8080/",
          "height": 1000
        },
        "id": "43o1RxuTqN3s",
        "outputId": "f4f75dfd-af79-48c8-d336-36e9f09ceda2"
      },
      "source": [
        "plt.figure(figsize=(15,10))\n",
        "plt.suptitle(\"Continuous Variables Distribution Plot\", fontsize=20)\n",
        "for i  in range(len(lst_of_continuous_variables)):\n",
        "    plt.subplot(3,1,i+1)\n",
        "    plt.title(lst_of_continuous_variables[i])\n",
        "    plt.hist(df[lst_of_continuous_variables[i]])\n",
        "\n",
        "\n",
        "plt.figure(figsize=(15,15))\n",
        "plt.suptitle(\"\\n\\n\\nContinuous Variables BoxPlot\",  fontsize=20)\n",
        "for i  in range(len(lst_of_continuous_variables)):\n",
        "    plt.subplot(3,1,i+1)\n",
        "    plt.title(lst_of_continuous_variables[i])\n",
        "    plt.boxplot(df[lst_of_continuous_variables[i]])"
      ],
      "execution_count": null,
      "outputs": [
        {
          "output_type": "display_data",
          "data": {
            "image/png": "[encoded data removed]",
            "text/plain": [
              "<Figure size 1080x720 with 3 Axes>"
            ]
          },
          "metadata": {
            "tags": [],
            "needs_background": "light"
          }
        },
        {
          "output_type": "display_data",
          "data": {
            "image/png": "[encoded data removed]",
            "text/plain": [
              "<Figure size 1080x1080 with 3 Axes>"
            ]
          },
          "metadata": {
            "tags": [],
            "needs_background": "light"
          }
        }
      ]
    },
    {
      "cell_type": "markdown",
      "metadata": {
        "id": "epyepjIIq5t3"
      },
      "source": [
        "> Distribution does not show any insights due to heavy outliers\n",
        "\n",
        "\n",
        "> We shall do some simple clean up of datapoints\n",
        "\n",
        "\n"
      ]
    },
    {
      "cell_type": "code",
      "metadata": {
        "colab": {
          "base_uri": "https://localhost:8080/"
        },
        "id": "L85VJnjLqdHP",
        "outputId": "8f610602-76c4-4a62-a44a-769eb26aefeb"
      },
      "source": [
        "df_continuous = df[lst_of_continuous_variables]\n",
        "df_continuous.describe()\n",
        "df_continuous = df_continuous[df_continuous['Area (Sqft)']<10000]\n",
        "df_continuous = df_continuous[df_continuous['Price ($)']<10**7]\n",
        "df_continuous['remaining lease'].where(df_continuous['remaining lease'] < 999, 999, inplace=True)\n",
        "(df_continuous['remaining lease'].value_counts()).sort_index() # We changed approximately 27007 houses from >999 years/freehold status to 999 years\n"
      ],
      "execution_count": null,
      "outputs": [
        {
          "output_type": "execute_result",
          "data": {
            "text/plain": [
              "30         2\n",
              "46        58\n",
              "47        10\n",
              "48        60\n",
              "50         1\n",
              "       ...  \n",
              "968        1\n",
              "969        1\n",
              "973       31\n",
              "997        1\n",
              "999    27007\n",
              "Name: remaining lease, Length: 83, dtype: int64"
            ]
          },
          "metadata": {
            "tags": []
          },
          "execution_count": 114
        }
      ]
    },
    {
      "cell_type": "code",
      "metadata": {
        "colab": {
          "base_uri": "https://localhost:8080/",
          "height": 1000
        },
        "id": "ktyoRtlfrKnt",
        "outputId": "ab9885c3-994b-41c5-ffd3-bc3f8ddb3464"
      },
      "source": [
        "plt.figure(figsize=(15,10))\n",
        "plt.suptitle(\"Continuous Variables Distribution Plot\")\n",
        "for i  in range(len(lst_of_continuous_variables)):\n",
        "    plt.subplot(3,1,i+1)\n",
        "    plt.title(lst_of_continuous_variables[i])\n",
        "    plt.hist(df_continuous[lst_of_continuous_variables[i]])\n",
        "\n",
        "plt.figure(figsize=(15,15))\n",
        "plt.suptitle(\"Continuous Variables BoxPlot\")\n",
        "for i  in range(len(lst_of_continuous_variables)):\n",
        "    plt.subplot(3,1,i+1)\n",
        "    plt.title(lst_of_continuous_variables[i])\n",
        "    plt.boxplot(df_continuous[lst_of_continuous_variables[i]])"
      ],
      "execution_count": null,
      "outputs": [
        {
          "output_type": "display_data",
          "data": {
            "image/png": "[encoded data removed]",
            "text/plain": [
              "<Figure size 1080x720 with 3 Axes>"
            ]
          },
          "metadata": {
            "tags": [],
            "needs_background": "light"
          }
        },
        {
          "output_type": "display_data",
          "data": {
            "image/png": "[encoded data removed]",
            "text/plain": [
              "<Figure size 1080x1080 with 3 Axes>"
            ]
          },
          "metadata": {
            "tags": [],
            "needs_background": "light"
          }
        }
      ]
    },
    {
      "cell_type": "markdown",
      "metadata": {
        "id": "VcfFJ-UcrhD4"
      },
      "source": [
        "After some simple cleaning of outlier values:\n",
        "<br>\n",
        " - Both 'Area (Sqft)' and 'Price ($)' follow a log normal distibution after cleaning up some datapoints,\n",
        "but 'remaining lease' still look to have 2 ends of the spectrum \n",
        " - This is due to having homes which are of 9999/999999/freehold status\n",
        " - We might have to adjust this 'remaining lease' variable more should we choose to use this variable later in the model\n"
      ]
    },
    {
      "cell_type": "markdown",
      "metadata": {
        "id": "ugBdMjKCMxQc"
      },
      "source": [
        "<br>\n",
        "\n",
        "\n",
        "---\n",
        "\n",
        "\n",
        "\n",
        "\n",
        "\n",
        "\n",
        "Plotting categorical variables against Price ($)"
      ]
    },
    {
      "cell_type": "code",
      "metadata": {
        "id": "VcdeHOTgrPVq",
        "colab": {
          "base_uri": "https://localhost:8080/",
          "height": 1000
        },
        "outputId": "32456e17-b068-4e18-e07b-aad6e3dfdda7"
      },
      "source": [
        "color_palette = ['b','r','g','c','y','m','k','b']\n",
        "plt.figure(figsize=(15,10))\n",
        "plt.suptitle(\"Categorical Variables vs Price ($)\", fontsize=20)\n",
        "for i in range(4):\n",
        "    plt.subplot(2,2,i+1)\n",
        "    plt.title(lst_of_categorical_variables[i])\n",
        "    cat_unique = df.groupby(lst_of_categorical_variables[i]).mean()['Price ($)'].index\n",
        "    cat_average = df.groupby(lst_of_categorical_variables[i]).mean()['Price ($)']\n",
        "    plt.bar(x = cat_unique, height = cat_average, \n",
        "            color = color_palette[i])\n",
        "    \n",
        "plt.figure(figsize=(15,10))\n",
        "for i in range(4,8):\n",
        "    plt.subplot(2,2,i-3)\n",
        "    plt.title(lst_of_categorical_variables[i])\n",
        "    cat_unique = df.groupby(lst_of_categorical_variables[i]).mean()['Price ($)'].index\n",
        "    cat_average = df.groupby(lst_of_categorical_variables[i]).mean()['Price ($)']\n",
        "    plt.bar(x = cat_unique, height = cat_average, \n",
        "            color = color_palette[i])\n",
        "    plt.xticks(rotation=45)"
      ],
      "execution_count": null,
      "outputs": [
        {
          "output_type": "display_data",
          "data": {
            "image/png": "[encoded data removed]",
            "text/plain": [
              "<Figure size 1080x720 with 4 Axes>"
            ]
          },
          "metadata": {
            "tags": [],
            "needs_background": "light"
          }
        },
        {
          "output_type": "display_data",
          "data": {
            "image/png": "[encoded data removed]",
            "text/plain": [
              "<Figure size 1080x720 with 4 Axes>"
            ]
          },
          "metadata": {
            "tags": [],
            "needs_background": "light"
          }
        }
      ]
    },
    {
      "cell_type": "markdown",
      "metadata": {
        "id": "S4JEhPA3Nhij"
      },
      "source": [
        "Quick Analysis:\n",
        "- Condominium and Apartment have similar pricing\n",
        "- Postal District 6 (Town area) seems to have abnormally high Price ($) **\n",
        "- Core Central Region has the highest average housing pricing, as expected\n",
        "- Resale homes are more expensive than New Homes\n",
        "- Higher No. of units per transaction means higher price\n",
        "- Land labelled homes are generally more expensive than Strata ones\n",
        "- Higher floor points to higer pricing\n",
        "- Freehold houses are more expensive than non freehold houses\n",
        "\n",
        "** represent insights that are not expected"
      ]
    },
    {
      "cell_type": "markdown",
      "metadata": {
        "id": "ATBErJ0uOKyz"
      },
      "source": [
        "<br>\n",
        "\n",
        "---\n",
        "\n",
        "Plotting continuous variables against Price ($)\n",
        "\n"
      ]
    },
    {
      "cell_type": "code",
      "metadata": {
        "colab": {
          "base_uri": "https://localhost:8080/",
          "height": 635
        },
        "id": "WCxpMbUTNX0w",
        "outputId": "6ffaa601-5a57-473d-e15e-cec5005e34a0"
      },
      "source": [
        "plt.figure(figsize=(15,10))\n",
        "plt.suptitle(\"Continuous Variables vs Price ($)\", fontsize=20)\n",
        "continuous_predictors = list(set(lst_of_continuous_variables) - set(['Price ($)']))\n",
        "for i  in range(len(continuous_predictors)):\n",
        "    plt.subplot(2,1,i+1)\n",
        "    plt.title(continuous_predictors[i]+ \" vs price\")\n",
        "    plt.scatter(df[continuous_predictors[i]], df['Price ($)'], \n",
        "                c = color_palette[i])"
      ],
      "execution_count": null,
      "outputs": [
        {
          "output_type": "display_data",
          "data": {
            "image/png": "[encoded data removed]",
            "text/plain": [
              "<Figure size 1080x720 with 2 Axes>"
            ]
          },
          "metadata": {
            "tags": [],
            "needs_background": "light"
          }
        }
      ]
    },
    {
      "cell_type": "markdown",
      "metadata": {
        "id": "D22HvelSOb38"
      },
      "source": [
        "Observations:\n",
        "* As Area (Sqft) increases, Price increases as well\n",
        "* Again, due to remaining lease having 9999/99999/freehold years status, we get a weird scatterplot"
      ]
    },
    {
      "cell_type": "markdown",
      "metadata": {
        "id": "1vlaLX1TP5yS"
      },
      "source": [
        "After doing some simple clean up of datapoints"
      ]
    },
    {
      "cell_type": "code",
      "metadata": {
        "colab": {
          "base_uri": "https://localhost:8080/",
          "height": 635
        },
        "id": "86_GILAwOWn0",
        "outputId": "c0bb3a72-7ef3-43d8-89ca-daf4a0d322a0"
      },
      "source": [
        "plt.figure(figsize=(15,10))\n",
        "plt.suptitle(\"Continuous Variables vs Price ($)\", fontsize=20)\n",
        "continuous_predictors = list(set(lst_of_continuous_variables) - set(['Price ($)']))\n",
        "for i  in range(len(continuous_predictors)):\n",
        "    plt.subplot(2,1,i+1)\n",
        "    plt.title(continuous_predictors[i]+ \" vs price\")\n",
        "    plt.scatter(df_continuous[continuous_predictors[i]], df_continuous['Price ($)'], \n",
        "                c = color_palette[i])"
      ],
      "execution_count": null,
      "outputs": [
        {
          "output_type": "display_data",
          "data": {
            "image/png": "[encoded data removed]",
            "text/plain": [
              "<Figure size 1080x720 with 2 Axes>"
            ]
          },
          "metadata": {
            "tags": [],
            "needs_background": "light"
          }
        }
      ]
    },
    {
      "cell_type": "markdown",
      "metadata": {
        "id": "taEiXUYQQHXy"
      },
      "source": [
        "Even scaling down the remaining lease does not seem to aid the plot as the range we set for 9999/99999/freehold houses are still quite large.\n",
        "\n",
        "Here, we might consider to \n",
        "\n",
        "1) scale it down futher (without hurting the integrity of freehold housing)\n",
        "\n",
        "2) stick to the categorical variable 'isFreehold' to differentiate the 2 categories"
      ]
    },
    {
      "cell_type": "code",
      "metadata": {
        "colab": {
          "base_uri": "https://localhost:8080/",
          "height": 629
        },
        "id": "sg-gBpQOQCXw",
        "outputId": "417f3dca-9ae5-4b51-c69c-e0cab718a9f7"
      },
      "source": [
        "corr_table = df[lst_of_continuous_variables].corr()\n",
        "corr_table_after_outliers = df_continuous[lst_of_continuous_variables].corr()\n",
        "plt.figure(figsize=(15,10))\n",
        "plt.subplot(211)\n",
        "plt.title(\"Based on original data\", fontsize=20)\n",
        "sns.heatmap(corr_table, annot=True)\n",
        "plt.subplot(212)\n",
        "plt.title(\"\\n\\nAfter dealing with outliers\", fontsize=20)\n",
        "sns.heatmap(corr_table_after_outliers, annot=True)"
      ],
      "execution_count": null,
      "outputs": [
        {
          "output_type": "execute_result",
          "data": {
            "text/plain": [
              "<matplotlib.axes._subplots.AxesSubplot at 0x7ff480360150>"
            ]
          },
          "metadata": {
            "tags": []
          },
          "execution_count": 119
        },
        {
          "output_type": "display_data",
          "data": {
            "image/png": "[encoded data removed]",
            "text/plain": [
              "<Figure size 1080x720 with 4 Axes>"
            ]
          },
          "metadata": {
            "tags": [],
            "needs_background": "light"
          }
        }
      ]
    },
    {
      "cell_type": "markdown",
      "metadata": {
        "id": "x3VGrjEERwxW"
      },
      "source": [
        "\n",
        "\n",
        "> Adjusting 'remaining lease' did help boost the correlation between remaining lease and Price ($), but correlation still weak\n",
        "\n",
        "> No sign of multicollinearity that seem to have to be dealt with though\n",
        "\n",
        "\n",
        "\n"
      ]
    },
    {
      "cell_type": "markdown",
      "metadata": {
        "id": "-zFmkIGESWNe"
      },
      "source": [
        "<br>\n",
        "\n",
        "#**Feature Engineering**"
      ]
    },
    {
      "cell_type": "code",
      "metadata": {
        "colab": {
          "base_uri": "https://localhost:8080/"
        },
        "id": "-QsbJMYMRE6n",
        "outputId": "24ac37cd-165c-4dba-a3f1-d252df71a751"
      },
      "source": [
        "def return_unique(input_col):\n",
        "    '''\n",
        "    function to get unique datapoints in each column\n",
        "    '''\n",
        "    return input_col.unique()\n",
        "\n",
        "print(\"Unique values for each column: \\n\\n\")    \n",
        "for i in range(len(df.columns)):\n",
        "    if df.columns[i]==\"Price ($)\":\n",
        "        continue\n",
        "    print(df.columns[i],\":\", list(return_unique(df.iloc[:,i])),'\\n')"
      ],
      "execution_count": null,
      "outputs": [
        {
          "output_type": "stream",
          "text": [
            "Unique values for each column: \n",
            "\n",
            "\n",
            "Type : ['Condominium', 'Apartment'] \n",
            "\n",
            "Postal District : [4, 3, 5, 2, 1, 9, 10, 7, 8, 6, 15, 11, 13, 14, 12, 19, 18, 17, 16, 20, 23, 26, 21, 25, 22, 28, 27] \n",
            "\n",
            "Market Segment : ['CCR', 'RCR', 'OCR'] \n",
            "\n",
            "Type of Sale : ['Resale', 'New Sale'] \n",
            "\n",
            "No. of Units : [1, 2, 5, 70, 139, 84, 288, 436, 4, 106, 3, 18, 9, 15, 7, 12, 193, 58, 55, 22, 60, 67, 164, 44, 19, 32, 290, 20, 48, 61, 33, 79, 8, 104, 17, 28, 13, 11, 10, 6, 14, 30, 38, 76, 89, 144, 114, 43, 118, 200, 36, 23, 330, 175, 336, 78, 560, 244, 286, 210, 160, 124] \n",
            "\n",
            "Area (Sqft) : [2164, 1496, 883, 936, 581, 527, 1442, 1249, 1109, 1130, 753, 1292, 495, 861, 1582, 893, 721, 958, 947, 850, 764, 678, 689, 1647, 463, 969, 1066, 1475, 1184, 1001, 657, 1238, 1507, 818, 980, 786, 829, 1033, 377, 1711, 560, 990, 1141, 1119, 570, 1421, 1087, 743, 732, 2002, 915, 667, 1636, 517, 2788, 1098, 1378, 926, 603, 538, 1152, 2110, 592, 1076, 775, 1690, 807, 710, 1302, 1367, 1023, 1485, 1173, 1012, 1733, 624, 1216, 1356, 700, 452, 646, 840, 1313, 2433, 441, 1281, 904, 1615, 1206, 1701, 1410, 1259, 797, 1195, 1722, 1163, 3122, 1808, 1055, 409, 1270, 1625, 506, 3412, 1539, 474, 1561, 4413, 2971, 1981, 431, 1399, 1464, 366, 2874, 1830, 1227, 1970, 1841, 2217, 2174, 2024, 635, 1873, 3434, 3218, 2067, 2056, 1927, 614, 2669, 1948, 1593, 1765, 484, 1668, 3401, 1658, 3358, 2282, 1518, 1819, 2271, 1389, 1916, 388, 1346, 2088, 2691, 3369, 1744, 1755, 1044, 3735, 2121, 1453, 1787, 3089, 2583, 2045, 2099, 2486, 872, 1991, 1335, 1432, 2896, 1550, 3423, 1884, 3272, 1604, 3025, 398, 4650, 1679, 1905, 4133, 2411, 549, 1572, 2185, 2314, 2906, 2034, 3165, 1776, 2379, 1324, 2196, 3057, 2659, 2626, 4252, 2616, 2013, 4801, 3595, 1851, 2400, 2153, 2336, 2863, 1862, 4112, 1959, 3821, 3671, 1528, 3380, 2852, 2680, 5920, 1798, 2077, 2551, 2228, 4768, 4629, 2325, 4715, 4639, 3703, 3940, 3477, 4069, 3455, 2637, 420, 4704, 2142, 1894, 5167, 21108, 6135, 2303, 3789, 2357, 4779, 2799, 3854, 2347, 4607, 3208, 6566, 2239, 2992, 2605, 4467, 2939, 3983, 2260, 3326, 4725, 2809, 2250, 5500, 4532, 3079, 2207, 3509, 3778, 2594, 4187, 2723, 2131, 5242, 3014, 3003, 7793, 8095, 323, 355, 7395, 3100, 344, 2508, 5813, 5608, 4822, 1938, 3918, 2390, 3498, 5877, 5716, 2465, 3746, 3068, 5522, 5694, 2368, 6469, 2648, 2497, 95358, 179371, 5210, 3197, 6308, 134421, 4123, 4596, 3541, 520407, 5726, 2702, 629263, 2928, 5996, 3757, 4037, 7987, 4446, 3993, 3972, 3563, 3897, 3391, 89622, 3251, 3714, 3681, 3143, 3488, 3864, 7653, 2443, 3724, 4359, 4865, 3875, 7868, 2820, 2540, 2831, 3638, 2562, 4241, 3531, 5328, 2476, 3660, 3649, 2293, 4855, 3800, 2949, 2885, 5070, 3466, 7007, 2454, 5823, 2842, 3283, 2530, 3175, 4392, 2917, 4833, 5662, 3229, 6168, 2745, 3843, 2766, 2777, 5899, 4499, 6577, 2257, 334, 5059, 5447, 3294, 3348, 4004, 4047, 8041, 2519, 8385, 3035, 54638, 3520, 2713, 4295, 7266, 5549, 4058, 6232, 2982, 2756, 4585, 8417, 3154, 6006, 4672, 4306, 3929, 3240, 2960, 6329, 5038, 25145, 7815, 5048, 3767, 3907, 6372, 3305, 4015, 3886, 5113, 4930, 7750, 3132, 4973, 2422, 5425, 6060, 6695, 8740, 4919, 5134, 4273, 5307, 1339, 15360, 4424, 6157, 354469, 7729, 7083, 3337, 4682, 2573, 7718, 3261, 5511, 6900, 1510, 5468, 3961, 3606, 3584, 4478, 8482, 11098, 6555, 7610, 6049, 6954, 5673, 1802, 3552, 6028, 40656, 7115, 5683, 4402, 3627, 4209, 6641, 3111, 36311, 7050, 6728, 5145, 3832, 6878, 5016, 38976, 6932, 4887, 6125, 94120, 5081, 4489, 1419, 43616, 7072, 4198, 4758, 7836, 5285, 2734, 108361, 382919, 3617, 101483, 23498, 70461, 416750, 47660, 19741, 85315, 7287, 4564, 6265, 129943, 40968, 162719, 4026, 63691, 1040, 6598, 7061, 9666, 4661, 24660, 154991, 31312, 86919, 6986, 8633, 12906, 4090, 35306, 3574, 4747, 1511, 3950, 4349, 3692, 1499, 5490, 2513, 5533, 6146, 1611, 5414, 4908, 3810, 6534, 17442, 9300, 4101, 30085, 5264, 4941, 4898, 2924, 8051, 4144, 769, 4263, 26350, 18428, 5974, 39902, 4316, 3315, 4370, 1501, 4844, 14445, 3186, 6781, 4230, 23541, 1983, 20871, 37131, 4080, 3444, 5253, 7503, 8966, 3463, 4378, 1855, 9623, 16413, 4521, 5005, 1263, 8893, 1661, 1692, 145874, 90418, 3046, 243374, 60042, 156971, 23993, 2141, 60612, 237454, 258, 5791, 43594, 59245, 7644, 33551, 1371, 13123, 17535, 365115, 101074, 24445, 5834, 33078, 558565, 2224, 8213, 1900, 2204, 2256, 1616, 2244, 296807, 4219, 4456, 4876, 1898, 2043, 9718, 563829, 167014, 143721, 947081, 405114, 479439, 1407, 6943, 6211, 34746, 42712, 326515, 338334, 82904, 215926, 6867, 36738, 5231, 5317, 808, 1680] \n",
            "\n",
            "Type of Area : ['Strata', 'Land'] \n",
            "\n",
            "Floor Level : ['01 to 05', '21 to 25', '11 to 15', '06 to 10', '16 to 20', '36 to 40', '31 to 35', '26 to 30', '41 to 45', '51 to 55', '46 to 50', '56 to 60', '61 to 65', '66 to 70', 'B1 to B5', '71 to 75'] \n",
            "\n",
            "isFreehold : ['Not Freehold', 'Freehold'] \n",
            "\n",
            "remaining lease : [85, 96, 97, 98, 51, 99, 89, 87, 77, 999999, 90, 84, 58, 83, 86, 863, 80, 93, 81, 91, 73, 82, 92, 71, 76, 95, 69, 74, 805, 46, 70, 94, 78, 48, 75, 68, 54, 946, 944, 9941, 60, 57, 55, 47, 50, 855, 88, 973, 861, 819, 79, 53, 72, 853, 56, 945, 957, 9935, 999936, 106, 897, 9938, 813, 860, 856, 9942, 9940, 943, 969, 9939, 9973, 852, 935, 968, 999941, 963, 59, 999938, 936, 67, 9943, 65, 862, 864, 854, 857, 950, 9971, 960, 997, 9982, 999971, 942, 9969, 62, 30, 52, 61] \n",
            "\n"
          ],
          "name": "stdout"
        }
      ]
    },
    {
      "cell_type": "markdown",
      "metadata": {
        "id": "b02ZoaddS-9Z"
      },
      "source": [
        "We are only interested in single home transaction"
      ]
    },
    {
      "cell_type": "code",
      "metadata": {
        "id": "grjof9LSSjoM"
      },
      "source": [
        "df = df[df['No. of Units']==1]                      \n",
        "df.drop(['No. of Units'], axis=1, inplace = True)   # Since only 1 category left"
      ],
      "execution_count": null,
      "outputs": []
    },
    {
      "cell_type": "markdown",
      "metadata": {
        "id": "SAinqsnjTEgU"
      },
      "source": [
        "We are only interested in non-landed categories"
      ]
    },
    {
      "cell_type": "code",
      "metadata": {
        "colab": {
          "base_uri": "https://localhost:8080/"
        },
        "id": "wZxn8rh8TCpC",
        "outputId": "319cb463-f8d9-4e59-cd51-91786a43d1b4"
      },
      "source": [
        "df['Type of Area'].value_counts()"
      ],
      "execution_count": null,
      "outputs": [
        {
          "output_type": "execute_result",
          "data": {
            "text/plain": [
              "Strata    97013\n",
              "Land          6\n",
              "Name: Type of Area, dtype: int64"
            ]
          },
          "metadata": {
            "tags": []
          },
          "execution_count": 122
        }
      ]
    },
    {
      "cell_type": "code",
      "metadata": {
        "id": "TH0lRQpFTK_S"
      },
      "source": [
        "df = df[df['Type of Area']=='Strata']    \n",
        "df.drop(['Type of Area'], axis=1, inplace = True)  "
      ],
      "execution_count": null,
      "outputs": []
    },
    {
      "cell_type": "markdown",
      "metadata": {
        "id": "RuYgG4lzTeq0"
      },
      "source": [
        "> Next we will adjust data according to ensure a good fit for our model later\n",
        "\n",
        "> Choosing a suitable value to include for remaining lease\n",
        "\n",
        "\n",
        "\n"
      ]
    },
    {
      "cell_type": "code",
      "metadata": {
        "colab": {
          "base_uri": "https://localhost:8080/"
        },
        "id": "bLVNximZT1sN",
        "outputId": "1a1fbfad-5db3-4982-d356-4fc576eeb027"
      },
      "source": [
        "df['remaining lease'].quantile([0.5,0.65,0.6875,0.7,0.95])"
      ],
      "execution_count": null,
      "outputs": [
        {
          "output_type": "execute_result",
          "data": {
            "text/plain": [
              "0.5000        96.0\n",
              "0.6500        97.0\n",
              "0.6875       805.0\n",
              "0.7000       860.0\n",
              "0.9500    999999.0\n",
              "Name: remaining lease, dtype: float64"
            ]
          },
          "metadata": {
            "tags": []
          },
          "execution_count": 124
        }
      ]
    },
    {
      "cell_type": "code",
      "metadata": {
        "colab": {
          "base_uri": "https://localhost:8080/"
        },
        "id": "0pBrSwDlUjeb",
        "outputId": "95b7ea36-c6fa-4b6b-dfb6-8780847279ce"
      },
      "source": [
        "print(\"remaining lease unique years:\\n\")\n",
        "df[\"remaining lease\"].value_counts().sort_index().index"
      ],
      "execution_count": null,
      "outputs": [
        {
          "output_type": "stream",
          "text": [
            "remaining lease unique years:\n",
            "\n"
          ],
          "name": "stdout"
        },
        {
          "output_type": "execute_result",
          "data": {
            "text/plain": [
              "Int64Index([    30,     46,     47,     48,     50,     51,     52,     53,\n",
              "                54,     55,     56,     57,     58,     59,     60,     61,\n",
              "                62,     65,     67,     68,     69,     70,     71,     72,\n",
              "                73,     74,     75,     76,     77,     78,     79,     80,\n",
              "                81,     82,     83,     84,     85,     86,     87,     88,\n",
              "                89,     90,     91,     92,     93,     94,     95,     96,\n",
              "                97,     98,     99,    106,    805,    813,    819,    852,\n",
              "               853,    854,    855,    856,    857,    860,    861,    862,\n",
              "               863,    864,    897,    935,    936,    942,    943,    944,\n",
              "               945,    946,    950,    957,    960,    963,    968,    969,\n",
              "               973,    997,   9935,   9938,   9939,   9941,   9942,   9969,\n",
              "              9971,   9973,   9982, 999936, 999941, 999971, 999999],\n",
              "           dtype='int64')"
            ]
          },
          "metadata": {
            "tags": []
          },
          "execution_count": 125
        }
      ]
    },
    {
      "cell_type": "markdown",
      "metadata": {
        "id": "4AbKwb_YUl0r"
      },
      "source": [
        "> There is a huge jump from 106 year to 805 years. We can choose >=805 to be scaled down then\n",
        "\n",
        "> Lets change all those that are >=805 years to be approximately 300 years to create some kind of linear correlation\n",
        "\n",
        "\n",
        "\n",
        "\n"
      ]
    },
    {
      "cell_type": "code",
      "metadata": {
        "id": "mgwHl_mcUkBc"
      },
      "source": [
        "df_continuous = df.copy()\n",
        "df_continuous = df_continuous[['Price ($)', 'Area (Sqft)', 'remaining lease']]\n",
        "df_continuous['remaining lease'].where(df_continuous['remaining lease'] <=800 , 300, inplace=True)"
      ],
      "execution_count": null,
      "outputs": []
    },
    {
      "cell_type": "code",
      "metadata": {
        "colab": {
          "base_uri": "https://localhost:8080/",
          "height": 142
        },
        "id": "rOlQgNemWB3P",
        "outputId": "86e8be98-b679-41e0-9af6-9cd699c37766"
      },
      "source": [
        "df_continuous.corr()"
      ],
      "execution_count": null,
      "outputs": [
        {
          "output_type": "execute_result",
          "data": {
            "text/html": [
              "<div>\n",
              "<style scoped>\n",
              "    .dataframe tbody tr th:only-of-type {\n",
              "        vertical-align: middle;\n",
              "    }\n",
              "\n",
              "    .dataframe tbody tr th {\n",
              "        vertical-align: top;\n",
              "    }\n",
              "\n",
              "    .dataframe thead th {\n",
              "        text-align: right;\n",
              "    }\n",
              "</style>\n",
              "<table border=\"1\" class=\"dataframe\">\n",
              "  <thead>\n",
              "    <tr style=\"text-align: right;\">\n",
              "      <th></th>\n",
              "      <th>Price ($)</th>\n",
              "      <th>Area (Sqft)</th>\n",
              "      <th>remaining lease</th>\n",
              "    </tr>\n",
              "  </thead>\n",
              "  <tbody>\n",
              "    <tr>\n",
              "      <th>Price ($)</th>\n",
              "      <td>1.000000</td>\n",
              "      <td>0.745094</td>\n",
              "      <td>0.245171</td>\n",
              "    </tr>\n",
              "    <tr>\n",
              "      <th>Area (Sqft)</th>\n",
              "      <td>0.745094</td>\n",
              "      <td>1.000000</td>\n",
              "      <td>0.185628</td>\n",
              "    </tr>\n",
              "    <tr>\n",
              "      <th>remaining lease</th>\n",
              "      <td>0.245171</td>\n",
              "      <td>0.185628</td>\n",
              "      <td>1.000000</td>\n",
              "    </tr>\n",
              "  </tbody>\n",
              "</table>\n",
              "</div>"
            ],
            "text/plain": [
              "                 Price ($)  Area (Sqft)  remaining lease\n",
              "Price ($)         1.000000     0.745094         0.245171\n",
              "Area (Sqft)       0.745094     1.000000         0.185628\n",
              "remaining lease   0.245171     0.185628         1.000000"
            ]
          },
          "metadata": {
            "tags": []
          },
          "execution_count": 127
        }
      ]
    },
    {
      "cell_type": "code",
      "metadata": {
        "colab": {
          "base_uri": "https://localhost:8080/",
          "height": 142
        },
        "id": "9-LUTI0MWlup",
        "outputId": "6c6c8869-e6e5-4390-8d6b-2109d49fe693"
      },
      "source": [
        "df[['Price ($)', 'Area (Sqft)', 'remaining lease']].corr()"
      ],
      "execution_count": null,
      "outputs": [
        {
          "output_type": "execute_result",
          "data": {
            "text/html": [
              "<div>\n",
              "<style scoped>\n",
              "    .dataframe tbody tr th:only-of-type {\n",
              "        vertical-align: middle;\n",
              "    }\n",
              "\n",
              "    .dataframe tbody tr th {\n",
              "        vertical-align: top;\n",
              "    }\n",
              "\n",
              "    .dataframe thead th {\n",
              "        text-align: right;\n",
              "    }\n",
              "</style>\n",
              "<table border=\"1\" class=\"dataframe\">\n",
              "  <thead>\n",
              "    <tr style=\"text-align: right;\">\n",
              "      <th></th>\n",
              "      <th>Price ($)</th>\n",
              "      <th>Area (Sqft)</th>\n",
              "      <th>remaining lease</th>\n",
              "    </tr>\n",
              "  </thead>\n",
              "  <tbody>\n",
              "    <tr>\n",
              "      <th>Price ($)</th>\n",
              "      <td>1.000000</td>\n",
              "      <td>0.745094</td>\n",
              "      <td>0.250260</td>\n",
              "    </tr>\n",
              "    <tr>\n",
              "      <th>Area (Sqft)</th>\n",
              "      <td>0.745094</td>\n",
              "      <td>1.000000</td>\n",
              "      <td>0.190821</td>\n",
              "    </tr>\n",
              "    <tr>\n",
              "      <th>remaining lease</th>\n",
              "      <td>0.250260</td>\n",
              "      <td>0.190821</td>\n",
              "      <td>1.000000</td>\n",
              "    </tr>\n",
              "  </tbody>\n",
              "</table>\n",
              "</div>"
            ],
            "text/plain": [
              "                 Price ($)  Area (Sqft)  remaining lease\n",
              "Price ($)         1.000000     0.745094         0.250260\n",
              "Area (Sqft)       0.745094     1.000000         0.190821\n",
              "remaining lease   0.250260     0.190821         1.000000"
            ]
          },
          "metadata": {
            "tags": []
          },
          "execution_count": 129
        }
      ]
    },
    {
      "cell_type": "markdown",
      "metadata": {
        "id": "QggEKbdxWGF9"
      },
      "source": [
        "> correlation of remaining lease does not seem to improve despite reducing the range of values, hence we will just continue to use what we have first and if necessary, remove this variable later\n"
      ]
    },
    {
      "cell_type": "markdown",
      "metadata": {
        "id": "HS8XulIqX7vW"
      },
      "source": [
        "---\n",
        "\n",
        "Lets see if we have succesfully dealt with the abnormally high prices we seen in the earlier plot for 'Postal District' VS 'Price($)'\n"
      ]
    },
    {
      "cell_type": "code",
      "metadata": {
        "colab": {
          "base_uri": "https://localhost:8080/",
          "height": 644
        },
        "id": "tJ9bVfiHWJk2",
        "outputId": "6cc00994-9fe0-469d-884f-ced6776cb5aa"
      },
      "source": [
        "plt.figure(figsize=(15,10))\n",
        "plt.title('Postal District vs Price ($)')\n",
        "cat_unique = df['Postal District'].unique()\n",
        "cat_unique.sort()\n",
        "cat_average = df.groupby('Postal District').mean()['Price ($)']\n",
        "plt.bar(x = cat_unique, height = cat_average, color = 'b')"
      ],
      "execution_count": null,
      "outputs": [
        {
          "output_type": "execute_result",
          "data": {
            "text/plain": [
              "<BarContainer object of 27 artists>"
            ]
          },
          "metadata": {
            "tags": []
          },
          "execution_count": 132
        },
        {
          "output_type": "display_data",
          "data": {
            "image/png": "[encoded data removed]",
            "text/plain": [
              "<Figure size 1080x720 with 1 Axes>"
            ]
          },
          "metadata": {
            "tags": [],
            "needs_background": "light"
          }
        }
      ]
    },
    {
      "cell_type": "markdown",
      "metadata": {
        "id": "dQqwG6NtYOOj"
      },
      "source": [
        "> Yes we have - District 6 value is now more normal (arnd $6 million)"
      ]
    },
    {
      "cell_type": "markdown",
      "metadata": {
        "id": "FU3BK_OEYUIY"
      },
      "source": [
        "---\n",
        "\n",
        "One Hot Encoding Categorical Variables"
      ]
    },
    {
      "cell_type": "code",
      "metadata": {
        "id": "xmtkEcpJXXU5"
      },
      "source": [
        "lst_of_categorical_variables.remove('No. of Units')\n",
        "lst_of_categorical_variables.remove('Type of Area')\n",
        "df[lst_of_categorical_variables] = df[lst_of_categorical_variables].astype('category')\n",
        "df = pd.get_dummies(df,drop_first=True)"
      ],
      "execution_count": null,
      "outputs": []
    },
    {
      "cell_type": "markdown",
      "metadata": {
        "id": "1j7YHjBMYlSn"
      },
      "source": [
        "Log normalizing the 'Price ($)' outcome variable "
      ]
    },
    {
      "cell_type": "code",
      "metadata": {
        "colab": {
          "base_uri": "https://localhost:8080/",
          "height": 307
        },
        "id": "lKo6IPqsYdlF",
        "outputId": "52e75701-4db8-4e71-e2e5-aab4afe6a5fc"
      },
      "source": [
        "df1 = df['Price ($)']\n",
        "df2 = np.log(df1)\n",
        "plt.figure()\n",
        "plt.suptitle(\"Price ($)\")\n",
        "plt.subplot(1,2,1)\n",
        "plt.title(\"Before normalization\")\n",
        "df1.hist(rwidth=0.9)\n",
        "plt.subplot(1,2,2)\n",
        "plt.title(\"After normalization\")\n",
        "df2.hist(rwidth=0.9)\n",
        "df['Price ($)'] = np.log(df['Price ($)'])"
      ],
      "execution_count": null,
      "outputs": [
        {
          "output_type": "display_data",
          "data": {
            "image/png": "[encoded data removed]",
            "text/plain": [
              "<Figure size 432x288 with 2 Axes>"
            ]
          },
          "metadata": {
            "tags": [],
            "needs_background": "light"
          }
        }
      ]
    },
    {
      "cell_type": "markdown",
      "metadata": {
        "id": "VfsgRMV2Yoce"
      },
      "source": [
        "Outcome variable now looks normalized"
      ]
    },
    {
      "cell_type": "markdown",
      "metadata": {
        "id": "b0xrvNd2Ys3l"
      },
      "source": [
        "<br>\n",
        "\n",
        "# **Building Preliminary model**"
      ]
    },
    {
      "cell_type": "code",
      "metadata": {
        "id": "SBQw7CRRYesD"
      },
      "source": [
        "model_scores_df = pd.DataFrame(columns=['K-fold Average','r2_test','adjusted r2_test'],\n",
        "                               index = ['model1','model2','model3','model4','model5'])"
      ],
      "execution_count": null,
      "outputs": []
    },
    {
      "cell_type": "markdown",
      "metadata": {
        "id": "-C3qSR4GaWzE"
      },
      "source": [
        "**Model 1**"
      ]
    },
    {
      "cell_type": "code",
      "metadata": {
        "colab": {
          "base_uri": "https://localhost:8080/"
        },
        "id": "gUx7irZzYy2q",
        "outputId": "2a0dfe4d-ec67-4f9e-a692-ec28f7286512"
      },
      "source": [
        "# Model 1 - Retaining ALL remaining variables and their ranges (except 'remaining lease' whereby we changed 9999/99999/999999/freehold housings to 999 years)\n",
        "from sklearn.model_selection import train_test_split\n",
        "X = df.drop(['Price ($)'], axis=1)\n",
        "Y = df[['Price ($)']]\n",
        "X_train, X_test, y_train, y_test = train_test_split(X, Y, test_size=0.3, random_state=2021)\n",
        "\n",
        "from sklearn.linear_model import LinearRegression\n",
        "reg = LinearRegression()\n",
        "model = reg.fit(X_train, y_train)\n",
        "from sklearn.model_selection import cross_val_score, cross_val_predict\n",
        "scores = cross_val_score(model, X_train, y_train,cv=6)\n",
        "print(\"Cross validated R^2 scores: \", scores)\n",
        "print(\"K fold Cross Validation Average Score:\", round(scores.mean(),3))\n",
        "\n",
        "y_predict = model.predict(X_test)\n",
        "r2_test = model.score(X_test,y_test)\n",
        "adjusted_r2_test = 1 - (1-r2_test)*(len(y_test)-1)/(len(y_test)-X_test.shape[1]-1)\n",
        "print(\"r2 test: \", round(r2_test,3),\"\\nadjusted r2 test\", round(adjusted_r2_test,3))\n",
        "model_scores_df.loc['model1'] = [round(scores.mean(),3),round(r2_test,3),round(adjusted_r2_test,3)]\n"
      ],
      "execution_count": null,
      "outputs": [
        {
          "output_type": "stream",
          "text": [
            "Cross validated R^2 scores:  [0.80622401 0.8115472  0.80188012 0.77114396 0.80434376 0.80556757]\n",
            "K fold Cross Validation Average Score: 0.8\n",
            "r2 test:  0.801 \n",
            "adjusted r2 test 0.8\n"
          ],
          "name": "stdout"
        }
      ]
    },
    {
      "cell_type": "markdown",
      "metadata": {
        "id": "ccCCC9EIaTUB"
      },
      "source": [
        "**Model 2**"
      ]
    },
    {
      "cell_type": "code",
      "metadata": {
        "colab": {
          "base_uri": "https://localhost:8080/"
        },
        "id": "Fr_lBN8FZVKi",
        "outputId": "2cf190f8-92f8-49db-f09b-77f006bd9a17"
      },
      "source": [
        "# Model 2 - Removing 'remaining lease' variable\n",
        "from sklearn.model_selection import train_test_split\n",
        "X = df.drop(['Price ($)','remaining lease'], axis=1)\n",
        "Y = df[['Price ($)']]\n",
        "X_train, X_test, y_train, y_test = train_test_split(X, Y, test_size=0.3, random_state=2021)\n",
        "\n",
        "from sklearn.linear_model import LinearRegression\n",
        "reg = LinearRegression()\n",
        "model = reg.fit(X_train, y_train)\n",
        "from sklearn.model_selection import cross_val_score, cross_val_predict\n",
        "scores = cross_val_score(model, X_train, y_train,cv=6)\n",
        "print(\"Cross validated R^2 scores: \", scores)\n",
        "print(\"K fold Cross Validation Average Score:\", round(scores.mean(),3))\n",
        "\n",
        "y_predict = model.predict(X_test)\n",
        "r2_test = model.score(X_test,y_test)\n",
        "adjusted_r2_test = 1 - (1-r2_test)*(len(y_test)-1)/(len(y_test)-X_test.shape[1]-1)\n",
        "print(\"r2 test: \", round(r2_test,3),\"\\nadjusted r2 test\", round(adjusted_r2_test,3))\n",
        "model_scores_df.loc['model2'] = [round(scores.mean(),3),round(r2_test,3),round(adjusted_r2_test,3)]\n"
      ],
      "execution_count": null,
      "outputs": [
        {
          "output_type": "stream",
          "text": [
            "Cross validated R^2 scores:  [0.80638192 0.81168138 0.80188259 0.77114707 0.80434597 0.80557221]\n",
            "K fold Cross Validation Average Score: 0.8\n",
            "r2 test:  0.801 \n",
            "adjusted r2 test 0.8\n"
          ],
          "name": "stdout"
        }
      ]
    },
    {
      "cell_type": "markdown",
      "metadata": {
        "id": "YHHRwzxTZcx2"
      },
      "source": [
        "> No change in all metrics shows that we may just consider removing the \n",
        "'remaining lease' variable since it does not value-add our model goodness-of-fit"
      ]
    },
    {
      "cell_type": "markdown",
      "metadata": {
        "id": "AL2dn7l8aPDX"
      },
      "source": [
        "**Model 3**"
      ]
    },
    {
      "cell_type": "code",
      "metadata": {
        "colab": {
          "base_uri": "https://localhost:8080/",
          "height": 584
        },
        "id": "IpnaSn5WZaqy",
        "outputId": "ed639c81-29ea-4a26-ef62-71ea4e0fd01a"
      },
      "source": [
        "# Model 3 - Reducing the super high priced housing\n",
        "df['Original Price'] = df.apply(lambda x: math.exp(x['Price ($)']), axis=1)\n",
        "df['Original Price'].describe()\n",
        "df['Original Price'].quantile([0.025, 0.25, 0.5, 0.75, 0.997])\n",
        "df_model3 = df.copy()\n",
        "df_model3 = df_model3[df_model3['Original Price'] < df_model3['Original Price'].quantile([0.997]).iloc[0]]\n",
        "df_model3[['Original Price']].hist(rwidth=0.9, bins = 50) # To check shape after removing huge variations\n",
        "df.drop(['Original Price'], axis=1, inplace=True)\n",
        "df_model3.drop(['Price ($)'], axis=1, inplace = True)\n",
        "\n",
        "\n",
        "df1 = df_model3['Original Price']\n",
        "df2 = np.log(df1)\n",
        "plt.figure()\n",
        "plt.suptitle(\"Original Price\")\n",
        "plt.subplot(1,2,1)\n",
        "plt.title(\"Before normalization\")\n",
        "df1.hist(rwidth=0.9)\n",
        "plt.subplot(1,2,2)\n",
        "plt.title(\"After normalization\")\n",
        "df2.hist(rwidth=0.9)\n",
        "df_model3['Original Price'] = np.log(df_model3['Original Price'])"
      ],
      "execution_count": null,
      "outputs": [
        {
          "output_type": "display_data",
          "data": {
            "image/png": "[encoded data removed]",
            "text/plain": [
              "<Figure size 432x288 with 1 Axes>"
            ]
          },
          "metadata": {
            "tags": [],
            "needs_background": "light"
          }
        },
        {
          "output_type": "display_data",
          "data": {
            "image/png": "[encoded data removed]",
            "text/plain": [
              "<Figure size 432x288 with 2 Axes>"
            ]
          },
          "metadata": {
            "tags": [],
            "needs_background": "light"
          }
        }
      ]
    },
    {
      "cell_type": "code",
      "metadata": {
        "colab": {
          "base_uri": "https://localhost:8080/"
        },
        "id": "E5PPFT2pZh8S",
        "outputId": "dbb23e74-8965-4326-96a8-202687748b61"
      },
      "source": [
        "\n",
        "from sklearn.model_selection import train_test_split\n",
        "X = df_model3.drop(['Original Price','remaining lease'], axis=1)\n",
        "Y = df_model3[['Original Price']]\n",
        "X_train, X_test, y_train, y_test = train_test_split(X, Y, test_size=0.3, random_state=2021)\n",
        "\n",
        "from sklearn.linear_model import LinearRegression\n",
        "reg = LinearRegression()\n",
        "model = reg.fit(X_train, y_train)\n",
        "from sklearn.model_selection import cross_val_score, cross_val_predict\n",
        "scores = cross_val_score(model, X_train, y_train,cv=6)\n",
        "print(\"Cross validated R^2 scores: \", scores)\n",
        "print(\"K fold Cross Validation Average Score:\", round(scores.mean(),3))\n",
        "\n",
        "y_predict = model.predict(X_test)\n",
        "r2_test = model.score(X_test,y_test)\n",
        "adjusted_r2_test = 1 - (1-r2_test)*(len(y_test)-1)/(len(y_test)-X_test.shape[1]-1)\n",
        "print(\"r2 test: \", round(r2_test,3),\"\\nadjusted r2 test\", round(adjusted_r2_test,3))\n",
        "model_scores_df.loc['model3'] = [round(scores.mean(),3),round(r2_test,3),round(adjusted_r2_test,3)]"
      ],
      "execution_count": null,
      "outputs": [
        {
          "output_type": "stream",
          "text": [
            "Cross validated R^2 scores:  [0.7941163  0.7950649  0.7930091  0.80661035 0.79511384 0.79964532]\n",
            "K fold Cross Validation Average Score: 0.797\n",
            "r2 test:  0.803 \n",
            "adjusted r2 test 0.802\n"
          ],
          "name": "stdout"
        }
      ]
    },
    {
      "cell_type": "markdown",
      "metadata": {
        "id": "qGhBH0DgahFL"
      },
      "source": [
        "**Model 4**"
      ]
    },
    {
      "cell_type": "code",
      "metadata": {
        "colab": {
          "base_uri": "https://localhost:8080/",
          "height": 1000
        },
        "id": "v5QXu73saNvr",
        "outputId": "47b8997a-1ff8-45b6-ef60-6cf46b97037e"
      },
      "source": [
        "# Model 4 - Reducing the super big area housing\n",
        "df_model3['Area (Sqft)'].describe()\n",
        "df_model3['Area (Sqft)'].quantile([0.025, 0.25, 0.995,0.996,0.997, 0.998,0.999])\n",
        "plt.figure(figsize=(10,10))\n",
        "plt.suptitle(\"Continuous Variables BoxPlot\", fontsize=15)\n",
        "model3_continuous_variables = ['Area (Sqft)', 'remaining lease','Original Price']\n",
        "for i  in range(len(model3_continuous_variables)):\n",
        "    plt.subplot(3,1,i+1)\n",
        "    plt.title(model3_continuous_variables[i])\n",
        "    plt.boxplot(df_model3[model3_continuous_variables[i]])\n",
        "\n",
        "plt.figure(figsize=(10,10))\n",
        "plt.title(\"Area (Sqft) vs price\", fontsize=15)\n",
        "plt.axvline(4000, 0, 1, label='4000',color='b')\n",
        "plt.axvline(5000, 0, 1, label='5000',color='r')\n",
        "plt.axvline(6000, 0, 1, label='6000',color='k')\n",
        "plt.scatter(df_model3['Area (Sqft)'], df_model3['Original Price'], \n",
        "                c = 'g', alpha=0.2)"
      ],
      "execution_count": null,
      "outputs": [
        {
          "output_type": "execute_result",
          "data": {
            "text/plain": [
              "<matplotlib.collections.PathCollection at 0x7ff46bc58590>"
            ]
          },
          "metadata": {
            "tags": []
          },
          "execution_count": 144
        },
        {
          "output_type": "display_data",
          "data": {
            "image/png": "[encoded data removed]",
            "text/plain": [
              "<Figure size 720x720 with 3 Axes>"
            ]
          },
          "metadata": {
            "tags": [],
            "needs_background": "light"
          }
        },
        {
          "output_type": "display_data",
          "data": {
            "image/png": "[encoded data removed]",
            "text/plain": [
              "<Figure size 720x720 with 1 Axes>"
            ]
          },
          "metadata": {
            "tags": [],
            "needs_background": "light"
          }
        }
      ]
    },
    {
      "cell_type": "code",
      "metadata": {
        "colab": {
          "base_uri": "https://localhost:8080/",
          "height": 896
        },
        "id": "vGO-ZgZZanGf",
        "outputId": "139b331c-6637-4fe5-dbf4-0c3d26766ddd"
      },
      "source": [
        "# From graph looks like it make sense to perhaps omit datapoints with Area (Sqft) >5000\n",
        "df_model4 = df_model3[df_model3['Area (Sqft)']<=5000]\n",
        "\n",
        "df_corr = df[['Area (Sqft)', 'remaining lease','Price ($)']].corr()\n",
        "model3_corr = df_model3[['Area (Sqft)', 'remaining lease','Original Price']].corr()\n",
        "model4_corr = df_model4[['Area (Sqft)', 'remaining lease','Original Price']].corr()\n",
        "plt.figure(figsize=(10,15))\n",
        "plt.subplot(311)\n",
        "plt.title(\"Before accounting for outliers\")\n",
        "sns.heatmap(df_corr, annot=True)\n",
        "plt.subplot(312)\n",
        "plt.title(\"Removing high priced homes\")\n",
        "sns.heatmap(model3_corr, annot=True)\n",
        "plt.subplot(313)\n",
        "plt.title(\"Removing high priced homes+Large Area homes\")\n",
        "sns.heatmap(model4_corr, annot=True)"
      ],
      "execution_count": null,
      "outputs": [
        {
          "output_type": "execute_result",
          "data": {
            "text/plain": [
              "<matplotlib.axes._subplots.AxesSubplot at 0x7ff46c6da410>"
            ]
          },
          "metadata": {
            "tags": []
          },
          "execution_count": 147
        },
        {
          "output_type": "display_data",
          "data": {
            "image/png": "[encoded data removed]",
            "text/plain": [
              "<Figure size 720x1080 with 6 Axes>"
            ]
          },
          "metadata": {
            "tags": [],
            "needs_background": "light"
          }
        }
      ]
    },
    {
      "cell_type": "markdown",
      "metadata": {
        "id": "PHIc3Yh_c9Pf"
      },
      "source": [
        "> Seems like accounting for outliers made our model slightly less correlated to the Pricing but lets train the model nevertheless. "
      ]
    },
    {
      "cell_type": "code",
      "metadata": {
        "colab": {
          "base_uri": "https://localhost:8080/"
        },
        "id": "QN_DvwrhcsI4",
        "outputId": "9c7b3890-c935-47c1-fda2-67ef8f42234e"
      },
      "source": [
        "from sklearn.model_selection import train_test_split\n",
        "X = df_model4.drop(['Original Price','remaining lease'], axis=1)\n",
        "Y = df_model4[['Original Price']]\n",
        "X_train, X_test, y_train, y_test = train_test_split(X, Y, test_size=0.3, random_state=2021)\n",
        "\n",
        "from sklearn.linear_model import LinearRegression\n",
        "reg = LinearRegression()\n",
        "model = reg.fit(X_train, y_train)\n",
        "from sklearn.model_selection import cross_val_score, cross_val_predict\n",
        "scores = cross_val_score(model, X_train, y_train,cv=6)\n",
        "print(\"Cross validated R^2 scores: \", scores)\n",
        "print(\"K fold Cross Validation Average Score:\", round(scores.mean(),3))\n",
        "\n",
        "y_predict = model.predict(X_test)\n",
        "r2_test = model.score(X_test,y_test)\n",
        "adjusted_r2_test = 1 - (1-r2_test)*(len(y_test)-1)/(len(y_test)-X_test.shape[1]-1)\n",
        "print(\"r2 test: \", round(r2_test,3),\"\\nadjusted r2 test\", round(adjusted_r2_test,3))\n",
        "model_scores_df.loc['model4'] = [round(scores.mean(),3),round(r2_test,3),round(adjusted_r2_test,3)]\n"
      ],
      "execution_count": null,
      "outputs": [
        {
          "output_type": "stream",
          "text": [
            "Cross validated R^2 scores:  [0.81211985 0.80731442 0.81681549 0.80615619 0.81515365 0.80336364]\n",
            "K fold Cross Validation Average Score: 0.81\n",
            "r2 test:  0.803 \n",
            "adjusted r2 test 0.803\n"
          ],
          "name": "stdout"
        }
      ]
    },
    {
      "cell_type": "markdown",
      "metadata": {
        "id": "KJx8trZ-dRkp"
      },
      "source": [
        "> Model suggests that by removing both the outliers of high pricing + large area housings,\n",
        "we will get a model with a better goodness-of-fit. \n",
        "\n",
        "> Hence, we should use this model "
      ]
    },
    {
      "cell_type": "code",
      "metadata": {
        "colab": {
          "base_uri": "https://localhost:8080/"
        },
        "id": "3MPzYVhNdLfY",
        "outputId": "a6b2505f-2654-4e01-ac34-7237dda97de9"
      },
      "source": [
        "# Model 5- Including the variable 'Unit Price ($psf) which we have removed earlier\n",
        "df_model5 = df_model4.copy()\n",
        "df_model5 = pd.merge(df_model5, df_original[['Unit Price ($psf)']], left_index = True, right_index=True)\n",
        "model5_corr = df_model5[['Area (Sqft)', 'remaining lease','Original Price', 'Unit Price ($psf)']].corr()\n",
        "# As seen, Unit Price ($psf) actually has a relatively strong correlation to our outcome variable Original Price \n",
        "# (aka Price ($) in original df). However, we omitted this factor as it was too specific in our business case\n",
        "# Nobody will know what amount they want to pay per-square-foot ($psf) and is not a key metric buy homebuyers in the \n",
        "# general sense. \n",
        "# But lets see its impact on the model \n",
        "from sklearn.model_selection import train_test_split\n",
        "X = df_model5.drop(['Original Price'], axis=1)\n",
        "Y = df_model5[['Original Price']]\n",
        "X_train, X_test, y_train, y_test = train_test_split(X, Y, test_size=0.3, random_state=2021)\n",
        "\n",
        "from sklearn.linear_model import LinearRegression\n",
        "reg = LinearRegression()\n",
        "model = reg.fit(X_train, y_train)\n",
        "from sklearn.model_selection import cross_val_score, cross_val_predict\n",
        "scores = cross_val_score(model, X_train, y_train,cv=6)\n",
        "print(\"Cross validated R^2 scores: \", scores)\n",
        "print(\"K fold Cross Validation Average Score:\", round(scores.mean(),3))\n",
        "\n",
        "y_predict = model.predict(X_test)\n",
        "r2_test = model.score(X_test,y_test)\n",
        "adjusted_r2_test = 1 - (1-r2_test)*(len(y_test)-1)/(len(y_test)-X_test.shape[1]-1)\n",
        "print(\"r2 test: \", round(r2_test,3),\"\\nadjusted r2 test\", round(adjusted_r2_test,3))\n",
        "model_scores_df.loc['model5'] = [round(scores.mean(),3),round(r2_test,3),round(adjusted_r2_test,3)]"
      ],
      "execution_count": null,
      "outputs": [
        {
          "output_type": "stream",
          "text": [
            "Cross validated R^2 scores:  [0.900006   0.90044267 0.90462378 0.89669411 0.90103473 0.89514433]\n",
            "K fold Cross Validation Average Score: 0.9\n",
            "r2 test:  0.896 \n",
            "adjusted r2 test 0.895\n"
          ],
          "name": "stdout"
        }
      ]
    },
    {
      "cell_type": "markdown",
      "metadata": {
        "id": "9CPfG--mdza2"
      },
      "source": [
        "> An almost 0.1 improvement across all metrics!\n",
        "\n",
        "> However, as per stated, due to our business case, this parameter won't be considered despite\n",
        "its potential in improving the goodness-of-fit our model"
      ]
    },
    {
      "cell_type": "code",
      "metadata": {
        "colab": {
          "base_uri": "https://localhost:8080/",
          "height": 204
        },
        "id": "iZphkBp-dxBT",
        "outputId": "11088446-00c0-4085-a91e-0cadfef5e00b"
      },
      "source": [
        "model_scores_df"
      ],
      "execution_count": null,
      "outputs": [
        {
          "output_type": "execute_result",
          "data": {
            "text/html": [
              "<div>\n",
              "<style scoped>\n",
              "    .dataframe tbody tr th:only-of-type {\n",
              "        vertical-align: middle;\n",
              "    }\n",
              "\n",
              "    .dataframe tbody tr th {\n",
              "        vertical-align: top;\n",
              "    }\n",
              "\n",
              "    .dataframe thead th {\n",
              "        text-align: right;\n",
              "    }\n",
              "</style>\n",
              "<table border=\"1\" class=\"dataframe\">\n",
              "  <thead>\n",
              "    <tr style=\"text-align: right;\">\n",
              "      <th></th>\n",
              "      <th>K-fold Average</th>\n",
              "      <th>r2_test</th>\n",
              "      <th>adjusted r2_test</th>\n",
              "    </tr>\n",
              "  </thead>\n",
              "  <tbody>\n",
              "    <tr>\n",
              "      <th>model1</th>\n",
              "      <td>0.8</td>\n",
              "      <td>0.801</td>\n",
              "      <td>0.8</td>\n",
              "    </tr>\n",
              "    <tr>\n",
              "      <th>model2</th>\n",
              "      <td>0.8</td>\n",
              "      <td>0.801</td>\n",
              "      <td>0.8</td>\n",
              "    </tr>\n",
              "    <tr>\n",
              "      <th>model3</th>\n",
              "      <td>0.797</td>\n",
              "      <td>0.803</td>\n",
              "      <td>0.802</td>\n",
              "    </tr>\n",
              "    <tr>\n",
              "      <th>model4</th>\n",
              "      <td>0.81</td>\n",
              "      <td>0.803</td>\n",
              "      <td>0.803</td>\n",
              "    </tr>\n",
              "    <tr>\n",
              "      <th>model5</th>\n",
              "      <td>0.9</td>\n",
              "      <td>0.896</td>\n",
              "      <td>0.895</td>\n",
              "    </tr>\n",
              "  </tbody>\n",
              "</table>\n",
              "</div>"
            ],
            "text/plain": [
              "       K-fold Average r2_test adjusted r2_test\n",
              "model1            0.8   0.801              0.8\n",
              "model2            0.8   0.801              0.8\n",
              "model3          0.797   0.803            0.802\n",
              "model4           0.81   0.803            0.803\n",
              "model5            0.9   0.896            0.895"
            ]
          },
          "metadata": {
            "tags": []
          },
          "execution_count": 150
        }
      ]
    },
    {
      "cell_type": "markdown",
      "metadata": {
        "id": "cO475sYreA13"
      },
      "source": [
        "* Model 1 - Retaining ALL remaining variables and not excluding any outliers for each variable\n",
        "* Model 2 - Removing variable 'remaining lease' \n",
        "* Model 3 - Reducing the super high priced housing (Outliers of outcome variable)\n",
        "M* odel 4 - Reducing the super high priced housing + Reducing the super big area housing (Outliers)\n",
        "* Model 5 - Including the variable 'Unit Price ($psf) which we have removed earlier\n",
        "\n",
        "\n",
        "> Overall, we will choose model 4, which parameters suit our business case, and data are accounted for in the best possible way to ensure robustness of our model\n",
        "\n",
        "So essentially, our final model will be in the form of:\n",
        "\n",
        "Price ($) ~ [Dummy_Encode(Type, Postal District, Market Segment, Type of Sale, Floor Level, isFreehold) + Area (Sqft)]\n"
      ]
    },
    {
      "cell_type": "markdown",
      "metadata": {
        "id": "CM_rZtiUeVOV"
      },
      "source": [
        "<br><br>\n",
        "\n",
        "#**Building Final model**"
      ]
    },
    {
      "cell_type": "markdown",
      "metadata": {
        "id": "jEmcHr73eiXF"
      },
      "source": [
        "> We are building according to model 4"
      ]
    },
    {
      "cell_type": "code",
      "metadata": {
        "id": "8hAKmzTueTwg"
      },
      "source": [
        "df_final = df_model4.copy()\n",
        "from sklearn.model_selection import train_test_split\n",
        "X = df_final.drop(['Original Price','remaining lease'], axis=1)\n",
        "Y = df_final[['Original Price']]\n",
        "X_train, X_test, y_train, y_test = train_test_split(X, Y, test_size=0.3, random_state=2021)\n",
        "\n",
        "from sklearn.linear_model import LinearRegression\n",
        "reg = LinearRegression()\n",
        "model = reg.fit(X_train, y_train)\n"
      ],
      "execution_count": null,
      "outputs": []
    },
    {
      "cell_type": "markdown",
      "metadata": {
        "id": "d-WvaVKde2PK"
      },
      "source": [
        "<br><br>\n",
        "\n",
        "#**Model Validation**"
      ]
    },
    {
      "cell_type": "code",
      "metadata": {
        "colab": {
          "base_uri": "https://localhost:8080/"
        },
        "id": "J93BIwKYe04K",
        "outputId": "c7f053a6-3c83-4ab0-9372-a41fece24ed3"
      },
      "source": [
        "from sklearn.model_selection import cross_val_score, cross_val_predict\n",
        "scores = cross_val_score(model, X_train, y_train,cv=6)\n",
        "print(\"Below are the metrics for our FINAL model that will be pushed out\")\n",
        "print(\"Cross validated R^2 scores: \", scores)\n",
        "print(\"K fold Cross Validation Average Score:\", round(scores.mean(),3))\n",
        "\n",
        "y_predict = model.predict(X_test)\n",
        "r2_test = model.score(X_test,y_test)\n",
        "adjusted_r2_test = 1 - (1-r2_test)*(len(y_test)-1)/(len(y_test)-X_test.shape[1]-1)\n",
        "print(\"r2 test: \", round(r2_test,3),\"\\nadjusted r2 test\", round(adjusted_r2_test,3))\n",
        "\n",
        "from sklearn.metrics import mean_squared_error\n",
        "y_test_lst = y_test['Original Price'].tolist()\n",
        "y_predict_lst = list(map(lambda x: x[0], y_predict))\n",
        "y_test_actual = []\n",
        "y_predict_actual = []\n",
        "for i in range(0,len(y_test)):\n",
        "    y_test_actual.append(math.exp(y_test_lst[i]))\n",
        "    y_predict_actual.append(math.exp(y_predict_lst[i]))\n",
        "print(\"Minimum testing selling price: \", min(y_test_actual))\n",
        "print(\"Maximum testing selling price: \", max(y_test_actual))\n",
        "rmse = math.sqrt(mean_squared_error(y_test_actual, y_predict_actual))\n",
        "normalized_rmse = rmse/(max(y_test_actual)-min(y_test_actual))\n",
        "print(f'Normalized RMSE is {round(normalized_rmse,2)}')"
      ],
      "execution_count": null,
      "outputs": [
        {
          "output_type": "stream",
          "text": [
            "Below are the metrics for our FINAL model that will be pushed out\n",
            "Cross validated R^2 scores:  [0.81211985 0.80731442 0.81681549 0.80615619 0.81515365 0.80336364]\n",
            "K fold Cross Validation Average Score: 0.81\n",
            "r2 test:  0.803 \n",
            "adjusted r2 test 0.803\n",
            "Minimum testing selling price:  400000.0000000002\n",
            "Maximum testing selling price:  10299999.999999985\n",
            "Normalized RMSE is 0.08\n"
          ],
          "name": "stdout"
        }
      ]
    },
    {
      "cell_type": "markdown",
      "metadata": {
        "id": "hjPDewSde94V"
      },
      "source": [
        "#**Conclusion:**\n",
        "* Our model on the test dataset has a value of 0.803, and an adjusted r2 of 0.803 as well, which indicates that our model has a high goodness-of-fit\n",
        "* Our final model also has a normalized RMSE score of 0.08, indicating that our model has low error and high accuracy\n",
        "* The model is able to give a good estimate of housing Price in the range based on the following parameters that will be inputted by user:\n",
        "\n",
        "    Type - Apartment OR Condominium\n",
        "    \n",
        "    Postal District - Rough location                    \n",
        "    \n",
        "    Market Segment- In Town OR outside of Town\n",
        "    \n",
        "    Type of Sale - Resale OR New Development\n",
        "\n",
        "    Floor Level - Which level category (in steps of 5 etc 1-5, 6-10, 11-15....)\n",
        "    \n",
        "    isFreehold - Freehold OR Not Freehold\n",
        "\n",
        "    Area (Sqft) - Size of housing space (Giving a good gauge of # of rooms)\n",
        "\n",
        "\n",
        "<br>\n",
        "\n",
        "Overall, to confirm this model accuracy, we can test it with data that will be coming out in the following\n",
        "few months (blinfold data testing).\n",
        "            \n",
        "<br>      \n",
        "**Limitations of our project:**\n",
        "<br>\n",
        "\n",
        "*Data* - \n",
        "* No information on number of rooms, which in Singapore is an important metric when choosing a home,though Area (Sqft) does give a gauge on number of rooms\n",
        "\n",
        "<br>\n",
        "\n",
        "*Analysis & Model Building* - \n",
        "* We omitted the super high priced housing in our model to improve the fit of our regression model,hence our data cannot fully confirm if it can be extrapolated to account for the higher end pricing houses (etc above 11 million)\n",
        "        \n",
        "~ However, such houses transacted are of the low numbers and we want to cater to transactions that have higher volume \n",
        "    \n",
        "* Model also excluded remaining lease indicator, which is a seemingly important factor by thought, but from our analysis show little improvement on our model"
      ]
    }
  ]
}